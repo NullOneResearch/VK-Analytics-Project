{
 "cells": [
  {
   "cell_type": "code",
   "execution_count": null,
   "metadata": {},
   "outputs": [],
   "source": [
    "import pandas as pd\n",
    "DataListFull = pd.read_excel('DataListFull.xlsx')"
   ]
  },
  {
   "cell_type": "code",
   "execution_count": null,
   "metadata": {},
   "outputs": [],
   "source": [
    "df = pd.DataFrame(DataListFull)"
   ]
  },
  {
   "cell_type": "code",
   "execution_count": null,
   "metadata": {},
   "outputs": [],
   "source": [
    "testframe1 = pd.read_excel('testframe1.xlsx')\n",
    "df_testframe1 = pd.DataFrame(testframe1)\n"
   ]
  },
  {
   "cell_type": "code",
   "execution_count": null,
   "metadata": {},
   "outputs": [],
   "source": [
    "testframe2 = pd.read_excel('testframe2.xlsx')\n",
    "df_testframe2 = pd.DataFrame(testframe2)"
   ]
  },
  {
   "cell_type": "code",
   "execution_count": null,
   "metadata": {},
   "outputs": [],
   "source": [
    "testframe3 = pd.read_excel('testframe3.xlsx')\n",
    "df_testframe3 = pd.DataFrame(testframe3)"
   ]
  },
  {
   "cell_type": "code",
   "execution_count": null,
   "metadata": {},
   "outputs": [],
   "source": [
    "logframetitletext = pd.read_excel('logframetitletext.xlsx')\n",
    "df_logframetitletext = pd.DataFrame(logframetitletext)"
   ]
  },
  {
   "cell_type": "code",
   "execution_count": null,
   "metadata": {},
   "outputs": [],
   "source": [
    "logframealltext = pd.read_excel('logframealltext.xlsx')\n",
    "df_logframealltext = pd.DataFrame(logframealltext)"
   ]
  },
  {
   "cell_type": "code",
   "execution_count": null,
   "metadata": {},
   "outputs": [],
   "source": [
    "import dash #делаем дэш борды\n",
    "import dash_html_components as html # html комотенты из библиотеки дэш, команды от библиотеки дэш, которые будут создавать html\n",
    "import dash_core_components as dcc # графики"
   ]
  },
  {
   "cell_type": "code",
   "execution_count": null,
   "metadata": {},
   "outputs": [],
   "source": [
    "app = dash.Dash() #создаем сервер для дэшборда"
   ]
  },
  {
   "cell_type": "code",
   "execution_count": null,
   "metadata": {},
   "outputs": [],
   "source": [
    "months = ['Sep', 'Oct', 'Nov', 'Dec', 'Jan', 'Feb', 'Mar', 'Apr', 'May', 'Jun', 'Jul', 'Aug', 'Sep2019', 'Oct2019']\n",
    "\n",
    "app.layout = html.Div(\n",
    "    children = [\n",
    "        html.H1( children = 'AWESOME GRAPH № 1', style={\n",
    "            'textAlign': 'center',\n",
    "            'color': 'rgb(228,241,225)'\n",
    "        }),\n",
    "        dcc.Graph(\n",
    "            figure = {\n",
    "                'data': [\n",
    "                    {'x': months, 'y': [92, 116, 108,117, 116, 98, 93, 88, 93, 89, 93, 92, 10, 94], 'type': 'bar', 'name': 'GRAPH'}\n",
    "                ],\n",
    "                'layout': {\n",
    "                    'title': 'Количество публикаций в зависимости от месяца',\n",
    "                    'xaxis' : dict(title = 'Месяц публикации публикации'),\n",
    "                    'yaxis' : dict(title = 'Кол-во публикаций'),\n",
    "                    'plot_bgcolor' : 'rgb(228,241,225)'\n",
    "                }\n",
    "            },\n",
    "            style = {'heigth': 300}\n",
    "        ),\n",
    "        html.H2( children = 'AWESOME GRAPH № 2', style={\n",
    "            'textAlign': 'center',\n",
    "            'color': 'rgb(228,241,225)'\n",
    "        }),\n",
    "        dcc.Graph(\n",
    "            figure = {\n",
    "                'data': [\n",
    "                    {'x': df.Time, 'y': df.total_actions, 'type': 'scatter', 'mode': 'markers', 'name': 'GRAPH'}\n",
    "                ],\n",
    "                'layout': {\n",
    "                    'title': 'Общее число действий в зависимости от времени',\n",
    "                    'xaxis' : dict(title = 'Время публикации'),\n",
    "                    'yaxis' : dict(title = 'Общее кол-во действий'),\n",
    "                    'plot_bgcolor' : 'rgb(228,241,225)'\n",
    "                }\n",
    "            },\n",
    "            style = {'heigth': 300}\n",
    "        ),\n",
    "        html.H3( children = 'AWESOME GRAPH № 3', style={\n",
    "            'textAlign': 'center',\n",
    "            'color': 'rgb(228,241,225)'\n",
    "        }),\n",
    "        dcc.Graph(\n",
    "            figure = {\n",
    "                'data': [\n",
    "                    {'x': df.dlina, 'y': df.total_actions, 'type': 'scatter', 'mode': 'markers', 'name': 'GRAPH'}\n",
    "                ],\n",
    "                'layout': {\n",
    "                    'title': 'Общее число действий в зависимости от длины текста',\n",
    "                    'xaxis' : dict(title = 'Длина текста (кол-во слов)'),\n",
    "                    'yaxis' : dict(title = 'Общее кол-во действий'),\n",
    "                    'plot_bgcolor' : 'rgb(228,241,225)'\n",
    "                }\n",
    "            },\n",
    "            style = {'heigth': 300},\n",
    "            id = 'my-graph'\n",
    "        ),\n",
    "        html.H4( children = 'AWESOME GRAPH № 4', style={\n",
    "            'textAlign': 'center',\n",
    "            'color': 'rgb(228,241,225)',\n",
    "            'heigth': '300'\n",
    "        }),\n",
    "        dcc.Graph(\n",
    "            figure = {\n",
    "                'data': [\n",
    "                    {'x': df_testframe1.y1test, 'y': df_testframe1.predictions1, 'type': 'Scatter', 'mode': 'markers', 'color': 'pink', 'name': 'GRAPH'},\n",
    "                    {'x': df_testframe2.y2test, 'y': df_testframe2.predictions2, 'type': 'Scatter', 'mode': 'markers', 'color': 'red', 'name': 'GRAPH'},\n",
    "                    {'x': df_testframe3.y3test, 'y': df_testframe3.predictions3, 'type': 'Scatter', 'mode': 'markers', 'color': 'yellow', 'name': 'GRAPH'}\n",
    "                ],\n",
    "                'layout': {\n",
    "                    'title': 'Распределение тестовой выборки линейной регрессии',\n",
    "                    'xaxis' : dict(title = 'y_test'),\n",
    "                    'yaxis' : dict(title = 'predictions'),\n",
    "                    'plot_bgcolor' : 'rgb(228,241,225)'\n",
    "                }\n",
    "            },\n",
    "            style = {'heigth': 300}\n",
    "        ),          \n",
    "        html.H5( children = 'AWESOME GRAPH № 5', style={\n",
    "            'textAlign': 'center',\n",
    "            'color': 'rgb(228,241,225)'\n",
    "        }),\n",
    "        dcc.Graph(\n",
    "            figure = {\n",
    "                'data': [\n",
    "                    {'x': df_logframetitletext.name[0:21], 'y': df_logframetitletext.value[0:21], 'type': 'bar', 'name': 'GRAPH'}\n",
    "                ],\n",
    "                'layout': {\n",
    "                    'title': 'Вес имен в линейной регрессии',\n",
    "                    'xaxis' : dict(title = 'name'),\n",
    "                    'yaxis' : dict(title = 'value'),\n",
    "                    'plot_bgcolor' : 'rgb(228,241,225)'\n",
    "                }\n",
    "            },\n",
    "            style = {'heigth': 300}\n",
    "        ),\n",
    "        html.H6( children = 'AWESOME GRAPH № 6', style={\n",
    "            'textAlign': 'center',\n",
    "            'color': 'rgb(228,241,225)'\n",
    "        }),\n",
    "        dcc.Graph(\n",
    "            figure = {\n",
    "                'data': [\n",
    "                    {'x': df_logframealltext.name[0:21], 'y': df_logframealltext.value[0:21], 'type': 'bar', 'name': 'GRAPH'}\n",
    "                ],\n",
    "                'layout': {\n",
    "                    'title': 'Вес имен в линейной регрессии',\n",
    "                    'xaxis' : dict(title = 'name'),\n",
    "                    'yaxis' : dict(title = 'value'),\n",
    "                    'plot_bgcolor' : 'rgb(228,241,225)'\n",
    "                }\n",
    "            },\n",
    "            style = {'heigth': 300}\n",
    "        )\n",
    "    ],\n",
    "    style = {'backgroundColor': 'rgb(57,105,172)'}\n",
    ")"
   ]
  },
  {
   "cell_type": "code",
   "execution_count": null,
   "metadata": {},
   "outputs": [],
   "source": [
    "#python dash.py в терминале-чтобы вызвал скрипт напрямую, то прогоняется код ниже\n",
    "if __name__ == '__main__':\n",
    "    app.run_server()"
   ]
  },
  {
   "cell_type": "code",
   "execution_count": null,
   "metadata": {},
   "outputs": [],
   "source": [
    "from flask import Flask\n",
    "app = Flask(__name__)\n",
    "\n",
    "@app.route('/')\n",
    "def hello_world():\n",
    "    return 'Hello, World!'"
   ]
  },
  {
   "cell_type": "code",
   "execution_count": null,
   "metadata": {},
   "outputs": [],
   "source": []
  }
 ],
 "metadata": {
  "hide_input": false,
  "kernelspec": {
   "display_name": "Python 3",
   "language": "python",
   "name": "python3"
  },
  "language_info": {
   "codemirror_mode": {
    "name": "ipython",
    "version": 3
   },
   "file_extension": ".py",
   "mimetype": "text/x-python",
   "name": "python",
   "nbconvert_exporter": "python",
   "pygments_lexer": "ipython3",
   "version": "3.7.4"
  },
  "toc": {
   "base_numbering": 1,
   "nav_menu": {},
   "number_sections": true,
   "sideBar": true,
   "skip_h1_title": false,
   "title_cell": "Table of Contents",
   "title_sidebar": "Contents",
   "toc_cell": false,
   "toc_position": {},
   "toc_section_display": true,
   "toc_window_display": false
  },
  "varInspector": {
   "cols": {
    "lenName": 16,
    "lenType": 16,
    "lenVar": 40
   },
   "kernels_config": {
    "python": {
     "delete_cmd_postfix": "",
     "delete_cmd_prefix": "del ",
     "library": "var_list.py",
     "varRefreshCmd": "print(var_dic_list())"
    },
    "r": {
     "delete_cmd_postfix": ") ",
     "delete_cmd_prefix": "rm(",
     "library": "var_list.r",
     "varRefreshCmd": "cat(var_dic_list()) "
    }
   },
   "types_to_exclude": [
    "module",
    "function",
    "builtin_function_or_method",
    "instance",
    "_Feature"
   ],
   "window_display": false
  }
 },
 "nbformat": 4,
 "nbformat_minor": 2
}
