{
 "cells": [
  {
   "cell_type": "code",
   "execution_count": 1,
   "metadata": {},
   "outputs": [],
   "source": [
    "import vk"
   ]
  },
  {
   "cell_type": "code",
   "execution_count": 2,
   "metadata": {},
   "outputs": [],
   "source": [
    "token = '58804c0458804c0458804c042658ed2ac45588058804c040523c7a2bb55f107daaf7a2a'"
   ]
  },
  {
   "cell_type": "code",
   "execution_count": 3,
   "metadata": {},
   "outputs": [],
   "source": [
    "session = vk.Session(access_token = token) # открыть сессию для работы\n",
    "api = vk.API(session) # подключиться к API"
   ]
  },
  {
   "cell_type": "code",
   "execution_count": 4,
   "metadata": {},
   "outputs": [],
   "source": [
    "group = 'thevyshka'"
   ]
  },
  {
   "cell_type": "code",
   "execution_count": 5,
   "metadata": {},
   "outputs": [],
   "source": [
    "res = api.wall.get(domain = group, count = 100, v = 5.73)"
   ]
  },
  {
   "cell_type": "code",
   "execution_count": 7,
   "metadata": {},
   "outputs": [
    {
     "data": {
      "text/plain": [
       "dict_keys(['count', 'items'])"
      ]
     },
     "execution_count": 7,
     "metadata": {},
     "output_type": "execute_result"
    }
   ],
   "source": [
    "res.keys()"
   ]
  },
  {
   "cell_type": "code",
   "execution_count": 8,
   "metadata": {},
   "outputs": [
    {
     "data": {
      "text/plain": [
       "{'id': 34647,\n",
       " 'from_id': -66036248,\n",
       " 'owner_id': -66036248,\n",
       " 'date': 1575442108,\n",
       " 'marked_as_ads': 0,\n",
       " 'post_type': 'post',\n",
       " 'text': 'Вчера независимый студенческий журнал DOXA лишился статуса студорганизации. Ситуация возродила публичное обсуждение независимости студенческих медиа. В нашей редакционной колонке рассуждаем о солидарности студмедиа, коммуникации с вузом в конфликтных ситуациях и объясняем, почему #мытожеdoxa',\n",
       " 'is_pinned': 1,\n",
       " 'attachments': [{'type': 'link',\n",
       "   'link': {'url': 'https://thevyshka.ru/26687-solidarity/',\n",
       "    'title': 'От редакции: солидарность студмедиа ',\n",
       "    'caption': 'thevyshka.ru',\n",
       "    'description': 'В нашей редакционной колонке говорим о солидарности студмедиа, коммуникации с вузом в конфликтных ситуациях и объясняем почему #мытожеdoxa',\n",
       "    'photo': {'id': 457283998,\n",
       "     'album_id': -25,\n",
       "     'owner_id': 2000019078,\n",
       "     'photo_75': False,\n",
       "     'photo_130': False,\n",
       "     'photo_604': False,\n",
       "     'text': '',\n",
       "     'date': 1575442108}}}],\n",
       " 'post_source': {'type': 'vk'},\n",
       " 'comments': {'count': 4, 'can_post': 1, 'groups_can_post': True},\n",
       " 'likes': {'count': 179, 'user_likes': 0, 'can_like': 1, 'can_publish': 1},\n",
       " 'reposts': {'count': 4, 'user_reposted': 0},\n",
       " 'views': {'count': 12152}}"
      ]
     },
     "execution_count": 8,
     "metadata": {},
     "output_type": "execute_result"
    }
   ],
   "source": [
    "res['items'][0] # первый элемент items - первый пост со всей информацией о нем"
   ]
  },
  {
   "cell_type": "code",
   "execution_count": 9,
   "metadata": {},
   "outputs": [],
   "source": [
    "items = res['items']"
   ]
  },
  {
   "cell_type": "code",
   "execution_count": 10,
   "metadata": {},
   "outputs": [],
   "source": [
    "items = res['items']\n",
    "\n",
    "full_list = []\n",
    "\n",
    "for item in items:\n",
    "    L = [item['from_id'], item['id'], item['text'], item['date'],\n",
    "        item['likes']['count'], item['reposts']['count'], item['comments']['count']]  # нужные поля\n",
    "    full_list.append(L)  # добавляем в список списков full_list"
   ]
  },
  {
   "cell_type": "code",
   "execution_count": 11,
   "metadata": {},
   "outputs": [
    {
     "data": {
      "text/plain": [
       "[[-66036248,\n",
       "  34647,\n",
       "  'Вчера независимый студенческий журнал DOXA лишился статуса студорганизации. Ситуация возродила публичное обсуждение независимости студенческих медиа. В нашей редакционной колонке рассуждаем о солидарности студмедиа, коммуникации с вузом в конфликтных ситуациях и объясняем, почему #мытожеdoxa',\n",
       "  1575442108,\n",
       "  179,\n",
       "  4,\n",
       "  4],\n",
       " [-66036248,\n",
       "  34727,\n",
       "  'Многие студенты задумываются о том, что их ждет после окончания университета. Вспоминаем наш материал про выпускников экономических факультетов разных вузов — ВШЭ, МГУ и Финансового университета. Ребята рассказали, почему выбрали такую специальность и чем занимаются после выпуска',\n",
       "  1575914407,\n",
       "  27,\n",
       "  3,\n",
       "  0],\n",
       " [-66036248,\n",
       "  34724,\n",
       "  'Знание английского поможет не только в продвижении по карьерной лестнице: вы сможете общаться с иностранцами в путешествиях, смотреть последние обновления на Netflix, читать книги в оригинале и учиться по зарубежным материалам. Собрали для вас четыре теста с BBC Learning English, которые помогут бесплатно усовершенствовать уровень владения языка, не выходя из дома. \\n \\n60 years old today! \\nИногда такие словосочетания в английском языке, которые содержат цифры, как, например, «two-year-old dog», требуют постановки дефиса, а иногда нет. Пятиминутный тест поможет определить, насколько хорошо вы знаете это правило. Если вы не уверены в своих силах, на сайте есть возможность ознакомиться со статьями по грамматике. \\nwww.bbc.co.uk/learningenglish/english/course/intermediate/unit-1/session-1/activity-2 \\n \\n«Just», «already» or «yet»? \\nBBC Learning English предлагает пройти короткий тест из восьми вопросов с вариантами ответа для того, чтобы вы наконец усвоили разницу в употреблении английских наречий. \\nwww.bbc.co.uk/learningenglish/english/course/quizzes/unit-1/session-2 \\n \\nPast perfect tenses: Simple or continuous? \\nС самых ранних лет студентов запугивают двенадцатью временами английского, которые надо знать, чтобы овладеть языком. Короткий тест предлагает испытать себя и выяснить, насколько хорошо вы разбираетесь в прошедшем времени. Если результаты вдруг окажутся не самыми хорошими, вы сможете быстро подтянуть свой уровень, заглянув в прилагающийся раздел грамматики. \\nwww.bbc.co.uk/learningenglish/english/course/quizzes/unit-1/session-7 \\n \\nWho did what when? \\nЭтот тест проверит ваше знание вводных английских слов. Слова-связки, пожалуй, одна из самых нужных тем в английском языке, особенно для тех, кто планирует сдавать экзамены, например, IELTS. Так называемые «linking words» не только придадут эссе более официальный вид, но и помогут набрать нужное количество слов. К тому же, эксперты дают за них много баллов. \\nwww.bbc.co.uk/learningenglish/english/course/intermediate/unit-20/session-1/activity-2 \\n \\nАвтор: Дарья Алиева',\n",
       "  1575903606,\n",
       "  25,\n",
       "  6,\n",
       "  0]]"
      ]
     },
     "execution_count": 11,
     "metadata": {},
     "output_type": "execute_result"
    }
   ],
   "source": [
    "# несколько элементов списка\n",
    "full_list[0:3]"
   ]
  },
  {
   "cell_type": "code",
   "execution_count": 12,
   "metadata": {},
   "outputs": [],
   "source": [
    "nposts = 2000"
   ]
  },
  {
   "cell_type": "code",
   "execution_count": 13,
   "metadata": {},
   "outputs": [],
   "source": [
    "from time import sleep"
   ]
  },
  {
   "cell_type": "code",
   "execution_count": 14,
   "metadata": {},
   "outputs": [],
   "source": [
    "for i in range(2, int(nposts/100) + 1):\n",
    "    res2 = api.wall.get(domain = group, count = 100, offset = 100 * i, v = 5.73)\n",
    "    items2 = res2['items']\n",
    "    items.extend(items2) # добавляем к первой сотне постов в items"
   ]
  },
  {
   "cell_type": "code",
   "execution_count": 15,
   "metadata": {},
   "outputs": [],
   "source": [
    "# опять выберем только нужные поля\n",
    "full_list = []\n",
    "for item in items:\n",
    "    L = [item['from_id'], item['id'], item['text'], item['date'],\n",
    "        item['likes']['count'], item['reposts']['count'], item ['comments']['count'], item['views']['count']]\n",
    "    full_list.append(L)"
   ]
  },
  {
   "cell_type": "code",
   "execution_count": 16,
   "metadata": {},
   "outputs": [
    {
     "data": {
      "text/plain": [
       "list"
      ]
     },
     "execution_count": 16,
     "metadata": {},
     "output_type": "execute_result"
    }
   ],
   "source": [
    "type(['date'])"
   ]
  },
  {
   "cell_type": "code",
   "execution_count": 17,
   "metadata": {},
   "outputs": [],
   "source": [
    "import pandas as pd"
   ]
  },
  {
   "cell_type": "code",
   "execution_count": 19,
   "metadata": {},
   "outputs": [],
   "source": [
    "df = pd.DataFrame(full_list)"
   ]
  },
  {
   "cell_type": "code",
   "execution_count": 20,
   "metadata": {},
   "outputs": [
    {
     "data": {
      "text/html": [
       "<div>\n",
       "<style scoped>\n",
       "    .dataframe tbody tr th:only-of-type {\n",
       "        vertical-align: middle;\n",
       "    }\n",
       "\n",
       "    .dataframe tbody tr th {\n",
       "        vertical-align: top;\n",
       "    }\n",
       "\n",
       "    .dataframe thead th {\n",
       "        text-align: right;\n",
       "    }\n",
       "</style>\n",
       "<table border=\"1\" class=\"dataframe\">\n",
       "  <thead>\n",
       "    <tr style=\"text-align: right;\">\n",
       "      <th></th>\n",
       "      <th>from_id</th>\n",
       "      <th>id</th>\n",
       "      <th>text</th>\n",
       "      <th>date</th>\n",
       "      <th>likes</th>\n",
       "      <th>reposts</th>\n",
       "      <th>comments</th>\n",
       "      <th>views</th>\n",
       "    </tr>\n",
       "  </thead>\n",
       "  <tbody>\n",
       "    <tr>\n",
       "      <td>0</td>\n",
       "      <td>-66036248</td>\n",
       "      <td>34647</td>\n",
       "      <td>Вчера независимый студенческий журнал DOXA лиш...</td>\n",
       "      <td>1575442108</td>\n",
       "      <td>179</td>\n",
       "      <td>4</td>\n",
       "      <td>4</td>\n",
       "      <td>12152</td>\n",
       "    </tr>\n",
       "    <tr>\n",
       "      <td>1</td>\n",
       "      <td>-66036248</td>\n",
       "      <td>34727</td>\n",
       "      <td>Многие студенты задумываются о том, что их жде...</td>\n",
       "      <td>1575914407</td>\n",
       "      <td>27</td>\n",
       "      <td>3</td>\n",
       "      <td>0</td>\n",
       "      <td>3271</td>\n",
       "    </tr>\n",
       "    <tr>\n",
       "      <td>2</td>\n",
       "      <td>-66036248</td>\n",
       "      <td>34724</td>\n",
       "      <td>Знание английского поможет не только в продвиж...</td>\n",
       "      <td>1575903606</td>\n",
       "      <td>25</td>\n",
       "      <td>6</td>\n",
       "      <td>0</td>\n",
       "      <td>1911</td>\n",
       "    </tr>\n",
       "  </tbody>\n",
       "</table>\n",
       "</div>"
      ],
      "text/plain": [
       "    from_id     id                                               text  \\\n",
       "0 -66036248  34647  Вчера независимый студенческий журнал DOXA лиш...   \n",
       "1 -66036248  34727  Многие студенты задумываются о том, что их жде...   \n",
       "2 -66036248  34724  Знание английского поможет не только в продвиж...   \n",
       "\n",
       "         date  likes  reposts  comments  views  \n",
       "0  1575442108    179        4         4  12152  \n",
       "1  1575914407     27        3         0   3271  \n",
       "2  1575903606     25        6         0   1911  "
      ]
     },
     "execution_count": 20,
     "metadata": {},
     "output_type": "execute_result"
    }
   ],
   "source": [
    "df.columns = ['from_id', 'id', 'text', 'date', 'likes', 'reposts', 'comments', 'views']\n",
    "df.head(3)"
   ]
  },
  {
   "cell_type": "code",
   "execution_count": 21,
   "metadata": {},
   "outputs": [
    {
     "data": {
      "text/plain": [
       "['likes', 'reposts', 'comments']"
      ]
     },
     "execution_count": 21,
     "metadata": {},
     "output_type": "execute_result"
    }
   ],
   "source": [
    "col_list = list(df)\n",
    "col_list.remove('from_id')\n",
    "col_list.remove('id')\n",
    "col_list.remove('text')\n",
    "col_list.remove('date')\n",
    "col_list.remove('views')\n",
    "col_list"
   ]
  },
  {
   "cell_type": "code",
   "execution_count": 22,
   "metadata": {},
   "outputs": [
    {
     "data": {
      "text/html": [
       "<div>\n",
       "<style scoped>\n",
       "    .dataframe tbody tr th:only-of-type {\n",
       "        vertical-align: middle;\n",
       "    }\n",
       "\n",
       "    .dataframe tbody tr th {\n",
       "        vertical-align: top;\n",
       "    }\n",
       "\n",
       "    .dataframe thead th {\n",
       "        text-align: right;\n",
       "    }\n",
       "</style>\n",
       "<table border=\"1\" class=\"dataframe\">\n",
       "  <thead>\n",
       "    <tr style=\"text-align: right;\">\n",
       "      <th></th>\n",
       "      <th>from_id</th>\n",
       "      <th>id</th>\n",
       "      <th>text</th>\n",
       "      <th>date</th>\n",
       "      <th>likes</th>\n",
       "      <th>reposts</th>\n",
       "      <th>comments</th>\n",
       "      <th>views</th>\n",
       "      <th>total_actions</th>\n",
       "    </tr>\n",
       "  </thead>\n",
       "  <tbody>\n",
       "    <tr>\n",
       "      <td>0</td>\n",
       "      <td>-66036248</td>\n",
       "      <td>34647</td>\n",
       "      <td>Вчера независимый студенческий журнал DOXA лиш...</td>\n",
       "      <td>1575442108</td>\n",
       "      <td>179</td>\n",
       "      <td>4</td>\n",
       "      <td>4</td>\n",
       "      <td>12152</td>\n",
       "      <td>187</td>\n",
       "    </tr>\n",
       "    <tr>\n",
       "      <td>1</td>\n",
       "      <td>-66036248</td>\n",
       "      <td>34727</td>\n",
       "      <td>Многие студенты задумываются о том, что их жде...</td>\n",
       "      <td>1575914407</td>\n",
       "      <td>27</td>\n",
       "      <td>3</td>\n",
       "      <td>0</td>\n",
       "      <td>3271</td>\n",
       "      <td>30</td>\n",
       "    </tr>\n",
       "    <tr>\n",
       "      <td>2</td>\n",
       "      <td>-66036248</td>\n",
       "      <td>34724</td>\n",
       "      <td>Знание английского поможет не только в продвиж...</td>\n",
       "      <td>1575903606</td>\n",
       "      <td>25</td>\n",
       "      <td>6</td>\n",
       "      <td>0</td>\n",
       "      <td>1911</td>\n",
       "      <td>31</td>\n",
       "    </tr>\n",
       "    <tr>\n",
       "      <td>3</td>\n",
       "      <td>-66036248</td>\n",
       "      <td>34723</td>\n",
       "      <td>Неумение формулировать вопросы ограничивает во...</td>\n",
       "      <td>1575892807</td>\n",
       "      <td>79</td>\n",
       "      <td>13</td>\n",
       "      <td>0</td>\n",
       "      <td>5532</td>\n",
       "      <td>92</td>\n",
       "    </tr>\n",
       "    <tr>\n",
       "      <td>4</td>\n",
       "      <td>-66036248</td>\n",
       "      <td>34721</td>\n",
       "      <td>Если ваш литературный багаж ограничивается шко...</td>\n",
       "      <td>1575878407</td>\n",
       "      <td>61</td>\n",
       "      <td>4</td>\n",
       "      <td>0</td>\n",
       "      <td>3984</td>\n",
       "      <td>65</td>\n",
       "    </tr>\n",
       "    <tr>\n",
       "      <td>...</td>\n",
       "      <td>...</td>\n",
       "      <td>...</td>\n",
       "      <td>...</td>\n",
       "      <td>...</td>\n",
       "      <td>...</td>\n",
       "      <td>...</td>\n",
       "      <td>...</td>\n",
       "      <td>...</td>\n",
       "      <td>...</td>\n",
       "    </tr>\n",
       "    <tr>\n",
       "      <td>1995</td>\n",
       "      <td>-66036248</td>\n",
       "      <td>24430</td>\n",
       "      <td>Современные бизнес-процессы практически немысл...</td>\n",
       "      <td>1522843209</td>\n",
       "      <td>95</td>\n",
       "      <td>14</td>\n",
       "      <td>0</td>\n",
       "      <td>6993</td>\n",
       "      <td>109</td>\n",
       "    </tr>\n",
       "    <tr>\n",
       "      <td>1996</td>\n",
       "      <td>-66036248</td>\n",
       "      <td>24425</td>\n",
       "      <td>Мы собрали шаблоны, которые позволяют визуальн...</td>\n",
       "      <td>1522825214</td>\n",
       "      <td>211</td>\n",
       "      <td>23</td>\n",
       "      <td>0</td>\n",
       "      <td>9468</td>\n",
       "      <td>234</td>\n",
       "    </tr>\n",
       "    <tr>\n",
       "      <td>1997</td>\n",
       "      <td>-66036248</td>\n",
       "      <td>24418</td>\n",
       "      <td>Выселение из общежитий, досрочная сдача сессии...</td>\n",
       "      <td>1522783802</td>\n",
       "      <td>74</td>\n",
       "      <td>0</td>\n",
       "      <td>1</td>\n",
       "      <td>7916</td>\n",
       "      <td>75</td>\n",
       "    </tr>\n",
       "    <tr>\n",
       "      <td>1998</td>\n",
       "      <td>-66036248</td>\n",
       "      <td>24416</td>\n",
       "      <td>Если вам тяжело пережить первую неделю нового ...</td>\n",
       "      <td>1522767614</td>\n",
       "      <td>128</td>\n",
       "      <td>4</td>\n",
       "      <td>1</td>\n",
       "      <td>7653</td>\n",
       "      <td>133</td>\n",
       "    </tr>\n",
       "    <tr>\n",
       "      <td>1999</td>\n",
       "      <td>-66036248</td>\n",
       "      <td>24413</td>\n",
       "      <td>Питерская «The Вышка» не отстает от московских...</td>\n",
       "      <td>1522758603</td>\n",
       "      <td>37</td>\n",
       "      <td>0</td>\n",
       "      <td>0</td>\n",
       "      <td>6546</td>\n",
       "      <td>37</td>\n",
       "    </tr>\n",
       "  </tbody>\n",
       "</table>\n",
       "<p>2000 rows × 9 columns</p>\n",
       "</div>"
      ],
      "text/plain": [
       "       from_id     id                                               text  \\\n",
       "0    -66036248  34647  Вчера независимый студенческий журнал DOXA лиш...   \n",
       "1    -66036248  34727  Многие студенты задумываются о том, что их жде...   \n",
       "2    -66036248  34724  Знание английского поможет не только в продвиж...   \n",
       "3    -66036248  34723  Неумение формулировать вопросы ограничивает во...   \n",
       "4    -66036248  34721  Если ваш литературный багаж ограничивается шко...   \n",
       "...        ...    ...                                                ...   \n",
       "1995 -66036248  24430  Современные бизнес-процессы практически немысл...   \n",
       "1996 -66036248  24425  Мы собрали шаблоны, которые позволяют визуальн...   \n",
       "1997 -66036248  24418  Выселение из общежитий, досрочная сдача сессии...   \n",
       "1998 -66036248  24416  Если вам тяжело пережить первую неделю нового ...   \n",
       "1999 -66036248  24413  Питерская «The Вышка» не отстает от московских...   \n",
       "\n",
       "            date  likes  reposts  comments  views  total_actions  \n",
       "0     1575442108    179        4         4  12152            187  \n",
       "1     1575914407     27        3         0   3271             30  \n",
       "2     1575903606     25        6         0   1911             31  \n",
       "3     1575892807     79       13         0   5532             92  \n",
       "4     1575878407     61        4         0   3984             65  \n",
       "...          ...    ...      ...       ...    ...            ...  \n",
       "1995  1522843209     95       14         0   6993            109  \n",
       "1996  1522825214    211       23         0   9468            234  \n",
       "1997  1522783802     74        0         1   7916             75  \n",
       "1998  1522767614    128        4         1   7653            133  \n",
       "1999  1522758603     37        0         0   6546             37  \n",
       "\n",
       "[2000 rows x 9 columns]"
      ]
     },
     "execution_count": 22,
     "metadata": {},
     "output_type": "execute_result"
    }
   ],
   "source": [
    "df['total_actions'] = df[col_list].sum(axis=1)\n",
    "df"
   ]
  },
  {
   "cell_type": "code",
   "execution_count": 23,
   "metadata": {},
   "outputs": [],
   "source": [
    "test2 = df.sort_values(['date'], ascending=[False])\n",
    "test2 = df.sort_values(['date'], ascending=[0])"
   ]
  },
  {
   "cell_type": "code",
   "execution_count": 24,
   "metadata": {},
   "outputs": [
    {
     "data": {
      "text/html": [
       "<div>\n",
       "<style scoped>\n",
       "    .dataframe tbody tr th:only-of-type {\n",
       "        vertical-align: middle;\n",
       "    }\n",
       "\n",
       "    .dataframe tbody tr th {\n",
       "        vertical-align: top;\n",
       "    }\n",
       "\n",
       "    .dataframe thead th {\n",
       "        text-align: right;\n",
       "    }\n",
       "</style>\n",
       "<table border=\"1\" class=\"dataframe\">\n",
       "  <thead>\n",
       "    <tr style=\"text-align: right;\">\n",
       "      <th></th>\n",
       "      <th>from_id</th>\n",
       "      <th>id</th>\n",
       "      <th>text</th>\n",
       "      <th>date</th>\n",
       "      <th>likes</th>\n",
       "      <th>reposts</th>\n",
       "      <th>comments</th>\n",
       "      <th>views</th>\n",
       "      <th>total_actions</th>\n",
       "    </tr>\n",
       "  </thead>\n",
       "  <tbody>\n",
       "    <tr>\n",
       "      <td>0</td>\n",
       "      <td>-66036248</td>\n",
       "      <td>34647</td>\n",
       "      <td>Вчера независимый студенческий журнал DOXA лиш...</td>\n",
       "      <td>1575442108</td>\n",
       "      <td>179</td>\n",
       "      <td>4</td>\n",
       "      <td>4</td>\n",
       "      <td>12152</td>\n",
       "      <td>187</td>\n",
       "    </tr>\n",
       "    <tr>\n",
       "      <td>1</td>\n",
       "      <td>-66036248</td>\n",
       "      <td>34727</td>\n",
       "      <td>Многие студенты задумываются о том, что их жде...</td>\n",
       "      <td>1575914407</td>\n",
       "      <td>27</td>\n",
       "      <td>3</td>\n",
       "      <td>0</td>\n",
       "      <td>3271</td>\n",
       "      <td>30</td>\n",
       "    </tr>\n",
       "    <tr>\n",
       "      <td>2</td>\n",
       "      <td>-66036248</td>\n",
       "      <td>34724</td>\n",
       "      <td>Знание английского поможет не только в продвиж...</td>\n",
       "      <td>1575903606</td>\n",
       "      <td>25</td>\n",
       "      <td>6</td>\n",
       "      <td>0</td>\n",
       "      <td>1911</td>\n",
       "      <td>31</td>\n",
       "    </tr>\n",
       "    <tr>\n",
       "      <td>3</td>\n",
       "      <td>-66036248</td>\n",
       "      <td>34723</td>\n",
       "      <td>Неумение формулировать вопросы ограничивает во...</td>\n",
       "      <td>1575892807</td>\n",
       "      <td>79</td>\n",
       "      <td>13</td>\n",
       "      <td>0</td>\n",
       "      <td>5532</td>\n",
       "      <td>92</td>\n",
       "    </tr>\n",
       "    <tr>\n",
       "      <td>4</td>\n",
       "      <td>-66036248</td>\n",
       "      <td>34721</td>\n",
       "      <td>Если ваш литературный багаж ограничивается шко...</td>\n",
       "      <td>1575878407</td>\n",
       "      <td>61</td>\n",
       "      <td>4</td>\n",
       "      <td>0</td>\n",
       "      <td>3984</td>\n",
       "      <td>65</td>\n",
       "    </tr>\n",
       "  </tbody>\n",
       "</table>\n",
       "</div>"
      ],
      "text/plain": [
       "    from_id     id                                               text  \\\n",
       "0 -66036248  34647  Вчера независимый студенческий журнал DOXA лиш...   \n",
       "1 -66036248  34727  Многие студенты задумываются о том, что их жде...   \n",
       "2 -66036248  34724  Знание английского поможет не только в продвиж...   \n",
       "3 -66036248  34723  Неумение формулировать вопросы ограничивает во...   \n",
       "4 -66036248  34721  Если ваш литературный багаж ограничивается шко...   \n",
       "\n",
       "         date  likes  reposts  comments  views  total_actions  \n",
       "0  1575442108    179        4         4  12152            187  \n",
       "1  1575914407     27        3         0   3271             30  \n",
       "2  1575903606     25        6         0   1911             31  \n",
       "3  1575892807     79       13         0   5532             92  \n",
       "4  1575878407     61        4         0   3984             65  "
      ]
     },
     "execution_count": 24,
     "metadata": {},
     "output_type": "execute_result"
    }
   ],
   "source": [
    "df.head(5)"
   ]
  },
  {
   "cell_type": "code",
   "execution_count": 25,
   "metadata": {},
   "outputs": [],
   "source": [
    "from datetime import datetime"
   ]
  },
  {
   "cell_type": "code",
   "execution_count": 26,
   "metadata": {},
   "outputs": [],
   "source": [
    "def date_norm(date):\n",
    "    d = datetime.fromtimestamp(date) # timestamp - UNIX-время в виде строки\n",
    "    str_d = d.strftime(\"%Y-%m %H\") # %Y-%m-%d %H:%M:%S - год-месяц-день, часы:мин:сек\n",
    "    date_norm, time_norm = str_d.split(' ') # разобьем результат на части, отделим дату от времени\n",
    "    return date_norm, time_norm"
   ]
  },
  {
   "cell_type": "code",
   "execution_count": 27,
   "metadata": {},
   "outputs": [],
   "source": [
    "df['date_norm'] = df.date.apply(date_norm)"
   ]
  },
  {
   "cell_type": "code",
   "execution_count": 28,
   "metadata": {},
   "outputs": [
    {
     "data": {
      "text/html": [
       "<div>\n",
       "<style scoped>\n",
       "    .dataframe tbody tr th:only-of-type {\n",
       "        vertical-align: middle;\n",
       "    }\n",
       "\n",
       "    .dataframe tbody tr th {\n",
       "        vertical-align: top;\n",
       "    }\n",
       "\n",
       "    .dataframe thead th {\n",
       "        text-align: right;\n",
       "    }\n",
       "</style>\n",
       "<table border=\"1\" class=\"dataframe\">\n",
       "  <thead>\n",
       "    <tr style=\"text-align: right;\">\n",
       "      <th></th>\n",
       "      <th>from_id</th>\n",
       "      <th>id</th>\n",
       "      <th>text</th>\n",
       "      <th>date</th>\n",
       "      <th>likes</th>\n",
       "      <th>reposts</th>\n",
       "      <th>comments</th>\n",
       "      <th>views</th>\n",
       "      <th>total_actions</th>\n",
       "      <th>date_norm</th>\n",
       "    </tr>\n",
       "  </thead>\n",
       "  <tbody>\n",
       "    <tr>\n",
       "      <td>0</td>\n",
       "      <td>-66036248</td>\n",
       "      <td>34647</td>\n",
       "      <td>Вчера независимый студенческий журнал DOXA лиш...</td>\n",
       "      <td>1575442108</td>\n",
       "      <td>179</td>\n",
       "      <td>4</td>\n",
       "      <td>4</td>\n",
       "      <td>12152</td>\n",
       "      <td>187</td>\n",
       "      <td>(2019-12, 09)</td>\n",
       "    </tr>\n",
       "    <tr>\n",
       "      <td>1</td>\n",
       "      <td>-66036248</td>\n",
       "      <td>34727</td>\n",
       "      <td>Многие студенты задумываются о том, что их жде...</td>\n",
       "      <td>1575914407</td>\n",
       "      <td>27</td>\n",
       "      <td>3</td>\n",
       "      <td>0</td>\n",
       "      <td>3271</td>\n",
       "      <td>30</td>\n",
       "      <td>(2019-12, 21)</td>\n",
       "    </tr>\n",
       "    <tr>\n",
       "      <td>2</td>\n",
       "      <td>-66036248</td>\n",
       "      <td>34724</td>\n",
       "      <td>Знание английского поможет не только в продвиж...</td>\n",
       "      <td>1575903606</td>\n",
       "      <td>25</td>\n",
       "      <td>6</td>\n",
       "      <td>0</td>\n",
       "      <td>1911</td>\n",
       "      <td>31</td>\n",
       "      <td>(2019-12, 18)</td>\n",
       "    </tr>\n",
       "    <tr>\n",
       "      <td>3</td>\n",
       "      <td>-66036248</td>\n",
       "      <td>34723</td>\n",
       "      <td>Неумение формулировать вопросы ограничивает во...</td>\n",
       "      <td>1575892807</td>\n",
       "      <td>79</td>\n",
       "      <td>13</td>\n",
       "      <td>0</td>\n",
       "      <td>5532</td>\n",
       "      <td>92</td>\n",
       "      <td>(2019-12, 15)</td>\n",
       "    </tr>\n",
       "    <tr>\n",
       "      <td>4</td>\n",
       "      <td>-66036248</td>\n",
       "      <td>34721</td>\n",
       "      <td>Если ваш литературный багаж ограничивается шко...</td>\n",
       "      <td>1575878407</td>\n",
       "      <td>61</td>\n",
       "      <td>4</td>\n",
       "      <td>0</td>\n",
       "      <td>3984</td>\n",
       "      <td>65</td>\n",
       "      <td>(2019-12, 11)</td>\n",
       "    </tr>\n",
       "    <tr>\n",
       "      <td>5</td>\n",
       "      <td>-66036248</td>\n",
       "      <td>34716</td>\n",
       "      <td>Киноклубы Вышки еженедельно устраивают бесплат...</td>\n",
       "      <td>1575828780</td>\n",
       "      <td>27</td>\n",
       "      <td>1</td>\n",
       "      <td>0</td>\n",
       "      <td>4474</td>\n",
       "      <td>28</td>\n",
       "      <td>(2019-12, 21)</td>\n",
       "    </tr>\n",
       "    <tr>\n",
       "      <td>6</td>\n",
       "      <td>-66036248</td>\n",
       "      <td>34712</td>\n",
       "      <td>Не за горами зимняя сессия, но это не значит, ...</td>\n",
       "      <td>1575817961</td>\n",
       "      <td>47</td>\n",
       "      <td>0</td>\n",
       "      <td>3</td>\n",
       "      <td>6560</td>\n",
       "      <td>50</td>\n",
       "      <td>(2019-12, 18)</td>\n",
       "    </tr>\n",
       "    <tr>\n",
       "      <td>7</td>\n",
       "      <td>-66036248</td>\n",
       "      <td>34710</td>\n",
       "      <td>Волонтерство — это не только безвозмездная пом...</td>\n",
       "      <td>1575792008</td>\n",
       "      <td>50</td>\n",
       "      <td>5</td>\n",
       "      <td>1</td>\n",
       "      <td>5923</td>\n",
       "      <td>56</td>\n",
       "      <td>(2019-12, 11)</td>\n",
       "    </tr>\n",
       "    <tr>\n",
       "      <td>8</td>\n",
       "      <td>-66036248</td>\n",
       "      <td>34706</td>\n",
       "      <td>Объединенная группа общественного наблюдения, ...</td>\n",
       "      <td>1575741605</td>\n",
       "      <td>20</td>\n",
       "      <td>0</td>\n",
       "      <td>0</td>\n",
       "      <td>3853</td>\n",
       "      <td>20</td>\n",
       "      <td>(2019-12, 21)</td>\n",
       "    </tr>\n",
       "    <tr>\n",
       "      <td>9</td>\n",
       "      <td>-66036248</td>\n",
       "      <td>34702</td>\n",
       "      <td>Сделали прозвище из фамилии, десять раз «случа...</td>\n",
       "      <td>1575730806</td>\n",
       "      <td>100</td>\n",
       "      <td>4</td>\n",
       "      <td>2</td>\n",
       "      <td>9261</td>\n",
       "      <td>106</td>\n",
       "      <td>(2019-12, 18)</td>\n",
       "    </tr>\n",
       "  </tbody>\n",
       "</table>\n",
       "</div>"
      ],
      "text/plain": [
       "    from_id     id                                               text  \\\n",
       "0 -66036248  34647  Вчера независимый студенческий журнал DOXA лиш...   \n",
       "1 -66036248  34727  Многие студенты задумываются о том, что их жде...   \n",
       "2 -66036248  34724  Знание английского поможет не только в продвиж...   \n",
       "3 -66036248  34723  Неумение формулировать вопросы ограничивает во...   \n",
       "4 -66036248  34721  Если ваш литературный багаж ограничивается шко...   \n",
       "5 -66036248  34716  Киноклубы Вышки еженедельно устраивают бесплат...   \n",
       "6 -66036248  34712  Не за горами зимняя сессия, но это не значит, ...   \n",
       "7 -66036248  34710  Волонтерство — это не только безвозмездная пом...   \n",
       "8 -66036248  34706  Объединенная группа общественного наблюдения, ...   \n",
       "9 -66036248  34702  Сделали прозвище из фамилии, десять раз «случа...   \n",
       "\n",
       "         date  likes  reposts  comments  views  total_actions      date_norm  \n",
       "0  1575442108    179        4         4  12152            187  (2019-12, 09)  \n",
       "1  1575914407     27        3         0   3271             30  (2019-12, 21)  \n",
       "2  1575903606     25        6         0   1911             31  (2019-12, 18)  \n",
       "3  1575892807     79       13         0   5532             92  (2019-12, 15)  \n",
       "4  1575878407     61        4         0   3984             65  (2019-12, 11)  \n",
       "5  1575828780     27        1         0   4474             28  (2019-12, 21)  \n",
       "6  1575817961     47        0         3   6560             50  (2019-12, 18)  \n",
       "7  1575792008     50        5         1   5923             56  (2019-12, 11)  \n",
       "8  1575741605     20        0         0   3853             20  (2019-12, 21)  \n",
       "9  1575730806    100        4         2   9261            106  (2019-12, 18)  "
      ]
     },
     "execution_count": 28,
     "metadata": {},
     "output_type": "execute_result"
    }
   ],
   "source": [
    "df.head(10)"
   ]
  },
  {
   "cell_type": "code",
   "execution_count": 29,
   "metadata": {},
   "outputs": [
    {
     "data": {
      "text/html": [
       "<div>\n",
       "<style scoped>\n",
       "    .dataframe tbody tr th:only-of-type {\n",
       "        vertical-align: middle;\n",
       "    }\n",
       "\n",
       "    .dataframe tbody tr th {\n",
       "        vertical-align: top;\n",
       "    }\n",
       "\n",
       "    .dataframe thead th {\n",
       "        text-align: right;\n",
       "    }\n",
       "</style>\n",
       "<table border=\"1\" class=\"dataframe\">\n",
       "  <thead>\n",
       "    <tr style=\"text-align: right;\">\n",
       "      <th></th>\n",
       "      <th>from_id</th>\n",
       "      <th>id</th>\n",
       "      <th>text</th>\n",
       "      <th>date</th>\n",
       "      <th>likes</th>\n",
       "      <th>reposts</th>\n",
       "      <th>comments</th>\n",
       "      <th>views</th>\n",
       "      <th>total_actions</th>\n",
       "      <th>date_norm</th>\n",
       "    </tr>\n",
       "  </thead>\n",
       "  <tbody>\n",
       "    <tr>\n",
       "      <td>1990</td>\n",
       "      <td>-66036248</td>\n",
       "      <td>24542</td>\n",
       "      <td>Логистика — наука, изучающую методы оптимизаци...</td>\n",
       "      <td>1522940409</td>\n",
       "      <td>103</td>\n",
       "      <td>11</td>\n",
       "      <td>0</td>\n",
       "      <td>9892</td>\n",
       "      <td>114</td>\n",
       "      <td>(2018-04, 18)</td>\n",
       "    </tr>\n",
       "    <tr>\n",
       "      <td>1991</td>\n",
       "      <td>-66036248</td>\n",
       "      <td>24449</td>\n",
       "      <td>Инициативная группа студентов написала открыто...</td>\n",
       "      <td>1522932537</td>\n",
       "      <td>223</td>\n",
       "      <td>18</td>\n",
       "      <td>166</td>\n",
       "      <td>15602</td>\n",
       "      <td>407</td>\n",
       "      <td>(2018-04, 15)</td>\n",
       "    </tr>\n",
       "    <tr>\n",
       "      <td>1992</td>\n",
       "      <td>-66036248</td>\n",
       "      <td>24447</td>\n",
       "      <td>Как и многие другие праздники, Пасха отличаетс...</td>\n",
       "      <td>1522911611</td>\n",
       "      <td>41</td>\n",
       "      <td>2</td>\n",
       "      <td>0</td>\n",
       "      <td>9363</td>\n",
       "      <td>43</td>\n",
       "      <td>(2018-04, 10)</td>\n",
       "    </tr>\n",
       "    <tr>\n",
       "      <td>1993</td>\n",
       "      <td>-66036248</td>\n",
       "      <td>24440</td>\n",
       "      <td>Как часто в фильмах мы наблюдаем, как главные ...</td>\n",
       "      <td>1522870202</td>\n",
       "      <td>81</td>\n",
       "      <td>4</td>\n",
       "      <td>1</td>\n",
       "      <td>8151</td>\n",
       "      <td>86</td>\n",
       "      <td>(2018-04, 22)</td>\n",
       "    </tr>\n",
       "    <tr>\n",
       "      <td>1994</td>\n",
       "      <td>-66036248</td>\n",
       "      <td>24435</td>\n",
       "      <td>Скоро лето, а значит, пора снова приводить себ...</td>\n",
       "      <td>1522859798</td>\n",
       "      <td>74</td>\n",
       "      <td>8</td>\n",
       "      <td>0</td>\n",
       "      <td>5499</td>\n",
       "      <td>82</td>\n",
       "      <td>(2018-04, 19)</td>\n",
       "    </tr>\n",
       "    <tr>\n",
       "      <td>1995</td>\n",
       "      <td>-66036248</td>\n",
       "      <td>24430</td>\n",
       "      <td>Современные бизнес-процессы практически немысл...</td>\n",
       "      <td>1522843209</td>\n",
       "      <td>95</td>\n",
       "      <td>14</td>\n",
       "      <td>0</td>\n",
       "      <td>6993</td>\n",
       "      <td>109</td>\n",
       "      <td>(2018-04, 15)</td>\n",
       "    </tr>\n",
       "    <tr>\n",
       "      <td>1996</td>\n",
       "      <td>-66036248</td>\n",
       "      <td>24425</td>\n",
       "      <td>Мы собрали шаблоны, которые позволяют визуальн...</td>\n",
       "      <td>1522825214</td>\n",
       "      <td>211</td>\n",
       "      <td>23</td>\n",
       "      <td>0</td>\n",
       "      <td>9468</td>\n",
       "      <td>234</td>\n",
       "      <td>(2018-04, 10)</td>\n",
       "    </tr>\n",
       "    <tr>\n",
       "      <td>1997</td>\n",
       "      <td>-66036248</td>\n",
       "      <td>24418</td>\n",
       "      <td>Выселение из общежитий, досрочная сдача сессии...</td>\n",
       "      <td>1522783802</td>\n",
       "      <td>74</td>\n",
       "      <td>0</td>\n",
       "      <td>1</td>\n",
       "      <td>7916</td>\n",
       "      <td>75</td>\n",
       "      <td>(2018-04, 22)</td>\n",
       "    </tr>\n",
       "    <tr>\n",
       "      <td>1998</td>\n",
       "      <td>-66036248</td>\n",
       "      <td>24416</td>\n",
       "      <td>Если вам тяжело пережить первую неделю нового ...</td>\n",
       "      <td>1522767614</td>\n",
       "      <td>128</td>\n",
       "      <td>4</td>\n",
       "      <td>1</td>\n",
       "      <td>7653</td>\n",
       "      <td>133</td>\n",
       "      <td>(2018-04, 18)</td>\n",
       "    </tr>\n",
       "    <tr>\n",
       "      <td>1999</td>\n",
       "      <td>-66036248</td>\n",
       "      <td>24413</td>\n",
       "      <td>Питерская «The Вышка» не отстает от московских...</td>\n",
       "      <td>1522758603</td>\n",
       "      <td>37</td>\n",
       "      <td>0</td>\n",
       "      <td>0</td>\n",
       "      <td>6546</td>\n",
       "      <td>37</td>\n",
       "      <td>(2018-04, 15)</td>\n",
       "    </tr>\n",
       "  </tbody>\n",
       "</table>\n",
       "</div>"
      ],
      "text/plain": [
       "       from_id     id                                               text  \\\n",
       "1990 -66036248  24542  Логистика — наука, изучающую методы оптимизаци...   \n",
       "1991 -66036248  24449  Инициативная группа студентов написала открыто...   \n",
       "1992 -66036248  24447  Как и многие другие праздники, Пасха отличаетс...   \n",
       "1993 -66036248  24440  Как часто в фильмах мы наблюдаем, как главные ...   \n",
       "1994 -66036248  24435  Скоро лето, а значит, пора снова приводить себ...   \n",
       "1995 -66036248  24430  Современные бизнес-процессы практически немысл...   \n",
       "1996 -66036248  24425  Мы собрали шаблоны, которые позволяют визуальн...   \n",
       "1997 -66036248  24418  Выселение из общежитий, досрочная сдача сессии...   \n",
       "1998 -66036248  24416  Если вам тяжело пережить первую неделю нового ...   \n",
       "1999 -66036248  24413  Питерская «The Вышка» не отстает от московских...   \n",
       "\n",
       "            date  likes  reposts  comments  views  total_actions  \\\n",
       "1990  1522940409    103       11         0   9892            114   \n",
       "1991  1522932537    223       18       166  15602            407   \n",
       "1992  1522911611     41        2         0   9363             43   \n",
       "1993  1522870202     81        4         1   8151             86   \n",
       "1994  1522859798     74        8         0   5499             82   \n",
       "1995  1522843209     95       14         0   6993            109   \n",
       "1996  1522825214    211       23         0   9468            234   \n",
       "1997  1522783802     74        0         1   7916             75   \n",
       "1998  1522767614    128        4         1   7653            133   \n",
       "1999  1522758603     37        0         0   6546             37   \n",
       "\n",
       "          date_norm  \n",
       "1990  (2018-04, 18)  \n",
       "1991  (2018-04, 15)  \n",
       "1992  (2018-04, 10)  \n",
       "1993  (2018-04, 22)  \n",
       "1994  (2018-04, 19)  \n",
       "1995  (2018-04, 15)  \n",
       "1996  (2018-04, 10)  \n",
       "1997  (2018-04, 22)  \n",
       "1998  (2018-04, 18)  \n",
       "1999  (2018-04, 15)  "
      ]
     },
     "execution_count": 29,
     "metadata": {},
     "output_type": "execute_result"
    }
   ],
   "source": [
    "df.tail(10)\n",
    "#пытаемся определить, какое значение \"date\" будет равно сентябрю 2018 года, так как наш анализ берет период с сентября 2018 по октябрь 2019 "
   ]
  },
  {
   "cell_type": "code",
   "execution_count": 30,
   "metadata": {},
   "outputs": [],
   "source": [
    "df = df.loc[df['date'] >= 1535796013]\n",
    "#определили значения и отрезает датасет до него включительно"
   ]
  },
  {
   "cell_type": "code",
   "execution_count": 31,
   "metadata": {},
   "outputs": [
    {
     "data": {
      "text/html": [
       "<div>\n",
       "<style scoped>\n",
       "    .dataframe tbody tr th:only-of-type {\n",
       "        vertical-align: middle;\n",
       "    }\n",
       "\n",
       "    .dataframe tbody tr th {\n",
       "        vertical-align: top;\n",
       "    }\n",
       "\n",
       "    .dataframe thead th {\n",
       "        text-align: right;\n",
       "    }\n",
       "</style>\n",
       "<table border=\"1\" class=\"dataframe\">\n",
       "  <thead>\n",
       "    <tr style=\"text-align: right;\">\n",
       "      <th></th>\n",
       "      <th>from_id</th>\n",
       "      <th>id</th>\n",
       "      <th>text</th>\n",
       "      <th>date</th>\n",
       "      <th>likes</th>\n",
       "      <th>reposts</th>\n",
       "      <th>comments</th>\n",
       "      <th>views</th>\n",
       "      <th>total_actions</th>\n",
       "      <th>date_norm</th>\n",
       "    </tr>\n",
       "  </thead>\n",
       "  <tbody>\n",
       "    <tr>\n",
       "      <td>1469</td>\n",
       "      <td>-66036248</td>\n",
       "      <td>27108</td>\n",
       "      <td>Наша редакция поговорила с девушкой, которая п...</td>\n",
       "      <td>1536088800</td>\n",
       "      <td>64</td>\n",
       "      <td>1</td>\n",
       "      <td>0</td>\n",
       "      <td>8653</td>\n",
       "      <td>65</td>\n",
       "      <td>(2018-09, 22)</td>\n",
       "    </tr>\n",
       "    <tr>\n",
       "      <td>1470</td>\n",
       "      <td>-66036248</td>\n",
       "      <td>27105</td>\n",
       "      <td>Начался учебный год и большинство первокурсник...</td>\n",
       "      <td>1536073214</td>\n",
       "      <td>133</td>\n",
       "      <td>6</td>\n",
       "      <td>0</td>\n",
       "      <td>9564</td>\n",
       "      <td>139</td>\n",
       "      <td>(2018-09, 18)</td>\n",
       "    </tr>\n",
       "    <tr>\n",
       "      <td>1471</td>\n",
       "      <td>-66036248</td>\n",
       "      <td>27102</td>\n",
       "      <td>Всего второй день, а учеба уже надоела? Тогда ...</td>\n",
       "      <td>1536058860</td>\n",
       "      <td>53</td>\n",
       "      <td>0</td>\n",
       "      <td>0</td>\n",
       "      <td>7867</td>\n",
       "      <td>53</td>\n",
       "      <td>(2018-09, 14)</td>\n",
       "    </tr>\n",
       "    <tr>\n",
       "      <td>1472</td>\n",
       "      <td>-66036248</td>\n",
       "      <td>27091</td>\n",
       "      <td>Самый модный тренд осени — университетский мер...</td>\n",
       "      <td>1536001889</td>\n",
       "      <td>298</td>\n",
       "      <td>9</td>\n",
       "      <td>32</td>\n",
       "      <td>23292</td>\n",
       "      <td>339</td>\n",
       "      <td>(2018-09, 22)</td>\n",
       "    </tr>\n",
       "    <tr>\n",
       "      <td>1473</td>\n",
       "      <td>-66036248</td>\n",
       "      <td>27088</td>\n",
       "      <td>Все лето мы жаловались: то на жару, то на холо...</td>\n",
       "      <td>1535968463</td>\n",
       "      <td>43</td>\n",
       "      <td>0</td>\n",
       "      <td>0</td>\n",
       "      <td>7501</td>\n",
       "      <td>43</td>\n",
       "      <td>(2018-09, 12)</td>\n",
       "    </tr>\n",
       "    <tr>\n",
       "      <td>1474</td>\n",
       "      <td>-66036248</td>\n",
       "      <td>27085</td>\n",
       "      <td>Завтра мы отправимся на учебу под Шуфутинского...</td>\n",
       "      <td>1535900416</td>\n",
       "      <td>55</td>\n",
       "      <td>1</td>\n",
       "      <td>1</td>\n",
       "      <td>8432</td>\n",
       "      <td>57</td>\n",
       "      <td>(2018-09, 18)</td>\n",
       "    </tr>\n",
       "    <tr>\n",
       "      <td>1475</td>\n",
       "      <td>-66036248</td>\n",
       "      <td>27082</td>\n",
       "      <td>Многие открытия ученых-нейробиологов использую...</td>\n",
       "      <td>1535887883</td>\n",
       "      <td>188</td>\n",
       "      <td>18</td>\n",
       "      <td>1</td>\n",
       "      <td>11711</td>\n",
       "      <td>207</td>\n",
       "      <td>(2018-09, 14)</td>\n",
       "    </tr>\n",
       "    <tr>\n",
       "      <td>1476</td>\n",
       "      <td>-66036248</td>\n",
       "      <td>27080</td>\n",
       "      <td>Каждый новый учебный год в нашей редакции смен...</td>\n",
       "      <td>1535841820</td>\n",
       "      <td>76</td>\n",
       "      <td>0</td>\n",
       "      <td>0</td>\n",
       "      <td>11220</td>\n",
       "      <td>76</td>\n",
       "      <td>(2018-09, 01)</td>\n",
       "    </tr>\n",
       "    <tr>\n",
       "      <td>1477</td>\n",
       "      <td>-66036248</td>\n",
       "      <td>27075</td>\n",
       "      <td>Общество «Мемориал», направленное на исследова...</td>\n",
       "      <td>1535812203</td>\n",
       "      <td>57</td>\n",
       "      <td>4</td>\n",
       "      <td>3</td>\n",
       "      <td>9466</td>\n",
       "      <td>64</td>\n",
       "      <td>(2018-09, 17)</td>\n",
       "    </tr>\n",
       "    <tr>\n",
       "      <td>1478</td>\n",
       "      <td>-66036248</td>\n",
       "      <td>27073</td>\n",
       "      <td>Спасибо, Ярослав Иванович Кузьминов, такую Выш...</td>\n",
       "      <td>1535796013</td>\n",
       "      <td>225</td>\n",
       "      <td>3</td>\n",
       "      <td>0</td>\n",
       "      <td>11752</td>\n",
       "      <td>228</td>\n",
       "      <td>(2018-09, 13)</td>\n",
       "    </tr>\n",
       "  </tbody>\n",
       "</table>\n",
       "</div>"
      ],
      "text/plain": [
       "       from_id     id                                               text  \\\n",
       "1469 -66036248  27108  Наша редакция поговорила с девушкой, которая п...   \n",
       "1470 -66036248  27105  Начался учебный год и большинство первокурсник...   \n",
       "1471 -66036248  27102  Всего второй день, а учеба уже надоела? Тогда ...   \n",
       "1472 -66036248  27091  Самый модный тренд осени — университетский мер...   \n",
       "1473 -66036248  27088  Все лето мы жаловались: то на жару, то на холо...   \n",
       "1474 -66036248  27085  Завтра мы отправимся на учебу под Шуфутинского...   \n",
       "1475 -66036248  27082  Многие открытия ученых-нейробиологов использую...   \n",
       "1476 -66036248  27080  Каждый новый учебный год в нашей редакции смен...   \n",
       "1477 -66036248  27075  Общество «Мемориал», направленное на исследова...   \n",
       "1478 -66036248  27073  Спасибо, Ярослав Иванович Кузьминов, такую Выш...   \n",
       "\n",
       "            date  likes  reposts  comments  views  total_actions  \\\n",
       "1469  1536088800     64        1         0   8653             65   \n",
       "1470  1536073214    133        6         0   9564            139   \n",
       "1471  1536058860     53        0         0   7867             53   \n",
       "1472  1536001889    298        9        32  23292            339   \n",
       "1473  1535968463     43        0         0   7501             43   \n",
       "1474  1535900416     55        1         1   8432             57   \n",
       "1475  1535887883    188       18         1  11711            207   \n",
       "1476  1535841820     76        0         0  11220             76   \n",
       "1477  1535812203     57        4         3   9466             64   \n",
       "1478  1535796013    225        3         0  11752            228   \n",
       "\n",
       "          date_norm  \n",
       "1469  (2018-09, 22)  \n",
       "1470  (2018-09, 18)  \n",
       "1471  (2018-09, 14)  \n",
       "1472  (2018-09, 22)  \n",
       "1473  (2018-09, 12)  \n",
       "1474  (2018-09, 18)  \n",
       "1475  (2018-09, 14)  \n",
       "1476  (2018-09, 01)  \n",
       "1477  (2018-09, 17)  \n",
       "1478  (2018-09, 13)  "
      ]
     },
     "execution_count": 31,
     "metadata": {},
     "output_type": "execute_result"
    }
   ],
   "source": [
    "df.tail(10)"
   ]
  },
  {
   "cell_type": "code",
   "execution_count": 32,
   "metadata": {},
   "outputs": [],
   "source": [
    "df = df.drop_duplicates()"
   ]
  },
  {
   "cell_type": "code",
   "execution_count": 33,
   "metadata": {
    "scrolled": true
   },
   "outputs": [
    {
     "name": "stdout",
     "output_type": "stream",
     "text": [
      "<class 'pandas.core.frame.DataFrame'>\n",
      "Int64Index: 1479 entries, 0 to 1478\n",
      "Data columns (total 10 columns):\n",
      "from_id          1479 non-null int64\n",
      "id               1479 non-null int64\n",
      "text             1479 non-null object\n",
      "date             1479 non-null int64\n",
      "likes            1479 non-null int64\n",
      "reposts          1479 non-null int64\n",
      "comments         1479 non-null int64\n",
      "views            1479 non-null int64\n",
      "total_actions    1479 non-null int64\n",
      "date_norm        1479 non-null object\n",
      "dtypes: int64(8), object(2)\n",
      "memory usage: 127.1+ KB\n"
     ]
    }
   ],
   "source": [
    "df.info()"
   ]
  },
  {
   "cell_type": "code",
   "execution_count": 34,
   "metadata": {},
   "outputs": [],
   "source": [
    "df['date_norm'] = df.date.apply(date_norm)"
   ]
  },
  {
   "cell_type": "code",
   "execution_count": 35,
   "metadata": {},
   "outputs": [
    {
     "data": {
      "text/plain": [
       "str"
      ]
     },
     "execution_count": 35,
     "metadata": {},
     "output_type": "execute_result"
    }
   ],
   "source": [
    "type(df['date_norm'][1][1])"
   ]
  },
  {
   "cell_type": "code",
   "execution_count": 36,
   "metadata": {},
   "outputs": [],
   "source": [
    "def get_date(date):\n",
    "    return date[0]\n",
    "\n",
    "def get_time(date):\n",
    "    return date[1]"
   ]
  },
  {
   "cell_type": "code",
   "execution_count": 37,
   "metadata": {},
   "outputs": [],
   "source": [
    "df['Date'] = df.date_norm.apply(get_date)\n",
    "df['Time'] = df.date_norm.apply(get_time)"
   ]
  },
  {
   "cell_type": "code",
   "execution_count": 38,
   "metadata": {},
   "outputs": [],
   "source": [
    "total_actions = df.sort_values(['total_actions'], ascending=[False])\n",
    "total_actions = df.sort_values(['total_actions'], ascending=[0])"
   ]
  },
  {
   "cell_type": "code",
   "execution_count": 39,
   "metadata": {},
   "outputs": [
    {
     "data": {
      "text/html": [
       "<div>\n",
       "<style scoped>\n",
       "    .dataframe tbody tr th:only-of-type {\n",
       "        vertical-align: middle;\n",
       "    }\n",
       "\n",
       "    .dataframe tbody tr th {\n",
       "        vertical-align: top;\n",
       "    }\n",
       "\n",
       "    .dataframe thead th {\n",
       "        text-align: right;\n",
       "    }\n",
       "</style>\n",
       "<table border=\"1\" class=\"dataframe\">\n",
       "  <thead>\n",
       "    <tr style=\"text-align: right;\">\n",
       "      <th></th>\n",
       "      <th>from_id</th>\n",
       "      <th>id</th>\n",
       "      <th>text</th>\n",
       "      <th>date</th>\n",
       "      <th>likes</th>\n",
       "      <th>reposts</th>\n",
       "      <th>comments</th>\n",
       "      <th>views</th>\n",
       "      <th>total_actions</th>\n",
       "      <th>date_norm</th>\n",
       "      <th>Date</th>\n",
       "      <th>Time</th>\n",
       "    </tr>\n",
       "  </thead>\n",
       "  <tbody>\n",
       "    <tr>\n",
       "      <td>757</td>\n",
       "      <td>-66036248</td>\n",
       "      <td>30716</td>\n",
       "      <td>Если все любимые шаблоны для презентаций в Pow...</td>\n",
       "      <td>1553524221</td>\n",
       "      <td>1545</td>\n",
       "      <td>220</td>\n",
       "      <td>3</td>\n",
       "      <td>80919</td>\n",
       "      <td>1768</td>\n",
       "      <td>(2019-03, 17)</td>\n",
       "      <td>2019-03</td>\n",
       "      <td>17</td>\n",
       "    </tr>\n",
       "    <tr>\n",
       "      <td>354</td>\n",
       "      <td>-66036248</td>\n",
       "      <td>32845</td>\n",
       "      <td>Мы не могли оставить вас без шуток про Квентин...</td>\n",
       "      <td>1565256735</td>\n",
       "      <td>1720</td>\n",
       "      <td>35</td>\n",
       "      <td>8</td>\n",
       "      <td>141026</td>\n",
       "      <td>1763</td>\n",
       "      <td>(2019-08, 12)</td>\n",
       "      <td>2019-08</td>\n",
       "      <td>12</td>\n",
       "    </tr>\n",
       "    <tr>\n",
       "      <td>900</td>\n",
       "      <td>-66036248</td>\n",
       "      <td>30073</td>\n",
       "      <td>Мы не привыкли получать подарки, поэтому дарим...</td>\n",
       "      <td>1549652409</td>\n",
       "      <td>1466</td>\n",
       "      <td>115</td>\n",
       "      <td>8</td>\n",
       "      <td>91719</td>\n",
       "      <td>1589</td>\n",
       "      <td>(2019-02, 22)</td>\n",
       "      <td>2019-02</td>\n",
       "      <td>22</td>\n",
       "    </tr>\n",
       "    <tr>\n",
       "      <td>1039</td>\n",
       "      <td>-66036248</td>\n",
       "      <td>29402</td>\n",
       "      <td>Если на каникулы вы запланировали писать курсо...</td>\n",
       "      <td>1546524013</td>\n",
       "      <td>1226</td>\n",
       "      <td>256</td>\n",
       "      <td>9</td>\n",
       "      <td>48807</td>\n",
       "      <td>1491</td>\n",
       "      <td>(2019-01, 17)</td>\n",
       "      <td>2019-01</td>\n",
       "      <td>17</td>\n",
       "    </tr>\n",
       "    <tr>\n",
       "      <td>126</td>\n",
       "      <td>-66036248</td>\n",
       "      <td>33765</td>\n",
       "      <td>Если вы понимаете слово на иностранном языке, ...</td>\n",
       "      <td>1570953604</td>\n",
       "      <td>1204</td>\n",
       "      <td>253</td>\n",
       "      <td>9</td>\n",
       "      <td>91906</td>\n",
       "      <td>1466</td>\n",
       "      <td>(2019-10, 11)</td>\n",
       "      <td>2019-10</td>\n",
       "      <td>11</td>\n",
       "    </tr>\n",
       "    <tr>\n",
       "      <td>...</td>\n",
       "      <td>...</td>\n",
       "      <td>...</td>\n",
       "      <td>...</td>\n",
       "      <td>...</td>\n",
       "      <td>...</td>\n",
       "      <td>...</td>\n",
       "      <td>...</td>\n",
       "      <td>...</td>\n",
       "      <td>...</td>\n",
       "      <td>...</td>\n",
       "      <td>...</td>\n",
       "      <td>...</td>\n",
       "    </tr>\n",
       "    <tr>\n",
       "      <td>616</td>\n",
       "      <td>-66036248</td>\n",
       "      <td>31480</td>\n",
       "      <td>Новый старый ректор и чем закончилась история ...</td>\n",
       "      <td>1557670630</td>\n",
       "      <td>12</td>\n",
       "      <td>0</td>\n",
       "      <td>0</td>\n",
       "      <td>6500</td>\n",
       "      <td>12</td>\n",
       "      <td>(2019-05, 17)</td>\n",
       "      <td>2019-05</td>\n",
       "      <td>17</td>\n",
       "    </tr>\n",
       "    <tr>\n",
       "      <td>951</td>\n",
       "      <td>-66036248</td>\n",
       "      <td>29851</td>\n",
       "      <td>Рассказываем о событиях уходящего января в тра...</td>\n",
       "      <td>1548515701</td>\n",
       "      <td>12</td>\n",
       "      <td>0</td>\n",
       "      <td>0</td>\n",
       "      <td>6859</td>\n",
       "      <td>12</td>\n",
       "      <td>(2019-01, 18)</td>\n",
       "      <td>2019-01</td>\n",
       "      <td>18</td>\n",
       "    </tr>\n",
       "    <tr>\n",
       "      <td>365</td>\n",
       "      <td>-66036248</td>\n",
       "      <td>32790</td>\n",
       "      <td>Лекция о том, как машины познают мир вместе с ...</td>\n",
       "      <td>1564924505</td>\n",
       "      <td>11</td>\n",
       "      <td>0</td>\n",
       "      <td>0</td>\n",
       "      <td>6638</td>\n",
       "      <td>11</td>\n",
       "      <td>(2019-08, 16)</td>\n",
       "      <td>2019-08</td>\n",
       "      <td>16</td>\n",
       "    </tr>\n",
       "    <tr>\n",
       "      <td>553</td>\n",
       "      <td>-66036248</td>\n",
       "      <td>31901</td>\n",
       "      <td>Закрытие «В точку! Персона» и новый кабинет пс...</td>\n",
       "      <td>1559484006</td>\n",
       "      <td>9</td>\n",
       "      <td>0</td>\n",
       "      <td>1</td>\n",
       "      <td>6483</td>\n",
       "      <td>10</td>\n",
       "      <td>(2019-06, 17)</td>\n",
       "      <td>2019-06</td>\n",
       "      <td>17</td>\n",
       "    </tr>\n",
       "    <tr>\n",
       "      <td>56</td>\n",
       "      <td>-66036248</td>\n",
       "      <td>34436</td>\n",
       "      <td>Избирательная кампания в студсовет и потеря за...</td>\n",
       "      <td>1574686197</td>\n",
       "      <td>8</td>\n",
       "      <td>0</td>\n",
       "      <td>1</td>\n",
       "      <td>3713</td>\n",
       "      <td>9</td>\n",
       "      <td>(2019-11, 15)</td>\n",
       "      <td>2019-11</td>\n",
       "      <td>15</td>\n",
       "    </tr>\n",
       "  </tbody>\n",
       "</table>\n",
       "<p>1479 rows × 12 columns</p>\n",
       "</div>"
      ],
      "text/plain": [
       "       from_id     id                                               text  \\\n",
       "757  -66036248  30716  Если все любимые шаблоны для презентаций в Pow...   \n",
       "354  -66036248  32845  Мы не могли оставить вас без шуток про Квентин...   \n",
       "900  -66036248  30073  Мы не привыкли получать подарки, поэтому дарим...   \n",
       "1039 -66036248  29402  Если на каникулы вы запланировали писать курсо...   \n",
       "126  -66036248  33765  Если вы понимаете слово на иностранном языке, ...   \n",
       "...        ...    ...                                                ...   \n",
       "616  -66036248  31480  Новый старый ректор и чем закончилась история ...   \n",
       "951  -66036248  29851  Рассказываем о событиях уходящего января в тра...   \n",
       "365  -66036248  32790  Лекция о том, как машины познают мир вместе с ...   \n",
       "553  -66036248  31901  Закрытие «В точку! Персона» и новый кабинет пс...   \n",
       "56   -66036248  34436  Избирательная кампания в студсовет и потеря за...   \n",
       "\n",
       "            date  likes  reposts  comments   views  total_actions  \\\n",
       "757   1553524221   1545      220         3   80919           1768   \n",
       "354   1565256735   1720       35         8  141026           1763   \n",
       "900   1549652409   1466      115         8   91719           1589   \n",
       "1039  1546524013   1226      256         9   48807           1491   \n",
       "126   1570953604   1204      253         9   91906           1466   \n",
       "...          ...    ...      ...       ...     ...            ...   \n",
       "616   1557670630     12        0         0    6500             12   \n",
       "951   1548515701     12        0         0    6859             12   \n",
       "365   1564924505     11        0         0    6638             11   \n",
       "553   1559484006      9        0         1    6483             10   \n",
       "56    1574686197      8        0         1    3713              9   \n",
       "\n",
       "          date_norm     Date Time  \n",
       "757   (2019-03, 17)  2019-03   17  \n",
       "354   (2019-08, 12)  2019-08   12  \n",
       "900   (2019-02, 22)  2019-02   22  \n",
       "1039  (2019-01, 17)  2019-01   17  \n",
       "126   (2019-10, 11)  2019-10   11  \n",
       "...             ...      ...  ...  \n",
       "616   (2019-05, 17)  2019-05   17  \n",
       "951   (2019-01, 18)  2019-01   18  \n",
       "365   (2019-08, 16)  2019-08   16  \n",
       "553   (2019-06, 17)  2019-06   17  \n",
       "56    (2019-11, 15)  2019-11   15  \n",
       "\n",
       "[1479 rows x 12 columns]"
      ]
     },
     "execution_count": 39,
     "metadata": {},
     "output_type": "execute_result"
    }
   ],
   "source": [
    "total_actions"
   ]
  },
  {
   "cell_type": "code",
   "execution_count": 40,
   "metadata": {},
   "outputs": [
    {
     "data": {
      "text/html": [
       "<div>\n",
       "<style scoped>\n",
       "    .dataframe tbody tr th:only-of-type {\n",
       "        vertical-align: middle;\n",
       "    }\n",
       "\n",
       "    .dataframe tbody tr th {\n",
       "        vertical-align: top;\n",
       "    }\n",
       "\n",
       "    .dataframe thead th {\n",
       "        text-align: right;\n",
       "    }\n",
       "</style>\n",
       "<table border=\"1\" class=\"dataframe\">\n",
       "  <thead>\n",
       "    <tr style=\"text-align: right;\">\n",
       "      <th></th>\n",
       "      <th>from_id</th>\n",
       "      <th>id</th>\n",
       "      <th>text</th>\n",
       "      <th>date</th>\n",
       "      <th>likes</th>\n",
       "      <th>reposts</th>\n",
       "      <th>comments</th>\n",
       "      <th>views</th>\n",
       "      <th>total_actions</th>\n",
       "      <th>date_norm</th>\n",
       "      <th>Date</th>\n",
       "      <th>Time</th>\n",
       "    </tr>\n",
       "  </thead>\n",
       "  <tbody>\n",
       "    <tr>\n",
       "      <td>0</td>\n",
       "      <td>-66036248</td>\n",
       "      <td>34647</td>\n",
       "      <td>Вчера независимый студенческий журнал DOXA лиш...</td>\n",
       "      <td>1575442108</td>\n",
       "      <td>179</td>\n",
       "      <td>4</td>\n",
       "      <td>4</td>\n",
       "      <td>12152</td>\n",
       "      <td>187</td>\n",
       "      <td>(2019-12, 09)</td>\n",
       "      <td>2019-12</td>\n",
       "      <td>09</td>\n",
       "    </tr>\n",
       "    <tr>\n",
       "      <td>1</td>\n",
       "      <td>-66036248</td>\n",
       "      <td>34727</td>\n",
       "      <td>Многие студенты задумываются о том, что их жде...</td>\n",
       "      <td>1575914407</td>\n",
       "      <td>27</td>\n",
       "      <td>3</td>\n",
       "      <td>0</td>\n",
       "      <td>3271</td>\n",
       "      <td>30</td>\n",
       "      <td>(2019-12, 21)</td>\n",
       "      <td>2019-12</td>\n",
       "      <td>21</td>\n",
       "    </tr>\n",
       "    <tr>\n",
       "      <td>2</td>\n",
       "      <td>-66036248</td>\n",
       "      <td>34724</td>\n",
       "      <td>Знание английского поможет не только в продвиж...</td>\n",
       "      <td>1575903606</td>\n",
       "      <td>25</td>\n",
       "      <td>6</td>\n",
       "      <td>0</td>\n",
       "      <td>1911</td>\n",
       "      <td>31</td>\n",
       "      <td>(2019-12, 18)</td>\n",
       "      <td>2019-12</td>\n",
       "      <td>18</td>\n",
       "    </tr>\n",
       "    <tr>\n",
       "      <td>3</td>\n",
       "      <td>-66036248</td>\n",
       "      <td>34723</td>\n",
       "      <td>Неумение формулировать вопросы ограничивает во...</td>\n",
       "      <td>1575892807</td>\n",
       "      <td>79</td>\n",
       "      <td>13</td>\n",
       "      <td>0</td>\n",
       "      <td>5532</td>\n",
       "      <td>92</td>\n",
       "      <td>(2019-12, 15)</td>\n",
       "      <td>2019-12</td>\n",
       "      <td>15</td>\n",
       "    </tr>\n",
       "    <tr>\n",
       "      <td>4</td>\n",
       "      <td>-66036248</td>\n",
       "      <td>34721</td>\n",
       "      <td>Если ваш литературный багаж ограничивается шко...</td>\n",
       "      <td>1575878407</td>\n",
       "      <td>61</td>\n",
       "      <td>4</td>\n",
       "      <td>0</td>\n",
       "      <td>3984</td>\n",
       "      <td>65</td>\n",
       "      <td>(2019-12, 11)</td>\n",
       "      <td>2019-12</td>\n",
       "      <td>11</td>\n",
       "    </tr>\n",
       "  </tbody>\n",
       "</table>\n",
       "</div>"
      ],
      "text/plain": [
       "    from_id     id                                               text  \\\n",
       "0 -66036248  34647  Вчера независимый студенческий журнал DOXA лиш...   \n",
       "1 -66036248  34727  Многие студенты задумываются о том, что их жде...   \n",
       "2 -66036248  34724  Знание английского поможет не только в продвиж...   \n",
       "3 -66036248  34723  Неумение формулировать вопросы ограничивает во...   \n",
       "4 -66036248  34721  Если ваш литературный багаж ограничивается шко...   \n",
       "\n",
       "         date  likes  reposts  comments  views  total_actions      date_norm  \\\n",
       "0  1575442108    179        4         4  12152            187  (2019-12, 09)   \n",
       "1  1575914407     27        3         0   3271             30  (2019-12, 21)   \n",
       "2  1575903606     25        6         0   1911             31  (2019-12, 18)   \n",
       "3  1575892807     79       13         0   5532             92  (2019-12, 15)   \n",
       "4  1575878407     61        4         0   3984             65  (2019-12, 11)   \n",
       "\n",
       "      Date Time  \n",
       "0  2019-12   09  \n",
       "1  2019-12   21  \n",
       "2  2019-12   18  \n",
       "3  2019-12   15  \n",
       "4  2019-12   11  "
      ]
     },
     "execution_count": 40,
     "metadata": {},
     "output_type": "execute_result"
    }
   ],
   "source": [
    "df.head()"
   ]
  },
  {
   "cell_type": "code",
   "execution_count": 41,
   "metadata": {},
   "outputs": [],
   "source": [
    "import ast"
   ]
  },
  {
   "cell_type": "raw",
   "metadata": {},
   "source": [
    "ast.literal_eval(str(res['items'][6]['attachments']).replace('[','').replace(']',''))['link']['title']"
   ]
  },
  {
   "cell_type": "code",
   "execution_count": 42,
   "metadata": {},
   "outputs": [],
   "source": [
    "# опять выберем только нужные поля\n",
    "full_list_text = []\n",
    "for item in items:\n",
    "    L = [item['text']]\n",
    "    full_list_text.append(L)"
   ]
  },
  {
   "cell_type": "code",
   "execution_count": 43,
   "metadata": {},
   "outputs": [],
   "source": [
    "df1 = pd.DataFrame(full_list_text)"
   ]
  },
  {
   "cell_type": "code",
   "execution_count": 44,
   "metadata": {},
   "outputs": [],
   "source": [
    "pd.set_option('display.max_colwidth', -1)"
   ]
  },
  {
   "cell_type": "code",
   "execution_count": 45,
   "metadata": {},
   "outputs": [
    {
     "data": {
      "text/html": [
       "<div>\n",
       "<style scoped>\n",
       "    .dataframe tbody tr th:only-of-type {\n",
       "        vertical-align: middle;\n",
       "    }\n",
       "\n",
       "    .dataframe tbody tr th {\n",
       "        vertical-align: top;\n",
       "    }\n",
       "\n",
       "    .dataframe thead th {\n",
       "        text-align: right;\n",
       "    }\n",
       "</style>\n",
       "<table border=\"1\" class=\"dataframe\">\n",
       "  <thead>\n",
       "    <tr style=\"text-align: right;\">\n",
       "      <th></th>\n",
       "      <th>0</th>\n",
       "    </tr>\n",
       "  </thead>\n",
       "  <tbody>\n",
       "    <tr>\n",
       "      <td>0</td>\n",
       "      <td>Вчера независимый студенческий журнал DOXA лишился статуса студорганизации. Ситуация возродила публичное обсуждение независимости студенческих медиа. В нашей редакционной колонке рассуждаем о солидарности студмедиа, коммуникации с вузом в конфликтных ситуациях и объясняем, почему #мытожеdoxa</td>\n",
       "    </tr>\n",
       "    <tr>\n",
       "      <td>1</td>\n",
       "      <td>Многие студенты задумываются о том, что их ждет после окончания университета. Вспоминаем наш материал про выпускников экономических факультетов разных вузов — ВШЭ, МГУ и Финансового университета. Ребята рассказали, почему выбрали такую специальность и чем занимаются после выпуска</td>\n",
       "    </tr>\n",
       "    <tr>\n",
       "      <td>2</td>\n",
       "      <td>Знание английского поможет не только в продвижении по карьерной лестнице: вы сможете общаться с иностранцами в путешествиях, смотреть последние обновления на Netflix, читать книги в оригинале и учиться по зарубежным материалам. Собрали для вас четыре теста с BBC Learning English, которые помогут бесплатно усовершенствовать уровень владения языка, не выходя из дома. \\n \\n60 years old today! \\nИногда такие словосочетания в английском языке, которые содержат цифры, как, например, «two-year-old dog», требуют постановки дефиса, а иногда нет. Пятиминутный тест поможет определить, насколько хорошо вы знаете это правило. Если вы не уверены в своих силах, на сайте есть возможность ознакомиться со статьями по грамматике. \\nwww.bbc.co.uk/learningenglish/english/course/intermediate/unit-1/session-1/activity-2 \\n \\n«Just», «already» or «yet»? \\nBBC Learning English предлагает пройти короткий тест из восьми вопросов с вариантами ответа для того, чтобы вы наконец усвоили разницу в употреблении английских наречий. \\nwww.bbc.co.uk/learningenglish/english/course/quizzes/unit-1/session-2 \\n \\nPast perfect tenses: Simple or continuous? \\nС самых ранних лет студентов запугивают двенадцатью временами английского, которые надо знать, чтобы овладеть языком. Короткий тест предлагает испытать себя и выяснить, насколько хорошо вы разбираетесь в прошедшем времени. Если результаты вдруг окажутся не самыми хорошими, вы сможете быстро подтянуть свой уровень, заглянув в прилагающийся раздел грамматики. \\nwww.bbc.co.uk/learningenglish/english/course/quizzes/unit-1/session-7 \\n \\nWho did what when? \\nЭтот тест проверит ваше знание вводных английских слов. Слова-связки, пожалуй, одна из самых нужных тем в английском языке, особенно для тех, кто планирует сдавать экзамены, например, IELTS. Так называемые «linking words» не только придадут эссе более официальный вид, но и помогут набрать нужное количество слов. К тому же, эксперты дают за них много баллов. \\nwww.bbc.co.uk/learningenglish/english/course/intermediate/unit-20/session-1/activity-2 \\n \\nАвтор: Дарья Алиева</td>\n",
       "    </tr>\n",
       "    <tr>\n",
       "      <td>3</td>\n",
       "      <td>Неумение формулировать вопросы ограничивает возможности: вы не всегда можете узнать детали задания у преподавателя или определить проблему проекта. На основе книги Джона Миллера «5 принципов проактивного мышления» рассказываем, как при помощи правильной постановки вопросов стать продуктивнее, почему оправдания мешают справляться с трудностями и как креативность способствует развитию мышления</td>\n",
       "    </tr>\n",
       "    <tr>\n",
       "      <td>4</td>\n",
       "      <td>Если ваш литературный багаж ограничивается школьной программой и русскими классиками, но вы хотите познакомиться и с зарубежными авторами, советуем видео с канала CrashCourse. Делимся выпусками о главных иностранных произведениях</td>\n",
       "    </tr>\n",
       "  </tbody>\n",
       "</table>\n",
       "</div>"
      ],
      "text/plain": [
       "                                                                                                                                                                                                                                                                                                                                                                                                                                                                                                                                                                                                                                                                                                                                                                                                                                                                                                                                                                                                                                                                                                                                                                                                                                                                                                                                                                                                                                                                                                                                                                                                                                                                                                                                                                                                                                                                                                                                                                                                                                                                                                                                                     0\n",
       "0  Вчера независимый студенческий журнал DOXA лишился статуса студорганизации. Ситуация возродила публичное обсуждение независимости студенческих медиа. В нашей редакционной колонке рассуждаем о солидарности студмедиа, коммуникации с вузом в конфликтных ситуациях и объясняем, почему #мытожеdoxa                                                                                                                                                                                                                                                                                                                                                                                                                                                                                                                                                                                                                                                                                                                                                                                                                                                                                                                                                                                                                                                                                                                                                                                                                                                                                                                                                                                                                                                                                                                                                                                                                                                                                                                                                                                                                                               \n",
       "1  Многие студенты задумываются о том, что их ждет после окончания университета. Вспоминаем наш материал про выпускников экономических факультетов разных вузов — ВШЭ, МГУ и Финансового университета. Ребята рассказали, почему выбрали такую специальность и чем занимаются после выпуска                                                                                                                                                                                                                                                                                                                                                                                                                                                                                                                                                                                                                                                                                                                                                                                                                                                                                                                                                                                                                                                                                                                                                                                                                                                                                                                                                                                                                                                                                                                                                                                                                                                                                                                                                                                                                                                           \n",
       "2  Знание английского поможет не только в продвижении по карьерной лестнице: вы сможете общаться с иностранцами в путешествиях, смотреть последние обновления на Netflix, читать книги в оригинале и учиться по зарубежным материалам. Собрали для вас четыре теста с BBC Learning English, которые помогут бесплатно усовершенствовать уровень владения языка, не выходя из дома. \\n \\n60 years old today! \\nИногда такие словосочетания в английском языке, которые содержат цифры, как, например, «two-year-old dog», требуют постановки дефиса, а иногда нет. Пятиминутный тест поможет определить, насколько хорошо вы знаете это правило. Если вы не уверены в своих силах, на сайте есть возможность ознакомиться со статьями по грамматике. \\nwww.bbc.co.uk/learningenglish/english/course/intermediate/unit-1/session-1/activity-2 \\n \\n«Just», «already» or «yet»? \\nBBC Learning English предлагает пройти короткий тест из восьми вопросов с вариантами ответа для того, чтобы вы наконец усвоили разницу в употреблении английских наречий. \\nwww.bbc.co.uk/learningenglish/english/course/quizzes/unit-1/session-2 \\n \\nPast perfect tenses: Simple or continuous? \\nС самых ранних лет студентов запугивают двенадцатью временами английского, которые надо знать, чтобы овладеть языком. Короткий тест предлагает испытать себя и выяснить, насколько хорошо вы разбираетесь в прошедшем времени. Если результаты вдруг окажутся не самыми хорошими, вы сможете быстро подтянуть свой уровень, заглянув в прилагающийся раздел грамматики. \\nwww.bbc.co.uk/learningenglish/english/course/quizzes/unit-1/session-7 \\n \\nWho did what when? \\nЭтот тест проверит ваше знание вводных английских слов. Слова-связки, пожалуй, одна из самых нужных тем в английском языке, особенно для тех, кто планирует сдавать экзамены, например, IELTS. Так называемые «linking words» не только придадут эссе более официальный вид, но и помогут набрать нужное количество слов. К тому же, эксперты дают за них много баллов. \\nwww.bbc.co.uk/learningenglish/english/course/intermediate/unit-20/session-1/activity-2 \\n \\nАвтор: Дарья Алиева\n",
       "3  Неумение формулировать вопросы ограничивает возможности: вы не всегда можете узнать детали задания у преподавателя или определить проблему проекта. На основе книги Джона Миллера «5 принципов проактивного мышления» рассказываем, как при помощи правильной постановки вопросов стать продуктивнее, почему оправдания мешают справляться с трудностями и как креативность способствует развитию мышления                                                                                                                                                                                                                                                                                                                                                                                                                                                                                                                                                                                                                                                                                                                                                                                                                                                                                                                                                                                                                                                                                                                                                                                                                                                                                                                                                                                                                                                                                                                                                                                                                                                                                                                                         \n",
       "4  Если ваш литературный багаж ограничивается школьной программой и русскими классиками, но вы хотите познакомиться и с зарубежными авторами, советуем видео с канала CrashCourse. Делимся выпусками о главных иностранных произведениях                                                                                                                                                                                                                                                                                                                                                                                                                                                                                                                                                                                                                                                                                                                                                                                                                                                                                                                                                                                                                                                                                                                                                                                                                                                                                                                                                                                                                                                                                                                                                                                                                                                                                                                                                                                                                                                                                                              "
      ]
     },
     "execution_count": 45,
     "metadata": {},
     "output_type": "execute_result"
    }
   ],
   "source": [
    "df1.head()"
   ]
  },
  {
   "cell_type": "code",
   "execution_count": 46,
   "metadata": {},
   "outputs": [
    {
     "name": "stderr",
     "output_type": "stream",
     "text": [
      "IOPub data rate exceeded.\n",
      "The notebook server will temporarily stop sending output\n",
      "to the client in order to avoid crashing it.\n",
      "To change this limit, set the config variable\n",
      "`--NotebookApp.iopub_data_rate_limit`.\n",
      "\n",
      "Current values:\n",
      "NotebookApp.iopub_data_rate_limit=1000000.0 (bytes/sec)\n",
      "NotebookApp.rate_limit_window=3.0 (secs)\n",
      "\n"
     ]
    }
   ],
   "source": [
    "from collections import Counter\n",
    "counts = Counter(df1[0])\n",
    "print(counts)"
   ]
  },
  {
   "cell_type": "code",
   "execution_count": 47,
   "metadata": {},
   "outputs": [
    {
     "name": "stderr",
     "output_type": "stream",
     "text": [
      "[nltk_data] Downloading package stopwords to\n",
      "[nltk_data]     C:\\Users\\user\\AppData\\Roaming\\nltk_data...\n",
      "[nltk_data]   Package stopwords is already up-to-date!\n"
     ]
    },
    {
     "data": {
      "text/plain": [
       "True"
      ]
     },
     "execution_count": 47,
     "metadata": {},
     "output_type": "execute_result"
    }
   ],
   "source": [
    "#Делаем облако часто упоминаемых слов\n",
    "import nltk\n",
    "nltk.download('stopwords')"
   ]
  },
  {
   "cell_type": "code",
   "execution_count": 48,
   "metadata": {},
   "outputs": [],
   "source": [
    "from nltk.corpus import stopwords\n",
    "stop_words = stopwords.words('russian')\n",
    "stop_words = set(stop_words)"
   ]
  },
  {
   "cell_type": "code",
   "execution_count": 49,
   "metadata": {},
   "outputs": [],
   "source": [
    "stop_words = list(stop_words)\n",
    "ffff = ['вышки', 'com', 'vk', 'app', 'android', 'id', 'org', 'ru', 'html', 'thevyshka', 'apple', 'new', 'почему', 'найти', 'могут', 'который', 'рассказывает', 'ваша', 'вышка', 'the', 'io', 'вшэ', 'например', 'узнаете', 'которые', 'сайте', 'работы', 'истории', 'news', 'wall', 'узнать', 'google', 'помогут', 'каждый', 'собрали', 'hse', 'книга', 'истории', 'несколько', 'жизни', 'помощью', 'ул', 'других', 'цена', 'авторы', 'курс', 'поэтому', 'сегодня', 'store', 'поможет']\n",
    "for i in ffff:\n",
    "    stop_words.append(i)"
   ]
  },
  {
   "cell_type": "code",
   "execution_count": 50,
   "metadata": {},
   "outputs": [],
   "source": [
    "stop_words = set(stop_words)"
   ]
  },
  {
   "cell_type": "code",
   "execution_count": 51,
   "metadata": {},
   "outputs": [],
   "source": [
    "text = Counter(df1[0].to_string(index=False).replace('\\n','').lower().split()).most_common(1000)"
   ]
  },
  {
   "cell_type": "code",
   "execution_count": 52,
   "metadata": {},
   "outputs": [],
   "source": [
    "import functools \n",
    "import operator  \n",
    "  \n",
    "def convertTuple(tup): \n",
    "    str = functools.reduce(operator.add, (tup)) \n",
    "    return str"
   ]
  },
  {
   "cell_type": "raw",
   "metadata": {},
   "source": [
    "ff = []\n",
    "for i in text:\n",
    "    if i.str.contains('|'.join(stop_words)).value_counts() == False:\n",
    "        ff.append(i)"
   ]
  },
  {
   "cell_type": "raw",
   "metadata": {},
   "source": [
    "most_used_words = ''\n",
    "for i in text:\n",
    "    most_used_words = most_used_words.join(i)\n",
    "    \n",
    "most_used_words"
   ]
  },
  {
   "cell_type": "code",
   "execution_count": 53,
   "metadata": {},
   "outputs": [],
   "source": [
    "most_used_words =''\n",
    "for text in Counter(df1[0].to_string(index=False).replace('\\n','').lower().split()).most_common(1000):\n",
    "    \n",
    "    most_used_words = most_used_words.join([word for word in str(text).split() if word not in (stop_words)])"
   ]
  },
  {
   "cell_type": "code",
   "execution_count": 55,
   "metadata": {},
   "outputs": [],
   "source": [
    "def transform_to_text(list_text):\n",
    "    result_text = ''\n",
    "    word_regexp = re.compile(r'[а-яa-z]+')\n",
    "    hashtag_regexp = re.compile(r'@[а-яa-z]+')\n",
    "    for text in list_text:\n",
    "        text_without_hashtag = hashtag_regexp.sub('', text.lower())\n",
    "        result_text += ' '.join(word_regexp.findall(text_without_hashtag.lower())) + '\\n'\n",
    "    return result_text"
   ]
  },
  {
   "cell_type": "code",
   "execution_count": 56,
   "metadata": {},
   "outputs": [],
   "source": [
    "df1.columns = ['most_used_words']"
   ]
  },
  {
   "cell_type": "code",
   "execution_count": 57,
   "metadata": {},
   "outputs": [],
   "source": [
    "from wordcloud import WordCloud\n",
    "import re\n",
    "import matplotlib.pyplot as plt\n",
    "\n",
    "text = transform_to_text(df1['most_used_words'].tolist())\n",
    "\n",
    "# создание модели WordCloud с разными параметрами, которые также можно менять\n",
    "wordcloud = WordCloud(background_color='white',\n",
    "        stopwords=stop_words,\n",
    "        max_words=100,\n",
    "        max_font_size=50,\n",
    "        random_state=42,\n",
    "        collocations=False)\n",
    "\n",
    "# передадим полученный текст модели WordCloud\n",
    "wordcloud.generate_from_text(text)\n",
    " \n",
    "# изображение\n",
    "fig = plt.figure(figsize=(10,10))\n",
    "plt.imshow(wordcloud)\n",
    "plt.axis('off')\n",
    "\n",
    "# команда, чтобы сохранить картинкой\n",
    "plt.savefig('worlcloud.png', bbox_inches = 'tight')\n",
    "\n",
    "#ПРОГНАТЬ ДВАЖДЫ, ЧТОБЫ ОТКРЫЛОСЬ В ТЕТРАДКЕ\n",
    "#ЕСЛИ ПРОГНАТЬ ОДИН РАЗ, ТО СОХРАНИТСЯ В ПАПКУ С ТЕТРАДКОЙ"
   ]
  },
  {
   "cell_type": "code",
   "execution_count": 58,
   "metadata": {},
   "outputs": [],
   "source": [
    "plt.show()"
   ]
  },
  {
   "cell_type": "code",
   "execution_count": 59,
   "metadata": {},
   "outputs": [],
   "source": [
    "items = res['items']\n",
    "z = 0\n",
    "full_list = []\n",
    "for item in items:\n",
    "    try:\n",
    "    \n",
    "        L = [item['from_id'], item['id'], item['text'], item['date'],\n",
    "            item['likes']['count'], item['reposts']['count'], item['comments']['count'], item['views']['count'], ast.literal_eval(str(res['items'][z]['attachments']).replace('[','').replace(']',''))['link']['title']]\n",
    "        \n",
    "        full_list.append(L)\n",
    "    except:\n",
    "        pass\n",
    "    z +=1"
   ]
  },
  {
   "cell_type": "code",
   "execution_count": 60,
   "metadata": {},
   "outputs": [],
   "source": [
    "df_titles = pd.DataFrame(full_list)"
   ]
  },
  {
   "cell_type": "code",
   "execution_count": 61,
   "metadata": {},
   "outputs": [
    {
     "name": "stdout",
     "output_type": "stream",
     "text": [
      "<class 'pandas.core.frame.DataFrame'>\n",
      "RangeIndex: 827 entries, 0 to 826\n",
      "Data columns (total 9 columns):\n",
      "0    827 non-null int64\n",
      "1    827 non-null int64\n",
      "2    827 non-null object\n",
      "3    827 non-null int64\n",
      "4    827 non-null int64\n",
      "5    827 non-null int64\n",
      "6    827 non-null int64\n",
      "7    827 non-null int64\n",
      "8    827 non-null object\n",
      "dtypes: int64(7), object(2)\n",
      "memory usage: 58.3+ KB\n"
     ]
    }
   ],
   "source": [
    "df_titles.info()"
   ]
  },
  {
   "cell_type": "code",
   "execution_count": 62,
   "metadata": {
    "scrolled": true
   },
   "outputs": [
    {
     "data": {
      "text/html": [
       "<div>\n",
       "<style scoped>\n",
       "    .dataframe tbody tr th:only-of-type {\n",
       "        vertical-align: middle;\n",
       "    }\n",
       "\n",
       "    .dataframe tbody tr th {\n",
       "        vertical-align: top;\n",
       "    }\n",
       "\n",
       "    .dataframe thead th {\n",
       "        text-align: right;\n",
       "    }\n",
       "</style>\n",
       "<table border=\"1\" class=\"dataframe\">\n",
       "  <thead>\n",
       "    <tr style=\"text-align: right;\">\n",
       "      <th></th>\n",
       "      <th>from_id</th>\n",
       "      <th>id</th>\n",
       "      <th>text</th>\n",
       "      <th>date</th>\n",
       "      <th>likes</th>\n",
       "      <th>reposts</th>\n",
       "      <th>comments</th>\n",
       "      <th>views</th>\n",
       "      <th>title</th>\n",
       "    </tr>\n",
       "  </thead>\n",
       "  <tbody>\n",
       "    <tr>\n",
       "      <td>0</td>\n",
       "      <td>-66036248</td>\n",
       "      <td>34647</td>\n",
       "      <td>Вчера независимый студенческий журнал DOXA лишился статуса студорганизации. Ситуация возродила публичное обсуждение независимости студенческих медиа. В нашей редакционной колонке рассуждаем о солидарности студмедиа, коммуникации с вузом в конфликтных ситуациях и объясняем, почему #мытожеdoxa</td>\n",
       "      <td>1575442108</td>\n",
       "      <td>179</td>\n",
       "      <td>4</td>\n",
       "      <td>4</td>\n",
       "      <td>12152</td>\n",
       "      <td>От редакции: солидарность студмедиа</td>\n",
       "    </tr>\n",
       "    <tr>\n",
       "      <td>1</td>\n",
       "      <td>-66036248</td>\n",
       "      <td>34727</td>\n",
       "      <td>Многие студенты задумываются о том, что их ждет после окончания университета. Вспоминаем наш материал про выпускников экономических факультетов разных вузов — ВШЭ, МГУ и Финансового университета. Ребята рассказали, почему выбрали такую специальность и чем занимаются после выпуска</td>\n",
       "      <td>1575914407</td>\n",
       "      <td>27</td>\n",
       "      <td>3</td>\n",
       "      <td>0</td>\n",
       "      <td>3271</td>\n",
       "      <td>Есть ли жизнь после эконома</td>\n",
       "    </tr>\n",
       "    <tr>\n",
       "      <td>2</td>\n",
       "      <td>-66036248</td>\n",
       "      <td>34723</td>\n",
       "      <td>Неумение формулировать вопросы ограничивает возможности: вы не всегда можете узнать детали задания у преподавателя или определить проблему проекта. На основе книги Джона Миллера «5 принципов проактивного мышления» рассказываем, как при помощи правильной постановки вопросов стать продуктивнее, почему оправдания мешают справляться с трудностями и как креативность способствует развитию мышления</td>\n",
       "      <td>1575892807</td>\n",
       "      <td>79</td>\n",
       "      <td>13</td>\n",
       "      <td>0</td>\n",
       "      <td>5532</td>\n",
       "      <td>Учимся задавать вопросы</td>\n",
       "    </tr>\n",
       "  </tbody>\n",
       "</table>\n",
       "</div>"
      ],
      "text/plain": [
       "    from_id     id  \\\n",
       "0 -66036248  34647   \n",
       "1 -66036248  34727   \n",
       "2 -66036248  34723   \n",
       "\n",
       "                                                                                                                                                                                                                                                                                                                                                                                                         text  \\\n",
       "0  Вчера независимый студенческий журнал DOXA лишился статуса студорганизации. Ситуация возродила публичное обсуждение независимости студенческих медиа. В нашей редакционной колонке рассуждаем о солидарности студмедиа, коммуникации с вузом в конфликтных ситуациях и объясняем, почему #мытожеdoxa                                                                                                         \n",
       "1  Многие студенты задумываются о том, что их ждет после окончания университета. Вспоминаем наш материал про выпускников экономических факультетов разных вузов — ВШЭ, МГУ и Финансового университета. Ребята рассказали, почему выбрали такую специальность и чем занимаются после выпуска                                                                                                                     \n",
       "2  Неумение формулировать вопросы ограничивает возможности: вы не всегда можете узнать детали задания у преподавателя или определить проблему проекта. На основе книги Джона Миллера «5 принципов проактивного мышления» рассказываем, как при помощи правильной постановки вопросов стать продуктивнее, почему оправдания мешают справляться с трудностями и как креативность способствует развитию мышления   \n",
       "\n",
       "         date  likes  reposts  comments  views  \\\n",
       "0  1575442108  179    4        4         12152   \n",
       "1  1575914407  27     3        0         3271    \n",
       "2  1575892807  79     13       0         5532    \n",
       "\n",
       "                                  title  \n",
       "0  От редакции: солидарность студмедиа   \n",
       "1  Есть ли жизнь после эконома           \n",
       "2  Учимся задавать вопросы               "
      ]
     },
     "execution_count": 62,
     "metadata": {},
     "output_type": "execute_result"
    }
   ],
   "source": [
    "df_titles.columns = ['from_id', 'id', 'text', 'date', 'likes', 'reposts', 'comments', 'views', 'title']\n",
    "df_titles.head(3)"
   ]
  },
  {
   "cell_type": "code",
   "execution_count": 63,
   "metadata": {},
   "outputs": [],
   "source": [
    "df_titles['dlina'] = df_titles['text'].str.count(' ') + 1"
   ]
  },
  {
   "cell_type": "code",
   "execution_count": 64,
   "metadata": {},
   "outputs": [],
   "source": [
    "col_list = list(df_titles)"
   ]
  },
  {
   "cell_type": "code",
   "execution_count": 65,
   "metadata": {},
   "outputs": [
    {
     "data": {
      "text/plain": [
       "['from_id',\n",
       " 'id',\n",
       " 'text',\n",
       " 'date',\n",
       " 'likes',\n",
       " 'reposts',\n",
       " 'comments',\n",
       " 'views',\n",
       " 'title',\n",
       " 'dlina']"
      ]
     },
     "execution_count": 65,
     "metadata": {},
     "output_type": "execute_result"
    }
   ],
   "source": [
    "col_list"
   ]
  },
  {
   "cell_type": "code",
   "execution_count": 66,
   "metadata": {},
   "outputs": [],
   "source": [
    "col_list.remove('from_id')"
   ]
  },
  {
   "cell_type": "code",
   "execution_count": 67,
   "metadata": {},
   "outputs": [],
   "source": [
    "col_list.remove('id')"
   ]
  },
  {
   "cell_type": "code",
   "execution_count": 68,
   "metadata": {},
   "outputs": [],
   "source": [
    "col_list.remove('date')"
   ]
  },
  {
   "cell_type": "code",
   "execution_count": 69,
   "metadata": {},
   "outputs": [],
   "source": [
    "col_list.remove('text')"
   ]
  },
  {
   "cell_type": "code",
   "execution_count": 70,
   "metadata": {},
   "outputs": [],
   "source": [
    "col_list.remove('views')"
   ]
  },
  {
   "cell_type": "code",
   "execution_count": 71,
   "metadata": {},
   "outputs": [],
   "source": [
    "col_list.remove('title')"
   ]
  },
  {
   "cell_type": "code",
   "execution_count": 72,
   "metadata": {},
   "outputs": [],
   "source": [
    "col_list.remove('dlina')"
   ]
  },
  {
   "cell_type": "code",
   "execution_count": 73,
   "metadata": {},
   "outputs": [
    {
     "data": {
      "text/plain": [
       "['likes', 'reposts', 'comments']"
      ]
     },
     "execution_count": 73,
     "metadata": {},
     "output_type": "execute_result"
    }
   ],
   "source": [
    "col_list"
   ]
  },
  {
   "cell_type": "code",
   "execution_count": 74,
   "metadata": {},
   "outputs": [
    {
     "data": {
      "text/html": [
       "<div>\n",
       "<style scoped>\n",
       "    .dataframe tbody tr th:only-of-type {\n",
       "        vertical-align: middle;\n",
       "    }\n",
       "\n",
       "    .dataframe tbody tr th {\n",
       "        vertical-align: top;\n",
       "    }\n",
       "\n",
       "    .dataframe thead th {\n",
       "        text-align: right;\n",
       "    }\n",
       "</style>\n",
       "<table border=\"1\" class=\"dataframe\">\n",
       "  <thead>\n",
       "    <tr style=\"text-align: right;\">\n",
       "      <th></th>\n",
       "      <th>from_id</th>\n",
       "      <th>id</th>\n",
       "      <th>text</th>\n",
       "      <th>date</th>\n",
       "      <th>likes</th>\n",
       "      <th>reposts</th>\n",
       "      <th>comments</th>\n",
       "      <th>views</th>\n",
       "      <th>title</th>\n",
       "      <th>dlina</th>\n",
       "      <th>total_actions</th>\n",
       "    </tr>\n",
       "  </thead>\n",
       "  <tbody>\n",
       "    <tr>\n",
       "      <td>0</td>\n",
       "      <td>-66036248</td>\n",
       "      <td>34647</td>\n",
       "      <td>Вчера независимый студенческий журнал DOXA лишился статуса студорганизации. Ситуация возродила публичное обсуждение независимости студенческих медиа. В нашей редакционной колонке рассуждаем о солидарности студмедиа, коммуникации с вузом в конфликтных ситуациях и объясняем, почему #мытожеdoxa</td>\n",
       "      <td>1575442108</td>\n",
       "      <td>179</td>\n",
       "      <td>4</td>\n",
       "      <td>4</td>\n",
       "      <td>12152</td>\n",
       "      <td>От редакции: солидарность студмедиа</td>\n",
       "      <td>33</td>\n",
       "      <td>187</td>\n",
       "    </tr>\n",
       "    <tr>\n",
       "      <td>1</td>\n",
       "      <td>-66036248</td>\n",
       "      <td>34727</td>\n",
       "      <td>Многие студенты задумываются о том, что их ждет после окончания университета. Вспоминаем наш материал про выпускников экономических факультетов разных вузов — ВШЭ, МГУ и Финансового университета. Ребята рассказали, почему выбрали такую специальность и чем занимаются после выпуска</td>\n",
       "      <td>1575914407</td>\n",
       "      <td>27</td>\n",
       "      <td>3</td>\n",
       "      <td>0</td>\n",
       "      <td>3271</td>\n",
       "      <td>Есть ли жизнь после эконома</td>\n",
       "      <td>37</td>\n",
       "      <td>30</td>\n",
       "    </tr>\n",
       "    <tr>\n",
       "      <td>2</td>\n",
       "      <td>-66036248</td>\n",
       "      <td>34723</td>\n",
       "      <td>Неумение формулировать вопросы ограничивает возможности: вы не всегда можете узнать детали задания у преподавателя или определить проблему проекта. На основе книги Джона Миллера «5 принципов проактивного мышления» рассказываем, как при помощи правильной постановки вопросов стать продуктивнее, почему оправдания мешают справляться с трудностями и как креативность способствует развитию мышления</td>\n",
       "      <td>1575892807</td>\n",
       "      <td>79</td>\n",
       "      <td>13</td>\n",
       "      <td>0</td>\n",
       "      <td>5532</td>\n",
       "      <td>Учимся задавать вопросы</td>\n",
       "      <td>48</td>\n",
       "      <td>92</td>\n",
       "    </tr>\n",
       "    <tr>\n",
       "      <td>3</td>\n",
       "      <td>-66036248</td>\n",
       "      <td>34716</td>\n",
       "      <td>Киноклубы Вышки еженедельно устраивают бесплатные показы фильмов, на которых можно не только посмотреть, но и обсудить интересные картины. Вспоминаем наше интервью с создателями клубов. Они рассказали, как «потрогать» документалистику с помощью разных медиаприемов и почему не все современные фильмы ужасов способны вызвать у зрителей глубокий страх</td>\n",
       "      <td>1575828780</td>\n",
       "      <td>27</td>\n",
       "      <td>1</td>\n",
       "      <td>0</td>\n",
       "      <td>4474</td>\n",
       "      <td>Посмотреть и обсудить: киноклубы ВШЭ</td>\n",
       "      <td>46</td>\n",
       "      <td>28</td>\n",
       "    </tr>\n",
       "    <tr>\n",
       "      <td>4</td>\n",
       "      <td>-66036248</td>\n",
       "      <td>34712</td>\n",
       "      <td>Не за горами зимняя сессия, но это не значит, что до конца года не стоит думать больше ни о чем, кроме конспектов. На этой неделе вас ждут дискуссии об экологии и современном образовании, а также благотворительная поездка в дом-интернат</td>\n",
       "      <td>1575817961</td>\n",
       "      <td>47</td>\n",
       "      <td>0</td>\n",
       "      <td>3</td>\n",
       "      <td>6560</td>\n",
       "      <td>Студенческий дайджест событий 9- 15 декабря</td>\n",
       "      <td>39</td>\n",
       "      <td>50</td>\n",
       "    </tr>\n",
       "    <tr>\n",
       "      <td>...</td>\n",
       "      <td>...</td>\n",
       "      <td>...</td>\n",
       "      <td>...</td>\n",
       "      <td>...</td>\n",
       "      <td>...</td>\n",
       "      <td>...</td>\n",
       "      <td>...</td>\n",
       "      <td>...</td>\n",
       "      <td>...</td>\n",
       "      <td>...</td>\n",
       "      <td>...</td>\n",
       "    </tr>\n",
       "    <tr>\n",
       "      <td>822</td>\n",
       "      <td>-66036248</td>\n",
       "      <td>24668</td>\n",
       "      <td>Чаще всего на собеседованиях вы услышите стандартные вопросы, к которым довольно просто подготовиться. Рассказываемся, как не облажаться, на основе рекомендаций от HR</td>\n",
       "      <td>1523188809</td>\n",
       "      <td>209</td>\n",
       "      <td>20</td>\n",
       "      <td>0</td>\n",
       "      <td>11633</td>\n",
       "      <td>10 часто задаваемых вопросов на собеседовании</td>\n",
       "      <td>22</td>\n",
       "      <td>229</td>\n",
       "    </tr>\n",
       "    <tr>\n",
       "      <td>823</td>\n",
       "      <td>-66036248</td>\n",
       "      <td>24655</td>\n",
       "      <td>Кто-то скоро перейдет на следующий курс, а кто-то попрощается с университетом. Если взрослая жизнь вне Вышки вас пугает, ловите вдохновение — пообщались с выпускниками, переехавшими после вуза заграницу</td>\n",
       "      <td>1523129437</td>\n",
       "      <td>70</td>\n",
       "      <td>3</td>\n",
       "      <td>0</td>\n",
       "      <td>7529</td>\n",
       "      <td>Получу диплом и перееду за границу</td>\n",
       "      <td>28</td>\n",
       "      <td>73</td>\n",
       "    </tr>\n",
       "    <tr>\n",
       "      <td>824</td>\n",
       "      <td>-66036248</td>\n",
       "      <td>24447</td>\n",
       "      <td>Как и многие другие праздники, Пасха отличается особенными вкусными блюдами. Нашли бюджетные и быстрые рецепты приготовления куличей и пасхи. И про яйца не забыли</td>\n",
       "      <td>1522911611</td>\n",
       "      <td>41</td>\n",
       "      <td>2</td>\n",
       "      <td>0</td>\n",
       "      <td>9363</td>\n",
       "      <td>Готовим угощения на Пасху</td>\n",
       "      <td>24</td>\n",
       "      <td>43</td>\n",
       "    </tr>\n",
       "    <tr>\n",
       "      <td>825</td>\n",
       "      <td>-66036248</td>\n",
       "      <td>24440</td>\n",
       "      <td>Как часто в фильмах мы наблюдаем, как главные герои бросают все и принимают отчаянные решения, меняющие их судьбу. Питерская The Вышка поговорила с тремя студентками, переехавшими в Россию о том, так ли просто в корне изменить свою жизнь</td>\n",
       "      <td>1522870202</td>\n",
       "      <td>81</td>\n",
       "      <td>4</td>\n",
       "      <td>1</td>\n",
       "      <td>8151</td>\n",
       "      <td>Переезд, который изменил всё</td>\n",
       "      <td>38</td>\n",
       "      <td>86</td>\n",
       "    </tr>\n",
       "    <tr>\n",
       "      <td>826</td>\n",
       "      <td>-66036248</td>\n",
       "      <td>24418</td>\n",
       "      <td>Выселение из общежитий, досрочная сдача сессии и невозможность протеста — это мы о Чемпионате мира по футболу в России. Выяснили, с какими проблемами студенты по всей стране могут столкнуться этой весной. \\n\\nВыходим на межвузовскую повестку — материал нашего корреспондента из МГУ</td>\n",
       "      <td>1522783802</td>\n",
       "      <td>74</td>\n",
       "      <td>0</td>\n",
       "      <td>1</td>\n",
       "      <td>7916</td>\n",
       "      <td>Как Чемпионат мира скажется на студентах</td>\n",
       "      <td>41</td>\n",
       "      <td>75</td>\n",
       "    </tr>\n",
       "  </tbody>\n",
       "</table>\n",
       "<p>827 rows × 11 columns</p>\n",
       "</div>"
      ],
      "text/plain": [
       "      from_id     id  \\\n",
       "0   -66036248  34647   \n",
       "1   -66036248  34727   \n",
       "2   -66036248  34723   \n",
       "3   -66036248  34716   \n",
       "4   -66036248  34712   \n",
       "..        ...    ...   \n",
       "822 -66036248  24668   \n",
       "823 -66036248  24655   \n",
       "824 -66036248  24447   \n",
       "825 -66036248  24440   \n",
       "826 -66036248  24418   \n",
       "\n",
       "                                                                                                                                                                                                                                                                                                                                                                                                           text  \\\n",
       "0    Вчера независимый студенческий журнал DOXA лишился статуса студорганизации. Ситуация возродила публичное обсуждение независимости студенческих медиа. В нашей редакционной колонке рассуждаем о солидарности студмедиа, коммуникации с вузом в конфликтных ситуациях и объясняем, почему #мытожеdoxa                                                                                                         \n",
       "1    Многие студенты задумываются о том, что их ждет после окончания университета. Вспоминаем наш материал про выпускников экономических факультетов разных вузов — ВШЭ, МГУ и Финансового университета. Ребята рассказали, почему выбрали такую специальность и чем занимаются после выпуска                                                                                                                     \n",
       "2    Неумение формулировать вопросы ограничивает возможности: вы не всегда можете узнать детали задания у преподавателя или определить проблему проекта. На основе книги Джона Миллера «5 принципов проактивного мышления» рассказываем, как при помощи правильной постановки вопросов стать продуктивнее, почему оправдания мешают справляться с трудностями и как креативность способствует развитию мышления   \n",
       "3    Киноклубы Вышки еженедельно устраивают бесплатные показы фильмов, на которых можно не только посмотреть, но и обсудить интересные картины. Вспоминаем наше интервью с создателями клубов. Они рассказали, как «потрогать» документалистику с помощью разных медиаприемов и почему не все современные фильмы ужасов способны вызвать у зрителей глубокий страх                                                \n",
       "4    Не за горами зимняя сессия, но это не значит, что до конца года не стоит думать больше ни о чем, кроме конспектов. На этой неделе вас ждут дискуссии об экологии и современном образовании, а также благотворительная поездка в дом-интернат                                                                                                                                                                 \n",
       "..                                                                                                                                                                                                                                            ...                                                                                                                                                                 \n",
       "822  Чаще всего на собеседованиях вы услышите стандартные вопросы, к которым довольно просто подготовиться. Рассказываемся, как не облажаться, на основе рекомендаций от HR                                                                                                                                                                                                                                       \n",
       "823  Кто-то скоро перейдет на следующий курс, а кто-то попрощается с университетом. Если взрослая жизнь вне Вышки вас пугает, ловите вдохновение — пообщались с выпускниками, переехавшими после вуза заграницу                                                                                                                                                                                                   \n",
       "824  Как и многие другие праздники, Пасха отличается особенными вкусными блюдами. Нашли бюджетные и быстрые рецепты приготовления куличей и пасхи. И про яйца не забыли                                                                                                                                                                                                                                           \n",
       "825  Как часто в фильмах мы наблюдаем, как главные герои бросают все и принимают отчаянные решения, меняющие их судьбу. Питерская The Вышка поговорила с тремя студентками, переехавшими в Россию о том, так ли просто в корне изменить свою жизнь                                                                                                                                                                \n",
       "826  Выселение из общежитий, досрочная сдача сессии и невозможность протеста — это мы о Чемпионате мира по футболу в России. Выяснили, с какими проблемами студенты по всей стране могут столкнуться этой весной. \\n\\nВыходим на межвузовскую повестку — материал нашего корреспондента из МГУ                                                                                                                    \n",
       "\n",
       "           date  likes  reposts  comments  views  \\\n",
       "0    1575442108  179    4        4         12152   \n",
       "1    1575914407  27     3        0         3271    \n",
       "2    1575892807  79     13       0         5532    \n",
       "3    1575828780  27     1        0         4474    \n",
       "4    1575817961  47     0        3         6560    \n",
       "..          ...  ..    ..       ..          ...    \n",
       "822  1523188809  209    20       0         11633   \n",
       "823  1523129437  70     3        0         7529    \n",
       "824  1522911611  41     2        0         9363    \n",
       "825  1522870202  81     4        1         8151    \n",
       "826  1522783802  74     0        1         7916    \n",
       "\n",
       "                                             title  dlina  total_actions  \n",
       "0    От редакции: солидарность студмедиа            33     187            \n",
       "1    Есть ли жизнь после эконома                    37     30             \n",
       "2    Учимся задавать вопросы                        48     92             \n",
       "3    Посмотреть и обсудить: киноклубы ВШЭ           46     28             \n",
       "4    Студенческий дайджест событий 9- 15 декабря    39     50             \n",
       "..                                           ...    ..     ..             \n",
       "822  10 часто задаваемых вопросов на собеседовании  22     229            \n",
       "823  Получу диплом и перееду за границу             28     73             \n",
       "824  Готовим угощения на Пасху                      24     43             \n",
       "825  Переезд, который изменил всё                   38     86             \n",
       "826  Как Чемпионат мира скажется на студентах       41     75             \n",
       "\n",
       "[827 rows x 11 columns]"
      ]
     },
     "execution_count": 74,
     "metadata": {},
     "output_type": "execute_result"
    }
   ],
   "source": [
    "df_titles['total_actions'] = df_titles[col_list].sum(axis=1)\n",
    "df_titles"
   ]
  },
  {
   "cell_type": "code",
   "execution_count": 75,
   "metadata": {},
   "outputs": [],
   "source": [
    "def date_norm(date):\n",
    "    d = datetime.fromtimestamp(date) # timestamp - UNIX-время в виде строки\n",
    "    str_d = d.strftime(\"%Y-%m %H\") # %Y-%m-%d %H:%M:%S - год-месяц-день, часы:мин:сек\n",
    "    date_norm, time_norm = str_d.split(' ') # разобьем результат на части, отделим дату от времени\n",
    "    return date_norm, time_norm"
   ]
  },
  {
   "cell_type": "code",
   "execution_count": 76,
   "metadata": {},
   "outputs": [],
   "source": [
    "df_titles['date_norm'] = df_titles.date.apply(date_norm)"
   ]
  },
  {
   "cell_type": "code",
   "execution_count": 77,
   "metadata": {},
   "outputs": [
    {
     "data": {
      "text/html": [
       "<div>\n",
       "<style scoped>\n",
       "    .dataframe tbody tr th:only-of-type {\n",
       "        vertical-align: middle;\n",
       "    }\n",
       "\n",
       "    .dataframe tbody tr th {\n",
       "        vertical-align: top;\n",
       "    }\n",
       "\n",
       "    .dataframe thead th {\n",
       "        text-align: right;\n",
       "    }\n",
       "</style>\n",
       "<table border=\"1\" class=\"dataframe\">\n",
       "  <thead>\n",
       "    <tr style=\"text-align: right;\">\n",
       "      <th></th>\n",
       "      <th>from_id</th>\n",
       "      <th>id</th>\n",
       "      <th>text</th>\n",
       "      <th>date</th>\n",
       "      <th>likes</th>\n",
       "      <th>reposts</th>\n",
       "      <th>comments</th>\n",
       "      <th>views</th>\n",
       "      <th>title</th>\n",
       "      <th>dlina</th>\n",
       "      <th>total_actions</th>\n",
       "      <th>date_norm</th>\n",
       "    </tr>\n",
       "  </thead>\n",
       "  <tbody>\n",
       "    <tr>\n",
       "      <td>0</td>\n",
       "      <td>-66036248</td>\n",
       "      <td>34647</td>\n",
       "      <td>Вчера независимый студенческий журнал DOXA лишился статуса студорганизации. Ситуация возродила публичное обсуждение независимости студенческих медиа. В нашей редакционной колонке рассуждаем о солидарности студмедиа, коммуникации с вузом в конфликтных ситуациях и объясняем, почему #мытожеdoxa</td>\n",
       "      <td>1575442108</td>\n",
       "      <td>179</td>\n",
       "      <td>4</td>\n",
       "      <td>4</td>\n",
       "      <td>12152</td>\n",
       "      <td>От редакции: солидарность студмедиа</td>\n",
       "      <td>33</td>\n",
       "      <td>187</td>\n",
       "      <td>(2019-12, 09)</td>\n",
       "    </tr>\n",
       "    <tr>\n",
       "      <td>1</td>\n",
       "      <td>-66036248</td>\n",
       "      <td>34727</td>\n",
       "      <td>Многие студенты задумываются о том, что их ждет после окончания университета. Вспоминаем наш материал про выпускников экономических факультетов разных вузов — ВШЭ, МГУ и Финансового университета. Ребята рассказали, почему выбрали такую специальность и чем занимаются после выпуска</td>\n",
       "      <td>1575914407</td>\n",
       "      <td>27</td>\n",
       "      <td>3</td>\n",
       "      <td>0</td>\n",
       "      <td>3271</td>\n",
       "      <td>Есть ли жизнь после эконома</td>\n",
       "      <td>37</td>\n",
       "      <td>30</td>\n",
       "      <td>(2019-12, 21)</td>\n",
       "    </tr>\n",
       "    <tr>\n",
       "      <td>2</td>\n",
       "      <td>-66036248</td>\n",
       "      <td>34723</td>\n",
       "      <td>Неумение формулировать вопросы ограничивает возможности: вы не всегда можете узнать детали задания у преподавателя или определить проблему проекта. На основе книги Джона Миллера «5 принципов проактивного мышления» рассказываем, как при помощи правильной постановки вопросов стать продуктивнее, почему оправдания мешают справляться с трудностями и как креативность способствует развитию мышления</td>\n",
       "      <td>1575892807</td>\n",
       "      <td>79</td>\n",
       "      <td>13</td>\n",
       "      <td>0</td>\n",
       "      <td>5532</td>\n",
       "      <td>Учимся задавать вопросы</td>\n",
       "      <td>48</td>\n",
       "      <td>92</td>\n",
       "      <td>(2019-12, 15)</td>\n",
       "    </tr>\n",
       "    <tr>\n",
       "      <td>3</td>\n",
       "      <td>-66036248</td>\n",
       "      <td>34716</td>\n",
       "      <td>Киноклубы Вышки еженедельно устраивают бесплатные показы фильмов, на которых можно не только посмотреть, но и обсудить интересные картины. Вспоминаем наше интервью с создателями клубов. Они рассказали, как «потрогать» документалистику с помощью разных медиаприемов и почему не все современные фильмы ужасов способны вызвать у зрителей глубокий страх</td>\n",
       "      <td>1575828780</td>\n",
       "      <td>27</td>\n",
       "      <td>1</td>\n",
       "      <td>0</td>\n",
       "      <td>4474</td>\n",
       "      <td>Посмотреть и обсудить: киноклубы ВШЭ</td>\n",
       "      <td>46</td>\n",
       "      <td>28</td>\n",
       "      <td>(2019-12, 21)</td>\n",
       "    </tr>\n",
       "    <tr>\n",
       "      <td>4</td>\n",
       "      <td>-66036248</td>\n",
       "      <td>34712</td>\n",
       "      <td>Не за горами зимняя сессия, но это не значит, что до конца года не стоит думать больше ни о чем, кроме конспектов. На этой неделе вас ждут дискуссии об экологии и современном образовании, а также благотворительная поездка в дом-интернат</td>\n",
       "      <td>1575817961</td>\n",
       "      <td>47</td>\n",
       "      <td>0</td>\n",
       "      <td>3</td>\n",
       "      <td>6560</td>\n",
       "      <td>Студенческий дайджест событий 9- 15 декабря</td>\n",
       "      <td>39</td>\n",
       "      <td>50</td>\n",
       "      <td>(2019-12, 18)</td>\n",
       "    </tr>\n",
       "  </tbody>\n",
       "</table>\n",
       "</div>"
      ],
      "text/plain": [
       "    from_id     id  \\\n",
       "0 -66036248  34647   \n",
       "1 -66036248  34727   \n",
       "2 -66036248  34723   \n",
       "3 -66036248  34716   \n",
       "4 -66036248  34712   \n",
       "\n",
       "                                                                                                                                                                                                                                                                                                                                                                                                         text  \\\n",
       "0  Вчера независимый студенческий журнал DOXA лишился статуса студорганизации. Ситуация возродила публичное обсуждение независимости студенческих медиа. В нашей редакционной колонке рассуждаем о солидарности студмедиа, коммуникации с вузом в конфликтных ситуациях и объясняем, почему #мытожеdoxa                                                                                                         \n",
       "1  Многие студенты задумываются о том, что их ждет после окончания университета. Вспоминаем наш материал про выпускников экономических факультетов разных вузов — ВШЭ, МГУ и Финансового университета. Ребята рассказали, почему выбрали такую специальность и чем занимаются после выпуска                                                                                                                     \n",
       "2  Неумение формулировать вопросы ограничивает возможности: вы не всегда можете узнать детали задания у преподавателя или определить проблему проекта. На основе книги Джона Миллера «5 принципов проактивного мышления» рассказываем, как при помощи правильной постановки вопросов стать продуктивнее, почему оправдания мешают справляться с трудностями и как креативность способствует развитию мышления   \n",
       "3  Киноклубы Вышки еженедельно устраивают бесплатные показы фильмов, на которых можно не только посмотреть, но и обсудить интересные картины. Вспоминаем наше интервью с создателями клубов. Они рассказали, как «потрогать» документалистику с помощью разных медиаприемов и почему не все современные фильмы ужасов способны вызвать у зрителей глубокий страх                                                \n",
       "4  Не за горами зимняя сессия, но это не значит, что до конца года не стоит думать больше ни о чем, кроме конспектов. На этой неделе вас ждут дискуссии об экологии и современном образовании, а также благотворительная поездка в дом-интернат                                                                                                                                                                 \n",
       "\n",
       "         date  likes  reposts  comments  views  \\\n",
       "0  1575442108  179    4        4         12152   \n",
       "1  1575914407  27     3        0         3271    \n",
       "2  1575892807  79     13       0         5532    \n",
       "3  1575828780  27     1        0         4474    \n",
       "4  1575817961  47     0        3         6560    \n",
       "\n",
       "                                         title  dlina  total_actions  \\\n",
       "0  От редакции: солидарность студмедиа          33     187             \n",
       "1  Есть ли жизнь после эконома                  37     30              \n",
       "2  Учимся задавать вопросы                      48     92              \n",
       "3  Посмотреть и обсудить: киноклубы ВШЭ         46     28              \n",
       "4  Студенческий дайджест событий 9- 15 декабря  39     50              \n",
       "\n",
       "       date_norm  \n",
       "0  (2019-12, 09)  \n",
       "1  (2019-12, 21)  \n",
       "2  (2019-12, 15)  \n",
       "3  (2019-12, 21)  \n",
       "4  (2019-12, 18)  "
      ]
     },
     "execution_count": 77,
     "metadata": {},
     "output_type": "execute_result"
    }
   ],
   "source": [
    "df_titles.head()"
   ]
  },
  {
   "cell_type": "code",
   "execution_count": 78,
   "metadata": {},
   "outputs": [],
   "source": [
    "df_titles['Date'] = df_titles.date_norm.apply(get_date)\n",
    "df_titles['Time'] = df_titles.date_norm.apply(get_time)"
   ]
  },
  {
   "cell_type": "code",
   "execution_count": 79,
   "metadata": {},
   "outputs": [
    {
     "data": {
      "text/html": [
       "<div>\n",
       "<style scoped>\n",
       "    .dataframe tbody tr th:only-of-type {\n",
       "        vertical-align: middle;\n",
       "    }\n",
       "\n",
       "    .dataframe tbody tr th {\n",
       "        vertical-align: top;\n",
       "    }\n",
       "\n",
       "    .dataframe thead th {\n",
       "        text-align: right;\n",
       "    }\n",
       "</style>\n",
       "<table border=\"1\" class=\"dataframe\">\n",
       "  <thead>\n",
       "    <tr style=\"text-align: right;\">\n",
       "      <th></th>\n",
       "      <th>from_id</th>\n",
       "      <th>id</th>\n",
       "      <th>text</th>\n",
       "      <th>date</th>\n",
       "      <th>likes</th>\n",
       "      <th>reposts</th>\n",
       "      <th>comments</th>\n",
       "      <th>views</th>\n",
       "      <th>title</th>\n",
       "      <th>dlina</th>\n",
       "      <th>total_actions</th>\n",
       "      <th>date_norm</th>\n",
       "      <th>Date</th>\n",
       "      <th>Time</th>\n",
       "    </tr>\n",
       "  </thead>\n",
       "  <tbody>\n",
       "    <tr>\n",
       "      <td>0</td>\n",
       "      <td>-66036248</td>\n",
       "      <td>34647</td>\n",
       "      <td>Вчера независимый студенческий журнал DOXA лишился статуса студорганизации. Ситуация возродила публичное обсуждение независимости студенческих медиа. В нашей редакционной колонке рассуждаем о солидарности студмедиа, коммуникации с вузом в конфликтных ситуациях и объясняем, почему #мытожеdoxa</td>\n",
       "      <td>1575442108</td>\n",
       "      <td>179</td>\n",
       "      <td>4</td>\n",
       "      <td>4</td>\n",
       "      <td>12152</td>\n",
       "      <td>От редакции: солидарность студмедиа</td>\n",
       "      <td>33</td>\n",
       "      <td>187</td>\n",
       "      <td>(2019-12, 09)</td>\n",
       "      <td>2019-12</td>\n",
       "      <td>09</td>\n",
       "    </tr>\n",
       "  </tbody>\n",
       "</table>\n",
       "</div>"
      ],
      "text/plain": [
       "    from_id     id  \\\n",
       "0 -66036248  34647   \n",
       "\n",
       "                                                                                                                                                                                                                                                                                                   text  \\\n",
       "0  Вчера независимый студенческий журнал DOXA лишился статуса студорганизации. Ситуация возродила публичное обсуждение независимости студенческих медиа. В нашей редакционной колонке рассуждаем о солидарности студмедиа, коммуникации с вузом в конфликтных ситуациях и объясняем, почему #мытожеdoxa   \n",
       "\n",
       "         date  likes  reposts  comments  views  \\\n",
       "0  1575442108  179    4        4         12152   \n",
       "\n",
       "                                  title  dlina  total_actions      date_norm  \\\n",
       "0  От редакции: солидарность студмедиа   33     187            (2019-12, 09)   \n",
       "\n",
       "      Date Time  \n",
       "0  2019-12  09   "
      ]
     },
     "execution_count": 79,
     "metadata": {},
     "output_type": "execute_result"
    }
   ],
   "source": [
    "df_titles.head(1)"
   ]
  },
  {
   "cell_type": "code",
   "execution_count": 80,
   "metadata": {},
   "outputs": [],
   "source": [
    "del df_titles['id']"
   ]
  },
  {
   "cell_type": "code",
   "execution_count": 81,
   "metadata": {
    "scrolled": true
   },
   "outputs": [],
   "source": [
    "del df_titles['from_id']"
   ]
  },
  {
   "cell_type": "code",
   "execution_count": 82,
   "metadata": {},
   "outputs": [],
   "source": [
    "del df_titles['date']"
   ]
  },
  {
   "cell_type": "code",
   "execution_count": 83,
   "metadata": {},
   "outputs": [],
   "source": [
    "del df_titles['date_norm']"
   ]
  },
  {
   "cell_type": "code",
   "execution_count": 84,
   "metadata": {},
   "outputs": [
    {
     "data": {
      "text/html": [
       "<div>\n",
       "<style scoped>\n",
       "    .dataframe tbody tr th:only-of-type {\n",
       "        vertical-align: middle;\n",
       "    }\n",
       "\n",
       "    .dataframe tbody tr th {\n",
       "        vertical-align: top;\n",
       "    }\n",
       "\n",
       "    .dataframe thead th {\n",
       "        text-align: right;\n",
       "    }\n",
       "</style>\n",
       "<table border=\"1\" class=\"dataframe\">\n",
       "  <thead>\n",
       "    <tr style=\"text-align: right;\">\n",
       "      <th></th>\n",
       "      <th>text</th>\n",
       "      <th>likes</th>\n",
       "      <th>reposts</th>\n",
       "      <th>comments</th>\n",
       "      <th>views</th>\n",
       "      <th>title</th>\n",
       "      <th>dlina</th>\n",
       "      <th>total_actions</th>\n",
       "      <th>Date</th>\n",
       "      <th>Time</th>\n",
       "    </tr>\n",
       "  </thead>\n",
       "  <tbody>\n",
       "    <tr>\n",
       "      <td>0</td>\n",
       "      <td>Вчера независимый студенческий журнал DOXA лишился статуса студорганизации. Ситуация возродила публичное обсуждение независимости студенческих медиа. В нашей редакционной колонке рассуждаем о солидарности студмедиа, коммуникации с вузом в конфликтных ситуациях и объясняем, почему #мытожеdoxa</td>\n",
       "      <td>179</td>\n",
       "      <td>4</td>\n",
       "      <td>4</td>\n",
       "      <td>12152</td>\n",
       "      <td>От редакции: солидарность студмедиа</td>\n",
       "      <td>33</td>\n",
       "      <td>187</td>\n",
       "      <td>2019-12</td>\n",
       "      <td>09</td>\n",
       "    </tr>\n",
       "    <tr>\n",
       "      <td>1</td>\n",
       "      <td>Многие студенты задумываются о том, что их ждет после окончания университета. Вспоминаем наш материал про выпускников экономических факультетов разных вузов — ВШЭ, МГУ и Финансового университета. Ребята рассказали, почему выбрали такую специальность и чем занимаются после выпуска</td>\n",
       "      <td>27</td>\n",
       "      <td>3</td>\n",
       "      <td>0</td>\n",
       "      <td>3271</td>\n",
       "      <td>Есть ли жизнь после эконома</td>\n",
       "      <td>37</td>\n",
       "      <td>30</td>\n",
       "      <td>2019-12</td>\n",
       "      <td>21</td>\n",
       "    </tr>\n",
       "  </tbody>\n",
       "</table>\n",
       "</div>"
      ],
      "text/plain": [
       "                                                                                                                                                                                                                                                                                                   text  \\\n",
       "0  Вчера независимый студенческий журнал DOXA лишился статуса студорганизации. Ситуация возродила публичное обсуждение независимости студенческих медиа. В нашей редакционной колонке рассуждаем о солидарности студмедиа, коммуникации с вузом в конфликтных ситуациях и объясняем, почему #мытожеdoxa   \n",
       "1  Многие студенты задумываются о том, что их ждет после окончания университета. Вспоминаем наш материал про выпускников экономических факультетов разных вузов — ВШЭ, МГУ и Финансового университета. Ребята рассказали, почему выбрали такую специальность и чем занимаются после выпуска               \n",
       "\n",
       "   likes  reposts  comments  views                                 title  \\\n",
       "0  179    4        4         12152  От редакции: солидарность студмедиа    \n",
       "1  27     3        0         3271   Есть ли жизнь после эконома            \n",
       "\n",
       "   dlina  total_actions     Date Time  \n",
       "0  33     187            2019-12  09   \n",
       "1  37     30             2019-12  21   "
      ]
     },
     "execution_count": 84,
     "metadata": {},
     "output_type": "execute_result"
    }
   ],
   "source": [
    "df_titles.head(2)"
   ]
  },
  {
   "cell_type": "code",
   "execution_count": 85,
   "metadata": {},
   "outputs": [],
   "source": [
    "df_titles = df_titles[['title', 'text', 'likes', 'reposts', 'comments', 'total_actions', 'views', 'Date', 'Time']]\n"
   ]
  },
  {
   "cell_type": "code",
   "execution_count": 86,
   "metadata": {},
   "outputs": [
    {
     "data": {
      "text/html": [
       "<div>\n",
       "<style scoped>\n",
       "    .dataframe tbody tr th:only-of-type {\n",
       "        vertical-align: middle;\n",
       "    }\n",
       "\n",
       "    .dataframe tbody tr th {\n",
       "        vertical-align: top;\n",
       "    }\n",
       "\n",
       "    .dataframe thead th {\n",
       "        text-align: right;\n",
       "    }\n",
       "</style>\n",
       "<table border=\"1\" class=\"dataframe\">\n",
       "  <thead>\n",
       "    <tr style=\"text-align: right;\">\n",
       "      <th></th>\n",
       "      <th>title</th>\n",
       "      <th>text</th>\n",
       "      <th>likes</th>\n",
       "      <th>reposts</th>\n",
       "      <th>comments</th>\n",
       "      <th>total_actions</th>\n",
       "      <th>views</th>\n",
       "      <th>Date</th>\n",
       "      <th>Time</th>\n",
       "    </tr>\n",
       "  </thead>\n",
       "  <tbody>\n",
       "    <tr>\n",
       "      <td>0</td>\n",
       "      <td>От редакции: солидарность студмедиа</td>\n",
       "      <td>Вчера независимый студенческий журнал DOXA лишился статуса студорганизации. Ситуация возродила публичное обсуждение независимости студенческих медиа. В нашей редакционной колонке рассуждаем о солидарности студмедиа, коммуникации с вузом в конфликтных ситуациях и объясняем, почему #мытожеdoxa</td>\n",
       "      <td>179</td>\n",
       "      <td>4</td>\n",
       "      <td>4</td>\n",
       "      <td>187</td>\n",
       "      <td>12152</td>\n",
       "      <td>2019-12</td>\n",
       "      <td>09</td>\n",
       "    </tr>\n",
       "    <tr>\n",
       "      <td>1</td>\n",
       "      <td>Есть ли жизнь после эконома</td>\n",
       "      <td>Многие студенты задумываются о том, что их ждет после окончания университета. Вспоминаем наш материал про выпускников экономических факультетов разных вузов — ВШЭ, МГУ и Финансового университета. Ребята рассказали, почему выбрали такую специальность и чем занимаются после выпуска</td>\n",
       "      <td>27</td>\n",
       "      <td>3</td>\n",
       "      <td>0</td>\n",
       "      <td>30</td>\n",
       "      <td>3271</td>\n",
       "      <td>2019-12</td>\n",
       "      <td>21</td>\n",
       "    </tr>\n",
       "    <tr>\n",
       "      <td>2</td>\n",
       "      <td>Учимся задавать вопросы</td>\n",
       "      <td>Неумение формулировать вопросы ограничивает возможности: вы не всегда можете узнать детали задания у преподавателя или определить проблему проекта. На основе книги Джона Миллера «5 принципов проактивного мышления» рассказываем, как при помощи правильной постановки вопросов стать продуктивнее, почему оправдания мешают справляться с трудностями и как креативность способствует развитию мышления</td>\n",
       "      <td>79</td>\n",
       "      <td>13</td>\n",
       "      <td>0</td>\n",
       "      <td>92</td>\n",
       "      <td>5532</td>\n",
       "      <td>2019-12</td>\n",
       "      <td>15</td>\n",
       "    </tr>\n",
       "    <tr>\n",
       "      <td>3</td>\n",
       "      <td>Посмотреть и обсудить: киноклубы ВШЭ</td>\n",
       "      <td>Киноклубы Вышки еженедельно устраивают бесплатные показы фильмов, на которых можно не только посмотреть, но и обсудить интересные картины. Вспоминаем наше интервью с создателями клубов. Они рассказали, как «потрогать» документалистику с помощью разных медиаприемов и почему не все современные фильмы ужасов способны вызвать у зрителей глубокий страх</td>\n",
       "      <td>27</td>\n",
       "      <td>1</td>\n",
       "      <td>0</td>\n",
       "      <td>28</td>\n",
       "      <td>4474</td>\n",
       "      <td>2019-12</td>\n",
       "      <td>21</td>\n",
       "    </tr>\n",
       "    <tr>\n",
       "      <td>4</td>\n",
       "      <td>Студенческий дайджест событий 9- 15 декабря</td>\n",
       "      <td>Не за горами зимняя сессия, но это не значит, что до конца года не стоит думать больше ни о чем, кроме конспектов. На этой неделе вас ждут дискуссии об экологии и современном образовании, а также благотворительная поездка в дом-интернат</td>\n",
       "      <td>47</td>\n",
       "      <td>0</td>\n",
       "      <td>3</td>\n",
       "      <td>50</td>\n",
       "      <td>6560</td>\n",
       "      <td>2019-12</td>\n",
       "      <td>18</td>\n",
       "    </tr>\n",
       "  </tbody>\n",
       "</table>\n",
       "</div>"
      ],
      "text/plain": [
       "                                         title  \\\n",
       "0  От редакции: солидарность студмедиа           \n",
       "1  Есть ли жизнь после эконома                   \n",
       "2  Учимся задавать вопросы                       \n",
       "3  Посмотреть и обсудить: киноклубы ВШЭ          \n",
       "4  Студенческий дайджест событий 9- 15 декабря   \n",
       "\n",
       "                                                                                                                                                                                                                                                                                                                                                                                                         text  \\\n",
       "0  Вчера независимый студенческий журнал DOXA лишился статуса студорганизации. Ситуация возродила публичное обсуждение независимости студенческих медиа. В нашей редакционной колонке рассуждаем о солидарности студмедиа, коммуникации с вузом в конфликтных ситуациях и объясняем, почему #мытожеdoxa                                                                                                         \n",
       "1  Многие студенты задумываются о том, что их ждет после окончания университета. Вспоминаем наш материал про выпускников экономических факультетов разных вузов — ВШЭ, МГУ и Финансового университета. Ребята рассказали, почему выбрали такую специальность и чем занимаются после выпуска                                                                                                                     \n",
       "2  Неумение формулировать вопросы ограничивает возможности: вы не всегда можете узнать детали задания у преподавателя или определить проблему проекта. На основе книги Джона Миллера «5 принципов проактивного мышления» рассказываем, как при помощи правильной постановки вопросов стать продуктивнее, почему оправдания мешают справляться с трудностями и как креативность способствует развитию мышления   \n",
       "3  Киноклубы Вышки еженедельно устраивают бесплатные показы фильмов, на которых можно не только посмотреть, но и обсудить интересные картины. Вспоминаем наше интервью с создателями клубов. Они рассказали, как «потрогать» документалистику с помощью разных медиаприемов и почему не все современные фильмы ужасов способны вызвать у зрителей глубокий страх                                                \n",
       "4  Не за горами зимняя сессия, но это не значит, что до конца года не стоит думать больше ни о чем, кроме конспектов. На этой неделе вас ждут дискуссии об экологии и современном образовании, а также благотворительная поездка в дом-интернат                                                                                                                                                                 \n",
       "\n",
       "   likes  reposts  comments  total_actions  views     Date Time  \n",
       "0  179    4        4         187            12152  2019-12  09   \n",
       "1  27     3        0         30             3271   2019-12  21   \n",
       "2  79     13       0         92             5532   2019-12  15   \n",
       "3  27     1        0         28             4474   2019-12  21   \n",
       "4  47     0        3         50             6560   2019-12  18   "
      ]
     },
     "execution_count": 86,
     "metadata": {},
     "output_type": "execute_result"
    }
   ],
   "source": [
    "df_titles.head()"
   ]
  },
  {
   "cell_type": "raw",
   "metadata": {},
   "source": [
    "df_titles['date_norm'] =df_titles.date.apply(date_norm)"
   ]
  },
  {
   "cell_type": "raw",
   "metadata": {
    "scrolled": true
   },
   "source": [
    "df_titles.head()"
   ]
  },
  {
   "cell_type": "markdown",
   "metadata": {},
   "source": [
    "# Анализ топ-тем по фидбек и просмотрам"
   ]
  },
  {
   "cell_type": "code",
   "execution_count": 87,
   "metadata": {
    "scrolled": false
   },
   "outputs": [],
   "source": [
    "most_total_actions = df.sort_values(['total_actions'], ascending=[False])\n",
    "most_total_actions = df.sort_values(['total_actions'], ascending=[0])"
   ]
  },
  {
   "cell_type": "raw",
   "metadata": {},
   "source": [
    "most_total_actions"
   ]
  },
  {
   "cell_type": "markdown",
   "metadata": {},
   "source": [
    "# Топ-10 тем по фидбеку:\n",
    "1. Мы не могли оставить вас без шуток про Квентина Тарантино в Москв\n",
    "2. Делимся ресурсами, где можно бесплатно скачать шаблоны, которые помогут сделать ваше выступление ярким и запоминающимся\n",
    "3. Мы не привыкли получать подарки, поэтому дарим их любимым читателям в честь нашего [club177784090|грандиозного юбилея]. Будет 16 победителей! \\n\\n✨ Мы разыгрываем\n",
    "4. книги о том, как писать научные тексты\n",
    "5. Делимся книгами, из которых вы узнаете, какие ошибки в переводе самые популярные, как переводится художественная литература, и особенно поэзия, и что делать, если вы не можете перевести текст дословно\n",
    "6. Собрали для вас книги, которые помогут овладеть искусством нетворкинга и обзавестись широким кругом знакомых\n",
    "7. The Vyshka вскрыли свои архивы со скриншотами любимых сериалов 2000-х и сделали мемы, которые идеально описывают будни абитуриента\n",
    "8. Собрали 5 сайтов для тех, у кого не хватает красивых изображений для оформления\n",
    "9. В Вышке стоит уделять внимание английскому: в конце второго курса — IELTS, а потом — лекции и семинары на нем. Предлагаем несколько ресурсов, которые пополнят ваш словарный запас и помогут увереннее чувствовать себя на парах\n",
    "10. В каком порядке должны стоять слова в предложении и как избавиться от штампов — нашли для вас несколько книг о копирайтинге и рекламных текстах"
   ]
  },
  {
   "cell_type": "code",
   "execution_count": 88,
   "metadata": {
    "scrolled": false
   },
   "outputs": [
    {
     "data": {
      "text/html": [
       "<div>\n",
       "<style scoped>\n",
       "    .dataframe tbody tr th:only-of-type {\n",
       "        vertical-align: middle;\n",
       "    }\n",
       "\n",
       "    .dataframe tbody tr th {\n",
       "        vertical-align: top;\n",
       "    }\n",
       "\n",
       "    .dataframe thead th {\n",
       "        text-align: right;\n",
       "    }\n",
       "</style>\n",
       "<table border=\"1\" class=\"dataframe\">\n",
       "  <thead>\n",
       "    <tr style=\"text-align: right;\">\n",
       "      <th></th>\n",
       "      <th>from_id</th>\n",
       "      <th>id</th>\n",
       "      <th>text</th>\n",
       "      <th>date</th>\n",
       "      <th>likes</th>\n",
       "      <th>reposts</th>\n",
       "      <th>comments</th>\n",
       "      <th>views</th>\n",
       "      <th>total_actions</th>\n",
       "      <th>date_norm</th>\n",
       "      <th>Date</th>\n",
       "      <th>Time</th>\n",
       "    </tr>\n",
       "  </thead>\n",
       "  <tbody>\n",
       "    <tr>\n",
       "      <td>296</td>\n",
       "      <td>-66036248</td>\n",
       "      <td>33088</td>\n",
       "      <td>Пока все вокруг с ужасом вспоминают, что на учебу уже через неделю, наши редакторы ходят на лекции и пишут конспекты \\n \\nВторой год подряд The Vyshka проводит медиашколу для членов редакции, куда приходят читать лекции спикеры из медиа. В этот раз мы слушали лекцию о работе с текстом от создателя самиздата «Батенька, да вы трансформер» и медиаартели «Мамихлапинатана» Егора Мостовщикова. \\n \\nДелимся с вами записью выступления. Из него вы узнаете, как от первого драфта текста и желания умереть перейти к полноценному материалу и как историю Колобка рассказали бы Нолан и Кубрик</td>\n",
       "      <td>1566910813</td>\n",
       "      <td>143</td>\n",
       "      <td>13</td>\n",
       "      <td>5</td>\n",
       "      <td>187150</td>\n",
       "      <td>161</td>\n",
       "      <td>(2019-08, 16)</td>\n",
       "      <td>2019-08</td>\n",
       "      <td>16</td>\n",
       "    </tr>\n",
       "    <tr>\n",
       "      <td>354</td>\n",
       "      <td>-66036248</td>\n",
       "      <td>32845</td>\n",
       "      <td>Мы не могли оставить вас без шуток про Квентина Тарантино в Москве: представили, какой была бы реакция режиссера на студенческие будни, если бы он решил остаться в России и поступил в университет</td>\n",
       "      <td>1565256735</td>\n",
       "      <td>1720</td>\n",
       "      <td>35</td>\n",
       "      <td>8</td>\n",
       "      <td>141026</td>\n",
       "      <td>1763</td>\n",
       "      <td>(2019-08, 12)</td>\n",
       "      <td>2019-08</td>\n",
       "      <td>12</td>\n",
       "    </tr>\n",
       "    <tr>\n",
       "      <td>1165</td>\n",
       "      <td>-66036248</td>\n",
       "      <td>28732</td>\n",
       "      <td>Многие фанаты фэнтези и научной фантастики сталкивались с незнакомыми языками различных фикциональных рас и народов. Вокруг таких вымышленных языков, или артлангов, существует культура, о которой можно узнать из следующих статай\\n \\n«Language and Myth in the Fantasy Writings of J. R. R. Tolkien», William Provost \\nСтатья фокусируется на известных вымышленных языках — эльфийском языке и Черном наречии. Исследуется не только процесс их создания, но и то, как эти языки вписываются в общий миф «Властелина колец» и как помогают создать образы героев, которые на них говорят. \\n \\n«Adapting Shakespeare for \"Star Trek\" and \"Star Trek\" for Shakespeare: \"The Klingon Hamlet\" and the Spaces of Translation», Karolina Kazimierczak \\nВ статье сталкиваются два, казалось бы, несоприкасающихся мира — Шекспир и «Звездный путь». Однако на необычном примере перевода двух пьес Шекспира на клингонский язык автор рассуждает о более широком значении и искусстве перевода. \\n \\n «The digital fandom of Na'vi speakers», Christine Schreyer \\nАвтор исследует скорее не язык На’ви, разработанный для фильма «Аватар», а людей, которые научились говорить на нем. Множество фанатов по всему миру были опрошены для того, чтобы понять, как и с какой целью они изучают этот язык. \\n \\n«Tolkien’s The Lord of the Rings and His Concept of Native Language: Sindarin and British-Welsh», Yoko Hemmi \\nЗдесь анализируются лингвистические вдохновения Толкина при создании языков в своих романах, а именно кельтская группа языков и различные диалекты английского языка. В статье также кратко рассказывают об истории каждого книжного языка. \\n \\n«Klingon as Linguistic Capital», Yens Wahlgren \\nЭта работа включает в себя интервью с создателем различных языках для «Звездного пути» и изучает постоянно меняющийся и развивающийся, благодаря его фанатам и носителям, клингонский язык, как социальное явление. \\n \\n«How I created the languages of Dothraki and Valyrian for Game of Thrones», David J. Peterson \\nДэвид Дж. Питерсон — лингвист, разрабатывающий языки для разных фильмов и сериалов, включая «Игру престолов», «Тора» и «Бульварные ужасы». Здесь он немного рассказывает об истории артлангов, а также о деталях процесса создания дотракийского валирийского языков. \\n \\n«Media, information technology, and language planning: what can endangered language communities learn from created language communities?», Christine Schreyer \\nАвтор утверждает, что языки вроде На’ви и клингонского многим похожи на исчезающие языки. В статье приводятся примеры того, как можно решить проблему их исчезновения с помощью методов, используемых носителями вымышленных языков: онлайн-ресурсы и онлайн-сообщества. \\n \\n«Created Languages in Science Fiction», Ria Cheyne \\nОпираясь на книгу «Поиски совершенного языка» Умберто Эко автор рассуждает о том, что именно можно считать вымышленным языком и есть ли единая формула его создания. Чтобы рассказать, как именно создаются такие языки, автор использует примеры «Заводного апельсина», «Вавилона-17» и других произведений. \\n \\n«A Brave New Language: Orwell's Invention of \"Newspeak\" in 1984», Jean-Jacques Courtine, Laura Willett \\nИспользование языка в качестве оружия подчинения — одна из основных тем романа Джорджа Оруэлла «1984». В статье описано, как Оруэлл создавал новояз, язык тоталитарного государства, и какое значение он в него вкладывал. \\n \\nАвтор: Полина Вертьянова</td>\n",
       "      <td>1543564817</td>\n",
       "      <td>474</td>\n",
       "      <td>62</td>\n",
       "      <td>6</td>\n",
       "      <td>139331</td>\n",
       "      <td>542</td>\n",
       "      <td>(2018-11, 11)</td>\n",
       "      <td>2018-11</td>\n",
       "      <td>11</td>\n",
       "    </tr>\n",
       "    <tr>\n",
       "      <td>279</td>\n",
       "      <td>-66036248</td>\n",
       "      <td>33164</td>\n",
       "      <td>Если вы только поступили в университет, впереди еще много дел, с которыми нужно успеть справиться за 4 года учебы. К первому учебному дню составили чеклист студенческой жизни, чтобы не забыть ничего по-настоящему важного</td>\n",
       "      <td>1567411211</td>\n",
       "      <td>426</td>\n",
       "      <td>25</td>\n",
       "      <td>8</td>\n",
       "      <td>116267</td>\n",
       "      <td>459</td>\n",
       "      <td>(2019-09, 11)</td>\n",
       "      <td>2019-09</td>\n",
       "      <td>11</td>\n",
       "    </tr>\n",
       "    <tr>\n",
       "      <td>126</td>\n",
       "      <td>-66036248</td>\n",
       "      <td>33765</td>\n",
       "      <td>Если вы понимаете слово на иностранном языке, знаете, как и когда оно употребляется, но «как же это по-русски» — забыли, стоит обратиться к теории перевода. Делимся книгами, из которых вы узнаете, какие ошибки в переводе самые популярные, как переводится художественная литература, и особенно поэзия, и что делать, если вы не можете перевести текст дословно\\n\\n«Сказать почти то же самое. Опыты о переводе» У. Эко\\n«Сказать почти то же самое. Опыты о переводе» — книга, посвященная литературному переводу. Эко дает практические указания, полезные при переводе художественных произведений. На основе простых, оригинальных и смешных до нелепости примеров автор показывает, как «сказать почти то же самое», потому что сказать «то же самое» невозможно.\\n\\n«Теория перевода» Н. К. Гарбовский\\nКлассический труд по теории перевода, автор — основатель Высшей школы перевода МГУ. Книга посвящена общим и основным вопросам переводоведения: подробно разбирается проблема «ложных друзей переводчика» и перевода реалий. Дается подробный разбор и классификация переводческих ошибок.\\n\\n«Миры литературного перевода»\\nСборник докладов одного из крупнейших форумов в сфере перевода — III Международного конгресса переводчиков художественной литературы. Среди докладов — статьи об общих вопросах художественного перевода, о проблеме поэтического перевода и о переводе сленговой и ненормативной лексики в литературе.\\n\\n«Поэзия и перевод» Е. Г. Эткинд\\nЕще одна книга о проблемах литературного перевода, однако Эткинд уделяет внимание исключительно поэзии, а не прозе. Автор поднимает основные вопросы перевода поэтических текстов: в какой степени и должна ли вообще в тексте присутствовать личность переводчика, может ли итоговый текст превосходить по объемам оригинал и возможен ли хороший перевод без знания языка оригинала.\\n\\n«Слово живое и мертвое» Н. Галь\\n«Автор этой книжки не лингвист и отнюдь не теоретик», — так пишет о себе в предисловии Нора Галь. С переводчицей «Маленького принца» Сент-Экзюпери можно одновременно и согласиться, и нет: за годы практики у Галь сформировалась своя теория, которую она живо и ненавязчиво излагает в «Слове живом и мертвом». В манере, близкой больше к художественному произведению, чем к научному тексту, Нора Галь пишет пособие с оригинальными примерами и общими советами для литературных переводчиков.\\n\\n«The Oxford Handbook of Translation Studies»\\nВ книге описывается появление и развитие теории перевода от времен Цицерона до наших дней. Статья поднимает вопросы, актуальные как для устного, так и для письменного перевода. Отдельная роль отводится проблемам машинного перевода, переводам в рекламе и локализации. Также представлено несколько техник обучения устных и письменных переводчиков.\\n\\n«Введение в технику перевода: учебное пособие» Л. Л. Нелюбин\\nКнига представляет сборник материалов о теоретических и практических проблемах перевода. Автор раскрывает особенности переводоведения как науки, дает необходимую теоретическую базу и на примерах из разных областей перевода показывает, каким образом применять ее в деле. Описание практики перевода применимо как к художественному, так и к медицинскому, техническому и общественно-политическому тексту.\\n\\nАвтор: Елена Добродеева</td>\n",
       "      <td>1570953604</td>\n",
       "      <td>1204</td>\n",
       "      <td>253</td>\n",
       "      <td>9</td>\n",
       "      <td>91906</td>\n",
       "      <td>1466</td>\n",
       "      <td>(2019-10, 11)</td>\n",
       "      <td>2019-10</td>\n",
       "      <td>11</td>\n",
       "    </tr>\n",
       "    <tr>\n",
       "      <td>...</td>\n",
       "      <td>...</td>\n",
       "      <td>...</td>\n",
       "      <td>...</td>\n",
       "      <td>...</td>\n",
       "      <td>...</td>\n",
       "      <td>...</td>\n",
       "      <td>...</td>\n",
       "      <td>...</td>\n",
       "      <td>...</td>\n",
       "      <td>...</td>\n",
       "      <td>...</td>\n",
       "      <td>...</td>\n",
       "    </tr>\n",
       "    <tr>\n",
       "      <td>4</td>\n",
       "      <td>-66036248</td>\n",
       "      <td>34721</td>\n",
       "      <td>Если ваш литературный багаж ограничивается школьной программой и русскими классиками, но вы хотите познакомиться и с зарубежными авторами, советуем видео с канала CrashCourse. Делимся выпусками о главных иностранных произведениях</td>\n",
       "      <td>1575878407</td>\n",
       "      <td>61</td>\n",
       "      <td>4</td>\n",
       "      <td>0</td>\n",
       "      <td>3984</td>\n",
       "      <td>65</td>\n",
       "      <td>(2019-12, 11)</td>\n",
       "      <td>2019-12</td>\n",
       "      <td>11</td>\n",
       "    </tr>\n",
       "    <tr>\n",
       "      <td>8</td>\n",
       "      <td>-66036248</td>\n",
       "      <td>34706</td>\n",
       "      <td>Объединенная группа общественного наблюдения, или ОГОН, следит за соблюдением прав человека на массовых мероприятиях, митингах и судах в России, Украине и Беларуси. Перечитываем наш материал о том, как «третья сила» помогает избежать нарушений прав граждан со стороны государства и учит волонтеров взаимодействовать с полицейскими</td>\n",
       "      <td>1575741605</td>\n",
       "      <td>20</td>\n",
       "      <td>0</td>\n",
       "      <td>0</td>\n",
       "      <td>3853</td>\n",
       "      <td>20</td>\n",
       "      <td>(2019-12, 21)</td>\n",
       "      <td>2019-12</td>\n",
       "      <td>21</td>\n",
       "    </tr>\n",
       "    <tr>\n",
       "      <td>56</td>\n",
       "      <td>-66036248</td>\n",
       "      <td>34436</td>\n",
       "      <td>Избирательная кампания в студсовет и потеря заявок на конкурс НИРС — рассказываем об околовшэвских новостях ушедшей недели\\n\\nСтудсовет Вышки объявил о начале избирательной компании. Заявки можно подать до 4 декабря в трех категориях: в студсоветы факультетов и общежитий, в Объединение Иностранных Студентов и на должность Уполномоченного по правам студентов.\\nhttps://t.me/studsovet/286\\n\\nНа встрече с «Зеленой Вышкой» дирекция корпуса ВШЭ на Покровке признала, что мусор из баков для раздельного сбора отходов не перерабатывается. Планируется работа над этой проблемой, но ни окончательного решения, ни сроков выполнения пока нет.\\nhttps://www.hse.ru/our/news/318768087.html\\n\\nВсе заявки, поступившие на конкурс НИРС-2019, утеряны из-за аварии IT-сервисов ВШЭ. Участникам нужно подать заявку заново до 20 декабря. Если вы упустили прошлый дедлайн, то теперь есть шанс отправить свою работу.\\nhttps://www.hse.ru/our/news/318616779.html\\n\\nЕгору Жукову продлили домашний арест на полгода — до 5 мая.\\nhttps://tvrain.ru/news/egoru_zhukovu_prodlili_domashn..\\n\\nОткрылся прием заявок на ПГАС. Их можно оформить в LMS до 16:00 9 декабря.\\nhttps://www.hse.ru/our/news/318462032.html\\n\\nСледить за новостями можно в нашем Telegram-канале: telega.at/thevyshka\\nА обсудить их — в чате: telega.at/joinchat/FZ8MID-j2V0hKF6yBPDKUQ</td>\n",
       "      <td>1574686197</td>\n",
       "      <td>8</td>\n",
       "      <td>0</td>\n",
       "      <td>1</td>\n",
       "      <td>3713</td>\n",
       "      <td>9</td>\n",
       "      <td>(2019-11, 15)</td>\n",
       "      <td>2019-11</td>\n",
       "      <td>15</td>\n",
       "    </tr>\n",
       "    <tr>\n",
       "      <td>1</td>\n",
       "      <td>-66036248</td>\n",
       "      <td>34727</td>\n",
       "      <td>Многие студенты задумываются о том, что их ждет после окончания университета. Вспоминаем наш материал про выпускников экономических факультетов разных вузов — ВШЭ, МГУ и Финансового университета. Ребята рассказали, почему выбрали такую специальность и чем занимаются после выпуска</td>\n",
       "      <td>1575914407</td>\n",
       "      <td>27</td>\n",
       "      <td>3</td>\n",
       "      <td>0</td>\n",
       "      <td>3271</td>\n",
       "      <td>30</td>\n",
       "      <td>(2019-12, 21)</td>\n",
       "      <td>2019-12</td>\n",
       "      <td>21</td>\n",
       "    </tr>\n",
       "    <tr>\n",
       "      <td>2</td>\n",
       "      <td>-66036248</td>\n",
       "      <td>34724</td>\n",
       "      <td>Знание английского поможет не только в продвижении по карьерной лестнице: вы сможете общаться с иностранцами в путешествиях, смотреть последние обновления на Netflix, читать книги в оригинале и учиться по зарубежным материалам. Собрали для вас четыре теста с BBC Learning English, которые помогут бесплатно усовершенствовать уровень владения языка, не выходя из дома. \\n \\n60 years old today! \\nИногда такие словосочетания в английском языке, которые содержат цифры, как, например, «two-year-old dog», требуют постановки дефиса, а иногда нет. Пятиминутный тест поможет определить, насколько хорошо вы знаете это правило. Если вы не уверены в своих силах, на сайте есть возможность ознакомиться со статьями по грамматике. \\nwww.bbc.co.uk/learningenglish/english/course/intermediate/unit-1/session-1/activity-2 \\n \\n«Just», «already» or «yet»? \\nBBC Learning English предлагает пройти короткий тест из восьми вопросов с вариантами ответа для того, чтобы вы наконец усвоили разницу в употреблении английских наречий. \\nwww.bbc.co.uk/learningenglish/english/course/quizzes/unit-1/session-2 \\n \\nPast perfect tenses: Simple or continuous? \\nС самых ранних лет студентов запугивают двенадцатью временами английского, которые надо знать, чтобы овладеть языком. Короткий тест предлагает испытать себя и выяснить, насколько хорошо вы разбираетесь в прошедшем времени. Если результаты вдруг окажутся не самыми хорошими, вы сможете быстро подтянуть свой уровень, заглянув в прилагающийся раздел грамматики. \\nwww.bbc.co.uk/learningenglish/english/course/quizzes/unit-1/session-7 \\n \\nWho did what when? \\nЭтот тест проверит ваше знание вводных английских слов. Слова-связки, пожалуй, одна из самых нужных тем в английском языке, особенно для тех, кто планирует сдавать экзамены, например, IELTS. Так называемые «linking words» не только придадут эссе более официальный вид, но и помогут набрать нужное количество слов. К тому же, эксперты дают за них много баллов. \\nwww.bbc.co.uk/learningenglish/english/course/intermediate/unit-20/session-1/activity-2 \\n \\nАвтор: Дарья Алиева</td>\n",
       "      <td>1575903606</td>\n",
       "      <td>25</td>\n",
       "      <td>6</td>\n",
       "      <td>0</td>\n",
       "      <td>1911</td>\n",
       "      <td>31</td>\n",
       "      <td>(2019-12, 18)</td>\n",
       "      <td>2019-12</td>\n",
       "      <td>18</td>\n",
       "    </tr>\n",
       "  </tbody>\n",
       "</table>\n",
       "<p>1479 rows × 12 columns</p>\n",
       "</div>"
      ],
      "text/plain": [
       "       from_id     id  \\\n",
       "296  -66036248  33088   \n",
       "354  -66036248  32845   \n",
       "1165 -66036248  28732   \n",
       "279  -66036248  33164   \n",
       "126  -66036248  33765   \n",
       "...        ...    ...   \n",
       "4    -66036248  34721   \n",
       "8    -66036248  34706   \n",
       "56   -66036248  34436   \n",
       "1    -66036248  34727   \n",
       "2    -66036248  34724   \n",
       "\n",
       "                                                                                                                                                                                                                                                                                                                                                                                                                                                                                                                                                                                                                                                                                                                                                                                                                                                                                                                                                                                                                                                                                                                                                                                                                                                                                                                                                                                                                                                                                                                                                                                                                                                                                                                                                                                                                                                                                                                                                                                                                                                                                                                                                                                                                                                                                                                                                                                                                                                                                                                                                                                                                                                                                                                                                                                                                                                                                                                                                                                                                                                                                                                                                                                                                                                                                                                                                                                                                                                                                                                             text  \\\n",
       "296   Пока все вокруг с ужасом вспоминают, что на учебу уже через неделю, наши редакторы ходят на лекции и пишут конспекты \\n \\nВторой год подряд The Vyshka проводит медиашколу для членов редакции, куда приходят читать лекции спикеры из медиа. В этот раз мы слушали лекцию о работе с текстом от создателя самиздата «Батенька, да вы трансформер» и медиаартели «Мамихлапинатана» Егора Мостовщикова. \\n \\nДелимся с вами записью выступления. Из него вы узнаете, как от первого драфта текста и желания умереть перейти к полноценному материалу и как историю Колобка рассказали бы Нолан и Кубрик                                                                                                                                                                                                                                                                                                                                                                                                                                                                                                                                                                                                                                                                                                                                                                                                                                                                                                                                                                                                                                                                                                                                                                                                                                                                                                                                                                                                                                                                                                                                                                                                                                                                                                                                                                                                                                                                                                                                                                                                                                                                                                                                                                                                                                                                                                                                                                                                                                                                                                                                                                                                                                                                                                                                                                                                                                                                                                                        \n",
       "354   Мы не могли оставить вас без шуток про Квентина Тарантино в Москве: представили, какой была бы реакция режиссера на студенческие будни, если бы он решил остаться в России и поступил в университет                                                                                                                                                                                                                                                                                                                                                                                                                                                                                                                                                                                                                                                                                                                                                                                                                                                                                                                                                                                                                                                                                                                                                                                                                                                                                                                                                                                                                                                                                                                                                                                                                                                                                                                                                                                                                                                                                                                                                                                                                                                                                                                                                                                                                                                                                                                                                                                                                                                                                                                                                                                                                                                                                                                                                                                                                                                                                                                                                                                                                                                                                                                                                                                                                                                                                                                           \n",
       "1165  Многие фанаты фэнтези и научной фантастики сталкивались с незнакомыми языками различных фикциональных рас и народов. Вокруг таких вымышленных языков, или артлангов, существует культура, о которой можно узнать из следующих статай\\n \\n«Language and Myth in the Fantasy Writings of J. R. R. Tolkien», William Provost \\nСтатья фокусируется на известных вымышленных языках — эльфийском языке и Черном наречии. Исследуется не только процесс их создания, но и то, как эти языки вписываются в общий миф «Властелина колец» и как помогают создать образы героев, которые на них говорят. \\n \\n«Adapting Shakespeare for \"Star Trek\" and \"Star Trek\" for Shakespeare: \"The Klingon Hamlet\" and the Spaces of Translation», Karolina Kazimierczak \\nВ статье сталкиваются два, казалось бы, несоприкасающихся мира — Шекспир и «Звездный путь». Однако на необычном примере перевода двух пьес Шекспира на клингонский язык автор рассуждает о более широком значении и искусстве перевода. \\n \\n «The digital fandom of Na'vi speakers», Christine Schreyer \\nАвтор исследует скорее не язык На’ви, разработанный для фильма «Аватар», а людей, которые научились говорить на нем. Множество фанатов по всему миру были опрошены для того, чтобы понять, как и с какой целью они изучают этот язык. \\n \\n«Tolkien’s The Lord of the Rings and His Concept of Native Language: Sindarin and British-Welsh», Yoko Hemmi \\nЗдесь анализируются лингвистические вдохновения Толкина при создании языков в своих романах, а именно кельтская группа языков и различные диалекты английского языка. В статье также кратко рассказывают об истории каждого книжного языка. \\n \\n«Klingon as Linguistic Capital», Yens Wahlgren \\nЭта работа включает в себя интервью с создателем различных языках для «Звездного пути» и изучает постоянно меняющийся и развивающийся, благодаря его фанатам и носителям, клингонский язык, как социальное явление. \\n \\n«How I created the languages of Dothraki and Valyrian for Game of Thrones», David J. Peterson \\nДэвид Дж. Питерсон — лингвист, разрабатывающий языки для разных фильмов и сериалов, включая «Игру престолов», «Тора» и «Бульварные ужасы». Здесь он немного рассказывает об истории артлангов, а также о деталях процесса создания дотракийского валирийского языков. \\n \\n«Media, information technology, and language planning: what can endangered language communities learn from created language communities?», Christine Schreyer \\nАвтор утверждает, что языки вроде На’ви и клингонского многим похожи на исчезающие языки. В статье приводятся примеры того, как можно решить проблему их исчезновения с помощью методов, используемых носителями вымышленных языков: онлайн-ресурсы и онлайн-сообщества. \\n \\n«Created Languages in Science Fiction», Ria Cheyne \\nОпираясь на книгу «Поиски совершенного языка» Умберто Эко автор рассуждает о том, что именно можно считать вымышленным языком и есть ли единая формула его создания. Чтобы рассказать, как именно создаются такие языки, автор использует примеры «Заводного апельсина», «Вавилона-17» и других произведений. \\n \\n«A Brave New Language: Orwell's Invention of \"Newspeak\" in 1984», Jean-Jacques Courtine, Laura Willett \\nИспользование языка в качестве оружия подчинения — одна из основных тем романа Джорджа Оруэлла «1984». В статье описано, как Оруэлл создавал новояз, язык тоталитарного государства, и какое значение он в него вкладывал. \\n \\nАвтор: Полина Вертьянова   \n",
       "279   Если вы только поступили в университет, впереди еще много дел, с которыми нужно успеть справиться за 4 года учебы. К первому учебному дню составили чеклист студенческой жизни, чтобы не забыть ничего по-настоящему важного                                                                                                                                                                                                                                                                                                                                                                                                                                                                                                                                                                                                                                                                                                                                                                                                                                                                                                                                                                                                                                                                                                                                                                                                                                                                                                                                                                                                                                                                                                                                                                                                                                                                                                                                                                                                                                                                                                                                                                                                                                                                                                                                                                                                                                                                                                                                                                                                                                                                                                                                                                                                                                                                                                                                                                                                                                                                                                                                                                                                                                                                                                                                                                                                                                                                                                  \n",
       "126   Если вы понимаете слово на иностранном языке, знаете, как и когда оно употребляется, но «как же это по-русски» — забыли, стоит обратиться к теории перевода. Делимся книгами, из которых вы узнаете, какие ошибки в переводе самые популярные, как переводится художественная литература, и особенно поэзия, и что делать, если вы не можете перевести текст дословно\\n\\n«Сказать почти то же самое. Опыты о переводе» У. Эко\\n«Сказать почти то же самое. Опыты о переводе» — книга, посвященная литературному переводу. Эко дает практические указания, полезные при переводе художественных произведений. На основе простых, оригинальных и смешных до нелепости примеров автор показывает, как «сказать почти то же самое», потому что сказать «то же самое» невозможно.\\n\\n«Теория перевода» Н. К. Гарбовский\\nКлассический труд по теории перевода, автор — основатель Высшей школы перевода МГУ. Книга посвящена общим и основным вопросам переводоведения: подробно разбирается проблема «ложных друзей переводчика» и перевода реалий. Дается подробный разбор и классификация переводческих ошибок.\\n\\n«Миры литературного перевода»\\nСборник докладов одного из крупнейших форумов в сфере перевода — III Международного конгресса переводчиков художественной литературы. Среди докладов — статьи об общих вопросах художественного перевода, о проблеме поэтического перевода и о переводе сленговой и ненормативной лексики в литературе.\\n\\n«Поэзия и перевод» Е. Г. Эткинд\\nЕще одна книга о проблемах литературного перевода, однако Эткинд уделяет внимание исключительно поэзии, а не прозе. Автор поднимает основные вопросы перевода поэтических текстов: в какой степени и должна ли вообще в тексте присутствовать личность переводчика, может ли итоговый текст превосходить по объемам оригинал и возможен ли хороший перевод без знания языка оригинала.\\n\\n«Слово живое и мертвое» Н. Галь\\n«Автор этой книжки не лингвист и отнюдь не теоретик», — так пишет о себе в предисловии Нора Галь. С переводчицей «Маленького принца» Сент-Экзюпери можно одновременно и согласиться, и нет: за годы практики у Галь сформировалась своя теория, которую она живо и ненавязчиво излагает в «Слове живом и мертвом». В манере, близкой больше к художественному произведению, чем к научному тексту, Нора Галь пишет пособие с оригинальными примерами и общими советами для литературных переводчиков.\\n\\n«The Oxford Handbook of Translation Studies»\\nВ книге описывается появление и развитие теории перевода от времен Цицерона до наших дней. Статья поднимает вопросы, актуальные как для устного, так и для письменного перевода. Отдельная роль отводится проблемам машинного перевода, переводам в рекламе и локализации. Также представлено несколько техник обучения устных и письменных переводчиков.\\n\\n«Введение в технику перевода: учебное пособие» Л. Л. Нелюбин\\nКнига представляет сборник материалов о теоретических и практических проблемах перевода. Автор раскрывает особенности переводоведения как науки, дает необходимую теоретическую базу и на примерах из разных областей перевода показывает, каким образом применять ее в деле. Описание практики перевода применимо как к художественному, так и к медицинскому, техническому и общественно-политическому тексту.\\n\\nАвтор: Елена Добродеева                                                                                                                                                                          \n",
       "...                                                                                                                                                                                                                                                                                                                                                                                                                                                                                                                                                                                                                                                                                                                                                                                                                                                                                                                                                                                                                                                                                                                                                                                                                                                                                                                                                                                                                                                                                                                                                                                                                                                                                                                                                                                                                                                                                                                                                                                                                                                                                                                                                                                                                                                                                                                                                                                                                                                                                                                                                                                                                                                                                                                                                                                                                                                                                                                                                                                                                                                                                                                                                                                                                                                                                                                                                    ...                                                                                                                                                                          \n",
       "4     Если ваш литературный багаж ограничивается школьной программой и русскими классиками, но вы хотите познакомиться и с зарубежными авторами, советуем видео с канала CrashCourse. Делимся выпусками о главных иностранных произведениях                                                                                                                                                                                                                                                                                                                                                                                                                                                                                                                                                                                                                                                                                                                                                                                                                                                                                                                                                                                                                                                                                                                                                                                                                                                                                                                                                                                                                                                                                                                                                                                                                                                                                                                                                                                                                                                                                                                                                                                                                                                                                                                                                                                                                                                                                                                                                                                                                                                                                                                                                                                                                                                                                                                                                                                                                                                                                                                                                                                                                                                                                                                                                                                                                                                                                         \n",
       "8     Объединенная группа общественного наблюдения, или ОГОН, следит за соблюдением прав человека на массовых мероприятиях, митингах и судах в России, Украине и Беларуси. Перечитываем наш материал о том, как «третья сила» помогает избежать нарушений прав граждан со стороны государства и учит волонтеров взаимодействовать с полицейскими                                                                                                                                                                                                                                                                                                                                                                                                                                                                                                                                                                                                                                                                                                                                                                                                                                                                                                                                                                                                                                                                                                                                                                                                                                                                                                                                                                                                                                                                                                                                                                                                                                                                                                                                                                                                                                                                                                                                                                                                                                                                                                                                                                                                                                                                                                                                                                                                                                                                                                                                                                                                                                                                                                                                                                                                                                                                                                                                                                                                                                                                                                                                                                                    \n",
       "56    Избирательная кампания в студсовет и потеря заявок на конкурс НИРС — рассказываем об околовшэвских новостях ушедшей недели\\n\\nСтудсовет Вышки объявил о начале избирательной компании. Заявки можно подать до 4 декабря в трех категориях: в студсоветы факультетов и общежитий, в Объединение Иностранных Студентов и на должность Уполномоченного по правам студентов.\\nhttps://t.me/studsovet/286\\n\\nНа встрече с «Зеленой Вышкой» дирекция корпуса ВШЭ на Покровке признала, что мусор из баков для раздельного сбора отходов не перерабатывается. Планируется работа над этой проблемой, но ни окончательного решения, ни сроков выполнения пока нет.\\nhttps://www.hse.ru/our/news/318768087.html\\n\\nВсе заявки, поступившие на конкурс НИРС-2019, утеряны из-за аварии IT-сервисов ВШЭ. Участникам нужно подать заявку заново до 20 декабря. Если вы упустили прошлый дедлайн, то теперь есть шанс отправить свою работу.\\nhttps://www.hse.ru/our/news/318616779.html\\n\\nЕгору Жукову продлили домашний арест на полгода — до 5 мая.\\nhttps://tvrain.ru/news/egoru_zhukovu_prodlili_domashn..\\n\\nОткрылся прием заявок на ПГАС. Их можно оформить в LMS до 16:00 9 декабря.\\nhttps://www.hse.ru/our/news/318462032.html\\n\\nСледить за новостями можно в нашем Telegram-канале: telega.at/thevyshka\\nА обсудить их — в чате: telega.at/joinchat/FZ8MID-j2V0hKF6yBPDKUQ                                                                                                                                                                                                                                                                                                                                                                                                                                                                                                                                                                                                                                                                                                                                                                                                                                                                                                                                                                                                                                                                                                                                                                                                                                                                                                                                                                                                                                                                                                                                                                                                                                                                                                                                                                                                                                                                                                                                                                                                                                                                                                                                                   \n",
       "1     Многие студенты задумываются о том, что их ждет после окончания университета. Вспоминаем наш материал про выпускников экономических факультетов разных вузов — ВШЭ, МГУ и Финансового университета. Ребята рассказали, почему выбрали такую специальность и чем занимаются после выпуска                                                                                                                                                                                                                                                                                                                                                                                                                                                                                                                                                                                                                                                                                                                                                                                                                                                                                                                                                                                                                                                                                                                                                                                                                                                                                                                                                                                                                                                                                                                                                                                                                                                                                                                                                                                                                                                                                                                                                                                                                                                                                                                                                                                                                                                                                                                                                                                                                                                                                                                                                                                                                                                                                                                                                                                                                                                                                                                                                                                                                                                                                                                                                                                                                                      \n",
       "2     Знание английского поможет не только в продвижении по карьерной лестнице: вы сможете общаться с иностранцами в путешествиях, смотреть последние обновления на Netflix, читать книги в оригинале и учиться по зарубежным материалам. Собрали для вас четыре теста с BBC Learning English, которые помогут бесплатно усовершенствовать уровень владения языка, не выходя из дома. \\n \\n60 years old today! \\nИногда такие словосочетания в английском языке, которые содержат цифры, как, например, «two-year-old dog», требуют постановки дефиса, а иногда нет. Пятиминутный тест поможет определить, насколько хорошо вы знаете это правило. Если вы не уверены в своих силах, на сайте есть возможность ознакомиться со статьями по грамматике. \\nwww.bbc.co.uk/learningenglish/english/course/intermediate/unit-1/session-1/activity-2 \\n \\n«Just», «already» or «yet»? \\nBBC Learning English предлагает пройти короткий тест из восьми вопросов с вариантами ответа для того, чтобы вы наконец усвоили разницу в употреблении английских наречий. \\nwww.bbc.co.uk/learningenglish/english/course/quizzes/unit-1/session-2 \\n \\nPast perfect tenses: Simple or continuous? \\nС самых ранних лет студентов запугивают двенадцатью временами английского, которые надо знать, чтобы овладеть языком. Короткий тест предлагает испытать себя и выяснить, насколько хорошо вы разбираетесь в прошедшем времени. Если результаты вдруг окажутся не самыми хорошими, вы сможете быстро подтянуть свой уровень, заглянув в прилагающийся раздел грамматики. \\nwww.bbc.co.uk/learningenglish/english/course/quizzes/unit-1/session-7 \\n \\nWho did what when? \\nЭтот тест проверит ваше знание вводных английских слов. Слова-связки, пожалуй, одна из самых нужных тем в английском языке, особенно для тех, кто планирует сдавать экзамены, например, IELTS. Так называемые «linking words» не только придадут эссе более официальный вид, но и помогут набрать нужное количество слов. К тому же, эксперты дают за них много баллов. \\nwww.bbc.co.uk/learningenglish/english/course/intermediate/unit-20/session-1/activity-2 \\n \\nАвтор: Дарья Алиева                                                                                                                                                                                                                                                                                                                                                                                                                                                                                                                                                                                                                                                                                                                                                                                                                                                                                                                                                                                                                                                                                                                                                                                                                                                                                                                                                                           \n",
       "\n",
       "            date  likes  reposts  comments   views  total_actions  \\\n",
       "296   1566910813  143    13       5         187150  161             \n",
       "354   1565256735  1720   35       8         141026  1763            \n",
       "1165  1543564817  474    62       6         139331  542             \n",
       "279   1567411211  426    25       8         116267  459             \n",
       "126   1570953604  1204   253      9         91906   1466            \n",
       "...          ...   ...   ...     ..           ...    ...            \n",
       "4     1575878407  61     4        0         3984    65              \n",
       "8     1575741605  20     0        0         3853    20              \n",
       "56    1574686197  8      0        1         3713    9               \n",
       "1     1575914407  27     3        0         3271    30              \n",
       "2     1575903606  25     6        0         1911    31              \n",
       "\n",
       "          date_norm     Date Time  \n",
       "296   (2019-08, 16)  2019-08  16   \n",
       "354   (2019-08, 12)  2019-08  12   \n",
       "1165  (2018-11, 11)  2018-11  11   \n",
       "279   (2019-09, 11)  2019-09  11   \n",
       "126   (2019-10, 11)  2019-10  11   \n",
       "...             ...      ...  ..   \n",
       "4     (2019-12, 11)  2019-12  11   \n",
       "8     (2019-12, 21)  2019-12  21   \n",
       "56    (2019-11, 15)  2019-11  15   \n",
       "1     (2019-12, 21)  2019-12  21   \n",
       "2     (2019-12, 18)  2019-12  18   \n",
       "\n",
       "[1479 rows x 12 columns]"
      ]
     },
     "execution_count": 88,
     "metadata": {},
     "output_type": "execute_result"
    }
   ],
   "source": [
    "most_viewed = df.sort_values(['views'], ascending=[False])\n",
    "most_viewed = df.sort_values(['views'], ascending=[0])\n",
    "most_viewed"
   ]
  },
  {
   "cell_type": "markdown",
   "metadata": {},
   "source": [
    "# Топ-10 по просмотрам:\n",
    "1. В этот раз мы слушали лекцию о работе с текстом от создателя самиздата «Батенька, да вы трансформер» и медиаартели «Мамихлапинатана» Егора Мостовщикова. \\n \\nДелимся с вами записью выступления\n",
    "2. Мы не могли оставить вас без шуток про Квентина Тарантино в Москве:\n",
    "3. Language and Myth in the Fantasy Writings of J. R. R. Tolkien», William Provost \\nСтатья фокусируется на известных вымышленных языках — эльфийском языке и Черном наречии. Исследуется не только процесс их создания, но и то, как эти языки вписываются в общий миф «Властелина колец» и как помогают создать образы героев, которые на них говорят\n",
    "4. К первому учебному дню составили чеклист студенческой жизни, чтобы не забыть ничего по-настоящему важного\n",
    "5. Будет 16 победителей! \\n\\n✨ Мы разыгрываем\n",
    "6. Делимся книгами, из которых вы узнаете, какие ошибки в переводе самые популярные, как переводится художественная литература, и особенно поэзия, и что делать, если вы не можете перевести текст\n",
    "7. Делимся ресурсами, где можно бесплатно скачать шаблоны, которые помогут сделать ваше выступление ярким и запоминающимся\n",
    "8. Начался учебный год и большинство первокурсников Вышки уже получили свои студенческие билеты. Сегодня расскажем, почему это еще не все и как оформить три главные карты студента\n",
    "9. Редакторы The Vyshka вскрыли свои архивы со скриншотами любимых сериалов 2000-х и сделали мемы, которые идеально описывают будни абитуриента\n",
    "10. Поисковик Google часто приходит на помощь в сложных жизненных ситуациях, но иногда он просто вас не понимает. Подсказываем, как формулировать запросы так, чтобы необходимую информацию было легче найти"
   ]
  },
  {
   "cell_type": "code",
   "execution_count": 89,
   "metadata": {},
   "outputs": [],
   "source": [
    "most_total_actions = df_titles.sort_values(['total_actions'], ascending=[False])\n",
    "most_total_actions = df_titles.sort_values(['total_actions'], ascending=[0])"
   ]
  },
  {
   "cell_type": "raw",
   "metadata": {},
   "source": [
    "most_total_actions"
   ]
  },
  {
   "cell_type": "markdown",
   "metadata": {},
   "source": [
    "# Топ-10 тем по фидбеку (с тайтлами):\n",
    "1. Топ по общим действиям по тайтлам:\n",
    "2. Могли, но не придут на День Вышки\n",
    "3. «Сплин» на все случаи жизни\n",
    "4. Егор Жуков: «первый вышкинский политзаключенный»\n",
    "5. Студент, блогер, либертарианец\n",
    "6. «Вы зажрались»: как прошли протесты в НИУ ВШЭ\n",
    "7. Бакалавры 23+\n",
    "8. Научи: как стать репетитором\n",
    "9. Пишем идеальное введение\n",
    "10. Бунт в питерской Вышке"
   ]
  },
  {
   "cell_type": "code",
   "execution_count": 90,
   "metadata": {},
   "outputs": [],
   "source": [
    "most_viewed = df_titles.sort_values(['views'], ascending=[False])\n",
    "most_viewed = df_titles.sort_values(['views'], ascending=[0])"
   ]
  },
  {
   "cell_type": "raw",
   "metadata": {},
   "source": [
    "most_viewed"
   ]
  },
  {
   "cell_type": "markdown",
   "metadata": {},
   "source": [
    "# Топ-10 тем по просмотрам (с тайтлами):\n",
    "1. «Там правда все занимаются сексом?»: студенты о kinky-вечеринках\n",
    "2. «Сплин» на все случаи жизни,\n",
    "3. Секс, Вышка, Рок-н-ролл,\n",
    "4. Учимся печатать вслепую,\n",
    "5. Егор Жуков: «первый вышкинский политзаключенный»,\n",
    "6. Могли, но не придут на День Вышки,\n",
    "7. «Не знаю, кем стану, когда вырасту»: интервью с Асей Казанцевой,\n",
    "8. Феминистки бывают разные,\n",
    "9. Vegan power: от равнодушия к активизму,\n",
    "10. Zero Waste: как уменьшить мусор"
   ]
  },
  {
   "cell_type": "code",
   "execution_count": 91,
   "metadata": {},
   "outputs": [],
   "source": [
    "def get_date(date):\n",
    "    return date[0]\n",
    "\n",
    "def get_time(date):\n",
    "    return date[1]"
   ]
  },
  {
   "cell_type": "code",
   "execution_count": 92,
   "metadata": {},
   "outputs": [
    {
     "name": "stderr",
     "output_type": "stream",
     "text": [
      "B:\\python\\lib\\site-packages\\ipykernel_launcher.py:1: SettingWithCopyWarning: \n",
      "A value is trying to be set on a copy of a slice from a DataFrame.\n",
      "Try using .loc[row_indexer,col_indexer] = value instead\n",
      "\n",
      "See the caveats in the documentation: http://pandas.pydata.org/pandas-docs/stable/user_guide/indexing.html#returning-a-view-versus-a-copy\n",
      "  \"\"\"Entry point for launching an IPython kernel.\n",
      "B:\\python\\lib\\site-packages\\ipykernel_launcher.py:2: SettingWithCopyWarning: \n",
      "A value is trying to be set on a copy of a slice from a DataFrame.\n",
      "Try using .loc[row_indexer,col_indexer] = value instead\n",
      "\n",
      "See the caveats in the documentation: http://pandas.pydata.org/pandas-docs/stable/user_guide/indexing.html#returning-a-view-versus-a-copy\n",
      "  \n"
     ]
    }
   ],
   "source": [
    "df_titles['Date'] = df.date_norm.apply(get_date)\n",
    "df_titles['Time'] = df.date_norm.apply(get_time)"
   ]
  },
  {
   "cell_type": "code",
   "execution_count": 93,
   "metadata": {
    "scrolled": true
   },
   "outputs": [
    {
     "data": {
      "text/html": [
       "<div>\n",
       "<style scoped>\n",
       "    .dataframe tbody tr th:only-of-type {\n",
       "        vertical-align: middle;\n",
       "    }\n",
       "\n",
       "    .dataframe tbody tr th {\n",
       "        vertical-align: top;\n",
       "    }\n",
       "\n",
       "    .dataframe thead th {\n",
       "        text-align: right;\n",
       "    }\n",
       "</style>\n",
       "<table border=\"1\" class=\"dataframe\">\n",
       "  <thead>\n",
       "    <tr style=\"text-align: right;\">\n",
       "      <th></th>\n",
       "      <th>title</th>\n",
       "      <th>text</th>\n",
       "      <th>likes</th>\n",
       "      <th>reposts</th>\n",
       "      <th>comments</th>\n",
       "      <th>total_actions</th>\n",
       "      <th>views</th>\n",
       "      <th>Date</th>\n",
       "      <th>Time</th>\n",
       "    </tr>\n",
       "  </thead>\n",
       "  <tbody>\n",
       "    <tr>\n",
       "      <td>822</td>\n",
       "      <td>10 часто задаваемых вопросов на собеседовании</td>\n",
       "      <td>Чаще всего на собеседованиях вы услышите стандартные вопросы, к которым довольно просто подготовиться. Рассказываемся, как не облажаться, на основе рекомендаций от HR</td>\n",
       "      <td>209</td>\n",
       "      <td>20</td>\n",
       "      <td>0</td>\n",
       "      <td>229</td>\n",
       "      <td>11633</td>\n",
       "      <td>2019-03</td>\n",
       "      <td>18</td>\n",
       "    </tr>\n",
       "    <tr>\n",
       "      <td>823</td>\n",
       "      <td>Получу диплом и перееду за границу</td>\n",
       "      <td>Кто-то скоро перейдет на следующий курс, а кто-то попрощается с университетом. Если взрослая жизнь вне Вышки вас пугает, ловите вдохновение — пообщались с выпускниками, переехавшими после вуза заграницу</td>\n",
       "      <td>70</td>\n",
       "      <td>3</td>\n",
       "      <td>0</td>\n",
       "      <td>73</td>\n",
       "      <td>7529</td>\n",
       "      <td>2019-03</td>\n",
       "      <td>15</td>\n",
       "    </tr>\n",
       "    <tr>\n",
       "      <td>824</td>\n",
       "      <td>Готовим угощения на Пасху</td>\n",
       "      <td>Как и многие другие праздники, Пасха отличается особенными вкусными блюдами. Нашли бюджетные и быстрые рецепты приготовления куличей и пасхи. И про яйца не забыли</td>\n",
       "      <td>41</td>\n",
       "      <td>2</td>\n",
       "      <td>0</td>\n",
       "      <td>43</td>\n",
       "      <td>9363</td>\n",
       "      <td>2019-03</td>\n",
       "      <td>11</td>\n",
       "    </tr>\n",
       "    <tr>\n",
       "      <td>825</td>\n",
       "      <td>Переезд, который изменил всё</td>\n",
       "      <td>Как часто в фильмах мы наблюдаем, как главные герои бросают все и принимают отчаянные решения, меняющие их судьбу. Питерская The Вышка поговорила с тремя студентками, переехавшими в Россию о том, так ли просто в корне изменить свою жизнь</td>\n",
       "      <td>81</td>\n",
       "      <td>4</td>\n",
       "      <td>1</td>\n",
       "      <td>86</td>\n",
       "      <td>8151</td>\n",
       "      <td>2019-03</td>\n",
       "      <td>21</td>\n",
       "    </tr>\n",
       "    <tr>\n",
       "      <td>826</td>\n",
       "      <td>Как Чемпионат мира скажется на студентах</td>\n",
       "      <td>Выселение из общежитий, досрочная сдача сессии и невозможность протеста — это мы о Чемпионате мира по футболу в России. Выяснили, с какими проблемами студенты по всей стране могут столкнуться этой весной. \\n\\nВыходим на межвузовскую повестку — материал нашего корреспондента из МГУ</td>\n",
       "      <td>74</td>\n",
       "      <td>0</td>\n",
       "      <td>1</td>\n",
       "      <td>75</td>\n",
       "      <td>7916</td>\n",
       "      <td>2019-03</td>\n",
       "      <td>18</td>\n",
       "    </tr>\n",
       "  </tbody>\n",
       "</table>\n",
       "</div>"
      ],
      "text/plain": [
       "                                             title  \\\n",
       "822  10 часто задаваемых вопросов на собеседовании   \n",
       "823  Получу диплом и перееду за границу              \n",
       "824  Готовим угощения на Пасху                       \n",
       "825  Переезд, который изменил всё                    \n",
       "826  Как Чемпионат мира скажется на студентах        \n",
       "\n",
       "                                                                                                                                                                                                                                                                                          text  \\\n",
       "822  Чаще всего на собеседованиях вы услышите стандартные вопросы, к которым довольно просто подготовиться. Рассказываемся, как не облажаться, на основе рекомендаций от HR                                                                                                                      \n",
       "823  Кто-то скоро перейдет на следующий курс, а кто-то попрощается с университетом. Если взрослая жизнь вне Вышки вас пугает, ловите вдохновение — пообщались с выпускниками, переехавшими после вуза заграницу                                                                                  \n",
       "824  Как и многие другие праздники, Пасха отличается особенными вкусными блюдами. Нашли бюджетные и быстрые рецепты приготовления куличей и пасхи. И про яйца не забыли                                                                                                                          \n",
       "825  Как часто в фильмах мы наблюдаем, как главные герои бросают все и принимают отчаянные решения, меняющие их судьбу. Питерская The Вышка поговорила с тремя студентками, переехавшими в Россию о том, так ли просто в корне изменить свою жизнь                                               \n",
       "826  Выселение из общежитий, досрочная сдача сессии и невозможность протеста — это мы о Чемпионате мира по футболу в России. Выяснили, с какими проблемами студенты по всей стране могут столкнуться этой весной. \\n\\nВыходим на межвузовскую повестку — материал нашего корреспондента из МГУ   \n",
       "\n",
       "     likes  reposts  comments  total_actions  views     Date Time  \n",
       "822  209    20       0         229            11633  2019-03  18   \n",
       "823  70     3        0         73             7529   2019-03  15   \n",
       "824  41     2        0         43             9363   2019-03  11   \n",
       "825  81     4        1         86             8151   2019-03  21   \n",
       "826  74     0        1         75             7916   2019-03  18   "
      ]
     },
     "execution_count": 93,
     "metadata": {},
     "output_type": "execute_result"
    }
   ],
   "source": [
    "df_titles.tail()"
   ]
  },
  {
   "cell_type": "code",
   "execution_count": 94,
   "metadata": {},
   "outputs": [
    {
     "data": {
      "image/png": "[encoded data removed]",
      "text/plain": [
       "<Figure size 432x288 with 1 Axes>"
      ]
     },
     "metadata": {
      "needs_background": "light"
     },
     "output_type": "display_data"
    }
   ],
   "source": [
    "# построение графика с частотой твитов в зависимости от даты\n",
    "df_titles.groupby('Date').size().plot(kind='bar')\n",
    "plt.ylabel('количество публикаций')\n",
    "plt.xlabel('месяц публикаций')\n",
    "\n",
    "# команда, чтобы сохранить картинкой\n",
    "plt.savefig('output.png', bbox_inches = 'tight')\n",
    "\n",
    "####почему только с января, когда с сентября запрос был???????????"
   ]
  },
  {
   "cell_type": "raw",
   "metadata": {},
   "source": [
    "!pip install plotly"
   ]
  },
  {
   "cell_type": "code",
   "execution_count": 95,
   "metadata": {},
   "outputs": [
    {
     "data": {
      "text/html": [
       "        <script type=\"text/javascript\">\n",
       "        window.PlotlyConfig = {MathJaxConfig: 'local'};\n",
       "        if (window.MathJax) {MathJax.Hub.Config({SVG: {font: \"STIX-Web\"}});}\n",
       "        if (typeof require !== 'undefined') {\n",
       "        require.undef(\"plotly\");\n",
       "        requirejs.config({\n",
       "            paths: {\n",
       "                'plotly': ['https://cdn.plot.ly/plotly-latest.min']\n",
       "            }\n",
       "        });\n",
       "        require(['plotly'], function(Plotly) {\n",
       "            window._Plotly = Plotly;\n",
       "        });\n",
       "        }\n",
       "        </script>\n",
       "        "
      ]
     },
     "metadata": {},
     "output_type": "display_data"
    }
   ],
   "source": [
    "import plotly.offline as pyo\n",
    "import plotly.graph_objs as go\n",
    "import numpy as np\n",
    "import pandas as pd\n",
    "pyo.init_notebook_mode(connected=True) ### чтобы открывался график в тетрадке"
   ]
  },
  {
   "cell_type": "code",
   "execution_count": 96,
   "metadata": {},
   "outputs": [
    {
     "data": {
      "application/vnd.plotly.v1+json": {
       "config": {
        "linkText": "Export to plot.ly",
        "plotlyServerURL": "https://plot.ly",
        "showLink": false
       },
       "data": [
        {
         "mode": "markers",
         "type": "scatter",
         "x": [
          "09",
          "21",
          "18",
          "15",
          "11",
          "21",
          "18",
          "11",
          "21",
          "18",
          "15",
          "11",
          "21",
          "18",
          "11",
          "11",
          "22",
          "18",
          "15",
          "11",
          "21",
          "15",
          "11",
          "21",
          "18",
          "14",
          "11",
          "21",
          "18",
          "15",
          "11",
          "21",
          "18",
          "11",
          "21",
          "18",
          "15",
          "11",
          "21",
          "18",
          "15",
          "11",
          "22",
          "18",
          "15",
          "11",
          "22",
          "18",
          "15",
          "11",
          "22",
          "18",
          "15",
          "11",
          "22",
          "18",
          "15",
          "11",
          "21",
          "20",
          "11",
          "21",
          "18",
          "15",
          "11",
          "21",
          "18",
          "15",
          "11",
          "22",
          "18",
          "15",
          "11",
          "21",
          "18",
          "15",
          "11",
          "21",
          "18",
          "15",
          "11",
          "21",
          "15",
          "11",
          "21",
          "18",
          "16",
          "11",
          "21",
          "18",
          "15",
          "11",
          "21",
          "18",
          "15",
          "11",
          "21",
          "18",
          "15",
          "11",
          "15",
          "11",
          "21",
          "18",
          "15",
          "11",
          "21",
          "18",
          "15",
          "11",
          "22",
          "18",
          "15",
          "11",
          "21",
          "18",
          "15",
          "11",
          "21",
          "18",
          "15",
          "11",
          "10",
          "23",
          "19",
          "15",
          "11",
          "21",
          "18",
          "15",
          "11",
          "21",
          "18",
          "15",
          "11",
          "21",
          "18",
          "15",
          "11",
          "21",
          "18",
          "15",
          "11",
          "21",
          "18",
          "15",
          "11",
          "18",
          "15",
          "11",
          "22",
          "18",
          "15",
          "11",
          "21",
          "18",
          "15",
          "11",
          "21",
          "18",
          "15",
          "11",
          "21",
          "18",
          "15",
          "11",
          "22",
          "18",
          "15",
          "11",
          "21",
          "18",
          "15",
          "11",
          "22",
          "18",
          "15",
          "12",
          "22",
          "18",
          "15",
          "11",
          "21",
          "18",
          "15",
          "11",
          "21",
          "18",
          "15",
          "11",
          "21",
          "15",
          "11",
          "23",
          "17",
          "11",
          "22",
          "17",
          "11",
          "23",
          "16",
          "11",
          "22",
          "19",
          "15",
          "11",
          "21",
          "18",
          "15",
          "11",
          "21",
          "18",
          "15",
          "11",
          "21",
          "18",
          "15",
          "11",
          "21",
          "18",
          "15",
          "11",
          "21",
          "18",
          "15",
          "11",
          "21",
          "18",
          "15",
          "11",
          "22",
          "18",
          "16",
          "11",
          "22",
          "18",
          "15",
          "11",
          "20",
          "15",
          "12",
          "21",
          "18",
          "15",
          "11",
          "21",
          "18",
          "15",
          "13",
          "00",
          "15",
          "22",
          "15",
          "12",
          "21",
          "18",
          "15",
          "12",
          "22",
          "15",
          "11",
          "01",
          "17",
          "13",
          "11",
          "19",
          "16",
          "13",
          "11",
          "21",
          "20",
          "15",
          "12",
          "22",
          "16",
          "12",
          "22",
          "19",
          "16",
          "11",
          "22",
          "18",
          "14",
          "01",
          "16",
          "12",
          "22",
          "16",
          "12",
          "23",
          "16",
          "12",
          "21",
          "16",
          "12",
          "21",
          "16",
          "12",
          "22",
          "16",
          "13",
          "22",
          "19",
          "16",
          "21",
          "17",
          "12",
          "21",
          "16",
          "12",
          "22",
          "16",
          "12",
          "21",
          "16",
          "12",
          "23",
          "16",
          "12",
          "21",
          "18",
          "14",
          "22",
          "16",
          "12",
          "22",
          "17",
          "12",
          "21",
          "16",
          "12",
          "22",
          "16",
          "12",
          "21",
          "16",
          "12",
          "21",
          "16",
          "12",
          "21",
          "16",
          "12",
          "22",
          "17",
          "12",
          "21",
          "17",
          "11",
          "22",
          "16",
          "12",
          "22",
          "17",
          "12",
          "22",
          "16",
          "12",
          "22",
          "16",
          "12",
          "21",
          "16",
          "12",
          "22",
          "16",
          "12",
          "16",
          "11",
          "09",
          "19",
          "15",
          "12",
          "21",
          "16",
          "13",
          "19",
          "16",
          "12",
          "21",
          "16",
          "12",
          "22",
          "16",
          "12",
          "22",
          "16",
          "12",
          "21",
          "16",
          "11",
          "22",
          "16",
          "13",
          "23",
          "16",
          "12",
          "21",
          "16",
          "12",
          "21",
          "16",
          "12",
          "22",
          "16",
          "13",
          "22",
          "16",
          "12",
          "22",
          "16",
          "12",
          "21",
          "16",
          "12",
          "22",
          "16",
          "12",
          "22",
          "16",
          "12",
          "01",
          "16",
          "12",
          "21",
          "15",
          "12",
          "21",
          "16",
          "12",
          "21",
          "17",
          "12",
          "22",
          "17",
          "12",
          "22",
          "17",
          "13",
          "21",
          "16",
          "12",
          "22",
          "16",
          "12",
          "21",
          "16",
          "12",
          "22",
          "16",
          "12",
          "22",
          "16",
          "12",
          "21",
          "18",
          "13",
          "21",
          "17",
          "13",
          "21",
          "18",
          "12",
          "21",
          "16",
          "12",
          "21",
          "16",
          "12",
          "22",
          "16",
          "12",
          "21",
          "16",
          "11",
          "21",
          "16",
          "13",
          "21",
          "17",
          "12",
          "21",
          "16",
          "12",
          "21",
          "16",
          "12",
          "21",
          "17",
          "13",
          "21",
          "16",
          "12",
          "21",
          "15",
          "12",
          "16",
          "12",
          "16",
          "11",
          "23",
          "22",
          "16",
          "12",
          "08",
          "22",
          "16",
          "12",
          "22",
          "16",
          "12",
          "21",
          "17",
          "13",
          "21",
          "18",
          "14",
          "19",
          "17",
          "13",
          "23",
          "17",
          "12",
          "21",
          "16",
          "12",
          "23",
          "12",
          "22",
          "17",
          "12",
          "23",
          "17",
          "12",
          "21",
          "17",
          "12",
          "22",
          "17",
          "12",
          "22",
          "16",
          "12",
          "00",
          "17",
          "12",
          "22",
          "18",
          "12",
          "21",
          "17",
          "13",
          "22",
          "17",
          "12",
          "21",
          "18",
          "13",
          "21",
          "16",
          "12",
          "21",
          "16",
          "13",
          "08",
          "21",
          "15",
          "12",
          "22",
          "16",
          "12",
          "21",
          "16",
          "12",
          "22",
          "17",
          "12",
          "19",
          "16",
          "12",
          "21",
          "16",
          "12",
          "21",
          "18",
          "13",
          "16",
          "12",
          "21",
          "17",
          "13",
          "22",
          "16",
          "13",
          "21",
          "16",
          "12",
          "21",
          "17",
          "12",
          "21",
          "16",
          "12",
          "21",
          "18",
          "13",
          "21",
          "17",
          "12",
          "21",
          "18",
          "13",
          "21",
          "16",
          "12",
          "21",
          "17",
          "12",
          "21",
          "16",
          "12",
          "21",
          "16",
          "12",
          "22",
          "17",
          "12",
          "22",
          "17",
          "12",
          "22",
          "17",
          "13",
          "21",
          "16",
          "12",
          "21",
          "16",
          "12",
          "21",
          "16",
          "12",
          "21",
          "16",
          "12",
          "21",
          "16",
          "13",
          "22",
          "17",
          "12",
          "21",
          "16",
          "12",
          "22",
          "16",
          "13",
          "22",
          "16",
          "12",
          "21",
          "17",
          "12",
          "21",
          "16",
          "11",
          "22",
          "16",
          "11",
          "21",
          "17",
          "12",
          "22",
          "18",
          "13",
          "22",
          "16",
          "13",
          "21",
          "16",
          "12",
          "22",
          "17",
          "12",
          "22",
          "16",
          "12",
          "22",
          "19",
          "12",
          "21",
          "13",
          "23",
          "18",
          "14",
          "22",
          "17",
          "14",
          "21",
          "17",
          "13",
          "21",
          "16",
          "12",
          "21",
          "16",
          "12",
          "21",
          "17",
          "12",
          "21",
          "17",
          "13",
          "22",
          "16",
          "12",
          "21",
          "16",
          "12",
          "22",
          "17",
          "12",
          "22",
          "17",
          "12",
          "21",
          "17",
          "12",
          "21",
          "18",
          "12",
          "21",
          "13",
          "22",
          "17",
          "13",
          "22",
          "16",
          "12",
          "22",
          "18",
          "12",
          "21",
          "18",
          "12",
          "21",
          "16",
          "12",
          "21",
          "16",
          "12",
          "21",
          "12",
          "21",
          "19",
          "14",
          "23",
          "17",
          "12",
          "21",
          "16",
          "12",
          "22",
          "21",
          "16",
          "12",
          "21",
          "16",
          "12",
          "21",
          "16",
          "12",
          "21",
          "16",
          "12",
          "21",
          "16",
          "12",
          "22",
          "17",
          "12",
          "21",
          "16",
          "12",
          "21",
          "17",
          "12",
          "21",
          "15",
          "12",
          "20",
          "15",
          "12",
          "21",
          "16",
          "12",
          "16",
          "12",
          "21",
          "15",
          "22",
          "17",
          "11",
          "21",
          "19",
          "12",
          "21",
          "16",
          "12",
          "22",
          "16",
          "12",
          "22",
          "16",
          "12",
          "21",
          "18",
          "15",
          "11",
          "21",
          "17",
          "21",
          "18",
          "15",
          "11",
          "21",
          "18"
         ],
         "y": [
          187,
          30,
          92,
          28,
          50,
          20,
          106,
          104,
          202,
          73,
          166,
          38,
          108,
          45,
          39,
          127,
          49,
          27,
          46,
          64,
          93,
          107,
          137,
          97,
          87,
          79,
          79,
          94,
          60,
          304,
          42,
          26,
          48,
          32,
          57,
          436,
          50,
          98,
          84,
          72,
          101,
          47,
          54,
          24,
          61,
          101,
          76,
          69,
          76,
          48,
          38,
          272,
          72,
          106,
          167,
          90,
          46,
          131,
          44,
          58,
          106,
          56,
          30,
          90,
          81,
          111,
          79,
          93,
          55,
          58,
          48,
          58,
          115,
          346,
          24,
          68,
          77,
          120,
          73,
          75,
          130,
          44,
          84,
          18,
          75,
          100,
          25,
          64,
          56,
          117,
          84,
          56,
          89,
          60,
          90,
          87,
          33,
          99,
          65,
          88,
          25,
          83,
          72,
          154,
          146,
          24,
          147,
          58,
          59,
          151,
          76,
          57,
          33,
          48,
          98,
          50,
          105,
          55,
          134,
          135,
          69,
          228,
          388,
          174,
          37,
          99,
          92,
          95,
          91,
          127,
          75,
          44,
          112,
          64,
          150,
          49,
          124,
          35,
          66,
          130,
          83,
          121,
          190,
          50,
          228,
          151,
          287,
          68,
          30,
          61,
          62,
          109,
          62,
          698,
          97,
          243,
          125,
          34,
          119,
          72,
          116,
          41,
          81,
          50,
          124,
          152,
          64,
          62,
          22,
          63,
          63,
          105,
          167,
          46,
          264,
          140,
          63,
          11,
          658,
          644,
          115,
          66,
          166,
          40,
          37,
          145,
          57,
          17,
          70,
          31,
          142,
          148,
          70,
          81,
          69,
          36,
          25,
          13,
          59,
          38,
          57,
          38,
          59,
          68,
          40,
          102,
          40,
          102,
          16,
          45,
          117,
          52,
          58,
          105,
          73,
          32,
          113,
          112,
          189,
          69,
          15,
          105,
          60,
          120,
          73,
          28,
          37,
          60,
          25,
          37,
          65,
          126,
          76,
          120,
          19,
          69,
          90,
          38,
          224,
          116,
          77,
          81,
          91,
          80,
          130,
          94,
          17,
          105,
          147,
          230,
          60,
          203,
          86,
          51,
          17,
          107,
          143,
          273,
          233,
          36,
          51,
          27,
          41,
          31,
          52,
          185,
          56,
          121,
          49,
          88,
          665,
          46,
          31,
          111,
          12,
          118,
          69,
          71,
          29,
          41,
          54,
          38,
          121,
          82,
          35,
          66,
          29,
          28,
          52,
          71,
          78,
          157,
          60,
          25,
          29,
          100,
          39,
          76,
          31,
          107,
          26,
          114,
          20,
          54,
          38,
          72,
          31,
          27,
          45,
          161,
          24,
          79,
          86,
          58,
          165,
          32,
          60,
          54,
          61,
          33,
          30,
          406,
          242,
          70,
          165,
          51,
          178,
          102,
          35,
          30,
          42,
          154,
          57,
          208,
          239,
          325,
          137,
          106,
          21,
          151,
          85,
          102,
          108,
          404,
          83,
          206,
          95,
          55,
          78,
          25,
          50,
          294,
          71,
          72,
          162,
          256,
          71,
          31,
          64,
          27,
          78,
          84,
          90,
          44,
          81,
          187,
          20,
          128,
          59,
          21,
          235,
          71,
          93,
          114,
          78,
          179,
          91,
          98,
          24,
          191,
          216,
          105,
          121,
          275,
          107,
          20,
          83,
          47,
          92,
          104,
          24,
          93,
          140,
          68,
          54,
          66,
          166,
          16,
          122,
          75,
          29,
          44,
          81,
          148,
          60,
          95,
          91,
          103,
          96,
          28,
          90,
          479,
          104,
          24,
          96,
          97,
          122,
          66,
          244,
          27,
          21,
          119,
          69,
          18,
          116,
          56,
          44,
          102,
          20,
          195,
          93,
          22,
          26,
          92,
          89,
          167,
          46,
          56,
          114,
          15,
          77,
          96,
          12,
          89,
          234,
          146,
          60,
          56,
          161,
          127,
          242,
          24,
          201,
          30,
          30,
          34,
          203,
          45,
          491,
          44,
          29,
          64,
          116,
          38,
          34,
          182,
          168,
          238,
          68,
          94,
          135,
          210,
          247,
          334,
          50,
          26,
          308,
          62,
          164,
          62,
          99,
          76,
          50,
          128,
          59,
          205,
          49,
          248,
          56,
          44,
          44,
          51,
          41,
          344,
          83,
          207,
          173,
          82,
          29,
          412,
          94,
          49,
          111,
          251,
          130,
          237,
          156,
          53,
          30,
          54,
          37,
          182,
          181,
          76,
          42,
          64,
          140,
          116,
          94,
          58,
          141,
          21,
          186,
          93,
          29,
          577,
          121,
          80,
          171,
          95,
          35,
          108,
          22,
          62,
          30,
          103,
          147,
          43,
          60,
          239,
          369,
          193,
          43,
          13,
          71,
          168,
          50,
          40,
          199,
          162,
          70,
          105,
          236,
          42,
          19,
          128,
          89,
          29,
          64,
          92,
          117,
          68,
          228,
          57,
          22,
          78,
          45,
          31,
          78,
          65,
          55,
          21,
          61,
          127,
          124,
          24,
          32,
          49,
          135,
          76,
          46,
          224,
          127,
          144,
          138,
          70,
          24,
          51,
          110,
          104,
          109,
          55,
          191,
          67,
          29,
          59,
          61,
          92,
          43,
          58,
          59,
          101,
          53,
          95,
          43,
          468,
          34,
          67,
          52,
          41,
          355,
          64,
          229,
          85,
          50,
          87,
          17,
          92,
          82,
          116,
          139,
          71,
          168,
          41,
          88,
          32,
          48,
          60,
          105,
          76,
          78,
          54,
          247,
          46,
          52,
          28,
          203,
          69,
          157,
          172,
          55,
          106,
          72,
          81,
          64,
          97,
          170,
          118,
          148,
          65,
          43,
          76,
          61,
          91,
          252,
          46,
          54,
          111,
          346,
          70,
          88,
          164,
          66,
          71,
          69,
          108,
          112,
          114,
          66,
          47,
          121,
          27,
          75,
          183,
          110,
          63,
          54,
          160,
          88,
          94,
          284,
          152,
          66,
          186,
          126,
          127,
          335,
          89,
          133,
          63,
          54,
          94,
          41,
          53,
          155,
          59,
          88,
          41,
          111,
          53,
          42,
          154,
          22,
          17,
          114,
          160,
          35,
          70,
          67,
          61,
          43,
          64,
          44,
          53,
          68,
          78,
          81,
          58,
          27,
          76,
          46,
          141,
          31,
          174,
          53,
          28,
          45,
          88,
          35,
          163,
          83,
          40,
          35,
          64,
          182,
          62,
          64,
          122,
          141,
          139,
          99,
          122,
          54,
          75,
          20,
          94,
          81,
          96,
          246,
          68,
          133,
          80,
          70,
          25,
          120,
          115,
          12,
          63,
          275,
          53,
          126,
          43,
          93,
          196,
          55,
          88,
          64,
          48,
          55,
          57,
          27,
          41,
          35,
          45,
          124,
          91,
          27,
          36,
          65,
          345,
          69,
          96,
          26,
          38,
          75,
          67,
          52,
          81,
          67,
          65,
          35,
          24,
          71,
          57,
          34,
          59,
          202,
          193,
          52,
          56,
          82,
          187,
          166,
          127,
          49,
          167,
          32,
          33,
          40,
          44,
          63,
          34,
          62,
          147,
          124,
          37,
          141,
          152,
          50,
          21,
          79,
          47,
          229,
          73,
          43,
          86,
          75
         ]
        }
       ],
       "layout": {
        "plot_bgcolor": "pink",
        "template": {
         "data": {
          "bar": [
           {
            "error_x": {
             "color": "#2a3f5f"
            },
            "error_y": {
             "color": "#2a3f5f"
            },
            "marker": {
             "line": {
              "color": "#E5ECF6",
              "width": 0.5
             }
            },
            "type": "bar"
           }
          ],
          "barpolar": [
           {
            "marker": {
             "line": {
              "color": "#E5ECF6",
              "width": 0.5
             }
            },
            "type": "barpolar"
           }
          ],
          "carpet": [
           {
            "aaxis": {
             "endlinecolor": "#2a3f5f",
             "gridcolor": "white",
             "linecolor": "white",
             "minorgridcolor": "white",
             "startlinecolor": "#2a3f5f"
            },
            "baxis": {
             "endlinecolor": "#2a3f5f",
             "gridcolor": "white",
             "linecolor": "white",
             "minorgridcolor": "white",
             "startlinecolor": "#2a3f5f"
            },
            "type": "carpet"
           }
          ],
          "choropleth": [
           {
            "colorbar": {
             "outlinewidth": 0,
             "ticks": ""
            },
            "type": "choropleth"
           }
          ],
          "contour": [
           {
            "colorbar": {
             "outlinewidth": 0,
             "ticks": ""
            },
            "colorscale": [
             [
              0,
              "#0d0887"
             ],
             [
              0.1111111111111111,
              "#46039f"
             ],
             [
              0.2222222222222222,
              "#7201a8"
             ],
             [
              0.3333333333333333,
              "#9c179e"
             ],
             [
              0.4444444444444444,
              "#bd3786"
             ],
             [
              0.5555555555555556,
              "#d8576b"
             ],
             [
              0.6666666666666666,
              "#ed7953"
             ],
             [
              0.7777777777777778,
              "#fb9f3a"
             ],
             [
              0.8888888888888888,
              "#fdca26"
             ],
             [
              1,
              "#f0f921"
             ]
            ],
            "type": "contour"
           }
          ],
          "contourcarpet": [
           {
            "colorbar": {
             "outlinewidth": 0,
             "ticks": ""
            },
            "type": "contourcarpet"
           }
          ],
          "heatmap": [
           {
            "colorbar": {
             "outlinewidth": 0,
             "ticks": ""
            },
            "colorscale": [
             [
              0,
              "#0d0887"
             ],
             [
              0.1111111111111111,
              "#46039f"
             ],
             [
              0.2222222222222222,
              "#7201a8"
             ],
             [
              0.3333333333333333,
              "#9c179e"
             ],
             [
              0.4444444444444444,
              "#bd3786"
             ],
             [
              0.5555555555555556,
              "#d8576b"
             ],
             [
              0.6666666666666666,
              "#ed7953"
             ],
             [
              0.7777777777777778,
              "#fb9f3a"
             ],
             [
              0.8888888888888888,
              "#fdca26"
             ],
             [
              1,
              "#f0f921"
             ]
            ],
            "type": "heatmap"
           }
          ],
          "heatmapgl": [
           {
            "colorbar": {
             "outlinewidth": 0,
             "ticks": ""
            },
            "colorscale": [
             [
              0,
              "#0d0887"
             ],
             [
              0.1111111111111111,
              "#46039f"
             ],
             [
              0.2222222222222222,
              "#7201a8"
             ],
             [
              0.3333333333333333,
              "#9c179e"
             ],
             [
              0.4444444444444444,
              "#bd3786"
             ],
             [
              0.5555555555555556,
              "#d8576b"
             ],
             [
              0.6666666666666666,
              "#ed7953"
             ],
             [
              0.7777777777777778,
              "#fb9f3a"
             ],
             [
              0.8888888888888888,
              "#fdca26"
             ],
             [
              1,
              "#f0f921"
             ]
            ],
            "type": "heatmapgl"
           }
          ],
          "histogram": [
           {
            "marker": {
             "colorbar": {
              "outlinewidth": 0,
              "ticks": ""
             }
            },
            "type": "histogram"
           }
          ],
          "histogram2d": [
           {
            "colorbar": {
             "outlinewidth": 0,
             "ticks": ""
            },
            "colorscale": [
             [
              0,
              "#0d0887"
             ],
             [
              0.1111111111111111,
              "#46039f"
             ],
             [
              0.2222222222222222,
              "#7201a8"
             ],
             [
              0.3333333333333333,
              "#9c179e"
             ],
             [
              0.4444444444444444,
              "#bd3786"
             ],
             [
              0.5555555555555556,
              "#d8576b"
             ],
             [
              0.6666666666666666,
              "#ed7953"
             ],
             [
              0.7777777777777778,
              "#fb9f3a"
             ],
             [
              0.8888888888888888,
              "#fdca26"
             ],
             [
              1,
              "#f0f921"
             ]
            ],
            "type": "histogram2d"
           }
          ],
          "histogram2dcontour": [
           {
            "colorbar": {
             "outlinewidth": 0,
             "ticks": ""
            },
            "colorscale": [
             [
              0,
              "#0d0887"
             ],
             [
              0.1111111111111111,
              "#46039f"
             ],
             [
              0.2222222222222222,
              "#7201a8"
             ],
             [
              0.3333333333333333,
              "#9c179e"
             ],
             [
              0.4444444444444444,
              "#bd3786"
             ],
             [
              0.5555555555555556,
              "#d8576b"
             ],
             [
              0.6666666666666666,
              "#ed7953"
             ],
             [
              0.7777777777777778,
              "#fb9f3a"
             ],
             [
              0.8888888888888888,
              "#fdca26"
             ],
             [
              1,
              "#f0f921"
             ]
            ],
            "type": "histogram2dcontour"
           }
          ],
          "mesh3d": [
           {
            "colorbar": {
             "outlinewidth": 0,
             "ticks": ""
            },
            "type": "mesh3d"
           }
          ],
          "parcoords": [
           {
            "line": {
             "colorbar": {
              "outlinewidth": 0,
              "ticks": ""
             }
            },
            "type": "parcoords"
           }
          ],
          "scatter": [
           {
            "marker": {
             "colorbar": {
              "outlinewidth": 0,
              "ticks": ""
             }
            },
            "type": "scatter"
           }
          ],
          "scatter3d": [
           {
            "line": {
             "colorbar": {
              "outlinewidth": 0,
              "ticks": ""
             }
            },
            "marker": {
             "colorbar": {
              "outlinewidth": 0,
              "ticks": ""
             }
            },
            "type": "scatter3d"
           }
          ],
          "scattercarpet": [
           {
            "marker": {
             "colorbar": {
              "outlinewidth": 0,
              "ticks": ""
             }
            },
            "type": "scattercarpet"
           }
          ],
          "scattergeo": [
           {
            "marker": {
             "colorbar": {
              "outlinewidth": 0,
              "ticks": ""
             }
            },
            "type": "scattergeo"
           }
          ],
          "scattergl": [
           {
            "marker": {
             "colorbar": {
              "outlinewidth": 0,
              "ticks": ""
             }
            },
            "type": "scattergl"
           }
          ],
          "scattermapbox": [
           {
            "marker": {
             "colorbar": {
              "outlinewidth": 0,
              "ticks": ""
             }
            },
            "type": "scattermapbox"
           }
          ],
          "scatterpolar": [
           {
            "marker": {
             "colorbar": {
              "outlinewidth": 0,
              "ticks": ""
             }
            },
            "type": "scatterpolar"
           }
          ],
          "scatterpolargl": [
           {
            "marker": {
             "colorbar": {
              "outlinewidth": 0,
              "ticks": ""
             }
            },
            "type": "scatterpolargl"
           }
          ],
          "scatterternary": [
           {
            "marker": {
             "colorbar": {
              "outlinewidth": 0,
              "ticks": ""
             }
            },
            "type": "scatterternary"
           }
          ],
          "surface": [
           {
            "colorbar": {
             "outlinewidth": 0,
             "ticks": ""
            },
            "colorscale": [
             [
              0,
              "#0d0887"
             ],
             [
              0.1111111111111111,
              "#46039f"
             ],
             [
              0.2222222222222222,
              "#7201a8"
             ],
             [
              0.3333333333333333,
              "#9c179e"
             ],
             [
              0.4444444444444444,
              "#bd3786"
             ],
             [
              0.5555555555555556,
              "#d8576b"
             ],
             [
              0.6666666666666666,
              "#ed7953"
             ],
             [
              0.7777777777777778,
              "#fb9f3a"
             ],
             [
              0.8888888888888888,
              "#fdca26"
             ],
             [
              1,
              "#f0f921"
             ]
            ],
            "type": "surface"
           }
          ],
          "table": [
           {
            "cells": {
             "fill": {
              "color": "#EBF0F8"
             },
             "line": {
              "color": "white"
             }
            },
            "header": {
             "fill": {
              "color": "#C8D4E3"
             },
             "line": {
              "color": "white"
             }
            },
            "type": "table"
           }
          ]
         },
         "layout": {
          "annotationdefaults": {
           "arrowcolor": "#2a3f5f",
           "arrowhead": 0,
           "arrowwidth": 1
          },
          "colorscale": {
           "diverging": [
            [
             0,
             "#8e0152"
            ],
            [
             0.1,
             "#c51b7d"
            ],
            [
             0.2,
             "#de77ae"
            ],
            [
             0.3,
             "#f1b6da"
            ],
            [
             0.4,
             "#fde0ef"
            ],
            [
             0.5,
             "#f7f7f7"
            ],
            [
             0.6,
             "#e6f5d0"
            ],
            [
             0.7,
             "#b8e186"
            ],
            [
             0.8,
             "#7fbc41"
            ],
            [
             0.9,
             "#4d9221"
            ],
            [
             1,
             "#276419"
            ]
           ],
           "sequential": [
            [
             0,
             "#0d0887"
            ],
            [
             0.1111111111111111,
             "#46039f"
            ],
            [
             0.2222222222222222,
             "#7201a8"
            ],
            [
             0.3333333333333333,
             "#9c179e"
            ],
            [
             0.4444444444444444,
             "#bd3786"
            ],
            [
             0.5555555555555556,
             "#d8576b"
            ],
            [
             0.6666666666666666,
             "#ed7953"
            ],
            [
             0.7777777777777778,
             "#fb9f3a"
            ],
            [
             0.8888888888888888,
             "#fdca26"
            ],
            [
             1,
             "#f0f921"
            ]
           ],
           "sequentialminus": [
            [
             0,
             "#0d0887"
            ],
            [
             0.1111111111111111,
             "#46039f"
            ],
            [
             0.2222222222222222,
             "#7201a8"
            ],
            [
             0.3333333333333333,
             "#9c179e"
            ],
            [
             0.4444444444444444,
             "#bd3786"
            ],
            [
             0.5555555555555556,
             "#d8576b"
            ],
            [
             0.6666666666666666,
             "#ed7953"
            ],
            [
             0.7777777777777778,
             "#fb9f3a"
            ],
            [
             0.8888888888888888,
             "#fdca26"
            ],
            [
             1,
             "#f0f921"
            ]
           ]
          },
          "colorway": [
           "#636efa",
           "#EF553B",
           "#00cc96",
           "#ab63fa",
           "#FFA15A",
           "#19d3f3",
           "#FF6692",
           "#B6E880",
           "#FF97FF",
           "#FECB52"
          ],
          "font": {
           "color": "#2a3f5f"
          },
          "geo": {
           "bgcolor": "white",
           "lakecolor": "white",
           "landcolor": "#E5ECF6",
           "showlakes": true,
           "showland": true,
           "subunitcolor": "white"
          },
          "hoverlabel": {
           "align": "left"
          },
          "hovermode": "closest",
          "mapbox": {
           "style": "light"
          },
          "paper_bgcolor": "white",
          "plot_bgcolor": "#E5ECF6",
          "polar": {
           "angularaxis": {
            "gridcolor": "white",
            "linecolor": "white",
            "ticks": ""
           },
           "bgcolor": "#E5ECF6",
           "radialaxis": {
            "gridcolor": "white",
            "linecolor": "white",
            "ticks": ""
           }
          },
          "scene": {
           "xaxis": {
            "backgroundcolor": "#E5ECF6",
            "gridcolor": "white",
            "gridwidth": 2,
            "linecolor": "white",
            "showbackground": true,
            "ticks": "",
            "zerolinecolor": "white"
           },
           "yaxis": {
            "backgroundcolor": "#E5ECF6",
            "gridcolor": "white",
            "gridwidth": 2,
            "linecolor": "white",
            "showbackground": true,
            "ticks": "",
            "zerolinecolor": "white"
           },
           "zaxis": {
            "backgroundcolor": "#E5ECF6",
            "gridcolor": "white",
            "gridwidth": 2,
            "linecolor": "white",
            "showbackground": true,
            "ticks": "",
            "zerolinecolor": "white"
           }
          },
          "shapedefaults": {
           "line": {
            "color": "#2a3f5f"
           }
          },
          "ternary": {
           "aaxis": {
            "gridcolor": "white",
            "linecolor": "white",
            "ticks": ""
           },
           "baxis": {
            "gridcolor": "white",
            "linecolor": "white",
            "ticks": ""
           },
           "bgcolor": "#E5ECF6",
           "caxis": {
            "gridcolor": "white",
            "linecolor": "white",
            "ticks": ""
           }
          },
          "title": {
           "x": 0.05
          },
          "xaxis": {
           "automargin": true,
           "gridcolor": "white",
           "linecolor": "white",
           "ticks": "",
           "zerolinecolor": "white",
           "zerolinewidth": 2
          },
          "yaxis": {
           "automargin": true,
           "gridcolor": "white",
           "linecolor": "white",
           "ticks": "",
           "zerolinecolor": "white",
           "zerolinewidth": 2
          }
         }
        },
        "title": {
         "text": "Общее число действий в зависимости от времени публикации"
        },
        "xaxis": {
         "title": {
          "text": "Время публикации, часы"
         }
        },
        "yaxis": {
         "title": {
          "text": "Общее число действий"
         }
        }
       }
      },
      "text/html": [
       "<div>\n",
       "        \n",
       "        \n",
       "            <div id=\"14e6f44d-5d90-4e03-8d93-c784765e961d\" class=\"plotly-graph-div\" style=\"height:525px; width:100%;\"></div>\n",
       "            <script type=\"text/javascript\">\n",
       "                require([\"plotly\"], function(Plotly) {\n",
       "                    window.PLOTLYENV=window.PLOTLYENV || {};\n",
       "                    \n",
       "                if (document.getElementById(\"14e6f44d-5d90-4e03-8d93-c784765e961d\")) {\n",
       "                    Plotly.newPlot(\n",
       "                        '14e6f44d-5d90-4e03-8d93-c784765e961d',\n",
       "                        [{\"mode\": \"markers\", \"type\": \"scatter\", \"x\": [\"09\", \"21\", \"18\", \"15\", \"11\", \"21\", \"18\", \"11\", \"21\", \"18\", \"15\", \"11\", \"21\", \"18\", \"11\", \"11\", \"22\", \"18\", \"15\", \"11\", \"21\", \"15\", \"11\", \"21\", \"18\", \"14\", \"11\", \"21\", \"18\", \"15\", \"11\", \"21\", \"18\", \"11\", \"21\", \"18\", \"15\", \"11\", \"21\", \"18\", \"15\", \"11\", \"22\", \"18\", \"15\", \"11\", \"22\", \"18\", \"15\", \"11\", \"22\", \"18\", \"15\", \"11\", \"22\", \"18\", \"15\", \"11\", \"21\", \"20\", \"11\", \"21\", \"18\", \"15\", \"11\", \"21\", \"18\", \"15\", \"11\", \"22\", \"18\", \"15\", \"11\", \"21\", \"18\", \"15\", \"11\", \"21\", \"18\", \"15\", \"11\", \"21\", \"15\", \"11\", \"21\", \"18\", \"16\", \"11\", \"21\", \"18\", \"15\", \"11\", \"21\", \"18\", \"15\", \"11\", \"21\", \"18\", \"15\", \"11\", \"15\", \"11\", \"21\", \"18\", \"15\", \"11\", \"21\", \"18\", \"15\", \"11\", \"22\", \"18\", \"15\", \"11\", \"21\", \"18\", \"15\", \"11\", \"21\", \"18\", \"15\", \"11\", \"10\", \"23\", \"19\", \"15\", \"11\", \"21\", \"18\", \"15\", \"11\", \"21\", \"18\", \"15\", \"11\", \"21\", \"18\", \"15\", \"11\", \"21\", \"18\", \"15\", \"11\", \"21\", \"18\", \"15\", \"11\", \"18\", \"15\", \"11\", \"22\", \"18\", \"15\", \"11\", \"21\", \"18\", \"15\", \"11\", \"21\", \"18\", \"15\", \"11\", \"21\", \"18\", \"15\", \"11\", \"22\", \"18\", \"15\", \"11\", \"21\", \"18\", \"15\", \"11\", \"22\", \"18\", \"15\", \"12\", \"22\", \"18\", \"15\", \"11\", \"21\", \"18\", \"15\", \"11\", \"21\", \"18\", \"15\", \"11\", \"21\", \"15\", \"11\", \"23\", \"17\", \"11\", \"22\", \"17\", \"11\", \"23\", \"16\", \"11\", \"22\", \"19\", \"15\", \"11\", \"21\", \"18\", \"15\", \"11\", \"21\", \"18\", \"15\", \"11\", \"21\", \"18\", \"15\", \"11\", \"21\", \"18\", \"15\", \"11\", \"21\", \"18\", \"15\", \"11\", \"21\", \"18\", \"15\", \"11\", \"22\", \"18\", \"16\", \"11\", \"22\", \"18\", \"15\", \"11\", \"20\", \"15\", \"12\", \"21\", \"18\", \"15\", \"11\", \"21\", \"18\", \"15\", \"13\", \"00\", \"15\", \"22\", \"15\", \"12\", \"21\", \"18\", \"15\", \"12\", \"22\", \"15\", \"11\", \"01\", \"17\", \"13\", \"11\", \"19\", \"16\", \"13\", \"11\", \"21\", \"20\", \"15\", \"12\", \"22\", \"16\", \"12\", \"22\", \"19\", \"16\", \"11\", \"22\", \"18\", \"14\", \"01\", \"16\", \"12\", \"22\", \"16\", \"12\", \"23\", \"16\", \"12\", \"21\", \"16\", \"12\", \"21\", \"16\", \"12\", \"22\", \"16\", \"13\", \"22\", \"19\", \"16\", \"21\", \"17\", \"12\", \"21\", \"16\", \"12\", \"22\", \"16\", \"12\", \"21\", \"16\", \"12\", \"23\", \"16\", \"12\", \"21\", \"18\", \"14\", \"22\", \"16\", \"12\", \"22\", \"17\", \"12\", \"21\", \"16\", \"12\", \"22\", \"16\", \"12\", \"21\", \"16\", \"12\", \"21\", \"16\", \"12\", \"21\", \"16\", \"12\", \"22\", \"17\", \"12\", \"21\", \"17\", \"11\", \"22\", \"16\", \"12\", \"22\", \"17\", \"12\", \"22\", \"16\", \"12\", \"22\", \"16\", \"12\", \"21\", \"16\", \"12\", \"22\", \"16\", \"12\", \"16\", \"11\", \"09\", \"19\", \"15\", \"12\", \"21\", \"16\", \"13\", \"19\", \"16\", \"12\", \"21\", \"16\", \"12\", \"22\", \"16\", \"12\", \"22\", \"16\", \"12\", \"21\", \"16\", \"11\", \"22\", \"16\", \"13\", \"23\", \"16\", \"12\", \"21\", \"16\", \"12\", \"21\", \"16\", \"12\", \"22\", \"16\", \"13\", \"22\", \"16\", \"12\", \"22\", \"16\", \"12\", \"21\", \"16\", \"12\", \"22\", \"16\", \"12\", \"22\", \"16\", \"12\", \"01\", \"16\", \"12\", \"21\", \"15\", \"12\", \"21\", \"16\", \"12\", \"21\", \"17\", \"12\", \"22\", \"17\", \"12\", \"22\", \"17\", \"13\", \"21\", \"16\", \"12\", \"22\", \"16\", \"12\", \"21\", \"16\", \"12\", \"22\", \"16\", \"12\", \"22\", \"16\", \"12\", \"21\", \"18\", \"13\", \"21\", \"17\", \"13\", \"21\", \"18\", \"12\", \"21\", \"16\", \"12\", \"21\", \"16\", \"12\", \"22\", \"16\", \"12\", \"21\", \"16\", \"11\", \"21\", \"16\", \"13\", \"21\", \"17\", \"12\", \"21\", \"16\", \"12\", \"21\", \"16\", \"12\", \"21\", \"17\", \"13\", \"21\", \"16\", \"12\", \"21\", \"15\", \"12\", \"16\", \"12\", \"16\", \"11\", \"23\", \"22\", \"16\", \"12\", \"08\", \"22\", \"16\", \"12\", \"22\", \"16\", \"12\", \"21\", \"17\", \"13\", \"21\", \"18\", \"14\", \"19\", \"17\", \"13\", \"23\", \"17\", \"12\", \"21\", \"16\", \"12\", \"23\", \"12\", \"22\", \"17\", \"12\", \"23\", \"17\", \"12\", \"21\", \"17\", \"12\", \"22\", \"17\", \"12\", \"22\", \"16\", \"12\", \"00\", \"17\", \"12\", \"22\", \"18\", \"12\", \"21\", \"17\", \"13\", \"22\", \"17\", \"12\", \"21\", \"18\", \"13\", \"21\", \"16\", \"12\", \"21\", \"16\", \"13\", \"08\", \"21\", \"15\", \"12\", \"22\", \"16\", \"12\", \"21\", \"16\", \"12\", \"22\", \"17\", \"12\", \"19\", \"16\", \"12\", \"21\", \"16\", \"12\", \"21\", \"18\", \"13\", \"16\", \"12\", \"21\", \"17\", \"13\", \"22\", \"16\", \"13\", \"21\", \"16\", \"12\", \"21\", \"17\", \"12\", \"21\", \"16\", \"12\", \"21\", \"18\", \"13\", \"21\", \"17\", \"12\", \"21\", \"18\", \"13\", \"21\", \"16\", \"12\", \"21\", \"17\", \"12\", \"21\", \"16\", \"12\", \"21\", \"16\", \"12\", \"22\", \"17\", \"12\", \"22\", \"17\", \"12\", \"22\", \"17\", \"13\", \"21\", \"16\", \"12\", \"21\", \"16\", \"12\", \"21\", \"16\", \"12\", \"21\", \"16\", \"12\", \"21\", \"16\", \"13\", \"22\", \"17\", \"12\", \"21\", \"16\", \"12\", \"22\", \"16\", \"13\", \"22\", \"16\", \"12\", \"21\", \"17\", \"12\", \"21\", \"16\", \"11\", \"22\", \"16\", \"11\", \"21\", \"17\", \"12\", \"22\", \"18\", \"13\", \"22\", \"16\", \"13\", \"21\", \"16\", \"12\", \"22\", \"17\", \"12\", \"22\", \"16\", \"12\", \"22\", \"19\", \"12\", \"21\", \"13\", \"23\", \"18\", \"14\", \"22\", \"17\", \"14\", \"21\", \"17\", \"13\", \"21\", \"16\", \"12\", \"21\", \"16\", \"12\", \"21\", \"17\", \"12\", \"21\", \"17\", \"13\", \"22\", \"16\", \"12\", \"21\", \"16\", \"12\", \"22\", \"17\", \"12\", \"22\", \"17\", \"12\", \"21\", \"17\", \"12\", \"21\", \"18\", \"12\", \"21\", \"13\", \"22\", \"17\", \"13\", \"22\", \"16\", \"12\", \"22\", \"18\", \"12\", \"21\", \"18\", \"12\", \"21\", \"16\", \"12\", \"21\", \"16\", \"12\", \"21\", \"12\", \"21\", \"19\", \"14\", \"23\", \"17\", \"12\", \"21\", \"16\", \"12\", \"22\", \"21\", \"16\", \"12\", \"21\", \"16\", \"12\", \"21\", \"16\", \"12\", \"21\", \"16\", \"12\", \"21\", \"16\", \"12\", \"22\", \"17\", \"12\", \"21\", \"16\", \"12\", \"21\", \"17\", \"12\", \"21\", \"15\", \"12\", \"20\", \"15\", \"12\", \"21\", \"16\", \"12\", \"16\", \"12\", \"21\", \"15\", \"22\", \"17\", \"11\", \"21\", \"19\", \"12\", \"21\", \"16\", \"12\", \"22\", \"16\", \"12\", \"22\", \"16\", \"12\", \"21\", \"18\", \"15\", \"11\", \"21\", \"17\", \"21\", \"18\", \"15\", \"11\", \"21\", \"18\"], \"y\": [187, 30, 92, 28, 50, 20, 106, 104, 202, 73, 166, 38, 108, 45, 39, 127, 49, 27, 46, 64, 93, 107, 137, 97, 87, 79, 79, 94, 60, 304, 42, 26, 48, 32, 57, 436, 50, 98, 84, 72, 101, 47, 54, 24, 61, 101, 76, 69, 76, 48, 38, 272, 72, 106, 167, 90, 46, 131, 44, 58, 106, 56, 30, 90, 81, 111, 79, 93, 55, 58, 48, 58, 115, 346, 24, 68, 77, 120, 73, 75, 130, 44, 84, 18, 75, 100, 25, 64, 56, 117, 84, 56, 89, 60, 90, 87, 33, 99, 65, 88, 25, 83, 72, 154, 146, 24, 147, 58, 59, 151, 76, 57, 33, 48, 98, 50, 105, 55, 134, 135, 69, 228, 388, 174, 37, 99, 92, 95, 91, 127, 75, 44, 112, 64, 150, 49, 124, 35, 66, 130, 83, 121, 190, 50, 228, 151, 287, 68, 30, 61, 62, 109, 62, 698, 97, 243, 125, 34, 119, 72, 116, 41, 81, 50, 124, 152, 64, 62, 22, 63, 63, 105, 167, 46, 264, 140, 63, 11, 658, 644, 115, 66, 166, 40, 37, 145, 57, 17, 70, 31, 142, 148, 70, 81, 69, 36, 25, 13, 59, 38, 57, 38, 59, 68, 40, 102, 40, 102, 16, 45, 117, 52, 58, 105, 73, 32, 113, 112, 189, 69, 15, 105, 60, 120, 73, 28, 37, 60, 25, 37, 65, 126, 76, 120, 19, 69, 90, 38, 224, 116, 77, 81, 91, 80, 130, 94, 17, 105, 147, 230, 60, 203, 86, 51, 17, 107, 143, 273, 233, 36, 51, 27, 41, 31, 52, 185, 56, 121, 49, 88, 665, 46, 31, 111, 12, 118, 69, 71, 29, 41, 54, 38, 121, 82, 35, 66, 29, 28, 52, 71, 78, 157, 60, 25, 29, 100, 39, 76, 31, 107, 26, 114, 20, 54, 38, 72, 31, 27, 45, 161, 24, 79, 86, 58, 165, 32, 60, 54, 61, 33, 30, 406, 242, 70, 165, 51, 178, 102, 35, 30, 42, 154, 57, 208, 239, 325, 137, 106, 21, 151, 85, 102, 108, 404, 83, 206, 95, 55, 78, 25, 50, 294, 71, 72, 162, 256, 71, 31, 64, 27, 78, 84, 90, 44, 81, 187, 20, 128, 59, 21, 235, 71, 93, 114, 78, 179, 91, 98, 24, 191, 216, 105, 121, 275, 107, 20, 83, 47, 92, 104, 24, 93, 140, 68, 54, 66, 166, 16, 122, 75, 29, 44, 81, 148, 60, 95, 91, 103, 96, 28, 90, 479, 104, 24, 96, 97, 122, 66, 244, 27, 21, 119, 69, 18, 116, 56, 44, 102, 20, 195, 93, 22, 26, 92, 89, 167, 46, 56, 114, 15, 77, 96, 12, 89, 234, 146, 60, 56, 161, 127, 242, 24, 201, 30, 30, 34, 203, 45, 491, 44, 29, 64, 116, 38, 34, 182, 168, 238, 68, 94, 135, 210, 247, 334, 50, 26, 308, 62, 164, 62, 99, 76, 50, 128, 59, 205, 49, 248, 56, 44, 44, 51, 41, 344, 83, 207, 173, 82, 29, 412, 94, 49, 111, 251, 130, 237, 156, 53, 30, 54, 37, 182, 181, 76, 42, 64, 140, 116, 94, 58, 141, 21, 186, 93, 29, 577, 121, 80, 171, 95, 35, 108, 22, 62, 30, 103, 147, 43, 60, 239, 369, 193, 43, 13, 71, 168, 50, 40, 199, 162, 70, 105, 236, 42, 19, 128, 89, 29, 64, 92, 117, 68, 228, 57, 22, 78, 45, 31, 78, 65, 55, 21, 61, 127, 124, 24, 32, 49, 135, 76, 46, 224, 127, 144, 138, 70, 24, 51, 110, 104, 109, 55, 191, 67, 29, 59, 61, 92, 43, 58, 59, 101, 53, 95, 43, 468, 34, 67, 52, 41, 355, 64, 229, 85, 50, 87, 17, 92, 82, 116, 139, 71, 168, 41, 88, 32, 48, 60, 105, 76, 78, 54, 247, 46, 52, 28, 203, 69, 157, 172, 55, 106, 72, 81, 64, 97, 170, 118, 148, 65, 43, 76, 61, 91, 252, 46, 54, 111, 346, 70, 88, 164, 66, 71, 69, 108, 112, 114, 66, 47, 121, 27, 75, 183, 110, 63, 54, 160, 88, 94, 284, 152, 66, 186, 126, 127, 335, 89, 133, 63, 54, 94, 41, 53, 155, 59, 88, 41, 111, 53, 42, 154, 22, 17, 114, 160, 35, 70, 67, 61, 43, 64, 44, 53, 68, 78, 81, 58, 27, 76, 46, 141, 31, 174, 53, 28, 45, 88, 35, 163, 83, 40, 35, 64, 182, 62, 64, 122, 141, 139, 99, 122, 54, 75, 20, 94, 81, 96, 246, 68, 133, 80, 70, 25, 120, 115, 12, 63, 275, 53, 126, 43, 93, 196, 55, 88, 64, 48, 55, 57, 27, 41, 35, 45, 124, 91, 27, 36, 65, 345, 69, 96, 26, 38, 75, 67, 52, 81, 67, 65, 35, 24, 71, 57, 34, 59, 202, 193, 52, 56, 82, 187, 166, 127, 49, 167, 32, 33, 40, 44, 63, 34, 62, 147, 124, 37, 141, 152, 50, 21, 79, 47, 229, 73, 43, 86, 75]}],\n",
       "                        {\"plot_bgcolor\": \"pink\", \"template\": {\"data\": {\"bar\": [{\"error_x\": {\"color\": \"#2a3f5f\"}, \"error_y\": {\"color\": \"#2a3f5f\"}, \"marker\": {\"line\": {\"color\": \"#E5ECF6\", \"width\": 0.5}}, \"type\": \"bar\"}], \"barpolar\": [{\"marker\": {\"line\": {\"color\": \"#E5ECF6\", \"width\": 0.5}}, \"type\": \"barpolar\"}], \"carpet\": [{\"aaxis\": {\"endlinecolor\": \"#2a3f5f\", \"gridcolor\": \"white\", \"linecolor\": \"white\", \"minorgridcolor\": \"white\", \"startlinecolor\": \"#2a3f5f\"}, \"baxis\": {\"endlinecolor\": \"#2a3f5f\", \"gridcolor\": \"white\", \"linecolor\": \"white\", \"minorgridcolor\": \"white\", \"startlinecolor\": \"#2a3f5f\"}, \"type\": \"carpet\"}], \"choropleth\": [{\"colorbar\": {\"outlinewidth\": 0, \"ticks\": \"\"}, \"type\": \"choropleth\"}], \"contour\": [{\"colorbar\": {\"outlinewidth\": 0, \"ticks\": \"\"}, \"colorscale\": [[0.0, \"#0d0887\"], [0.1111111111111111, \"#46039f\"], [0.2222222222222222, \"#7201a8\"], [0.3333333333333333, \"#9c179e\"], [0.4444444444444444, \"#bd3786\"], [0.5555555555555556, \"#d8576b\"], [0.6666666666666666, \"#ed7953\"], [0.7777777777777778, \"#fb9f3a\"], [0.8888888888888888, \"#fdca26\"], [1.0, \"#f0f921\"]], \"type\": \"contour\"}], \"contourcarpet\": [{\"colorbar\": {\"outlinewidth\": 0, \"ticks\": \"\"}, \"type\": \"contourcarpet\"}], \"heatmap\": [{\"colorbar\": {\"outlinewidth\": 0, \"ticks\": \"\"}, \"colorscale\": [[0.0, \"#0d0887\"], [0.1111111111111111, \"#46039f\"], [0.2222222222222222, \"#7201a8\"], [0.3333333333333333, \"#9c179e\"], [0.4444444444444444, \"#bd3786\"], [0.5555555555555556, \"#d8576b\"], [0.6666666666666666, \"#ed7953\"], [0.7777777777777778, \"#fb9f3a\"], [0.8888888888888888, \"#fdca26\"], [1.0, \"#f0f921\"]], \"type\": \"heatmap\"}], \"heatmapgl\": [{\"colorbar\": {\"outlinewidth\": 0, \"ticks\": \"\"}, \"colorscale\": [[0.0, \"#0d0887\"], [0.1111111111111111, \"#46039f\"], [0.2222222222222222, \"#7201a8\"], [0.3333333333333333, \"#9c179e\"], [0.4444444444444444, \"#bd3786\"], [0.5555555555555556, \"#d8576b\"], [0.6666666666666666, \"#ed7953\"], [0.7777777777777778, \"#fb9f3a\"], [0.8888888888888888, \"#fdca26\"], [1.0, \"#f0f921\"]], \"type\": \"heatmapgl\"}], \"histogram\": [{\"marker\": {\"colorbar\": {\"outlinewidth\": 0, \"ticks\": \"\"}}, \"type\": \"histogram\"}], \"histogram2d\": [{\"colorbar\": {\"outlinewidth\": 0, \"ticks\": \"\"}, \"colorscale\": [[0.0, \"#0d0887\"], [0.1111111111111111, \"#46039f\"], [0.2222222222222222, \"#7201a8\"], [0.3333333333333333, \"#9c179e\"], [0.4444444444444444, \"#bd3786\"], [0.5555555555555556, \"#d8576b\"], [0.6666666666666666, \"#ed7953\"], [0.7777777777777778, \"#fb9f3a\"], [0.8888888888888888, \"#fdca26\"], [1.0, \"#f0f921\"]], \"type\": \"histogram2d\"}], \"histogram2dcontour\": [{\"colorbar\": {\"outlinewidth\": 0, \"ticks\": \"\"}, \"colorscale\": [[0.0, \"#0d0887\"], [0.1111111111111111, \"#46039f\"], [0.2222222222222222, \"#7201a8\"], [0.3333333333333333, \"#9c179e\"], [0.4444444444444444, \"#bd3786\"], [0.5555555555555556, \"#d8576b\"], [0.6666666666666666, \"#ed7953\"], [0.7777777777777778, \"#fb9f3a\"], [0.8888888888888888, \"#fdca26\"], [1.0, \"#f0f921\"]], \"type\": \"histogram2dcontour\"}], \"mesh3d\": [{\"colorbar\": {\"outlinewidth\": 0, \"ticks\": \"\"}, \"type\": \"mesh3d\"}], \"parcoords\": [{\"line\": {\"colorbar\": {\"outlinewidth\": 0, \"ticks\": \"\"}}, \"type\": \"parcoords\"}], \"scatter\": [{\"marker\": {\"colorbar\": {\"outlinewidth\": 0, \"ticks\": \"\"}}, \"type\": \"scatter\"}], \"scatter3d\": [{\"line\": {\"colorbar\": {\"outlinewidth\": 0, \"ticks\": \"\"}}, \"marker\": {\"colorbar\": {\"outlinewidth\": 0, \"ticks\": \"\"}}, \"type\": \"scatter3d\"}], \"scattercarpet\": [{\"marker\": {\"colorbar\": {\"outlinewidth\": 0, \"ticks\": \"\"}}, \"type\": \"scattercarpet\"}], \"scattergeo\": [{\"marker\": {\"colorbar\": {\"outlinewidth\": 0, \"ticks\": \"\"}}, \"type\": \"scattergeo\"}], \"scattergl\": [{\"marker\": {\"colorbar\": {\"outlinewidth\": 0, \"ticks\": \"\"}}, \"type\": \"scattergl\"}], \"scattermapbox\": [{\"marker\": {\"colorbar\": {\"outlinewidth\": 0, \"ticks\": \"\"}}, \"type\": \"scattermapbox\"}], \"scatterpolar\": [{\"marker\": {\"colorbar\": {\"outlinewidth\": 0, \"ticks\": \"\"}}, \"type\": \"scatterpolar\"}], \"scatterpolargl\": [{\"marker\": {\"colorbar\": {\"outlinewidth\": 0, \"ticks\": \"\"}}, \"type\": \"scatterpolargl\"}], \"scatterternary\": [{\"marker\": {\"colorbar\": {\"outlinewidth\": 0, \"ticks\": \"\"}}, \"type\": \"scatterternary\"}], \"surface\": [{\"colorbar\": {\"outlinewidth\": 0, \"ticks\": \"\"}, \"colorscale\": [[0.0, \"#0d0887\"], [0.1111111111111111, \"#46039f\"], [0.2222222222222222, \"#7201a8\"], [0.3333333333333333, \"#9c179e\"], [0.4444444444444444, \"#bd3786\"], [0.5555555555555556, \"#d8576b\"], [0.6666666666666666, \"#ed7953\"], [0.7777777777777778, \"#fb9f3a\"], [0.8888888888888888, \"#fdca26\"], [1.0, \"#f0f921\"]], \"type\": \"surface\"}], \"table\": [{\"cells\": {\"fill\": {\"color\": \"#EBF0F8\"}, \"line\": {\"color\": \"white\"}}, \"header\": {\"fill\": {\"color\": \"#C8D4E3\"}, \"line\": {\"color\": \"white\"}}, \"type\": \"table\"}]}, \"layout\": {\"annotationdefaults\": {\"arrowcolor\": \"#2a3f5f\", \"arrowhead\": 0, \"arrowwidth\": 1}, \"colorscale\": {\"diverging\": [[0, \"#8e0152\"], [0.1, \"#c51b7d\"], [0.2, \"#de77ae\"], [0.3, \"#f1b6da\"], [0.4, \"#fde0ef\"], [0.5, \"#f7f7f7\"], [0.6, \"#e6f5d0\"], [0.7, \"#b8e186\"], [0.8, \"#7fbc41\"], [0.9, \"#4d9221\"], [1, \"#276419\"]], \"sequential\": [[0.0, \"#0d0887\"], [0.1111111111111111, \"#46039f\"], [0.2222222222222222, \"#7201a8\"], [0.3333333333333333, \"#9c179e\"], [0.4444444444444444, \"#bd3786\"], [0.5555555555555556, \"#d8576b\"], [0.6666666666666666, \"#ed7953\"], [0.7777777777777778, \"#fb9f3a\"], [0.8888888888888888, \"#fdca26\"], [1.0, \"#f0f921\"]], \"sequentialminus\": [[0.0, \"#0d0887\"], [0.1111111111111111, \"#46039f\"], [0.2222222222222222, \"#7201a8\"], [0.3333333333333333, \"#9c179e\"], [0.4444444444444444, \"#bd3786\"], [0.5555555555555556, \"#d8576b\"], [0.6666666666666666, \"#ed7953\"], [0.7777777777777778, \"#fb9f3a\"], [0.8888888888888888, \"#fdca26\"], [1.0, \"#f0f921\"]]}, \"colorway\": [\"#636efa\", \"#EF553B\", \"#00cc96\", \"#ab63fa\", \"#FFA15A\", \"#19d3f3\", \"#FF6692\", \"#B6E880\", \"#FF97FF\", \"#FECB52\"], \"font\": {\"color\": \"#2a3f5f\"}, \"geo\": {\"bgcolor\": \"white\", \"lakecolor\": \"white\", \"landcolor\": \"#E5ECF6\", \"showlakes\": true, \"showland\": true, \"subunitcolor\": \"white\"}, \"hoverlabel\": {\"align\": \"left\"}, \"hovermode\": \"closest\", \"mapbox\": {\"style\": \"light\"}, \"paper_bgcolor\": \"white\", \"plot_bgcolor\": \"#E5ECF6\", \"polar\": {\"angularaxis\": {\"gridcolor\": \"white\", \"linecolor\": \"white\", \"ticks\": \"\"}, \"bgcolor\": \"#E5ECF6\", \"radialaxis\": {\"gridcolor\": \"white\", \"linecolor\": \"white\", \"ticks\": \"\"}}, \"scene\": {\"xaxis\": {\"backgroundcolor\": \"#E5ECF6\", \"gridcolor\": \"white\", \"gridwidth\": 2, \"linecolor\": \"white\", \"showbackground\": true, \"ticks\": \"\", \"zerolinecolor\": \"white\"}, \"yaxis\": {\"backgroundcolor\": \"#E5ECF6\", \"gridcolor\": \"white\", \"gridwidth\": 2, \"linecolor\": \"white\", \"showbackground\": true, \"ticks\": \"\", \"zerolinecolor\": \"white\"}, \"zaxis\": {\"backgroundcolor\": \"#E5ECF6\", \"gridcolor\": \"white\", \"gridwidth\": 2, \"linecolor\": \"white\", \"showbackground\": true, \"ticks\": \"\", \"zerolinecolor\": \"white\"}}, \"shapedefaults\": {\"line\": {\"color\": \"#2a3f5f\"}}, \"ternary\": {\"aaxis\": {\"gridcolor\": \"white\", \"linecolor\": \"white\", \"ticks\": \"\"}, \"baxis\": {\"gridcolor\": \"white\", \"linecolor\": \"white\", \"ticks\": \"\"}, \"bgcolor\": \"#E5ECF6\", \"caxis\": {\"gridcolor\": \"white\", \"linecolor\": \"white\", \"ticks\": \"\"}}, \"title\": {\"x\": 0.05}, \"xaxis\": {\"automargin\": true, \"gridcolor\": \"white\", \"linecolor\": \"white\", \"ticks\": \"\", \"zerolinecolor\": \"white\", \"zerolinewidth\": 2}, \"yaxis\": {\"automargin\": true, \"gridcolor\": \"white\", \"linecolor\": \"white\", \"ticks\": \"\", \"zerolinecolor\": \"white\", \"zerolinewidth\": 2}}}, \"title\": {\"text\": \"\\u041e\\u0431\\u0449\\u0435\\u0435 \\u0447\\u0438\\u0441\\u043b\\u043e \\u0434\\u0435\\u0439\\u0441\\u0442\\u0432\\u0438\\u0439 \\u0432 \\u0437\\u0430\\u0432\\u0438\\u0441\\u0438\\u043c\\u043e\\u0441\\u0442\\u0438 \\u043e\\u0442 \\u0432\\u0440\\u0435\\u043c\\u0435\\u043d\\u0438 \\u043f\\u0443\\u0431\\u043b\\u0438\\u043a\\u0430\\u0446\\u0438\\u0438\"}, \"xaxis\": {\"title\": {\"text\": \"\\u0412\\u0440\\u0435\\u043c\\u044f \\u043f\\u0443\\u0431\\u043b\\u0438\\u043a\\u0430\\u0446\\u0438\\u0438, \\u0447\\u0430\\u0441\\u044b\"}}, \"yaxis\": {\"title\": {\"text\": \"\\u041e\\u0431\\u0449\\u0435\\u0435 \\u0447\\u0438\\u0441\\u043b\\u043e \\u0434\\u0435\\u0439\\u0441\\u0442\\u0432\\u0438\\u0439\"}}},\n",
       "                        {\"responsive\": true}\n",
       "                    ).then(function(){\n",
       "                            \n",
       "var gd = document.getElementById('14e6f44d-5d90-4e03-8d93-c784765e961d');\n",
       "var x = new MutationObserver(function (mutations, observer) {{\n",
       "        var display = window.getComputedStyle(gd).display;\n",
       "        if (!display || display === 'none') {{\n",
       "            console.log([gd, 'removed!']);\n",
       "            Plotly.purge(gd);\n",
       "            observer.disconnect();\n",
       "        }}\n",
       "}});\n",
       "\n",
       "// Listen for the removal of the full notebook cells\n",
       "var notebookContainer = gd.closest('#notebook-container');\n",
       "if (notebookContainer) {{\n",
       "    x.observe(notebookContainer, {childList: true});\n",
       "}}\n",
       "\n",
       "// Listen for the clearing of the current output cell\n",
       "var outputEl = gd.closest('.output');\n",
       "if (outputEl) {{\n",
       "    x.observe(outputEl, {childList: true});\n",
       "}}\n",
       "\n",
       "                        })\n",
       "                };\n",
       "                });\n",
       "            </script>\n",
       "        </div>"
      ]
     },
     "metadata": {},
     "output_type": "display_data"
    }
   ],
   "source": [
    "data = [go.Scatter(\n",
    "        x = df_titles.Time, \n",
    "        y = df_titles.total_actions,\n",
    "        mode = 'markers'\n",
    "    )]\n",
    "\n",
    "layout = go.Layout(\n",
    "        title = 'Общее число действий в зависимости от времени публикации',\n",
    "        xaxis = dict(title = 'Время публикации, часы'),\n",
    "        yaxis = dict(title = 'Общее число действий'),\n",
    "        plot_bgcolor='pink'\n",
    "        \n",
    ")\n",
    "\n",
    "fig = go.Figure(data = data, layout = layout) #объединяет дату и лэйаут \n",
    "###  дата будет списком. квадратные скобки, то что может быть несколько графиков\n",
    "pyo.iplot(fig, filename= 'scatter.html') ###добавляем букву i, чтобы график отображался в тетрадке\n",
    "\n"
   ]
  },
  {
   "cell_type": "code",
   "execution_count": 97,
   "metadata": {},
   "outputs": [
    {
     "data": {
      "application/vnd.plotly.v1+json": {
       "config": {
        "linkText": "Export to plot.ly",
        "plotlyServerURL": "https://plot.ly",
        "showLink": false
       },
       "data": [
        {
         "type": "bar",
         "x": [
          "Sep",
          "Oct",
          "Nov",
          "Dec",
          "Jan",
          "Feb",
          "Mar",
          "Apr",
          "May",
          "Jun",
          "Jul",
          "Aug",
          "Sep2019",
          "Oct2019"
         ],
         "y": [
          92,
          116,
          108,
          117,
          116,
          98,
          93,
          88,
          93,
          89,
          93,
          92,
          10,
          94
         ]
        }
       ],
       "layout": {
        "template": {
         "data": {
          "bar": [
           {
            "error_x": {
             "color": "#2a3f5f"
            },
            "error_y": {
             "color": "#2a3f5f"
            },
            "marker": {
             "line": {
              "color": "#E5ECF6",
              "width": 0.5
             }
            },
            "type": "bar"
           }
          ],
          "barpolar": [
           {
            "marker": {
             "line": {
              "color": "#E5ECF6",
              "width": 0.5
             }
            },
            "type": "barpolar"
           }
          ],
          "carpet": [
           {
            "aaxis": {
             "endlinecolor": "#2a3f5f",
             "gridcolor": "white",
             "linecolor": "white",
             "minorgridcolor": "white",
             "startlinecolor": "#2a3f5f"
            },
            "baxis": {
             "endlinecolor": "#2a3f5f",
             "gridcolor": "white",
             "linecolor": "white",
             "minorgridcolor": "white",
             "startlinecolor": "#2a3f5f"
            },
            "type": "carpet"
           }
          ],
          "choropleth": [
           {
            "colorbar": {
             "outlinewidth": 0,
             "ticks": ""
            },
            "type": "choropleth"
           }
          ],
          "contour": [
           {
            "colorbar": {
             "outlinewidth": 0,
             "ticks": ""
            },
            "colorscale": [
             [
              0,
              "#0d0887"
             ],
             [
              0.1111111111111111,
              "#46039f"
             ],
             [
              0.2222222222222222,
              "#7201a8"
             ],
             [
              0.3333333333333333,
              "#9c179e"
             ],
             [
              0.4444444444444444,
              "#bd3786"
             ],
             [
              0.5555555555555556,
              "#d8576b"
             ],
             [
              0.6666666666666666,
              "#ed7953"
             ],
             [
              0.7777777777777778,
              "#fb9f3a"
             ],
             [
              0.8888888888888888,
              "#fdca26"
             ],
             [
              1,
              "#f0f921"
             ]
            ],
            "type": "contour"
           }
          ],
          "contourcarpet": [
           {
            "colorbar": {
             "outlinewidth": 0,
             "ticks": ""
            },
            "type": "contourcarpet"
           }
          ],
          "heatmap": [
           {
            "colorbar": {
             "outlinewidth": 0,
             "ticks": ""
            },
            "colorscale": [
             [
              0,
              "#0d0887"
             ],
             [
              0.1111111111111111,
              "#46039f"
             ],
             [
              0.2222222222222222,
              "#7201a8"
             ],
             [
              0.3333333333333333,
              "#9c179e"
             ],
             [
              0.4444444444444444,
              "#bd3786"
             ],
             [
              0.5555555555555556,
              "#d8576b"
             ],
             [
              0.6666666666666666,
              "#ed7953"
             ],
             [
              0.7777777777777778,
              "#fb9f3a"
             ],
             [
              0.8888888888888888,
              "#fdca26"
             ],
             [
              1,
              "#f0f921"
             ]
            ],
            "type": "heatmap"
           }
          ],
          "heatmapgl": [
           {
            "colorbar": {
             "outlinewidth": 0,
             "ticks": ""
            },
            "colorscale": [
             [
              0,
              "#0d0887"
             ],
             [
              0.1111111111111111,
              "#46039f"
             ],
             [
              0.2222222222222222,
              "#7201a8"
             ],
             [
              0.3333333333333333,
              "#9c179e"
             ],
             [
              0.4444444444444444,
              "#bd3786"
             ],
             [
              0.5555555555555556,
              "#d8576b"
             ],
             [
              0.6666666666666666,
              "#ed7953"
             ],
             [
              0.7777777777777778,
              "#fb9f3a"
             ],
             [
              0.8888888888888888,
              "#fdca26"
             ],
             [
              1,
              "#f0f921"
             ]
            ],
            "type": "heatmapgl"
           }
          ],
          "histogram": [
           {
            "marker": {
             "colorbar": {
              "outlinewidth": 0,
              "ticks": ""
             }
            },
            "type": "histogram"
           }
          ],
          "histogram2d": [
           {
            "colorbar": {
             "outlinewidth": 0,
             "ticks": ""
            },
            "colorscale": [
             [
              0,
              "#0d0887"
             ],
             [
              0.1111111111111111,
              "#46039f"
             ],
             [
              0.2222222222222222,
              "#7201a8"
             ],
             [
              0.3333333333333333,
              "#9c179e"
             ],
             [
              0.4444444444444444,
              "#bd3786"
             ],
             [
              0.5555555555555556,
              "#d8576b"
             ],
             [
              0.6666666666666666,
              "#ed7953"
             ],
             [
              0.7777777777777778,
              "#fb9f3a"
             ],
             [
              0.8888888888888888,
              "#fdca26"
             ],
             [
              1,
              "#f0f921"
             ]
            ],
            "type": "histogram2d"
           }
          ],
          "histogram2dcontour": [
           {
            "colorbar": {
             "outlinewidth": 0,
             "ticks": ""
            },
            "colorscale": [
             [
              0,
              "#0d0887"
             ],
             [
              0.1111111111111111,
              "#46039f"
             ],
             [
              0.2222222222222222,
              "#7201a8"
             ],
             [
              0.3333333333333333,
              "#9c179e"
             ],
             [
              0.4444444444444444,
              "#bd3786"
             ],
             [
              0.5555555555555556,
              "#d8576b"
             ],
             [
              0.6666666666666666,
              "#ed7953"
             ],
             [
              0.7777777777777778,
              "#fb9f3a"
             ],
             [
              0.8888888888888888,
              "#fdca26"
             ],
             [
              1,
              "#f0f921"
             ]
            ],
            "type": "histogram2dcontour"
           }
          ],
          "mesh3d": [
           {
            "colorbar": {
             "outlinewidth": 0,
             "ticks": ""
            },
            "type": "mesh3d"
           }
          ],
          "parcoords": [
           {
            "line": {
             "colorbar": {
              "outlinewidth": 0,
              "ticks": ""
             }
            },
            "type": "parcoords"
           }
          ],
          "scatter": [
           {
            "marker": {
             "colorbar": {
              "outlinewidth": 0,
              "ticks": ""
             }
            },
            "type": "scatter"
           }
          ],
          "scatter3d": [
           {
            "line": {
             "colorbar": {
              "outlinewidth": 0,
              "ticks": ""
             }
            },
            "marker": {
             "colorbar": {
              "outlinewidth": 0,
              "ticks": ""
             }
            },
            "type": "scatter3d"
           }
          ],
          "scattercarpet": [
           {
            "marker": {
             "colorbar": {
              "outlinewidth": 0,
              "ticks": ""
             }
            },
            "type": "scattercarpet"
           }
          ],
          "scattergeo": [
           {
            "marker": {
             "colorbar": {
              "outlinewidth": 0,
              "ticks": ""
             }
            },
            "type": "scattergeo"
           }
          ],
          "scattergl": [
           {
            "marker": {
             "colorbar": {
              "outlinewidth": 0,
              "ticks": ""
             }
            },
            "type": "scattergl"
           }
          ],
          "scattermapbox": [
           {
            "marker": {
             "colorbar": {
              "outlinewidth": 0,
              "ticks": ""
             }
            },
            "type": "scattermapbox"
           }
          ],
          "scatterpolar": [
           {
            "marker": {
             "colorbar": {
              "outlinewidth": 0,
              "ticks": ""
             }
            },
            "type": "scatterpolar"
           }
          ],
          "scatterpolargl": [
           {
            "marker": {
             "colorbar": {
              "outlinewidth": 0,
              "ticks": ""
             }
            },
            "type": "scatterpolargl"
           }
          ],
          "scatterternary": [
           {
            "marker": {
             "colorbar": {
              "outlinewidth": 0,
              "ticks": ""
             }
            },
            "type": "scatterternary"
           }
          ],
          "surface": [
           {
            "colorbar": {
             "outlinewidth": 0,
             "ticks": ""
            },
            "colorscale": [
             [
              0,
              "#0d0887"
             ],
             [
              0.1111111111111111,
              "#46039f"
             ],
             [
              0.2222222222222222,
              "#7201a8"
             ],
             [
              0.3333333333333333,
              "#9c179e"
             ],
             [
              0.4444444444444444,
              "#bd3786"
             ],
             [
              0.5555555555555556,
              "#d8576b"
             ],
             [
              0.6666666666666666,
              "#ed7953"
             ],
             [
              0.7777777777777778,
              "#fb9f3a"
             ],
             [
              0.8888888888888888,
              "#fdca26"
             ],
             [
              1,
              "#f0f921"
             ]
            ],
            "type": "surface"
           }
          ],
          "table": [
           {
            "cells": {
             "fill": {
              "color": "#EBF0F8"
             },
             "line": {
              "color": "white"
             }
            },
            "header": {
             "fill": {
              "color": "#C8D4E3"
             },
             "line": {
              "color": "white"
             }
            },
            "type": "table"
           }
          ]
         },
         "layout": {
          "annotationdefaults": {
           "arrowcolor": "#2a3f5f",
           "arrowhead": 0,
           "arrowwidth": 1
          },
          "colorscale": {
           "diverging": [
            [
             0,
             "#8e0152"
            ],
            [
             0.1,
             "#c51b7d"
            ],
            [
             0.2,
             "#de77ae"
            ],
            [
             0.3,
             "#f1b6da"
            ],
            [
             0.4,
             "#fde0ef"
            ],
            [
             0.5,
             "#f7f7f7"
            ],
            [
             0.6,
             "#e6f5d0"
            ],
            [
             0.7,
             "#b8e186"
            ],
            [
             0.8,
             "#7fbc41"
            ],
            [
             0.9,
             "#4d9221"
            ],
            [
             1,
             "#276419"
            ]
           ],
           "sequential": [
            [
             0,
             "#0d0887"
            ],
            [
             0.1111111111111111,
             "#46039f"
            ],
            [
             0.2222222222222222,
             "#7201a8"
            ],
            [
             0.3333333333333333,
             "#9c179e"
            ],
            [
             0.4444444444444444,
             "#bd3786"
            ],
            [
             0.5555555555555556,
             "#d8576b"
            ],
            [
             0.6666666666666666,
             "#ed7953"
            ],
            [
             0.7777777777777778,
             "#fb9f3a"
            ],
            [
             0.8888888888888888,
             "#fdca26"
            ],
            [
             1,
             "#f0f921"
            ]
           ],
           "sequentialminus": [
            [
             0,
             "#0d0887"
            ],
            [
             0.1111111111111111,
             "#46039f"
            ],
            [
             0.2222222222222222,
             "#7201a8"
            ],
            [
             0.3333333333333333,
             "#9c179e"
            ],
            [
             0.4444444444444444,
             "#bd3786"
            ],
            [
             0.5555555555555556,
             "#d8576b"
            ],
            [
             0.6666666666666666,
             "#ed7953"
            ],
            [
             0.7777777777777778,
             "#fb9f3a"
            ],
            [
             0.8888888888888888,
             "#fdca26"
            ],
            [
             1,
             "#f0f921"
            ]
           ]
          },
          "colorway": [
           "#636efa",
           "#EF553B",
           "#00cc96",
           "#ab63fa",
           "#FFA15A",
           "#19d3f3",
           "#FF6692",
           "#B6E880",
           "#FF97FF",
           "#FECB52"
          ],
          "font": {
           "color": "#2a3f5f"
          },
          "geo": {
           "bgcolor": "white",
           "lakecolor": "white",
           "landcolor": "#E5ECF6",
           "showlakes": true,
           "showland": true,
           "subunitcolor": "white"
          },
          "hoverlabel": {
           "align": "left"
          },
          "hovermode": "closest",
          "mapbox": {
           "style": "light"
          },
          "paper_bgcolor": "white",
          "plot_bgcolor": "#E5ECF6",
          "polar": {
           "angularaxis": {
            "gridcolor": "white",
            "linecolor": "white",
            "ticks": ""
           },
           "bgcolor": "#E5ECF6",
           "radialaxis": {
            "gridcolor": "white",
            "linecolor": "white",
            "ticks": ""
           }
          },
          "scene": {
           "xaxis": {
            "backgroundcolor": "#E5ECF6",
            "gridcolor": "white",
            "gridwidth": 2,
            "linecolor": "white",
            "showbackground": true,
            "ticks": "",
            "zerolinecolor": "white"
           },
           "yaxis": {
            "backgroundcolor": "#E5ECF6",
            "gridcolor": "white",
            "gridwidth": 2,
            "linecolor": "white",
            "showbackground": true,
            "ticks": "",
            "zerolinecolor": "white"
           },
           "zaxis": {
            "backgroundcolor": "#E5ECF6",
            "gridcolor": "white",
            "gridwidth": 2,
            "linecolor": "white",
            "showbackground": true,
            "ticks": "",
            "zerolinecolor": "white"
           }
          },
          "shapedefaults": {
           "line": {
            "color": "#2a3f5f"
           }
          },
          "ternary": {
           "aaxis": {
            "gridcolor": "white",
            "linecolor": "white",
            "ticks": ""
           },
           "baxis": {
            "gridcolor": "white",
            "linecolor": "white",
            "ticks": ""
           },
           "bgcolor": "#E5ECF6",
           "caxis": {
            "gridcolor": "white",
            "linecolor": "white",
            "ticks": ""
           }
          },
          "title": {
           "x": 0.05
          },
          "xaxis": {
           "automargin": true,
           "gridcolor": "white",
           "linecolor": "white",
           "ticks": "",
           "zerolinecolor": "white",
           "zerolinewidth": 2
          },
          "yaxis": {
           "automargin": true,
           "gridcolor": "white",
           "linecolor": "white",
           "ticks": "",
           "zerolinecolor": "white",
           "zerolinewidth": 2
          }
         }
        },
        "title": {
         "text": "Количество публикаций в зависимости от месяца"
        },
        "xaxis": {
         "title": {
          "text": "Месяц публикации публикации"
         }
        },
        "yaxis": {
         "title": {
          "text": "Кол-во публикаций"
         }
        }
       }
      },
      "text/html": [
       "<div>\n",
       "        \n",
       "        \n",
       "            <div id=\"4591ab12-4479-4053-864c-ca041245027c\" class=\"plotly-graph-div\" style=\"height:525px; width:100%;\"></div>\n",
       "            <script type=\"text/javascript\">\n",
       "                require([\"plotly\"], function(Plotly) {\n",
       "                    window.PLOTLYENV=window.PLOTLYENV || {};\n",
       "                    \n",
       "                if (document.getElementById(\"4591ab12-4479-4053-864c-ca041245027c\")) {\n",
       "                    Plotly.newPlot(\n",
       "                        '4591ab12-4479-4053-864c-ca041245027c',\n",
       "                        [{\"type\": \"bar\", \"x\": [\"Sep\", \"Oct\", \"Nov\", \"Dec\", \"Jan\", \"Feb\", \"Mar\", \"Apr\", \"May\", \"Jun\", \"Jul\", \"Aug\", \"Sep2019\", \"Oct2019\"], \"y\": [92, 116, 108, 117, 116, 98, 93, 88, 93, 89, 93, 92, 10, 94]}],\n",
       "                        {\"template\": {\"data\": {\"bar\": [{\"error_x\": {\"color\": \"#2a3f5f\"}, \"error_y\": {\"color\": \"#2a3f5f\"}, \"marker\": {\"line\": {\"color\": \"#E5ECF6\", \"width\": 0.5}}, \"type\": \"bar\"}], \"barpolar\": [{\"marker\": {\"line\": {\"color\": \"#E5ECF6\", \"width\": 0.5}}, \"type\": \"barpolar\"}], \"carpet\": [{\"aaxis\": {\"endlinecolor\": \"#2a3f5f\", \"gridcolor\": \"white\", \"linecolor\": \"white\", \"minorgridcolor\": \"white\", \"startlinecolor\": \"#2a3f5f\"}, \"baxis\": {\"endlinecolor\": \"#2a3f5f\", \"gridcolor\": \"white\", \"linecolor\": \"white\", \"minorgridcolor\": \"white\", \"startlinecolor\": \"#2a3f5f\"}, \"type\": \"carpet\"}], \"choropleth\": [{\"colorbar\": {\"outlinewidth\": 0, \"ticks\": \"\"}, \"type\": \"choropleth\"}], \"contour\": [{\"colorbar\": {\"outlinewidth\": 0, \"ticks\": \"\"}, \"colorscale\": [[0.0, \"#0d0887\"], [0.1111111111111111, \"#46039f\"], [0.2222222222222222, \"#7201a8\"], [0.3333333333333333, \"#9c179e\"], [0.4444444444444444, \"#bd3786\"], [0.5555555555555556, \"#d8576b\"], [0.6666666666666666, \"#ed7953\"], [0.7777777777777778, \"#fb9f3a\"], [0.8888888888888888, \"#fdca26\"], [1.0, \"#f0f921\"]], \"type\": \"contour\"}], \"contourcarpet\": [{\"colorbar\": {\"outlinewidth\": 0, \"ticks\": \"\"}, \"type\": \"contourcarpet\"}], \"heatmap\": [{\"colorbar\": {\"outlinewidth\": 0, \"ticks\": \"\"}, \"colorscale\": [[0.0, \"#0d0887\"], [0.1111111111111111, \"#46039f\"], [0.2222222222222222, \"#7201a8\"], [0.3333333333333333, \"#9c179e\"], [0.4444444444444444, \"#bd3786\"], [0.5555555555555556, \"#d8576b\"], [0.6666666666666666, \"#ed7953\"], [0.7777777777777778, \"#fb9f3a\"], [0.8888888888888888, \"#fdca26\"], [1.0, \"#f0f921\"]], \"type\": \"heatmap\"}], \"heatmapgl\": [{\"colorbar\": {\"outlinewidth\": 0, \"ticks\": \"\"}, \"colorscale\": [[0.0, \"#0d0887\"], [0.1111111111111111, \"#46039f\"], [0.2222222222222222, \"#7201a8\"], [0.3333333333333333, \"#9c179e\"], [0.4444444444444444, \"#bd3786\"], [0.5555555555555556, \"#d8576b\"], [0.6666666666666666, \"#ed7953\"], [0.7777777777777778, \"#fb9f3a\"], [0.8888888888888888, \"#fdca26\"], [1.0, \"#f0f921\"]], \"type\": \"heatmapgl\"}], \"histogram\": [{\"marker\": {\"colorbar\": {\"outlinewidth\": 0, \"ticks\": \"\"}}, \"type\": \"histogram\"}], \"histogram2d\": [{\"colorbar\": {\"outlinewidth\": 0, \"ticks\": \"\"}, \"colorscale\": [[0.0, \"#0d0887\"], [0.1111111111111111, \"#46039f\"], [0.2222222222222222, \"#7201a8\"], [0.3333333333333333, \"#9c179e\"], [0.4444444444444444, \"#bd3786\"], [0.5555555555555556, \"#d8576b\"], [0.6666666666666666, \"#ed7953\"], [0.7777777777777778, \"#fb9f3a\"], [0.8888888888888888, \"#fdca26\"], [1.0, \"#f0f921\"]], \"type\": \"histogram2d\"}], \"histogram2dcontour\": [{\"colorbar\": {\"outlinewidth\": 0, \"ticks\": \"\"}, \"colorscale\": [[0.0, \"#0d0887\"], [0.1111111111111111, \"#46039f\"], [0.2222222222222222, \"#7201a8\"], [0.3333333333333333, \"#9c179e\"], [0.4444444444444444, \"#bd3786\"], [0.5555555555555556, \"#d8576b\"], [0.6666666666666666, \"#ed7953\"], [0.7777777777777778, \"#fb9f3a\"], [0.8888888888888888, \"#fdca26\"], [1.0, \"#f0f921\"]], \"type\": \"histogram2dcontour\"}], \"mesh3d\": [{\"colorbar\": {\"outlinewidth\": 0, \"ticks\": \"\"}, \"type\": \"mesh3d\"}], \"parcoords\": [{\"line\": {\"colorbar\": {\"outlinewidth\": 0, \"ticks\": \"\"}}, \"type\": \"parcoords\"}], \"scatter\": [{\"marker\": {\"colorbar\": {\"outlinewidth\": 0, \"ticks\": \"\"}}, \"type\": \"scatter\"}], \"scatter3d\": [{\"line\": {\"colorbar\": {\"outlinewidth\": 0, \"ticks\": \"\"}}, \"marker\": {\"colorbar\": {\"outlinewidth\": 0, \"ticks\": \"\"}}, \"type\": \"scatter3d\"}], \"scattercarpet\": [{\"marker\": {\"colorbar\": {\"outlinewidth\": 0, \"ticks\": \"\"}}, \"type\": \"scattercarpet\"}], \"scattergeo\": [{\"marker\": {\"colorbar\": {\"outlinewidth\": 0, \"ticks\": \"\"}}, \"type\": \"scattergeo\"}], \"scattergl\": [{\"marker\": {\"colorbar\": {\"outlinewidth\": 0, \"ticks\": \"\"}}, \"type\": \"scattergl\"}], \"scattermapbox\": [{\"marker\": {\"colorbar\": {\"outlinewidth\": 0, \"ticks\": \"\"}}, \"type\": \"scattermapbox\"}], \"scatterpolar\": [{\"marker\": {\"colorbar\": {\"outlinewidth\": 0, \"ticks\": \"\"}}, \"type\": \"scatterpolar\"}], \"scatterpolargl\": [{\"marker\": {\"colorbar\": {\"outlinewidth\": 0, \"ticks\": \"\"}}, \"type\": \"scatterpolargl\"}], \"scatterternary\": [{\"marker\": {\"colorbar\": {\"outlinewidth\": 0, \"ticks\": \"\"}}, \"type\": \"scatterternary\"}], \"surface\": [{\"colorbar\": {\"outlinewidth\": 0, \"ticks\": \"\"}, \"colorscale\": [[0.0, \"#0d0887\"], [0.1111111111111111, \"#46039f\"], [0.2222222222222222, \"#7201a8\"], [0.3333333333333333, \"#9c179e\"], [0.4444444444444444, \"#bd3786\"], [0.5555555555555556, \"#d8576b\"], [0.6666666666666666, \"#ed7953\"], [0.7777777777777778, \"#fb9f3a\"], [0.8888888888888888, \"#fdca26\"], [1.0, \"#f0f921\"]], \"type\": \"surface\"}], \"table\": [{\"cells\": {\"fill\": {\"color\": \"#EBF0F8\"}, \"line\": {\"color\": \"white\"}}, \"header\": {\"fill\": {\"color\": \"#C8D4E3\"}, \"line\": {\"color\": \"white\"}}, \"type\": \"table\"}]}, \"layout\": {\"annotationdefaults\": {\"arrowcolor\": \"#2a3f5f\", \"arrowhead\": 0, \"arrowwidth\": 1}, \"colorscale\": {\"diverging\": [[0, \"#8e0152\"], [0.1, \"#c51b7d\"], [0.2, \"#de77ae\"], [0.3, \"#f1b6da\"], [0.4, \"#fde0ef\"], [0.5, \"#f7f7f7\"], [0.6, \"#e6f5d0\"], [0.7, \"#b8e186\"], [0.8, \"#7fbc41\"], [0.9, \"#4d9221\"], [1, \"#276419\"]], \"sequential\": [[0.0, \"#0d0887\"], [0.1111111111111111, \"#46039f\"], [0.2222222222222222, \"#7201a8\"], [0.3333333333333333, \"#9c179e\"], [0.4444444444444444, \"#bd3786\"], [0.5555555555555556, \"#d8576b\"], [0.6666666666666666, \"#ed7953\"], [0.7777777777777778, \"#fb9f3a\"], [0.8888888888888888, \"#fdca26\"], [1.0, \"#f0f921\"]], \"sequentialminus\": [[0.0, \"#0d0887\"], [0.1111111111111111, \"#46039f\"], [0.2222222222222222, \"#7201a8\"], [0.3333333333333333, \"#9c179e\"], [0.4444444444444444, \"#bd3786\"], [0.5555555555555556, \"#d8576b\"], [0.6666666666666666, \"#ed7953\"], [0.7777777777777778, \"#fb9f3a\"], [0.8888888888888888, \"#fdca26\"], [1.0, \"#f0f921\"]]}, \"colorway\": [\"#636efa\", \"#EF553B\", \"#00cc96\", \"#ab63fa\", \"#FFA15A\", \"#19d3f3\", \"#FF6692\", \"#B6E880\", \"#FF97FF\", \"#FECB52\"], \"font\": {\"color\": \"#2a3f5f\"}, \"geo\": {\"bgcolor\": \"white\", \"lakecolor\": \"white\", \"landcolor\": \"#E5ECF6\", \"showlakes\": true, \"showland\": true, \"subunitcolor\": \"white\"}, \"hoverlabel\": {\"align\": \"left\"}, \"hovermode\": \"closest\", \"mapbox\": {\"style\": \"light\"}, \"paper_bgcolor\": \"white\", \"plot_bgcolor\": \"#E5ECF6\", \"polar\": {\"angularaxis\": {\"gridcolor\": \"white\", \"linecolor\": \"white\", \"ticks\": \"\"}, \"bgcolor\": \"#E5ECF6\", \"radialaxis\": {\"gridcolor\": \"white\", \"linecolor\": \"white\", \"ticks\": \"\"}}, \"scene\": {\"xaxis\": {\"backgroundcolor\": \"#E5ECF6\", \"gridcolor\": \"white\", \"gridwidth\": 2, \"linecolor\": \"white\", \"showbackground\": true, \"ticks\": \"\", \"zerolinecolor\": \"white\"}, \"yaxis\": {\"backgroundcolor\": \"#E5ECF6\", \"gridcolor\": \"white\", \"gridwidth\": 2, \"linecolor\": \"white\", \"showbackground\": true, \"ticks\": \"\", \"zerolinecolor\": \"white\"}, \"zaxis\": {\"backgroundcolor\": \"#E5ECF6\", \"gridcolor\": \"white\", \"gridwidth\": 2, \"linecolor\": \"white\", \"showbackground\": true, \"ticks\": \"\", \"zerolinecolor\": \"white\"}}, \"shapedefaults\": {\"line\": {\"color\": \"#2a3f5f\"}}, \"ternary\": {\"aaxis\": {\"gridcolor\": \"white\", \"linecolor\": \"white\", \"ticks\": \"\"}, \"baxis\": {\"gridcolor\": \"white\", \"linecolor\": \"white\", \"ticks\": \"\"}, \"bgcolor\": \"#E5ECF6\", \"caxis\": {\"gridcolor\": \"white\", \"linecolor\": \"white\", \"ticks\": \"\"}}, \"title\": {\"x\": 0.05}, \"xaxis\": {\"automargin\": true, \"gridcolor\": \"white\", \"linecolor\": \"white\", \"ticks\": \"\", \"zerolinecolor\": \"white\", \"zerolinewidth\": 2}, \"yaxis\": {\"automargin\": true, \"gridcolor\": \"white\", \"linecolor\": \"white\", \"ticks\": \"\", \"zerolinecolor\": \"white\", \"zerolinewidth\": 2}}}, \"title\": {\"text\": \"\\u041a\\u043e\\u043b\\u0438\\u0447\\u0435\\u0441\\u0442\\u0432\\u043e \\u043f\\u0443\\u0431\\u043b\\u0438\\u043a\\u0430\\u0446\\u0438\\u0439 \\u0432 \\u0437\\u0430\\u0432\\u0438\\u0441\\u0438\\u043c\\u043e\\u0441\\u0442\\u0438 \\u043e\\u0442 \\u043c\\u0435\\u0441\\u044f\\u0446\\u0430\"}, \"xaxis\": {\"title\": {\"text\": \"\\u041c\\u0435\\u0441\\u044f\\u0446 \\u043f\\u0443\\u0431\\u043b\\u0438\\u043a\\u0430\\u0446\\u0438\\u0438 \\u043f\\u0443\\u0431\\u043b\\u0438\\u043a\\u0430\\u0446\\u0438\\u0438\"}}, \"yaxis\": {\"title\": {\"text\": \"\\u041a\\u043e\\u043b-\\u0432\\u043e \\u043f\\u0443\\u0431\\u043b\\u0438\\u043a\\u0430\\u0446\\u0438\\u0439\"}}},\n",
       "                        {\"responsive\": true}\n",
       "                    ).then(function(){\n",
       "                            \n",
       "var gd = document.getElementById('4591ab12-4479-4053-864c-ca041245027c');\n",
       "var x = new MutationObserver(function (mutations, observer) {{\n",
       "        var display = window.getComputedStyle(gd).display;\n",
       "        if (!display || display === 'none') {{\n",
       "            console.log([gd, 'removed!']);\n",
       "            Plotly.purge(gd);\n",
       "            observer.disconnect();\n",
       "        }}\n",
       "}});\n",
       "\n",
       "// Listen for the removal of the full notebook cells\n",
       "var notebookContainer = gd.closest('#notebook-container');\n",
       "if (notebookContainer) {{\n",
       "    x.observe(notebookContainer, {childList: true});\n",
       "}}\n",
       "\n",
       "// Listen for the clearing of the current output cell\n",
       "var outputEl = gd.closest('.output');\n",
       "if (outputEl) {{\n",
       "    x.observe(outputEl, {childList: true});\n",
       "}}\n",
       "\n",
       "                        })\n",
       "                };\n",
       "                });\n",
       "            </script>\n",
       "        </div>"
      ]
     },
     "metadata": {},
     "output_type": "display_data"
    }
   ],
   "source": [
    "months = ['Sep', 'Oct', 'Nov', 'Dec', 'Jan', 'Feb', 'Mar', 'Apr', 'May', 'Jun', 'Jul', 'Aug', 'Sep2019', 'Oct2019']\n",
    "data = [go.Bar(\n",
    "        x = months,\n",
    "        y = [92, 116, 108,117, 116, 98, 93, 88, 93, 89, 93, 92, 10, 94]\n",
    ")]\n",
    "    \n",
    "layout = go.Layout(\n",
    "        title = 'Количество публикаций в зависимости от месяца',\n",
    "        xaxis = dict(title = 'Месяц публикации публикации'), # название оси х\n",
    "        yaxis = dict(title = 'Кол-во публикаций'), # название оси у\n",
    ")\n",
    "\n",
    "fig = go.Figure(data = data, layout = layout) #объединяет дату и лэйаут в график\n",
    "\n",
    "pyo.iplot(fig, filename= 'scatter.html') "
   ]
  },
  {
   "cell_type": "code",
   "execution_count": 98,
   "metadata": {},
   "outputs": [
    {
     "name": "stderr",
     "output_type": "stream",
     "text": [
      "B:\\python\\lib\\site-packages\\ipykernel_launcher.py:1: SettingWithCopyWarning:\n",
      "\n",
      "\n",
      "A value is trying to be set on a copy of a slice from a DataFrame.\n",
      "Try using .loc[row_indexer,col_indexer] = value instead\n",
      "\n",
      "See the caveats in the documentation: http://pandas.pydata.org/pandas-docs/stable/user_guide/indexing.html#returning-a-view-versus-a-copy\n",
      "\n"
     ]
    }
   ],
   "source": [
    "df_titles['text'] = df_titles['text'].replace('\\n', '')"
   ]
  },
  {
   "cell_type": "code",
   "execution_count": 99,
   "metadata": {},
   "outputs": [
    {
     "data": {
      "text/html": [
       "<div>\n",
       "<style scoped>\n",
       "    .dataframe tbody tr th:only-of-type {\n",
       "        vertical-align: middle;\n",
       "    }\n",
       "\n",
       "    .dataframe tbody tr th {\n",
       "        vertical-align: top;\n",
       "    }\n",
       "\n",
       "    .dataframe thead th {\n",
       "        text-align: right;\n",
       "    }\n",
       "</style>\n",
       "<table border=\"1\" class=\"dataframe\">\n",
       "  <thead>\n",
       "    <tr style=\"text-align: right;\">\n",
       "      <th></th>\n",
       "      <th>title</th>\n",
       "      <th>text</th>\n",
       "      <th>likes</th>\n",
       "      <th>reposts</th>\n",
       "      <th>comments</th>\n",
       "      <th>total_actions</th>\n",
       "      <th>views</th>\n",
       "      <th>Date</th>\n",
       "      <th>Time</th>\n",
       "    </tr>\n",
       "  </thead>\n",
       "  <tbody>\n",
       "    <tr>\n",
       "      <td>0</td>\n",
       "      <td>От редакции: солидарность студмедиа</td>\n",
       "      <td>Вчера независимый студенческий журнал DOXA лишился статуса студорганизации. Ситуация возродила публичное обсуждение независимости студенческих медиа. В нашей редакционной колонке рассуждаем о солидарности студмедиа, коммуникации с вузом в конфликтных ситуациях и объясняем, почему #мытожеdoxa</td>\n",
       "      <td>179</td>\n",
       "      <td>4</td>\n",
       "      <td>4</td>\n",
       "      <td>187</td>\n",
       "      <td>12152</td>\n",
       "      <td>2019-12</td>\n",
       "      <td>09</td>\n",
       "    </tr>\n",
       "    <tr>\n",
       "      <td>1</td>\n",
       "      <td>Есть ли жизнь после эконома</td>\n",
       "      <td>Многие студенты задумываются о том, что их ждет после окончания университета. Вспоминаем наш материал про выпускников экономических факультетов разных вузов — ВШЭ, МГУ и Финансового университета. Ребята рассказали, почему выбрали такую специальность и чем занимаются после выпуска</td>\n",
       "      <td>27</td>\n",
       "      <td>3</td>\n",
       "      <td>0</td>\n",
       "      <td>30</td>\n",
       "      <td>3271</td>\n",
       "      <td>2019-12</td>\n",
       "      <td>21</td>\n",
       "    </tr>\n",
       "    <tr>\n",
       "      <td>2</td>\n",
       "      <td>Учимся задавать вопросы</td>\n",
       "      <td>Неумение формулировать вопросы ограничивает возможности: вы не всегда можете узнать детали задания у преподавателя или определить проблему проекта. На основе книги Джона Миллера «5 принципов проактивного мышления» рассказываем, как при помощи правильной постановки вопросов стать продуктивнее, почему оправдания мешают справляться с трудностями и как креативность способствует развитию мышления</td>\n",
       "      <td>79</td>\n",
       "      <td>13</td>\n",
       "      <td>0</td>\n",
       "      <td>92</td>\n",
       "      <td>5532</td>\n",
       "      <td>2019-12</td>\n",
       "      <td>18</td>\n",
       "    </tr>\n",
       "    <tr>\n",
       "      <td>3</td>\n",
       "      <td>Посмотреть и обсудить: киноклубы ВШЭ</td>\n",
       "      <td>Киноклубы Вышки еженедельно устраивают бесплатные показы фильмов, на которых можно не только посмотреть, но и обсудить интересные картины. Вспоминаем наше интервью с создателями клубов. Они рассказали, как «потрогать» документалистику с помощью разных медиаприемов и почему не все современные фильмы ужасов способны вызвать у зрителей глубокий страх</td>\n",
       "      <td>27</td>\n",
       "      <td>1</td>\n",
       "      <td>0</td>\n",
       "      <td>28</td>\n",
       "      <td>4474</td>\n",
       "      <td>2019-12</td>\n",
       "      <td>15</td>\n",
       "    </tr>\n",
       "    <tr>\n",
       "      <td>4</td>\n",
       "      <td>Студенческий дайджест событий 9- 15 декабря</td>\n",
       "      <td>Не за горами зимняя сессия, но это не значит, что до конца года не стоит думать больше ни о чем, кроме конспектов. На этой неделе вас ждут дискуссии об экологии и современном образовании, а также благотворительная поездка в дом-интернат</td>\n",
       "      <td>47</td>\n",
       "      <td>0</td>\n",
       "      <td>3</td>\n",
       "      <td>50</td>\n",
       "      <td>6560</td>\n",
       "      <td>2019-12</td>\n",
       "      <td>11</td>\n",
       "    </tr>\n",
       "    <tr>\n",
       "      <td>...</td>\n",
       "      <td>...</td>\n",
       "      <td>...</td>\n",
       "      <td>...</td>\n",
       "      <td>...</td>\n",
       "      <td>...</td>\n",
       "      <td>...</td>\n",
       "      <td>...</td>\n",
       "      <td>...</td>\n",
       "      <td>...</td>\n",
       "    </tr>\n",
       "    <tr>\n",
       "      <td>822</td>\n",
       "      <td>10 часто задаваемых вопросов на собеседовании</td>\n",
       "      <td>Чаще всего на собеседованиях вы услышите стандартные вопросы, к которым довольно просто подготовиться. Рассказываемся, как не облажаться, на основе рекомендаций от HR</td>\n",
       "      <td>209</td>\n",
       "      <td>20</td>\n",
       "      <td>0</td>\n",
       "      <td>229</td>\n",
       "      <td>11633</td>\n",
       "      <td>2019-03</td>\n",
       "      <td>18</td>\n",
       "    </tr>\n",
       "    <tr>\n",
       "      <td>823</td>\n",
       "      <td>Получу диплом и перееду за границу</td>\n",
       "      <td>Кто-то скоро перейдет на следующий курс, а кто-то попрощается с университетом. Если взрослая жизнь вне Вышки вас пугает, ловите вдохновение — пообщались с выпускниками, переехавшими после вуза заграницу</td>\n",
       "      <td>70</td>\n",
       "      <td>3</td>\n",
       "      <td>0</td>\n",
       "      <td>73</td>\n",
       "      <td>7529</td>\n",
       "      <td>2019-03</td>\n",
       "      <td>15</td>\n",
       "    </tr>\n",
       "    <tr>\n",
       "      <td>824</td>\n",
       "      <td>Готовим угощения на Пасху</td>\n",
       "      <td>Как и многие другие праздники, Пасха отличается особенными вкусными блюдами. Нашли бюджетные и быстрые рецепты приготовления куличей и пасхи. И про яйца не забыли</td>\n",
       "      <td>41</td>\n",
       "      <td>2</td>\n",
       "      <td>0</td>\n",
       "      <td>43</td>\n",
       "      <td>9363</td>\n",
       "      <td>2019-03</td>\n",
       "      <td>11</td>\n",
       "    </tr>\n",
       "    <tr>\n",
       "      <td>825</td>\n",
       "      <td>Переезд, который изменил всё</td>\n",
       "      <td>Как часто в фильмах мы наблюдаем, как главные герои бросают все и принимают отчаянные решения, меняющие их судьбу. Питерская The Вышка поговорила с тремя студентками, переехавшими в Россию о том, так ли просто в корне изменить свою жизнь</td>\n",
       "      <td>81</td>\n",
       "      <td>4</td>\n",
       "      <td>1</td>\n",
       "      <td>86</td>\n",
       "      <td>8151</td>\n",
       "      <td>2019-03</td>\n",
       "      <td>21</td>\n",
       "    </tr>\n",
       "    <tr>\n",
       "      <td>826</td>\n",
       "      <td>Как Чемпионат мира скажется на студентах</td>\n",
       "      <td>Выселение из общежитий, досрочная сдача сессии и невозможность протеста — это мы о Чемпионате мира по футболу в России. Выяснили, с какими проблемами студенты по всей стране могут столкнуться этой весной. \\n\\nВыходим на межвузовскую повестку — материал нашего корреспондента из МГУ</td>\n",
       "      <td>74</td>\n",
       "      <td>0</td>\n",
       "      <td>1</td>\n",
       "      <td>75</td>\n",
       "      <td>7916</td>\n",
       "      <td>2019-03</td>\n",
       "      <td>18</td>\n",
       "    </tr>\n",
       "  </tbody>\n",
       "</table>\n",
       "<p>827 rows × 9 columns</p>\n",
       "</div>"
      ],
      "text/plain": [
       "                                             title  \\\n",
       "0    От редакции: солидарность студмедиа             \n",
       "1    Есть ли жизнь после эконома                     \n",
       "2    Учимся задавать вопросы                         \n",
       "3    Посмотреть и обсудить: киноклубы ВШЭ            \n",
       "4    Студенческий дайджест событий 9- 15 декабря     \n",
       "..                                           ...     \n",
       "822  10 часто задаваемых вопросов на собеседовании   \n",
       "823  Получу диплом и перееду за границу              \n",
       "824  Готовим угощения на Пасху                       \n",
       "825  Переезд, который изменил всё                    \n",
       "826  Как Чемпионат мира скажется на студентах        \n",
       "\n",
       "                                                                                                                                                                                                                                                                                                                                                                                                           text  \\\n",
       "0    Вчера независимый студенческий журнал DOXA лишился статуса студорганизации. Ситуация возродила публичное обсуждение независимости студенческих медиа. В нашей редакционной колонке рассуждаем о солидарности студмедиа, коммуникации с вузом в конфликтных ситуациях и объясняем, почему #мытожеdoxa                                                                                                         \n",
       "1    Многие студенты задумываются о том, что их ждет после окончания университета. Вспоминаем наш материал про выпускников экономических факультетов разных вузов — ВШЭ, МГУ и Финансового университета. Ребята рассказали, почему выбрали такую специальность и чем занимаются после выпуска                                                                                                                     \n",
       "2    Неумение формулировать вопросы ограничивает возможности: вы не всегда можете узнать детали задания у преподавателя или определить проблему проекта. На основе книги Джона Миллера «5 принципов проактивного мышления» рассказываем, как при помощи правильной постановки вопросов стать продуктивнее, почему оправдания мешают справляться с трудностями и как креативность способствует развитию мышления   \n",
       "3    Киноклубы Вышки еженедельно устраивают бесплатные показы фильмов, на которых можно не только посмотреть, но и обсудить интересные картины. Вспоминаем наше интервью с создателями клубов. Они рассказали, как «потрогать» документалистику с помощью разных медиаприемов и почему не все современные фильмы ужасов способны вызвать у зрителей глубокий страх                                                \n",
       "4    Не за горами зимняя сессия, но это не значит, что до конца года не стоит думать больше ни о чем, кроме конспектов. На этой неделе вас ждут дискуссии об экологии и современном образовании, а также благотворительная поездка в дом-интернат                                                                                                                                                                 \n",
       "..                                                                                                                                                                                                                                            ...                                                                                                                                                                 \n",
       "822  Чаще всего на собеседованиях вы услышите стандартные вопросы, к которым довольно просто подготовиться. Рассказываемся, как не облажаться, на основе рекомендаций от HR                                                                                                                                                                                                                                       \n",
       "823  Кто-то скоро перейдет на следующий курс, а кто-то попрощается с университетом. Если взрослая жизнь вне Вышки вас пугает, ловите вдохновение — пообщались с выпускниками, переехавшими после вуза заграницу                                                                                                                                                                                                   \n",
       "824  Как и многие другие праздники, Пасха отличается особенными вкусными блюдами. Нашли бюджетные и быстрые рецепты приготовления куличей и пасхи. И про яйца не забыли                                                                                                                                                                                                                                           \n",
       "825  Как часто в фильмах мы наблюдаем, как главные герои бросают все и принимают отчаянные решения, меняющие их судьбу. Питерская The Вышка поговорила с тремя студентками, переехавшими в Россию о том, так ли просто в корне изменить свою жизнь                                                                                                                                                                \n",
       "826  Выселение из общежитий, досрочная сдача сессии и невозможность протеста — это мы о Чемпионате мира по футболу в России. Выяснили, с какими проблемами студенты по всей стране могут столкнуться этой весной. \\n\\nВыходим на межвузовскую повестку — материал нашего корреспондента из МГУ                                                                                                                    \n",
       "\n",
       "     likes  reposts  comments  total_actions  views     Date Time  \n",
       "0    179    4        4         187            12152  2019-12  09   \n",
       "1    27     3        0         30             3271   2019-12  21   \n",
       "2    79     13       0         92             5532   2019-12  18   \n",
       "3    27     1        0         28             4474   2019-12  15   \n",
       "4    47     0        3         50             6560   2019-12  11   \n",
       "..   ..    ..       ..         ..              ...       ...  ..   \n",
       "822  209    20       0         229            11633  2019-03  18   \n",
       "823  70     3        0         73             7529   2019-03  15   \n",
       "824  41     2        0         43             9363   2019-03  11   \n",
       "825  81     4        1         86             8151   2019-03  21   \n",
       "826  74     0        1         75             7916   2019-03  18   \n",
       "\n",
       "[827 rows x 9 columns]"
      ]
     },
     "execution_count": 99,
     "metadata": {},
     "output_type": "execute_result"
    }
   ],
   "source": [
    "df_titles"
   ]
  },
  {
   "cell_type": "code",
   "execution_count": 100,
   "metadata": {},
   "outputs": [],
   "source": [
    "df_titles['dlina'] = df_titles['text'].str.count(' ') + 1"
   ]
  },
  {
   "cell_type": "code",
   "execution_count": 101,
   "metadata": {},
   "outputs": [],
   "source": [
    "df_titles['text'] = df_titles['text'].str.replace('\\n', ' ')\n",
    "df_titles['text'] = df_titles['text'].str.lower()"
   ]
  },
  {
   "cell_type": "code",
   "execution_count": 102,
   "metadata": {},
   "outputs": [
    {
     "data": {
      "application/vnd.plotly.v1+json": {
       "config": {
        "linkText": "Export to plot.ly",
        "plotlyServerURL": "https://plot.ly",
        "showLink": false
       },
       "data": [
        {
         "mode": "markers",
         "type": "scatter",
         "x": [
          33,
          37,
          48,
          46,
          39,
          44,
          41,
          42,
          54,
          45,
          34,
          67,
          37,
          45,
          52,
          46,
          42,
          30,
          34,
          36,
          56,
          34,
          44,
          46,
          59,
          55,
          73,
          37,
          54,
          64,
          30,
          37,
          46,
          24,
          76,
          65,
          47,
          39,
          33,
          29,
          73,
          75,
          34,
          30,
          70,
          27,
          43,
          58,
          38,
          40,
          40,
          30,
          42,
          43,
          62,
          53,
          39,
          46,
          42,
          26,
          51,
          38,
          27,
          31,
          30,
          99,
          45,
          33,
          91,
          53,
          49,
          31,
          46,
          41,
          28,
          35,
          24,
          33,
          26,
          49,
          37,
          40,
          33,
          44,
          33,
          38,
          21,
          29,
          33,
          30,
          31,
          38,
          32,
          50,
          32,
          47,
          51,
          33,
          67,
          29,
          27,
          30,
          46,
          37,
          113,
          49,
          34,
          49,
          42,
          44,
          33,
          46,
          42,
          27,
          28,
          63,
          26,
          39,
          48,
          38,
          31,
          85,
          48,
          57,
          30,
          28,
          40,
          49,
          49,
          90,
          53,
          52,
          32,
          30,
          36,
          46,
          27,
          27,
          38,
          34,
          34,
          63,
          32,
          42,
          33,
          49,
          42,
          52,
          21,
          56,
          37,
          36,
          38,
          142,
          44,
          136,
          56,
          29,
          52,
          32,
          106,
          47,
          59,
          32,
          40,
          44,
          40,
          41,
          50,
          59,
          51,
          50,
          55,
          52,
          42,
          54,
          55,
          24,
          149,
          222,
          32,
          35,
          59,
          36,
          28,
          49,
          19,
          18,
          37,
          36,
          73,
          33,
          33,
          62,
          50,
          54,
          26,
          29,
          40,
          43,
          43,
          39,
          31,
          79,
          38,
          31,
          52,
          57,
          31,
          35,
          37,
          53,
          35,
          43,
          36,
          50,
          25,
          53,
          51,
          53,
          27,
          30,
          36,
          43,
          58,
          44,
          50,
          64,
          24,
          53,
          41,
          94,
          42,
          27,
          20,
          38,
          49,
          27,
          79,
          47,
          91,
          54,
          68,
          43,
          52,
          36,
          27,
          67,
          74,
          36,
          31,
          59,
          43,
          40,
          27,
          104,
          38,
          61,
          44,
          40,
          37,
          34,
          32,
          38,
          34,
          40,
          27,
          47,
          49,
          40,
          268,
          36,
          28,
          61,
          43,
          41,
          48,
          46,
          41,
          39,
          21,
          72,
          51,
          40,
          32,
          49,
          36,
          36,
          37,
          41,
          39,
          46,
          61,
          19,
          34,
          44,
          47,
          30,
          98,
          42,
          25,
          37,
          42,
          25,
          29,
          27,
          49,
          38,
          28,
          32,
          32,
          45,
          40,
          36,
          19,
          43,
          41,
          43,
          35,
          30,
          47,
          36,
          30,
          60,
          33,
          24,
          40,
          47,
          51,
          34,
          42,
          37,
          37,
          32,
          47,
          41,
          50,
          37,
          33,
          19,
          54,
          44,
          30,
          44,
          36,
          29,
          26,
          49,
          71,
          34,
          25,
          31,
          30,
          30,
          27,
          50,
          34,
          58,
          44,
          39,
          28,
          35,
          48,
          51,
          46,
          54,
          34,
          29,
          25,
          27,
          53,
          33,
          32,
          42,
          89,
          57,
          40,
          37,
          25,
          61,
          38,
          29,
          44,
          39,
          35,
          18,
          22,
          32,
          31,
          29,
          38,
          44,
          19,
          38,
          33,
          24,
          36,
          29,
          48,
          46,
          28,
          33,
          29,
          62,
          35,
          37,
          30,
          34,
          37,
          20,
          39,
          48,
          43,
          36,
          28,
          16,
          30,
          48,
          50,
          44,
          42,
          46,
          35,
          23,
          47,
          51,
          45,
          50,
          28,
          40,
          38,
          19,
          25,
          25,
          43,
          42,
          40,
          32,
          43,
          40,
          31,
          46,
          26,
          31,
          33,
          29,
          48,
          37,
          18,
          29,
          38,
          32,
          42,
          19,
          41,
          40,
          41,
          44,
          58,
          44,
          34,
          25,
          32,
          27,
          34,
          50,
          35,
          30,
          30,
          39,
          47,
          28,
          23,
          19,
          47,
          41,
          37,
          36,
          48,
          30,
          45,
          30,
          39,
          48,
          30,
          28,
          43,
          65,
          65,
          39,
          38,
          25,
          45,
          37,
          64,
          40,
          37,
          58,
          25,
          51,
          33,
          25,
          35,
          39,
          45,
          50,
          28,
          29,
          41,
          42,
          14,
          38,
          29,
          38,
          49,
          39,
          41,
          16,
          47,
          39,
          56,
          21,
          36,
          17,
          22,
          40,
          24,
          25,
          35,
          39,
          31,
          27,
          17,
          52,
          19,
          39,
          40,
          30,
          34,
          30,
          32,
          33,
          23,
          25,
          28,
          52,
          18,
          36,
          27,
          30,
          30,
          32,
          31,
          24,
          33,
          39,
          28,
          23,
          30,
          34,
          33,
          36,
          27,
          44,
          32,
          32,
          107,
          28,
          46,
          32,
          39,
          23,
          18,
          21,
          35,
          19,
          21,
          111,
          26,
          28,
          43,
          22,
          38,
          38,
          32,
          31,
          27,
          40,
          41,
          36,
          32,
          27,
          27,
          27,
          30,
          31,
          124,
          28,
          23,
          28,
          32,
          40,
          42,
          44,
          17,
          16,
          29,
          74,
          23,
          26,
          57,
          37,
          44,
          30,
          22,
          38,
          19,
          29,
          38,
          27,
          19,
          35,
          27,
          25,
          25,
          25,
          43,
          36,
          37,
          52,
          53,
          33,
          86,
          24,
          28,
          33,
          36,
          70,
          37,
          44,
          22,
          31,
          29,
          25,
          39,
          54,
          38,
          42,
          22,
          33,
          34,
          34,
          67,
          29,
          45,
          37,
          28,
          39,
          26,
          27,
          34,
          21,
          21,
          30,
          27,
          43,
          34,
          22,
          25,
          33,
          33,
          28,
          28,
          30,
          33,
          32,
          42,
          38,
          44,
          29,
          26,
          29,
          33,
          28,
          40,
          27,
          36,
          25,
          28,
          45,
          31,
          28,
          29,
          32,
          27,
          40,
          31,
          33,
          29,
          45,
          36,
          31,
          31,
          22,
          26,
          27,
          26,
          33,
          38,
          30,
          24,
          53,
          28,
          51,
          37,
          67,
          26,
          32,
          46,
          31,
          30,
          13,
          17,
          14,
          28,
          20,
          26,
          62,
          34,
          23,
          43,
          23,
          23,
          38,
          28,
          49,
          33,
          42,
          37,
          21,
          30,
          23,
          30,
          25,
          34,
          17,
          18,
          40,
          20,
          43,
          36,
          40,
          35,
          22,
          28,
          34,
          40,
          30,
          187,
          53,
          23,
          34,
          30,
          32,
          42,
          18,
          50,
          32,
          28,
          32,
          23,
          34,
          47,
          46,
          35,
          35,
          22,
          32,
          47,
          21,
          41,
          53,
          14,
          39,
          20,
          36,
          26,
          21,
          32,
          36,
          37,
          48,
          42,
          32,
          41,
          34,
          24,
          25,
          48,
          32,
          35,
          16,
          25,
          46,
          34,
          24,
          28,
          29,
          41,
          32,
          52,
          31,
          29,
          13,
          39,
          29,
          28,
          29,
          14,
          32,
          33,
          18,
          22,
          28,
          24,
          38,
          41
         ],
         "y": [
          187,
          30,
          92,
          28,
          50,
          20,
          106,
          104,
          202,
          73,
          166,
          38,
          108,
          45,
          39,
          127,
          49,
          27,
          46,
          64,
          93,
          107,
          137,
          97,
          87,
          79,
          79,
          94,
          60,
          304,
          42,
          26,
          48,
          32,
          57,
          436,
          50,
          98,
          84,
          72,
          101,
          47,
          54,
          24,
          61,
          101,
          76,
          69,
          76,
          48,
          38,
          272,
          72,
          106,
          167,
          90,
          46,
          131,
          44,
          58,
          106,
          56,
          30,
          90,
          81,
          111,
          79,
          93,
          55,
          58,
          48,
          58,
          115,
          346,
          24,
          68,
          77,
          120,
          73,
          75,
          130,
          44,
          84,
          18,
          75,
          100,
          25,
          64,
          56,
          117,
          84,
          56,
          89,
          60,
          90,
          87,
          33,
          99,
          65,
          88,
          25,
          83,
          72,
          154,
          146,
          24,
          147,
          58,
          59,
          151,
          76,
          57,
          33,
          48,
          98,
          50,
          105,
          55,
          134,
          135,
          69,
          228,
          388,
          174,
          37,
          99,
          92,
          95,
          91,
          127,
          75,
          44,
          112,
          64,
          150,
          49,
          124,
          35,
          66,
          130,
          83,
          121,
          190,
          50,
          228,
          151,
          287,
          68,
          30,
          61,
          62,
          109,
          62,
          698,
          97,
          243,
          125,
          34,
          119,
          72,
          116,
          41,
          81,
          50,
          124,
          152,
          64,
          62,
          22,
          63,
          63,
          105,
          167,
          46,
          264,
          140,
          63,
          11,
          658,
          644,
          115,
          66,
          166,
          40,
          37,
          145,
          57,
          17,
          70,
          31,
          142,
          148,
          70,
          81,
          69,
          36,
          25,
          13,
          59,
          38,
          57,
          38,
          59,
          68,
          40,
          102,
          40,
          102,
          16,
          45,
          117,
          52,
          58,
          105,
          73,
          32,
          113,
          112,
          189,
          69,
          15,
          105,
          60,
          120,
          73,
          28,
          37,
          60,
          25,
          37,
          65,
          126,
          76,
          120,
          19,
          69,
          90,
          38,
          224,
          116,
          77,
          81,
          91,
          80,
          130,
          94,
          17,
          105,
          147,
          230,
          60,
          203,
          86,
          51,
          17,
          107,
          143,
          273,
          233,
          36,
          51,
          27,
          41,
          31,
          52,
          185,
          56,
          121,
          49,
          88,
          665,
          46,
          31,
          111,
          12,
          118,
          69,
          71,
          29,
          41,
          54,
          38,
          121,
          82,
          35,
          66,
          29,
          28,
          52,
          71,
          78,
          157,
          60,
          25,
          29,
          100,
          39,
          76,
          31,
          107,
          26,
          114,
          20,
          54,
          38,
          72,
          31,
          27,
          45,
          161,
          24,
          79,
          86,
          58,
          165,
          32,
          60,
          54,
          61,
          33,
          30,
          406,
          242,
          70,
          165,
          51,
          178,
          102,
          35,
          30,
          42,
          154,
          57,
          208,
          239,
          325,
          137,
          106,
          21,
          151,
          85,
          102,
          108,
          404,
          83,
          206,
          95,
          55,
          78,
          25,
          50,
          294,
          71,
          72,
          162,
          256,
          71,
          31,
          64,
          27,
          78,
          84,
          90,
          44,
          81,
          187,
          20,
          128,
          59,
          21,
          235,
          71,
          93,
          114,
          78,
          179,
          91,
          98,
          24,
          191,
          216,
          105,
          121,
          275,
          107,
          20,
          83,
          47,
          92,
          104,
          24,
          93,
          140,
          68,
          54,
          66,
          166,
          16,
          122,
          75,
          29,
          44,
          81,
          148,
          60,
          95,
          91,
          103,
          96,
          28,
          90,
          479,
          104,
          24,
          96,
          97,
          122,
          66,
          244,
          27,
          21,
          119,
          69,
          18,
          116,
          56,
          44,
          102,
          20,
          195,
          93,
          22,
          26,
          92,
          89,
          167,
          46,
          56,
          114,
          15,
          77,
          96,
          12,
          89,
          234,
          146,
          60,
          56,
          161,
          127,
          242,
          24,
          201,
          30,
          30,
          34,
          203,
          45,
          491,
          44,
          29,
          64,
          116,
          38,
          34,
          182,
          168,
          238,
          68,
          94,
          135,
          210,
          247,
          334,
          50,
          26,
          308,
          62,
          164,
          62,
          99,
          76,
          50,
          128,
          59,
          205,
          49,
          248,
          56,
          44,
          44,
          51,
          41,
          344,
          83,
          207,
          173,
          82,
          29,
          412,
          94,
          49,
          111,
          251,
          130,
          237,
          156,
          53,
          30,
          54,
          37,
          182,
          181,
          76,
          42,
          64,
          140,
          116,
          94,
          58,
          141,
          21,
          186,
          93,
          29,
          577,
          121,
          80,
          171,
          95,
          35,
          108,
          22,
          62,
          30,
          103,
          147,
          43,
          60,
          239,
          369,
          193,
          43,
          13,
          71,
          168,
          50,
          40,
          199,
          162,
          70,
          105,
          236,
          42,
          19,
          128,
          89,
          29,
          64,
          92,
          117,
          68,
          228,
          57,
          22,
          78,
          45,
          31,
          78,
          65,
          55,
          21,
          61,
          127,
          124,
          24,
          32,
          49,
          135,
          76,
          46,
          224,
          127,
          144,
          138,
          70,
          24,
          51,
          110,
          104,
          109,
          55,
          191,
          67,
          29,
          59,
          61,
          92,
          43,
          58,
          59,
          101,
          53,
          95,
          43,
          468,
          34,
          67,
          52,
          41,
          355,
          64,
          229,
          85,
          50,
          87,
          17,
          92,
          82,
          116,
          139,
          71,
          168,
          41,
          88,
          32,
          48,
          60,
          105,
          76,
          78,
          54,
          247,
          46,
          52,
          28,
          203,
          69,
          157,
          172,
          55,
          106,
          72,
          81,
          64,
          97,
          170,
          118,
          148,
          65,
          43,
          76,
          61,
          91,
          252,
          46,
          54,
          111,
          346,
          70,
          88,
          164,
          66,
          71,
          69,
          108,
          112,
          114,
          66,
          47,
          121,
          27,
          75,
          183,
          110,
          63,
          54,
          160,
          88,
          94,
          284,
          152,
          66,
          186,
          126,
          127,
          335,
          89,
          133,
          63,
          54,
          94,
          41,
          53,
          155,
          59,
          88,
          41,
          111,
          53,
          42,
          154,
          22,
          17,
          114,
          160,
          35,
          70,
          67,
          61,
          43,
          64,
          44,
          53,
          68,
          78,
          81,
          58,
          27,
          76,
          46,
          141,
          31,
          174,
          53,
          28,
          45,
          88,
          35,
          163,
          83,
          40,
          35,
          64,
          182,
          62,
          64,
          122,
          141,
          139,
          99,
          122,
          54,
          75,
          20,
          94,
          81,
          96,
          246,
          68,
          133,
          80,
          70,
          25,
          120,
          115,
          12,
          63,
          275,
          53,
          126,
          43,
          93,
          196,
          55,
          88,
          64,
          48,
          55,
          57,
          27,
          41,
          35,
          45,
          124,
          91,
          27,
          36,
          65,
          345,
          69,
          96,
          26,
          38,
          75,
          67,
          52,
          81,
          67,
          65,
          35,
          24,
          71,
          57,
          34,
          59,
          202,
          193,
          52,
          56,
          82,
          187,
          166,
          127,
          49,
          167,
          32,
          33,
          40,
          44,
          63,
          34,
          62,
          147,
          124,
          37,
          141,
          152,
          50,
          21,
          79,
          47,
          229,
          73,
          43,
          86,
          75
         ]
        }
       ],
       "layout": {
        "plot_bgcolor": "pink",
        "template": {
         "data": {
          "bar": [
           {
            "error_x": {
             "color": "#2a3f5f"
            },
            "error_y": {
             "color": "#2a3f5f"
            },
            "marker": {
             "line": {
              "color": "#E5ECF6",
              "width": 0.5
             }
            },
            "type": "bar"
           }
          ],
          "barpolar": [
           {
            "marker": {
             "line": {
              "color": "#E5ECF6",
              "width": 0.5
             }
            },
            "type": "barpolar"
           }
          ],
          "carpet": [
           {
            "aaxis": {
             "endlinecolor": "#2a3f5f",
             "gridcolor": "white",
             "linecolor": "white",
             "minorgridcolor": "white",
             "startlinecolor": "#2a3f5f"
            },
            "baxis": {
             "endlinecolor": "#2a3f5f",
             "gridcolor": "white",
             "linecolor": "white",
             "minorgridcolor": "white",
             "startlinecolor": "#2a3f5f"
            },
            "type": "carpet"
           }
          ],
          "choropleth": [
           {
            "colorbar": {
             "outlinewidth": 0,
             "ticks": ""
            },
            "type": "choropleth"
           }
          ],
          "contour": [
           {
            "colorbar": {
             "outlinewidth": 0,
             "ticks": ""
            },
            "colorscale": [
             [
              0,
              "#0d0887"
             ],
             [
              0.1111111111111111,
              "#46039f"
             ],
             [
              0.2222222222222222,
              "#7201a8"
             ],
             [
              0.3333333333333333,
              "#9c179e"
             ],
             [
              0.4444444444444444,
              "#bd3786"
             ],
             [
              0.5555555555555556,
              "#d8576b"
             ],
             [
              0.6666666666666666,
              "#ed7953"
             ],
             [
              0.7777777777777778,
              "#fb9f3a"
             ],
             [
              0.8888888888888888,
              "#fdca26"
             ],
             [
              1,
              "#f0f921"
             ]
            ],
            "type": "contour"
           }
          ],
          "contourcarpet": [
           {
            "colorbar": {
             "outlinewidth": 0,
             "ticks": ""
            },
            "type": "contourcarpet"
           }
          ],
          "heatmap": [
           {
            "colorbar": {
             "outlinewidth": 0,
             "ticks": ""
            },
            "colorscale": [
             [
              0,
              "#0d0887"
             ],
             [
              0.1111111111111111,
              "#46039f"
             ],
             [
              0.2222222222222222,
              "#7201a8"
             ],
             [
              0.3333333333333333,
              "#9c179e"
             ],
             [
              0.4444444444444444,
              "#bd3786"
             ],
             [
              0.5555555555555556,
              "#d8576b"
             ],
             [
              0.6666666666666666,
              "#ed7953"
             ],
             [
              0.7777777777777778,
              "#fb9f3a"
             ],
             [
              0.8888888888888888,
              "#fdca26"
             ],
             [
              1,
              "#f0f921"
             ]
            ],
            "type": "heatmap"
           }
          ],
          "heatmapgl": [
           {
            "colorbar": {
             "outlinewidth": 0,
             "ticks": ""
            },
            "colorscale": [
             [
              0,
              "#0d0887"
             ],
             [
              0.1111111111111111,
              "#46039f"
             ],
             [
              0.2222222222222222,
              "#7201a8"
             ],
             [
              0.3333333333333333,
              "#9c179e"
             ],
             [
              0.4444444444444444,
              "#bd3786"
             ],
             [
              0.5555555555555556,
              "#d8576b"
             ],
             [
              0.6666666666666666,
              "#ed7953"
             ],
             [
              0.7777777777777778,
              "#fb9f3a"
             ],
             [
              0.8888888888888888,
              "#fdca26"
             ],
             [
              1,
              "#f0f921"
             ]
            ],
            "type": "heatmapgl"
           }
          ],
          "histogram": [
           {
            "marker": {
             "colorbar": {
              "outlinewidth": 0,
              "ticks": ""
             }
            },
            "type": "histogram"
           }
          ],
          "histogram2d": [
           {
            "colorbar": {
             "outlinewidth": 0,
             "ticks": ""
            },
            "colorscale": [
             [
              0,
              "#0d0887"
             ],
             [
              0.1111111111111111,
              "#46039f"
             ],
             [
              0.2222222222222222,
              "#7201a8"
             ],
             [
              0.3333333333333333,
              "#9c179e"
             ],
             [
              0.4444444444444444,
              "#bd3786"
             ],
             [
              0.5555555555555556,
              "#d8576b"
             ],
             [
              0.6666666666666666,
              "#ed7953"
             ],
             [
              0.7777777777777778,
              "#fb9f3a"
             ],
             [
              0.8888888888888888,
              "#fdca26"
             ],
             [
              1,
              "#f0f921"
             ]
            ],
            "type": "histogram2d"
           }
          ],
          "histogram2dcontour": [
           {
            "colorbar": {
             "outlinewidth": 0,
             "ticks": ""
            },
            "colorscale": [
             [
              0,
              "#0d0887"
             ],
             [
              0.1111111111111111,
              "#46039f"
             ],
             [
              0.2222222222222222,
              "#7201a8"
             ],
             [
              0.3333333333333333,
              "#9c179e"
             ],
             [
              0.4444444444444444,
              "#bd3786"
             ],
             [
              0.5555555555555556,
              "#d8576b"
             ],
             [
              0.6666666666666666,
              "#ed7953"
             ],
             [
              0.7777777777777778,
              "#fb9f3a"
             ],
             [
              0.8888888888888888,
              "#fdca26"
             ],
             [
              1,
              "#f0f921"
             ]
            ],
            "type": "histogram2dcontour"
           }
          ],
          "mesh3d": [
           {
            "colorbar": {
             "outlinewidth": 0,
             "ticks": ""
            },
            "type": "mesh3d"
           }
          ],
          "parcoords": [
           {
            "line": {
             "colorbar": {
              "outlinewidth": 0,
              "ticks": ""
             }
            },
            "type": "parcoords"
           }
          ],
          "scatter": [
           {
            "marker": {
             "colorbar": {
              "outlinewidth": 0,
              "ticks": ""
             }
            },
            "type": "scatter"
           }
          ],
          "scatter3d": [
           {
            "line": {
             "colorbar": {
              "outlinewidth": 0,
              "ticks": ""
             }
            },
            "marker": {
             "colorbar": {
              "outlinewidth": 0,
              "ticks": ""
             }
            },
            "type": "scatter3d"
           }
          ],
          "scattercarpet": [
           {
            "marker": {
             "colorbar": {
              "outlinewidth": 0,
              "ticks": ""
             }
            },
            "type": "scattercarpet"
           }
          ],
          "scattergeo": [
           {
            "marker": {
             "colorbar": {
              "outlinewidth": 0,
              "ticks": ""
             }
            },
            "type": "scattergeo"
           }
          ],
          "scattergl": [
           {
            "marker": {
             "colorbar": {
              "outlinewidth": 0,
              "ticks": ""
             }
            },
            "type": "scattergl"
           }
          ],
          "scattermapbox": [
           {
            "marker": {
             "colorbar": {
              "outlinewidth": 0,
              "ticks": ""
             }
            },
            "type": "scattermapbox"
           }
          ],
          "scatterpolar": [
           {
            "marker": {
             "colorbar": {
              "outlinewidth": 0,
              "ticks": ""
             }
            },
            "type": "scatterpolar"
           }
          ],
          "scatterpolargl": [
           {
            "marker": {
             "colorbar": {
              "outlinewidth": 0,
              "ticks": ""
             }
            },
            "type": "scatterpolargl"
           }
          ],
          "scatterternary": [
           {
            "marker": {
             "colorbar": {
              "outlinewidth": 0,
              "ticks": ""
             }
            },
            "type": "scatterternary"
           }
          ],
          "surface": [
           {
            "colorbar": {
             "outlinewidth": 0,
             "ticks": ""
            },
            "colorscale": [
             [
              0,
              "#0d0887"
             ],
             [
              0.1111111111111111,
              "#46039f"
             ],
             [
              0.2222222222222222,
              "#7201a8"
             ],
             [
              0.3333333333333333,
              "#9c179e"
             ],
             [
              0.4444444444444444,
              "#bd3786"
             ],
             [
              0.5555555555555556,
              "#d8576b"
             ],
             [
              0.6666666666666666,
              "#ed7953"
             ],
             [
              0.7777777777777778,
              "#fb9f3a"
             ],
             [
              0.8888888888888888,
              "#fdca26"
             ],
             [
              1,
              "#f0f921"
             ]
            ],
            "type": "surface"
           }
          ],
          "table": [
           {
            "cells": {
             "fill": {
              "color": "#EBF0F8"
             },
             "line": {
              "color": "white"
             }
            },
            "header": {
             "fill": {
              "color": "#C8D4E3"
             },
             "line": {
              "color": "white"
             }
            },
            "type": "table"
           }
          ]
         },
         "layout": {
          "annotationdefaults": {
           "arrowcolor": "#2a3f5f",
           "arrowhead": 0,
           "arrowwidth": 1
          },
          "colorscale": {
           "diverging": [
            [
             0,
             "#8e0152"
            ],
            [
             0.1,
             "#c51b7d"
            ],
            [
             0.2,
             "#de77ae"
            ],
            [
             0.3,
             "#f1b6da"
            ],
            [
             0.4,
             "#fde0ef"
            ],
            [
             0.5,
             "#f7f7f7"
            ],
            [
             0.6,
             "#e6f5d0"
            ],
            [
             0.7,
             "#b8e186"
            ],
            [
             0.8,
             "#7fbc41"
            ],
            [
             0.9,
             "#4d9221"
            ],
            [
             1,
             "#276419"
            ]
           ],
           "sequential": [
            [
             0,
             "#0d0887"
            ],
            [
             0.1111111111111111,
             "#46039f"
            ],
            [
             0.2222222222222222,
             "#7201a8"
            ],
            [
             0.3333333333333333,
             "#9c179e"
            ],
            [
             0.4444444444444444,
             "#bd3786"
            ],
            [
             0.5555555555555556,
             "#d8576b"
            ],
            [
             0.6666666666666666,
             "#ed7953"
            ],
            [
             0.7777777777777778,
             "#fb9f3a"
            ],
            [
             0.8888888888888888,
             "#fdca26"
            ],
            [
             1,
             "#f0f921"
            ]
           ],
           "sequentialminus": [
            [
             0,
             "#0d0887"
            ],
            [
             0.1111111111111111,
             "#46039f"
            ],
            [
             0.2222222222222222,
             "#7201a8"
            ],
            [
             0.3333333333333333,
             "#9c179e"
            ],
            [
             0.4444444444444444,
             "#bd3786"
            ],
            [
             0.5555555555555556,
             "#d8576b"
            ],
            [
             0.6666666666666666,
             "#ed7953"
            ],
            [
             0.7777777777777778,
             "#fb9f3a"
            ],
            [
             0.8888888888888888,
             "#fdca26"
            ],
            [
             1,
             "#f0f921"
            ]
           ]
          },
          "colorway": [
           "#636efa",
           "#EF553B",
           "#00cc96",
           "#ab63fa",
           "#FFA15A",
           "#19d3f3",
           "#FF6692",
           "#B6E880",
           "#FF97FF",
           "#FECB52"
          ],
          "font": {
           "color": "#2a3f5f"
          },
          "geo": {
           "bgcolor": "white",
           "lakecolor": "white",
           "landcolor": "#E5ECF6",
           "showlakes": true,
           "showland": true,
           "subunitcolor": "white"
          },
          "hoverlabel": {
           "align": "left"
          },
          "hovermode": "closest",
          "mapbox": {
           "style": "light"
          },
          "paper_bgcolor": "white",
          "plot_bgcolor": "#E5ECF6",
          "polar": {
           "angularaxis": {
            "gridcolor": "white",
            "linecolor": "white",
            "ticks": ""
           },
           "bgcolor": "#E5ECF6",
           "radialaxis": {
            "gridcolor": "white",
            "linecolor": "white",
            "ticks": ""
           }
          },
          "scene": {
           "xaxis": {
            "backgroundcolor": "#E5ECF6",
            "gridcolor": "white",
            "gridwidth": 2,
            "linecolor": "white",
            "showbackground": true,
            "ticks": "",
            "zerolinecolor": "white"
           },
           "yaxis": {
            "backgroundcolor": "#E5ECF6",
            "gridcolor": "white",
            "gridwidth": 2,
            "linecolor": "white",
            "showbackground": true,
            "ticks": "",
            "zerolinecolor": "white"
           },
           "zaxis": {
            "backgroundcolor": "#E5ECF6",
            "gridcolor": "white",
            "gridwidth": 2,
            "linecolor": "white",
            "showbackground": true,
            "ticks": "",
            "zerolinecolor": "white"
           }
          },
          "shapedefaults": {
           "line": {
            "color": "#2a3f5f"
           }
          },
          "ternary": {
           "aaxis": {
            "gridcolor": "white",
            "linecolor": "white",
            "ticks": ""
           },
           "baxis": {
            "gridcolor": "white",
            "linecolor": "white",
            "ticks": ""
           },
           "bgcolor": "#E5ECF6",
           "caxis": {
            "gridcolor": "white",
            "linecolor": "white",
            "ticks": ""
           }
          },
          "title": {
           "x": 0.05
          },
          "xaxis": {
           "automargin": true,
           "gridcolor": "white",
           "linecolor": "white",
           "ticks": "",
           "zerolinecolor": "white",
           "zerolinewidth": 2
          },
          "yaxis": {
           "automargin": true,
           "gridcolor": "white",
           "linecolor": "white",
           "ticks": "",
           "zerolinecolor": "white",
           "zerolinewidth": 2
          }
         }
        },
        "title": {
         "text": "Общее число действий в зависимости от длины текста"
        },
        "xaxis": {
         "title": {
          "text": "Длина текста (кол-во слов)"
         }
        },
        "yaxis": {
         "title": {
          "text": "Общее число действий"
         }
        }
       }
      },
      "text/html": [
       "<div>\n",
       "        \n",
       "        \n",
       "            <div id=\"4972235a-6668-4e9b-a9ba-08adc9d61b88\" class=\"plotly-graph-div\" style=\"height:525px; width:100%;\"></div>\n",
       "            <script type=\"text/javascript\">\n",
       "                require([\"plotly\"], function(Plotly) {\n",
       "                    window.PLOTLYENV=window.PLOTLYENV || {};\n",
       "                    \n",
       "                if (document.getElementById(\"4972235a-6668-4e9b-a9ba-08adc9d61b88\")) {\n",
       "                    Plotly.newPlot(\n",
       "                        '4972235a-6668-4e9b-a9ba-08adc9d61b88',\n",
       "                        [{\"mode\": \"markers\", \"type\": \"scatter\", \"x\": [33, 37, 48, 46, 39, 44, 41, 42, 54, 45, 34, 67, 37, 45, 52, 46, 42, 30, 34, 36, 56, 34, 44, 46, 59, 55, 73, 37, 54, 64, 30, 37, 46, 24, 76, 65, 47, 39, 33, 29, 73, 75, 34, 30, 70, 27, 43, 58, 38, 40, 40, 30, 42, 43, 62, 53, 39, 46, 42, 26, 51, 38, 27, 31, 30, 99, 45, 33, 91, 53, 49, 31, 46, 41, 28, 35, 24, 33, 26, 49, 37, 40, 33, 44, 33, 38, 21, 29, 33, 30, 31, 38, 32, 50, 32, 47, 51, 33, 67, 29, 27, 30, 46, 37, 113, 49, 34, 49, 42, 44, 33, 46, 42, 27, 28, 63, 26, 39, 48, 38, 31, 85, 48, 57, 30, 28, 40, 49, 49, 90, 53, 52, 32, 30, 36, 46, 27, 27, 38, 34, 34, 63, 32, 42, 33, 49, 42, 52, 21, 56, 37, 36, 38, 142, 44, 136, 56, 29, 52, 32, 106, 47, 59, 32, 40, 44, 40, 41, 50, 59, 51, 50, 55, 52, 42, 54, 55, 24, 149, 222, 32, 35, 59, 36, 28, 49, 19, 18, 37, 36, 73, 33, 33, 62, 50, 54, 26, 29, 40, 43, 43, 39, 31, 79, 38, 31, 52, 57, 31, 35, 37, 53, 35, 43, 36, 50, 25, 53, 51, 53, 27, 30, 36, 43, 58, 44, 50, 64, 24, 53, 41, 94, 42, 27, 20, 38, 49, 27, 79, 47, 91, 54, 68, 43, 52, 36, 27, 67, 74, 36, 31, 59, 43, 40, 27, 104, 38, 61, 44, 40, 37, 34, 32, 38, 34, 40, 27, 47, 49, 40, 268, 36, 28, 61, 43, 41, 48, 46, 41, 39, 21, 72, 51, 40, 32, 49, 36, 36, 37, 41, 39, 46, 61, 19, 34, 44, 47, 30, 98, 42, 25, 37, 42, 25, 29, 27, 49, 38, 28, 32, 32, 45, 40, 36, 19, 43, 41, 43, 35, 30, 47, 36, 30, 60, 33, 24, 40, 47, 51, 34, 42, 37, 37, 32, 47, 41, 50, 37, 33, 19, 54, 44, 30, 44, 36, 29, 26, 49, 71, 34, 25, 31, 30, 30, 27, 50, 34, 58, 44, 39, 28, 35, 48, 51, 46, 54, 34, 29, 25, 27, 53, 33, 32, 42, 89, 57, 40, 37, 25, 61, 38, 29, 44, 39, 35, 18, 22, 32, 31, 29, 38, 44, 19, 38, 33, 24, 36, 29, 48, 46, 28, 33, 29, 62, 35, 37, 30, 34, 37, 20, 39, 48, 43, 36, 28, 16, 30, 48, 50, 44, 42, 46, 35, 23, 47, 51, 45, 50, 28, 40, 38, 19, 25, 25, 43, 42, 40, 32, 43, 40, 31, 46, 26, 31, 33, 29, 48, 37, 18, 29, 38, 32, 42, 19, 41, 40, 41, 44, 58, 44, 34, 25, 32, 27, 34, 50, 35, 30, 30, 39, 47, 28, 23, 19, 47, 41, 37, 36, 48, 30, 45, 30, 39, 48, 30, 28, 43, 65, 65, 39, 38, 25, 45, 37, 64, 40, 37, 58, 25, 51, 33, 25, 35, 39, 45, 50, 28, 29, 41, 42, 14, 38, 29, 38, 49, 39, 41, 16, 47, 39, 56, 21, 36, 17, 22, 40, 24, 25, 35, 39, 31, 27, 17, 52, 19, 39, 40, 30, 34, 30, 32, 33, 23, 25, 28, 52, 18, 36, 27, 30, 30, 32, 31, 24, 33, 39, 28, 23, 30, 34, 33, 36, 27, 44, 32, 32, 107, 28, 46, 32, 39, 23, 18, 21, 35, 19, 21, 111, 26, 28, 43, 22, 38, 38, 32, 31, 27, 40, 41, 36, 32, 27, 27, 27, 30, 31, 124, 28, 23, 28, 32, 40, 42, 44, 17, 16, 29, 74, 23, 26, 57, 37, 44, 30, 22, 38, 19, 29, 38, 27, 19, 35, 27, 25, 25, 25, 43, 36, 37, 52, 53, 33, 86, 24, 28, 33, 36, 70, 37, 44, 22, 31, 29, 25, 39, 54, 38, 42, 22, 33, 34, 34, 67, 29, 45, 37, 28, 39, 26, 27, 34, 21, 21, 30, 27, 43, 34, 22, 25, 33, 33, 28, 28, 30, 33, 32, 42, 38, 44, 29, 26, 29, 33, 28, 40, 27, 36, 25, 28, 45, 31, 28, 29, 32, 27, 40, 31, 33, 29, 45, 36, 31, 31, 22, 26, 27, 26, 33, 38, 30, 24, 53, 28, 51, 37, 67, 26, 32, 46, 31, 30, 13, 17, 14, 28, 20, 26, 62, 34, 23, 43, 23, 23, 38, 28, 49, 33, 42, 37, 21, 30, 23, 30, 25, 34, 17, 18, 40, 20, 43, 36, 40, 35, 22, 28, 34, 40, 30, 187, 53, 23, 34, 30, 32, 42, 18, 50, 32, 28, 32, 23, 34, 47, 46, 35, 35, 22, 32, 47, 21, 41, 53, 14, 39, 20, 36, 26, 21, 32, 36, 37, 48, 42, 32, 41, 34, 24, 25, 48, 32, 35, 16, 25, 46, 34, 24, 28, 29, 41, 32, 52, 31, 29, 13, 39, 29, 28, 29, 14, 32, 33, 18, 22, 28, 24, 38, 41], \"y\": [187, 30, 92, 28, 50, 20, 106, 104, 202, 73, 166, 38, 108, 45, 39, 127, 49, 27, 46, 64, 93, 107, 137, 97, 87, 79, 79, 94, 60, 304, 42, 26, 48, 32, 57, 436, 50, 98, 84, 72, 101, 47, 54, 24, 61, 101, 76, 69, 76, 48, 38, 272, 72, 106, 167, 90, 46, 131, 44, 58, 106, 56, 30, 90, 81, 111, 79, 93, 55, 58, 48, 58, 115, 346, 24, 68, 77, 120, 73, 75, 130, 44, 84, 18, 75, 100, 25, 64, 56, 117, 84, 56, 89, 60, 90, 87, 33, 99, 65, 88, 25, 83, 72, 154, 146, 24, 147, 58, 59, 151, 76, 57, 33, 48, 98, 50, 105, 55, 134, 135, 69, 228, 388, 174, 37, 99, 92, 95, 91, 127, 75, 44, 112, 64, 150, 49, 124, 35, 66, 130, 83, 121, 190, 50, 228, 151, 287, 68, 30, 61, 62, 109, 62, 698, 97, 243, 125, 34, 119, 72, 116, 41, 81, 50, 124, 152, 64, 62, 22, 63, 63, 105, 167, 46, 264, 140, 63, 11, 658, 644, 115, 66, 166, 40, 37, 145, 57, 17, 70, 31, 142, 148, 70, 81, 69, 36, 25, 13, 59, 38, 57, 38, 59, 68, 40, 102, 40, 102, 16, 45, 117, 52, 58, 105, 73, 32, 113, 112, 189, 69, 15, 105, 60, 120, 73, 28, 37, 60, 25, 37, 65, 126, 76, 120, 19, 69, 90, 38, 224, 116, 77, 81, 91, 80, 130, 94, 17, 105, 147, 230, 60, 203, 86, 51, 17, 107, 143, 273, 233, 36, 51, 27, 41, 31, 52, 185, 56, 121, 49, 88, 665, 46, 31, 111, 12, 118, 69, 71, 29, 41, 54, 38, 121, 82, 35, 66, 29, 28, 52, 71, 78, 157, 60, 25, 29, 100, 39, 76, 31, 107, 26, 114, 20, 54, 38, 72, 31, 27, 45, 161, 24, 79, 86, 58, 165, 32, 60, 54, 61, 33, 30, 406, 242, 70, 165, 51, 178, 102, 35, 30, 42, 154, 57, 208, 239, 325, 137, 106, 21, 151, 85, 102, 108, 404, 83, 206, 95, 55, 78, 25, 50, 294, 71, 72, 162, 256, 71, 31, 64, 27, 78, 84, 90, 44, 81, 187, 20, 128, 59, 21, 235, 71, 93, 114, 78, 179, 91, 98, 24, 191, 216, 105, 121, 275, 107, 20, 83, 47, 92, 104, 24, 93, 140, 68, 54, 66, 166, 16, 122, 75, 29, 44, 81, 148, 60, 95, 91, 103, 96, 28, 90, 479, 104, 24, 96, 97, 122, 66, 244, 27, 21, 119, 69, 18, 116, 56, 44, 102, 20, 195, 93, 22, 26, 92, 89, 167, 46, 56, 114, 15, 77, 96, 12, 89, 234, 146, 60, 56, 161, 127, 242, 24, 201, 30, 30, 34, 203, 45, 491, 44, 29, 64, 116, 38, 34, 182, 168, 238, 68, 94, 135, 210, 247, 334, 50, 26, 308, 62, 164, 62, 99, 76, 50, 128, 59, 205, 49, 248, 56, 44, 44, 51, 41, 344, 83, 207, 173, 82, 29, 412, 94, 49, 111, 251, 130, 237, 156, 53, 30, 54, 37, 182, 181, 76, 42, 64, 140, 116, 94, 58, 141, 21, 186, 93, 29, 577, 121, 80, 171, 95, 35, 108, 22, 62, 30, 103, 147, 43, 60, 239, 369, 193, 43, 13, 71, 168, 50, 40, 199, 162, 70, 105, 236, 42, 19, 128, 89, 29, 64, 92, 117, 68, 228, 57, 22, 78, 45, 31, 78, 65, 55, 21, 61, 127, 124, 24, 32, 49, 135, 76, 46, 224, 127, 144, 138, 70, 24, 51, 110, 104, 109, 55, 191, 67, 29, 59, 61, 92, 43, 58, 59, 101, 53, 95, 43, 468, 34, 67, 52, 41, 355, 64, 229, 85, 50, 87, 17, 92, 82, 116, 139, 71, 168, 41, 88, 32, 48, 60, 105, 76, 78, 54, 247, 46, 52, 28, 203, 69, 157, 172, 55, 106, 72, 81, 64, 97, 170, 118, 148, 65, 43, 76, 61, 91, 252, 46, 54, 111, 346, 70, 88, 164, 66, 71, 69, 108, 112, 114, 66, 47, 121, 27, 75, 183, 110, 63, 54, 160, 88, 94, 284, 152, 66, 186, 126, 127, 335, 89, 133, 63, 54, 94, 41, 53, 155, 59, 88, 41, 111, 53, 42, 154, 22, 17, 114, 160, 35, 70, 67, 61, 43, 64, 44, 53, 68, 78, 81, 58, 27, 76, 46, 141, 31, 174, 53, 28, 45, 88, 35, 163, 83, 40, 35, 64, 182, 62, 64, 122, 141, 139, 99, 122, 54, 75, 20, 94, 81, 96, 246, 68, 133, 80, 70, 25, 120, 115, 12, 63, 275, 53, 126, 43, 93, 196, 55, 88, 64, 48, 55, 57, 27, 41, 35, 45, 124, 91, 27, 36, 65, 345, 69, 96, 26, 38, 75, 67, 52, 81, 67, 65, 35, 24, 71, 57, 34, 59, 202, 193, 52, 56, 82, 187, 166, 127, 49, 167, 32, 33, 40, 44, 63, 34, 62, 147, 124, 37, 141, 152, 50, 21, 79, 47, 229, 73, 43, 86, 75]}],\n",
       "                        {\"plot_bgcolor\": \"pink\", \"template\": {\"data\": {\"bar\": [{\"error_x\": {\"color\": \"#2a3f5f\"}, \"error_y\": {\"color\": \"#2a3f5f\"}, \"marker\": {\"line\": {\"color\": \"#E5ECF6\", \"width\": 0.5}}, \"type\": \"bar\"}], \"barpolar\": [{\"marker\": {\"line\": {\"color\": \"#E5ECF6\", \"width\": 0.5}}, \"type\": \"barpolar\"}], \"carpet\": [{\"aaxis\": {\"endlinecolor\": \"#2a3f5f\", \"gridcolor\": \"white\", \"linecolor\": \"white\", \"minorgridcolor\": \"white\", \"startlinecolor\": \"#2a3f5f\"}, \"baxis\": {\"endlinecolor\": \"#2a3f5f\", \"gridcolor\": \"white\", \"linecolor\": \"white\", \"minorgridcolor\": \"white\", \"startlinecolor\": \"#2a3f5f\"}, \"type\": \"carpet\"}], \"choropleth\": [{\"colorbar\": {\"outlinewidth\": 0, \"ticks\": \"\"}, \"type\": \"choropleth\"}], \"contour\": [{\"colorbar\": {\"outlinewidth\": 0, \"ticks\": \"\"}, \"colorscale\": [[0.0, \"#0d0887\"], [0.1111111111111111, \"#46039f\"], [0.2222222222222222, \"#7201a8\"], [0.3333333333333333, \"#9c179e\"], [0.4444444444444444, \"#bd3786\"], [0.5555555555555556, \"#d8576b\"], [0.6666666666666666, \"#ed7953\"], [0.7777777777777778, \"#fb9f3a\"], [0.8888888888888888, \"#fdca26\"], [1.0, \"#f0f921\"]], \"type\": \"contour\"}], \"contourcarpet\": [{\"colorbar\": {\"outlinewidth\": 0, \"ticks\": \"\"}, \"type\": \"contourcarpet\"}], \"heatmap\": [{\"colorbar\": {\"outlinewidth\": 0, \"ticks\": \"\"}, \"colorscale\": [[0.0, \"#0d0887\"], [0.1111111111111111, \"#46039f\"], [0.2222222222222222, \"#7201a8\"], [0.3333333333333333, \"#9c179e\"], [0.4444444444444444, \"#bd3786\"], [0.5555555555555556, \"#d8576b\"], [0.6666666666666666, \"#ed7953\"], [0.7777777777777778, \"#fb9f3a\"], [0.8888888888888888, \"#fdca26\"], [1.0, \"#f0f921\"]], \"type\": \"heatmap\"}], \"heatmapgl\": [{\"colorbar\": {\"outlinewidth\": 0, \"ticks\": \"\"}, \"colorscale\": [[0.0, \"#0d0887\"], [0.1111111111111111, \"#46039f\"], [0.2222222222222222, \"#7201a8\"], [0.3333333333333333, \"#9c179e\"], [0.4444444444444444, \"#bd3786\"], [0.5555555555555556, \"#d8576b\"], [0.6666666666666666, \"#ed7953\"], [0.7777777777777778, \"#fb9f3a\"], [0.8888888888888888, \"#fdca26\"], [1.0, \"#f0f921\"]], \"type\": \"heatmapgl\"}], \"histogram\": [{\"marker\": {\"colorbar\": {\"outlinewidth\": 0, \"ticks\": \"\"}}, \"type\": \"histogram\"}], \"histogram2d\": [{\"colorbar\": {\"outlinewidth\": 0, \"ticks\": \"\"}, \"colorscale\": [[0.0, \"#0d0887\"], [0.1111111111111111, \"#46039f\"], [0.2222222222222222, \"#7201a8\"], [0.3333333333333333, \"#9c179e\"], [0.4444444444444444, \"#bd3786\"], [0.5555555555555556, \"#d8576b\"], [0.6666666666666666, \"#ed7953\"], [0.7777777777777778, \"#fb9f3a\"], [0.8888888888888888, \"#fdca26\"], [1.0, \"#f0f921\"]], \"type\": \"histogram2d\"}], \"histogram2dcontour\": [{\"colorbar\": {\"outlinewidth\": 0, \"ticks\": \"\"}, \"colorscale\": [[0.0, \"#0d0887\"], [0.1111111111111111, \"#46039f\"], [0.2222222222222222, \"#7201a8\"], [0.3333333333333333, \"#9c179e\"], [0.4444444444444444, \"#bd3786\"], [0.5555555555555556, \"#d8576b\"], [0.6666666666666666, \"#ed7953\"], [0.7777777777777778, \"#fb9f3a\"], [0.8888888888888888, \"#fdca26\"], [1.0, \"#f0f921\"]], \"type\": \"histogram2dcontour\"}], \"mesh3d\": [{\"colorbar\": {\"outlinewidth\": 0, \"ticks\": \"\"}, \"type\": \"mesh3d\"}], \"parcoords\": [{\"line\": {\"colorbar\": {\"outlinewidth\": 0, \"ticks\": \"\"}}, \"type\": \"parcoords\"}], \"scatter\": [{\"marker\": {\"colorbar\": {\"outlinewidth\": 0, \"ticks\": \"\"}}, \"type\": \"scatter\"}], \"scatter3d\": [{\"line\": {\"colorbar\": {\"outlinewidth\": 0, \"ticks\": \"\"}}, \"marker\": {\"colorbar\": {\"outlinewidth\": 0, \"ticks\": \"\"}}, \"type\": \"scatter3d\"}], \"scattercarpet\": [{\"marker\": {\"colorbar\": {\"outlinewidth\": 0, \"ticks\": \"\"}}, \"type\": \"scattercarpet\"}], \"scattergeo\": [{\"marker\": {\"colorbar\": {\"outlinewidth\": 0, \"ticks\": \"\"}}, \"type\": \"scattergeo\"}], \"scattergl\": [{\"marker\": {\"colorbar\": {\"outlinewidth\": 0, \"ticks\": \"\"}}, \"type\": \"scattergl\"}], \"scattermapbox\": [{\"marker\": {\"colorbar\": {\"outlinewidth\": 0, \"ticks\": \"\"}}, \"type\": \"scattermapbox\"}], \"scatterpolar\": [{\"marker\": {\"colorbar\": {\"outlinewidth\": 0, \"ticks\": \"\"}}, \"type\": \"scatterpolar\"}], \"scatterpolargl\": [{\"marker\": {\"colorbar\": {\"outlinewidth\": 0, \"ticks\": \"\"}}, \"type\": \"scatterpolargl\"}], \"scatterternary\": [{\"marker\": {\"colorbar\": {\"outlinewidth\": 0, \"ticks\": \"\"}}, \"type\": \"scatterternary\"}], \"surface\": [{\"colorbar\": {\"outlinewidth\": 0, \"ticks\": \"\"}, \"colorscale\": [[0.0, \"#0d0887\"], [0.1111111111111111, \"#46039f\"], [0.2222222222222222, \"#7201a8\"], [0.3333333333333333, \"#9c179e\"], [0.4444444444444444, \"#bd3786\"], [0.5555555555555556, \"#d8576b\"], [0.6666666666666666, \"#ed7953\"], [0.7777777777777778, \"#fb9f3a\"], [0.8888888888888888, \"#fdca26\"], [1.0, \"#f0f921\"]], \"type\": \"surface\"}], \"table\": [{\"cells\": {\"fill\": {\"color\": \"#EBF0F8\"}, \"line\": {\"color\": \"white\"}}, \"header\": {\"fill\": {\"color\": \"#C8D4E3\"}, \"line\": {\"color\": \"white\"}}, \"type\": \"table\"}]}, \"layout\": {\"annotationdefaults\": {\"arrowcolor\": \"#2a3f5f\", \"arrowhead\": 0, \"arrowwidth\": 1}, \"colorscale\": {\"diverging\": [[0, \"#8e0152\"], [0.1, \"#c51b7d\"], [0.2, \"#de77ae\"], [0.3, \"#f1b6da\"], [0.4, \"#fde0ef\"], [0.5, \"#f7f7f7\"], [0.6, \"#e6f5d0\"], [0.7, \"#b8e186\"], [0.8, \"#7fbc41\"], [0.9, \"#4d9221\"], [1, \"#276419\"]], \"sequential\": [[0.0, \"#0d0887\"], [0.1111111111111111, \"#46039f\"], [0.2222222222222222, \"#7201a8\"], [0.3333333333333333, \"#9c179e\"], [0.4444444444444444, \"#bd3786\"], [0.5555555555555556, \"#d8576b\"], [0.6666666666666666, \"#ed7953\"], [0.7777777777777778, \"#fb9f3a\"], [0.8888888888888888, \"#fdca26\"], [1.0, \"#f0f921\"]], \"sequentialminus\": [[0.0, \"#0d0887\"], [0.1111111111111111, \"#46039f\"], [0.2222222222222222, \"#7201a8\"], [0.3333333333333333, \"#9c179e\"], [0.4444444444444444, \"#bd3786\"], [0.5555555555555556, \"#d8576b\"], [0.6666666666666666, \"#ed7953\"], [0.7777777777777778, \"#fb9f3a\"], [0.8888888888888888, \"#fdca26\"], [1.0, \"#f0f921\"]]}, \"colorway\": [\"#636efa\", \"#EF553B\", \"#00cc96\", \"#ab63fa\", \"#FFA15A\", \"#19d3f3\", \"#FF6692\", \"#B6E880\", \"#FF97FF\", \"#FECB52\"], \"font\": {\"color\": \"#2a3f5f\"}, \"geo\": {\"bgcolor\": \"white\", \"lakecolor\": \"white\", \"landcolor\": \"#E5ECF6\", \"showlakes\": true, \"showland\": true, \"subunitcolor\": \"white\"}, \"hoverlabel\": {\"align\": \"left\"}, \"hovermode\": \"closest\", \"mapbox\": {\"style\": \"light\"}, \"paper_bgcolor\": \"white\", \"plot_bgcolor\": \"#E5ECF6\", \"polar\": {\"angularaxis\": {\"gridcolor\": \"white\", \"linecolor\": \"white\", \"ticks\": \"\"}, \"bgcolor\": \"#E5ECF6\", \"radialaxis\": {\"gridcolor\": \"white\", \"linecolor\": \"white\", \"ticks\": \"\"}}, \"scene\": {\"xaxis\": {\"backgroundcolor\": \"#E5ECF6\", \"gridcolor\": \"white\", \"gridwidth\": 2, \"linecolor\": \"white\", \"showbackground\": true, \"ticks\": \"\", \"zerolinecolor\": \"white\"}, \"yaxis\": {\"backgroundcolor\": \"#E5ECF6\", \"gridcolor\": \"white\", \"gridwidth\": 2, \"linecolor\": \"white\", \"showbackground\": true, \"ticks\": \"\", \"zerolinecolor\": \"white\"}, \"zaxis\": {\"backgroundcolor\": \"#E5ECF6\", \"gridcolor\": \"white\", \"gridwidth\": 2, \"linecolor\": \"white\", \"showbackground\": true, \"ticks\": \"\", \"zerolinecolor\": \"white\"}}, \"shapedefaults\": {\"line\": {\"color\": \"#2a3f5f\"}}, \"ternary\": {\"aaxis\": {\"gridcolor\": \"white\", \"linecolor\": \"white\", \"ticks\": \"\"}, \"baxis\": {\"gridcolor\": \"white\", \"linecolor\": \"white\", \"ticks\": \"\"}, \"bgcolor\": \"#E5ECF6\", \"caxis\": {\"gridcolor\": \"white\", \"linecolor\": \"white\", \"ticks\": \"\"}}, \"title\": {\"x\": 0.05}, \"xaxis\": {\"automargin\": true, \"gridcolor\": \"white\", \"linecolor\": \"white\", \"ticks\": \"\", \"zerolinecolor\": \"white\", \"zerolinewidth\": 2}, \"yaxis\": {\"automargin\": true, \"gridcolor\": \"white\", \"linecolor\": \"white\", \"ticks\": \"\", \"zerolinecolor\": \"white\", \"zerolinewidth\": 2}}}, \"title\": {\"text\": \"\\u041e\\u0431\\u0449\\u0435\\u0435 \\u0447\\u0438\\u0441\\u043b\\u043e \\u0434\\u0435\\u0439\\u0441\\u0442\\u0432\\u0438\\u0439 \\u0432 \\u0437\\u0430\\u0432\\u0438\\u0441\\u0438\\u043c\\u043e\\u0441\\u0442\\u0438 \\u043e\\u0442 \\u0434\\u043b\\u0438\\u043d\\u044b \\u0442\\u0435\\u043a\\u0441\\u0442\\u0430\"}, \"xaxis\": {\"title\": {\"text\": \"\\u0414\\u043b\\u0438\\u043d\\u0430 \\u0442\\u0435\\u043a\\u0441\\u0442\\u0430 (\\u043a\\u043e\\u043b-\\u0432\\u043e \\u0441\\u043b\\u043e\\u0432)\"}}, \"yaxis\": {\"title\": {\"text\": \"\\u041e\\u0431\\u0449\\u0435\\u0435 \\u0447\\u0438\\u0441\\u043b\\u043e \\u0434\\u0435\\u0439\\u0441\\u0442\\u0432\\u0438\\u0439\"}}},\n",
       "                        {\"responsive\": true}\n",
       "                    ).then(function(){\n",
       "                            \n",
       "var gd = document.getElementById('4972235a-6668-4e9b-a9ba-08adc9d61b88');\n",
       "var x = new MutationObserver(function (mutations, observer) {{\n",
       "        var display = window.getComputedStyle(gd).display;\n",
       "        if (!display || display === 'none') {{\n",
       "            console.log([gd, 'removed!']);\n",
       "            Plotly.purge(gd);\n",
       "            observer.disconnect();\n",
       "        }}\n",
       "}});\n",
       "\n",
       "// Listen for the removal of the full notebook cells\n",
       "var notebookContainer = gd.closest('#notebook-container');\n",
       "if (notebookContainer) {{\n",
       "    x.observe(notebookContainer, {childList: true});\n",
       "}}\n",
       "\n",
       "// Listen for the clearing of the current output cell\n",
       "var outputEl = gd.closest('.output');\n",
       "if (outputEl) {{\n",
       "    x.observe(outputEl, {childList: true});\n",
       "}}\n",
       "\n",
       "                        })\n",
       "                };\n",
       "                });\n",
       "            </script>\n",
       "        </div>"
      ]
     },
     "metadata": {},
     "output_type": "display_data"
    }
   ],
   "source": [
    "data = [go.Scatter(\n",
    "        x = df_titles.dlina, \n",
    "        y = df_titles.total_actions,\n",
    "        mode = 'markers'\n",
    "    )]\n",
    "\n",
    "layout = go.Layout(\n",
    "        title = 'Общее число действий в зависимости от длины текста',\n",
    "        xaxis = dict(title = 'Длина текста (кол-во слов)'),\n",
    "        yaxis = dict(title = 'Общее число действий'),\n",
    "        plot_bgcolor='pink'\n",
    "        \n",
    ")\n",
    "\n",
    "fig = go.Figure(data = data, layout = layout) #объединяет дату и лэйаут \n",
    "###  дата будет списком. квадратные скобки, то что может быть несколько графиков\n",
    "pyo.iplot(fig, filename= 'scatter.html') ###добавляем букву i, чтобы график отображался в тетрадке\n"
   ]
  },
  {
   "cell_type": "code",
   "execution_count": 103,
   "metadata": {},
   "outputs": [],
   "source": [
    "writer = pd.ExcelWriter('DataList.xlsx', engine='xlsxwriter')\n",
    "\n",
    "df_titles.to_excel(writer,\n",
    "                  sheet_name='Sheet_name_1')\n",
    "\n",
    "writer.save()"
   ]
  },
  {
   "cell_type": "code",
   "execution_count": 104,
   "metadata": {},
   "outputs": [],
   "source": [
    "writer = pd.ExcelWriter('DataListFull.xlsx', engine='xlsxwriter')\n",
    "\n",
    "df.to_excel(writer,\n",
    "                  sheet_name='Sheet_name_1')\n",
    "\n",
    "writer.save()"
   ]
  },
  {
   "cell_type": "markdown",
   "metadata": {},
   "source": [
    "# РЕГРЕССИОННЫЙ АНАЛИЗ"
   ]
  },
  {
   "cell_type": "markdown",
   "metadata": {},
   "source": [
    "В чем суть:\n",
    "Нам показалось, что частотного анализа будет недостаточно для того, чтобы вывести интересующие студентов темы, так что мы решили внедрить более интересный метод анализа данных.\n",
    "Будет использоваться линейная регрессионная модель, цель - вытащить из неё веса различных слов, чтобы выявить, какие слова сильнее всего влияют на общую активность."
   ]
  },
  {
   "cell_type": "code",
   "execution_count": 105,
   "metadata": {},
   "outputs": [],
   "source": [
    "from sklearn.feature_extraction.text import CountVectorizer\n",
    "\n",
    "from sklearn.metrics import accuracy_score, precision_score, recall_score, confusion_matrix, precision_recall_curve\n",
    "from sklearn.linear_model import LogisticRegression\n",
    "from sklearn.naive_bayes import GaussianNB\n",
    "\n",
    "import numpy as np\n",
    "import pandas as pd\n",
    "import matplotlib.pyplot as plt\n",
    "from scipy.io.arff import loadarff\n",
    "%matplotlib inline\n",
    "import seaborn as sns\n",
    "from sklearn.model_selection import train_test_split\n",
    "from sklearn.metrics import mean_squared_error\n",
    "from sklearn.preprocessing import RobustScaler\n",
    "\n",
    "from sklearn.linear_model import LinearRegression\n",
    "from sklearn.linear_model import Lasso"
   ]
  },
  {
   "cell_type": "code",
   "execution_count": 106,
   "metadata": {},
   "outputs": [],
   "source": [
    "import re\n",
    "import requests\n",
    "import pandas as pd\n",
    "from bs4 import BeautifulSoup\n",
    "import time\n",
    "from functools import reduce\n",
    "import pandas as pd\n",
    "import warnings \n",
    "warnings.filterwarnings('ignore')\n",
    "from datetime import date\n",
    "from datetime import datetime\n",
    "import numpy as np"
   ]
  },
  {
   "cell_type": "code",
   "execution_count": 107,
   "metadata": {},
   "outputs": [],
   "source": [
    "def CMatrix(CM, labels=['+1','-1']): #взято из семинара, чтобы строить матрицы ошибок (CM)\n",
    "    df = pd.DataFrame(data=CM, index=labels, columns=labels)\n",
    "    df.index.name='TRUE'\n",
    "    df.columns.name='PREDICTION'\n",
    "    df.loc['Total'] = df.sum()\n",
    "    df['Total'] = df.sum(axis=1)\n",
    "    return df"
   ]
  },
  {
   "cell_type": "markdown",
   "metadata": {},
   "source": [
    "# Линейная регрессия по текстам постов с тайтлами"
   ]
  },
  {
   "cell_type": "markdown",
   "metadata": {},
   "source": [
    "Линейные модели были разделены на три группы:\n",
    "- Регрессия по текстам постов с тайтлами (то есть, содержашая ссылки на статьи)\n",
    "- Регрессия по самим тайтлам статей из ссылок\n",
    "- Регрессия по текстам вообще всех постов"
   ]
  },
  {
   "cell_type": "code",
   "execution_count": 108,
   "metadata": {},
   "outputs": [
    {
     "name": "stdout",
     "output_type": "stream",
     "text": [
      "<class 'pandas.core.frame.DataFrame'>\n",
      "RangeIndex: 827 entries, 0 to 826\n",
      "Data columns (total 3 columns):\n",
      "text        827 non-null object\n",
      "comments    827 non-null int64\n",
      "target      827 non-null int64\n",
      "dtypes: int64(2), object(1)\n",
      "memory usage: 19.5+ KB\n"
     ]
    }
   ],
   "source": [
    "daf = df_titles.copy()\n",
    "daf['target'] = daf['total_actions']\n",
    "daf.drop('title', axis=1, inplace=True)\n",
    "daf.drop('likes', axis=1, inplace=True)\n",
    "daf.drop('reposts', axis=1, inplace=True)\n",
    "daf.drop('views', axis=1, inplace=True)\n",
    "daf.drop('Date', axis=1, inplace=True)\n",
    "daf.drop('Time', axis=1, inplace=True)\n",
    "daf.drop('dlina', axis=1, inplace=True)\n",
    "daf.drop('total_actions', axis=1, inplace=True)\n",
    "daf.info()"
   ]
  },
  {
   "cell_type": "code",
   "execution_count": 109,
   "metadata": {},
   "outputs": [],
   "source": [
    "target_name = 'target'\n",
    "robust_scaler = RobustScaler()\n",
    "\n",
    "X = daf.drop('target', axis=1) #готовим датафрейм к моделированию\n",
    "\n",
    "corpus = X['text']\n",
    "vectorizer = CountVectorizer()\n",
    "vectorizer.fit(corpus)\n",
    "X_dtm = vectorizer.transform(corpus)\n",
    "X = pd.DataFrame(data=X_dtm.toarray(), columns=vectorizer.get_feature_names(), index=['doc_'+str(i+1) for i in range(len(df_titles))]) #прописываем range как в таблице\n",
    "#делаем мешки слов\n"
   ]
  },
  {
   "cell_type": "code",
   "execution_count": 110,
   "metadata": {},
   "outputs": [],
   "source": [
    "vval = X.columns.copy()"
   ]
  },
  {
   "cell_type": "code",
   "execution_count": 111,
   "metadata": {},
   "outputs": [],
   "source": [
    "X = robust_scaler.fit_transform(X)\n",
    "\n",
    "y = daf[target_name]\n",
    "\n",
    "X_train, X_test, y_train, y1_test = train_test_split(X, y, test_size=0.3, random_state=120)"
   ]
  },
  {
   "cell_type": "raw",
   "metadata": {},
   "source": [
    "\n",
    "\n",
    "\n",
    "\n",
    "metrics = pd.DataFrame(index=['accuracy', 'precision', 'recall'], \n",
    "                      columns=['LogisticReg','NaiveBayes']) #в колонках логистическая и наивный баес\n",
    "\n",
    "logistic_regression = LogisticRegression(n_jobs=-1, random_state=15)\n",
    "logistic_regression.fit(X_train, y_train)\n"
   ]
  },
  {
   "cell_type": "code",
   "execution_count": 112,
   "metadata": {},
   "outputs": [
    {
     "data": {
      "text/plain": [
       "LinearRegression(copy_X=True, fit_intercept=True, n_jobs=None, normalize=False)"
      ]
     },
     "execution_count": 112,
     "metadata": {},
     "output_type": "execute_result"
    }
   ],
   "source": [
    "lm = LinearRegression()\n",
    "lm.fit(X_train,y_train)"
   ]
  },
  {
   "cell_type": "code",
   "execution_count": 113,
   "metadata": {},
   "outputs": [],
   "source": [
    "predictions1 = lm.predict(X_test)"
   ]
  },
  {
   "cell_type": "code",
   "execution_count": 114,
   "metadata": {},
   "outputs": [
    {
     "data": {
      "text/plain": [
       "<matplotlib.collections.PathCollection at 0x1be61f9f6c8>"
      ]
     },
     "execution_count": 114,
     "metadata": {},
     "output_type": "execute_result"
    },
    {
     "data": {
      "image/png": "[encoded data removed]",
      "text/plain": [
       "<Figure size 432x288 with 1 Axes>"
      ]
     },
     "metadata": {
      "needs_background": "light"
     },
     "output_type": "display_data"
    }
   ],
   "source": [
    "plt.scatter(y1_test,predictions1)"
   ]
  },
  {
   "cell_type": "markdown",
   "metadata": {},
   "source": [
    "На графике мы можем видеть то, как соотносятся наши предсказания с тестовой выборкой. В целом всё в порядке, о чем будет свидетельствовать и уровень точности модели"
   ]
  },
  {
   "cell_type": "code",
   "execution_count": 115,
   "metadata": {},
   "outputs": [
    {
     "data": {
      "application/vnd.plotly.v1+json": {
       "config": {
        "linkText": "Export to plot.ly",
        "plotlyServerURL": "https://plot.ly",
        "showLink": false
       },
       "data": [
        {
         "marker": {
          "color": "rgb(199,93,171)",
          "line": {
           "width": 0.3
          },
          "size": 12,
          "symbol": "star"
         },
         "mode": "markers",
         "type": "scatter",
         "x": [
          19,
          69,
          137,
          22,
          82,
          13,
          38,
          76,
          105,
          55,
          12,
          83,
          104,
          86,
          49,
          45,
          116,
          93,
          69,
          29,
          151,
          228,
          59,
          406,
          35,
          17,
          40,
          45,
          94,
          160,
          65,
          20,
          28,
          182,
          81,
          46,
          64,
          77,
          130,
          63,
          100,
          404,
          16,
          26,
          304,
          244,
          252,
          35,
          52,
          57,
          116,
          54,
          75,
          37,
          38,
          24,
          50,
          50,
          111,
          93,
          98,
          72,
          47,
          141,
          105,
          71,
          37,
          26,
          38,
          43,
          63,
          104,
          58,
          42,
          130,
          77,
          128,
          41,
          76,
          135,
          104,
          118,
          43,
          157,
          174,
          107,
          135,
          96,
          50,
          70,
          31,
          22,
          56,
          64,
          27,
          146,
          54,
          50,
          171,
          30,
          81,
          96,
          83,
          124,
          62,
          102,
          46,
          346,
          54,
          238,
          81,
          49,
          67,
          70,
          120,
          173,
          275,
          22,
          70,
          94,
          325,
          48,
          76,
          51,
          43,
          40,
          46,
          154,
          58,
          264,
          18,
          84,
          66,
          24,
          156,
          98,
          27,
          81,
          182,
          99,
          53,
          84,
          70,
          154,
          29,
          81,
          71,
          46,
          31,
          116,
          43,
          165,
          228,
          127,
          147,
          63,
          68,
          50,
          124,
          115,
          24,
          308,
          46,
          116,
          67,
          229,
          99,
          117,
          412,
          206,
          65,
          167,
          139,
          21,
          140,
          72,
          152,
          126,
          73,
          87,
          111,
          58,
          94,
          32,
          121,
          32,
          99,
          75,
          57,
          30,
          185,
          17,
          85,
          168,
          83,
          58,
          21,
          161,
          164,
          72,
          224,
          21,
          88,
          30,
          117,
          20,
          71,
          27,
          66,
          128,
          25,
          63,
          93,
          39,
          51,
          64,
          195,
          24,
          62,
          91,
          256,
          33,
          164,
          93,
          35,
          88,
          166,
          128,
          335,
          24,
          54,
          96,
          43,
          64,
          242,
          233,
          71,
          41,
          113,
          112,
          24,
          62,
          105,
          88,
          61,
          56,
          41,
          105,
          75
         ],
         "y": [
          91.02775871508013,
          34.94457747949511,
          114.62696023884843,
          68.31573420148243,
          58.509932053195556,
          34.074045611461344,
          97.4849847292887,
          92.07751432842073,
          81.72273298051078,
          106.59864784344387,
          46.50806513222209,
          39.94395524196061,
          99.12098447869936,
          86.54210530260393,
          52.76289366698598,
          116.77427224611053,
          80.12657712807126,
          107.88297435262469,
          95.75377568396836,
          2.4780575073523323,
          56.999999999999865,
          111.3331345189573,
          92.12471443025088,
          106.63466656039796,
          80.004559943202,
          35.81553836009141,
          101.62511397608421,
          131.26335122358043,
          97.29348568326071,
          152.58245232006112,
          90.01790908633888,
          88.36558627986332,
          58.620218229350996,
          115.37813802596239,
          171.81030483314947,
          108.80748011475886,
          157.3838691197413,
          170.2359228627066,
          112.45504655024847,
          63.75938068954882,
          185.4187265452308,
          93.29063937418982,
          26.22685637079332,
          119.46177476198086,
          150.84652470082335,
          107.6486856017525,
          131.88213615892124,
          81.58317885634605,
          99.47281286781332,
          -0.8874650222660136,
          57.661064611481244,
          88.9013190129053,
          108.32062859605043,
          71.6815838562278,
          178.98287804384807,
          30.538053803817512,
          105.62581019213235,
          102.97304896222336,
          77.86813943374652,
          92.01072876098947,
          137.96408709975404,
          48.89472785107559,
          114.47017300996097,
          145.89031047130848,
          69.36732246747977,
          77.8507314927873,
          36.386305856092996,
          66.1338784398971,
          59.496197831153566,
          73.11099478260645,
          65.82464170041138,
          50.684571651096455,
          92.83330086902178,
          120.15758693640952,
          146.86070474333872,
          194.2161283674492,
          87.78097949462185,
          81.9249438008824,
          71.55207809890652,
          118.23279428896501,
          159.70848995125158,
          95.45761731963715,
          74.03443105115355,
          92.15750140023853,
          125.8806410353205,
          77.43359833515574,
          69.82897954106647,
          88.6107379116577,
          147.57363071348047,
          78.17094744695859,
          70.79826382915076,
          78.4124352532486,
          53.52485431371849,
          94.00108797651669,
          41.977158172602635,
          155.25765940986645,
          84.7655125211023,
          110.75471751630924,
          124.33069156334005,
          50.18564525995633,
          148.18176687206937,
          45.824048485429266,
          82.93126342227926,
          87.32315358545326,
          103.0894360958071,
          122.80370649953383,
          100.75775298950657,
          127.42563701078893,
          115.80571419108853,
          88.88680213530586,
          47.881351212879096,
          45.82125274991161,
          146.1150716238834,
          69.83998742743697,
          83.73790546897642,
          94.25288760262833,
          53.96885524189064,
          15.371267352833598,
          66.5602156505997,
          74.5930375267511,
          110.684600280838,
          8.414406752073802,
          119.41347576289954,
          62.44014723838258,
          77.3126704005708,
          84.33803216725936,
          122.54723096950006,
          93.6833056998297,
          84.0927919349745,
          119.89323143749566,
          57.6905758734623,
          153.07270233227746,
          68.90858587193043,
          8.799383356724846,
          82.74879573775775,
          85.07936336141589,
          59.19892405443126,
          81.54474527527637,
          73.1851288125301,
          91.40160465266445,
          167.58654618440886,
          136.94596390165424,
          94.10182297515293,
          124.46255749739097,
          67.43767166555152,
          106.06029749895347,
          154.26763479896078,
          77.58878255400768,
          54.11291469708911,
          221.55430639327108,
          76.79336063771235,
          137.11506945677678,
          112.6540875196115,
          105.68375509960183,
          147.12183743663616,
          113.98160024244754,
          97.15695161443864,
          25.136724045775907,
          73.05993976639712,
          110.1390933096715,
          84.06000123459665,
          112.49967447716693,
          111.40845904750428,
          94.65190890027623,
          118.50110352730499,
          112.88734299621262,
          116.87814586244468,
          143.06225428296608,
          47.10189736768104,
          100.82624893462058,
          87.72487782005041,
          113.17899402015527,
          64.53292039799616,
          76.7669916150438,
          135.38179755285807,
          137.27210677894377,
          119.29825008428028,
          55.724713152177245,
          81.48439232592474,
          97.1019916381092,
          132.87078827859824,
          91.77178295653434,
          144.82566159085866,
          110.3902317007842,
          180.22652368031015,
          72.69652458385247,
          126.70937580583666,
          94.86668994658254,
          122.51263363588228,
          -26.631515431159983,
          109.58791212065616,
          18.74614662642992,
          138.44556149418702,
          114.89318886540342,
          87.31515896430703,
          123.63611368909615,
          82.0418959056498,
          71.07886581741342,
          94.18303314384416,
          209.30978408531573,
          139.583492746337,
          147.85672044415207,
          158.5617670638318,
          105.08780506515033,
          105.00953904191888,
          122.8238278119655,
          53.96210316268671,
          76.15700278299656,
          67.85622501814457,
          66.49006252562333,
          63.44477797859545,
          117.82471456582826,
          87.97055181636249,
          97.08918750675038,
          69.7809040946719,
          131.0255502071468,
          194.31987370820582,
          25.034233367783926,
          99.60967863054248,
          66.83635832783236,
          68.0761056176417,
          155.6869973291931,
          152.58224817673988,
          144.70231110343155,
          82.31824698670822,
          165.19961868032163,
          79.63069752050555,
          46.684132403367244,
          54.878328689404185,
          62.940765294138544,
          11.006895597246952,
          44.838783599589895,
          81.067691903472,
          150.8808696748582,
          144.9108379099281,
          118.668087345699,
          41.826512553176336,
          53.73963061244481,
          107.1211554263885,
          193.16496379295464,
          40.80004333288997,
          77.96305020421107,
          58.385981842077996,
          97.57045722695887,
          84.35848888065311,
          91.9929213421901,
          114.27546193590196,
          73.69533706382111,
          23.257869806451538
         ]
        }
       ],
       "layout": {
        "plot_bgcolor": "rgb(249,221,218)",
        "template": {
         "data": {
          "bar": [
           {
            "error_x": {
             "color": "#2a3f5f"
            },
            "error_y": {
             "color": "#2a3f5f"
            },
            "marker": {
             "line": {
              "color": "#E5ECF6",
              "width": 0.5
             }
            },
            "type": "bar"
           }
          ],
          "barpolar": [
           {
            "marker": {
             "line": {
              "color": "#E5ECF6",
              "width": 0.5
             }
            },
            "type": "barpolar"
           }
          ],
          "carpet": [
           {
            "aaxis": {
             "endlinecolor": "#2a3f5f",
             "gridcolor": "white",
             "linecolor": "white",
             "minorgridcolor": "white",
             "startlinecolor": "#2a3f5f"
            },
            "baxis": {
             "endlinecolor": "#2a3f5f",
             "gridcolor": "white",
             "linecolor": "white",
             "minorgridcolor": "white",
             "startlinecolor": "#2a3f5f"
            },
            "type": "carpet"
           }
          ],
          "choropleth": [
           {
            "colorbar": {
             "outlinewidth": 0,
             "ticks": ""
            },
            "type": "choropleth"
           }
          ],
          "contour": [
           {
            "colorbar": {
             "outlinewidth": 0,
             "ticks": ""
            },
            "colorscale": [
             [
              0,
              "#0d0887"
             ],
             [
              0.1111111111111111,
              "#46039f"
             ],
             [
              0.2222222222222222,
              "#7201a8"
             ],
             [
              0.3333333333333333,
              "#9c179e"
             ],
             [
              0.4444444444444444,
              "#bd3786"
             ],
             [
              0.5555555555555556,
              "#d8576b"
             ],
             [
              0.6666666666666666,
              "#ed7953"
             ],
             [
              0.7777777777777778,
              "#fb9f3a"
             ],
             [
              0.8888888888888888,
              "#fdca26"
             ],
             [
              1,
              "#f0f921"
             ]
            ],
            "type": "contour"
           }
          ],
          "contourcarpet": [
           {
            "colorbar": {
             "outlinewidth": 0,
             "ticks": ""
            },
            "type": "contourcarpet"
           }
          ],
          "heatmap": [
           {
            "colorbar": {
             "outlinewidth": 0,
             "ticks": ""
            },
            "colorscale": [
             [
              0,
              "#0d0887"
             ],
             [
              0.1111111111111111,
              "#46039f"
             ],
             [
              0.2222222222222222,
              "#7201a8"
             ],
             [
              0.3333333333333333,
              "#9c179e"
             ],
             [
              0.4444444444444444,
              "#bd3786"
             ],
             [
              0.5555555555555556,
              "#d8576b"
             ],
             [
              0.6666666666666666,
              "#ed7953"
             ],
             [
              0.7777777777777778,
              "#fb9f3a"
             ],
             [
              0.8888888888888888,
              "#fdca26"
             ],
             [
              1,
              "#f0f921"
             ]
            ],
            "type": "heatmap"
           }
          ],
          "heatmapgl": [
           {
            "colorbar": {
             "outlinewidth": 0,
             "ticks": ""
            },
            "colorscale": [
             [
              0,
              "#0d0887"
             ],
             [
              0.1111111111111111,
              "#46039f"
             ],
             [
              0.2222222222222222,
              "#7201a8"
             ],
             [
              0.3333333333333333,
              "#9c179e"
             ],
             [
              0.4444444444444444,
              "#bd3786"
             ],
             [
              0.5555555555555556,
              "#d8576b"
             ],
             [
              0.6666666666666666,
              "#ed7953"
             ],
             [
              0.7777777777777778,
              "#fb9f3a"
             ],
             [
              0.8888888888888888,
              "#fdca26"
             ],
             [
              1,
              "#f0f921"
             ]
            ],
            "type": "heatmapgl"
           }
          ],
          "histogram": [
           {
            "marker": {
             "colorbar": {
              "outlinewidth": 0,
              "ticks": ""
             }
            },
            "type": "histogram"
           }
          ],
          "histogram2d": [
           {
            "colorbar": {
             "outlinewidth": 0,
             "ticks": ""
            },
            "colorscale": [
             [
              0,
              "#0d0887"
             ],
             [
              0.1111111111111111,
              "#46039f"
             ],
             [
              0.2222222222222222,
              "#7201a8"
             ],
             [
              0.3333333333333333,
              "#9c179e"
             ],
             [
              0.4444444444444444,
              "#bd3786"
             ],
             [
              0.5555555555555556,
              "#d8576b"
             ],
             [
              0.6666666666666666,
              "#ed7953"
             ],
             [
              0.7777777777777778,
              "#fb9f3a"
             ],
             [
              0.8888888888888888,
              "#fdca26"
             ],
             [
              1,
              "#f0f921"
             ]
            ],
            "type": "histogram2d"
           }
          ],
          "histogram2dcontour": [
           {
            "colorbar": {
             "outlinewidth": 0,
             "ticks": ""
            },
            "colorscale": [
             [
              0,
              "#0d0887"
             ],
             [
              0.1111111111111111,
              "#46039f"
             ],
             [
              0.2222222222222222,
              "#7201a8"
             ],
             [
              0.3333333333333333,
              "#9c179e"
             ],
             [
              0.4444444444444444,
              "#bd3786"
             ],
             [
              0.5555555555555556,
              "#d8576b"
             ],
             [
              0.6666666666666666,
              "#ed7953"
             ],
             [
              0.7777777777777778,
              "#fb9f3a"
             ],
             [
              0.8888888888888888,
              "#fdca26"
             ],
             [
              1,
              "#f0f921"
             ]
            ],
            "type": "histogram2dcontour"
           }
          ],
          "mesh3d": [
           {
            "colorbar": {
             "outlinewidth": 0,
             "ticks": ""
            },
            "type": "mesh3d"
           }
          ],
          "parcoords": [
           {
            "line": {
             "colorbar": {
              "outlinewidth": 0,
              "ticks": ""
             }
            },
            "type": "parcoords"
           }
          ],
          "scatter": [
           {
            "marker": {
             "colorbar": {
              "outlinewidth": 0,
              "ticks": ""
             }
            },
            "type": "scatter"
           }
          ],
          "scatter3d": [
           {
            "line": {
             "colorbar": {
              "outlinewidth": 0,
              "ticks": ""
             }
            },
            "marker": {
             "colorbar": {
              "outlinewidth": 0,
              "ticks": ""
             }
            },
            "type": "scatter3d"
           }
          ],
          "scattercarpet": [
           {
            "marker": {
             "colorbar": {
              "outlinewidth": 0,
              "ticks": ""
             }
            },
            "type": "scattercarpet"
           }
          ],
          "scattergeo": [
           {
            "marker": {
             "colorbar": {
              "outlinewidth": 0,
              "ticks": ""
             }
            },
            "type": "scattergeo"
           }
          ],
          "scattergl": [
           {
            "marker": {
             "colorbar": {
              "outlinewidth": 0,
              "ticks": ""
             }
            },
            "type": "scattergl"
           }
          ],
          "scattermapbox": [
           {
            "marker": {
             "colorbar": {
              "outlinewidth": 0,
              "ticks": ""
             }
            },
            "type": "scattermapbox"
           }
          ],
          "scatterpolar": [
           {
            "marker": {
             "colorbar": {
              "outlinewidth": 0,
              "ticks": ""
             }
            },
            "type": "scatterpolar"
           }
          ],
          "scatterpolargl": [
           {
            "marker": {
             "colorbar": {
              "outlinewidth": 0,
              "ticks": ""
             }
            },
            "type": "scatterpolargl"
           }
          ],
          "scatterternary": [
           {
            "marker": {
             "colorbar": {
              "outlinewidth": 0,
              "ticks": ""
             }
            },
            "type": "scatterternary"
           }
          ],
          "surface": [
           {
            "colorbar": {
             "outlinewidth": 0,
             "ticks": ""
            },
            "colorscale": [
             [
              0,
              "#0d0887"
             ],
             [
              0.1111111111111111,
              "#46039f"
             ],
             [
              0.2222222222222222,
              "#7201a8"
             ],
             [
              0.3333333333333333,
              "#9c179e"
             ],
             [
              0.4444444444444444,
              "#bd3786"
             ],
             [
              0.5555555555555556,
              "#d8576b"
             ],
             [
              0.6666666666666666,
              "#ed7953"
             ],
             [
              0.7777777777777778,
              "#fb9f3a"
             ],
             [
              0.8888888888888888,
              "#fdca26"
             ],
             [
              1,
              "#f0f921"
             ]
            ],
            "type": "surface"
           }
          ],
          "table": [
           {
            "cells": {
             "fill": {
              "color": "#EBF0F8"
             },
             "line": {
              "color": "white"
             }
            },
            "header": {
             "fill": {
              "color": "#C8D4E3"
             },
             "line": {
              "color": "white"
             }
            },
            "type": "table"
           }
          ]
         },
         "layout": {
          "annotationdefaults": {
           "arrowcolor": "#2a3f5f",
           "arrowhead": 0,
           "arrowwidth": 1
          },
          "colorscale": {
           "diverging": [
            [
             0,
             "#8e0152"
            ],
            [
             0.1,
             "#c51b7d"
            ],
            [
             0.2,
             "#de77ae"
            ],
            [
             0.3,
             "#f1b6da"
            ],
            [
             0.4,
             "#fde0ef"
            ],
            [
             0.5,
             "#f7f7f7"
            ],
            [
             0.6,
             "#e6f5d0"
            ],
            [
             0.7,
             "#b8e186"
            ],
            [
             0.8,
             "#7fbc41"
            ],
            [
             0.9,
             "#4d9221"
            ],
            [
             1,
             "#276419"
            ]
           ],
           "sequential": [
            [
             0,
             "#0d0887"
            ],
            [
             0.1111111111111111,
             "#46039f"
            ],
            [
             0.2222222222222222,
             "#7201a8"
            ],
            [
             0.3333333333333333,
             "#9c179e"
            ],
            [
             0.4444444444444444,
             "#bd3786"
            ],
            [
             0.5555555555555556,
             "#d8576b"
            ],
            [
             0.6666666666666666,
             "#ed7953"
            ],
            [
             0.7777777777777778,
             "#fb9f3a"
            ],
            [
             0.8888888888888888,
             "#fdca26"
            ],
            [
             1,
             "#f0f921"
            ]
           ],
           "sequentialminus": [
            [
             0,
             "#0d0887"
            ],
            [
             0.1111111111111111,
             "#46039f"
            ],
            [
             0.2222222222222222,
             "#7201a8"
            ],
            [
             0.3333333333333333,
             "#9c179e"
            ],
            [
             0.4444444444444444,
             "#bd3786"
            ],
            [
             0.5555555555555556,
             "#d8576b"
            ],
            [
             0.6666666666666666,
             "#ed7953"
            ],
            [
             0.7777777777777778,
             "#fb9f3a"
            ],
            [
             0.8888888888888888,
             "#fdca26"
            ],
            [
             1,
             "#f0f921"
            ]
           ]
          },
          "colorway": [
           "#636efa",
           "#EF553B",
           "#00cc96",
           "#ab63fa",
           "#FFA15A",
           "#19d3f3",
           "#FF6692",
           "#B6E880",
           "#FF97FF",
           "#FECB52"
          ],
          "font": {
           "color": "#2a3f5f"
          },
          "geo": {
           "bgcolor": "white",
           "lakecolor": "white",
           "landcolor": "#E5ECF6",
           "showlakes": true,
           "showland": true,
           "subunitcolor": "white"
          },
          "hoverlabel": {
           "align": "left"
          },
          "hovermode": "closest",
          "mapbox": {
           "style": "light"
          },
          "paper_bgcolor": "white",
          "plot_bgcolor": "#E5ECF6",
          "polar": {
           "angularaxis": {
            "gridcolor": "white",
            "linecolor": "white",
            "ticks": ""
           },
           "bgcolor": "#E5ECF6",
           "radialaxis": {
            "gridcolor": "white",
            "linecolor": "white",
            "ticks": ""
           }
          },
          "scene": {
           "xaxis": {
            "backgroundcolor": "#E5ECF6",
            "gridcolor": "white",
            "gridwidth": 2,
            "linecolor": "white",
            "showbackground": true,
            "ticks": "",
            "zerolinecolor": "white"
           },
           "yaxis": {
            "backgroundcolor": "#E5ECF6",
            "gridcolor": "white",
            "gridwidth": 2,
            "linecolor": "white",
            "showbackground": true,
            "ticks": "",
            "zerolinecolor": "white"
           },
           "zaxis": {
            "backgroundcolor": "#E5ECF6",
            "gridcolor": "white",
            "gridwidth": 2,
            "linecolor": "white",
            "showbackground": true,
            "ticks": "",
            "zerolinecolor": "white"
           }
          },
          "shapedefaults": {
           "line": {
            "color": "#2a3f5f"
           }
          },
          "ternary": {
           "aaxis": {
            "gridcolor": "white",
            "linecolor": "white",
            "ticks": ""
           },
           "baxis": {
            "gridcolor": "white",
            "linecolor": "white",
            "ticks": ""
           },
           "bgcolor": "#E5ECF6",
           "caxis": {
            "gridcolor": "white",
            "linecolor": "white",
            "ticks": ""
           }
          },
          "title": {
           "x": 0.05
          },
          "xaxis": {
           "automargin": true,
           "gridcolor": "white",
           "linecolor": "white",
           "ticks": "",
           "zerolinecolor": "white",
           "zerolinewidth": 2
          },
          "yaxis": {
           "automargin": true,
           "gridcolor": "white",
           "linecolor": "white",
           "ticks": "",
           "zerolinecolor": "white",
           "zerolinewidth": 2
          }
         }
        },
        "title": {
         "text": "Линейная регрессия по текстам постов с тайтлами"
        },
        "xaxis": {
         "title": {
          "text": "y_test"
         }
        },
        "yaxis": {
         "title": {
          "text": "predictions"
         }
        }
       }
      },
      "text/html": [
       "<div>\n",
       "        \n",
       "        \n",
       "            <div id=\"89f0825e-9994-4a08-b130-03a214e668c7\" class=\"plotly-graph-div\" style=\"height:525px; width:100%;\"></div>\n",
       "            <script type=\"text/javascript\">\n",
       "                require([\"plotly\"], function(Plotly) {\n",
       "                    window.PLOTLYENV=window.PLOTLYENV || {};\n",
       "                    \n",
       "                if (document.getElementById(\"89f0825e-9994-4a08-b130-03a214e668c7\")) {\n",
       "                    Plotly.newPlot(\n",
       "                        '89f0825e-9994-4a08-b130-03a214e668c7',\n",
       "                        [{\"marker\": {\"color\": \"rgb(199,93,171)\", \"line\": {\"width\": 0.3}, \"size\": 12, \"symbol\": \"star\"}, \"mode\": \"markers\", \"type\": \"scatter\", \"x\": [19, 69, 137, 22, 82, 13, 38, 76, 105, 55, 12, 83, 104, 86, 49, 45, 116, 93, 69, 29, 151, 228, 59, 406, 35, 17, 40, 45, 94, 160, 65, 20, 28, 182, 81, 46, 64, 77, 130, 63, 100, 404, 16, 26, 304, 244, 252, 35, 52, 57, 116, 54, 75, 37, 38, 24, 50, 50, 111, 93, 98, 72, 47, 141, 105, 71, 37, 26, 38, 43, 63, 104, 58, 42, 130, 77, 128, 41, 76, 135, 104, 118, 43, 157, 174, 107, 135, 96, 50, 70, 31, 22, 56, 64, 27, 146, 54, 50, 171, 30, 81, 96, 83, 124, 62, 102, 46, 346, 54, 238, 81, 49, 67, 70, 120, 173, 275, 22, 70, 94, 325, 48, 76, 51, 43, 40, 46, 154, 58, 264, 18, 84, 66, 24, 156, 98, 27, 81, 182, 99, 53, 84, 70, 154, 29, 81, 71, 46, 31, 116, 43, 165, 228, 127, 147, 63, 68, 50, 124, 115, 24, 308, 46, 116, 67, 229, 99, 117, 412, 206, 65, 167, 139, 21, 140, 72, 152, 126, 73, 87, 111, 58, 94, 32, 121, 32, 99, 75, 57, 30, 185, 17, 85, 168, 83, 58, 21, 161, 164, 72, 224, 21, 88, 30, 117, 20, 71, 27, 66, 128, 25, 63, 93, 39, 51, 64, 195, 24, 62, 91, 256, 33, 164, 93, 35, 88, 166, 128, 335, 24, 54, 96, 43, 64, 242, 233, 71, 41, 113, 112, 24, 62, 105, 88, 61, 56, 41, 105, 75], \"y\": [91.02775871508013, 34.94457747949511, 114.62696023884843, 68.31573420148243, 58.509932053195556, 34.074045611461344, 97.4849847292887, 92.07751432842073, 81.72273298051078, 106.59864784344387, 46.50806513222209, 39.94395524196061, 99.12098447869936, 86.54210530260393, 52.76289366698598, 116.77427224611053, 80.12657712807126, 107.88297435262469, 95.75377568396836, 2.4780575073523323, 56.999999999999865, 111.3331345189573, 92.12471443025088, 106.63466656039796, 80.004559943202, 35.81553836009141, 101.62511397608421, 131.26335122358043, 97.29348568326071, 152.58245232006112, 90.01790908633888, 88.36558627986332, 58.620218229350996, 115.37813802596239, 171.81030483314947, 108.80748011475886, 157.3838691197413, 170.2359228627066, 112.45504655024847, 63.75938068954882, 185.4187265452308, 93.29063937418982, 26.22685637079332, 119.46177476198086, 150.84652470082335, 107.6486856017525, 131.88213615892124, 81.58317885634605, 99.47281286781332, -0.8874650222660136, 57.661064611481244, 88.9013190129053, 108.32062859605043, 71.6815838562278, 178.98287804384807, 30.538053803817512, 105.62581019213235, 102.97304896222336, 77.86813943374652, 92.01072876098947, 137.96408709975404, 48.89472785107559, 114.47017300996097, 145.89031047130848, 69.36732246747977, 77.8507314927873, 36.386305856092996, 66.1338784398971, 59.496197831153566, 73.11099478260645, 65.82464170041138, 50.684571651096455, 92.83330086902178, 120.15758693640952, 146.86070474333872, 194.2161283674492, 87.78097949462185, 81.9249438008824, 71.55207809890652, 118.23279428896501, 159.70848995125158, 95.45761731963715, 74.03443105115355, 92.15750140023853, 125.8806410353205, 77.43359833515574, 69.82897954106647, 88.6107379116577, 147.57363071348047, 78.17094744695859, 70.79826382915076, 78.4124352532486, 53.52485431371849, 94.00108797651669, 41.977158172602635, 155.25765940986645, 84.7655125211023, 110.75471751630924, 124.33069156334005, 50.18564525995633, 148.18176687206937, 45.824048485429266, 82.93126342227926, 87.32315358545326, 103.0894360958071, 122.80370649953383, 100.75775298950657, 127.42563701078893, 115.80571419108853, 88.88680213530586, 47.881351212879096, 45.82125274991161, 146.1150716238834, 69.83998742743697, 83.73790546897642, 94.25288760262833, 53.96885524189064, 15.371267352833598, 66.5602156505997, 74.5930375267511, 110.684600280838, 8.414406752073802, 119.41347576289954, 62.44014723838258, 77.3126704005708, 84.33803216725936, 122.54723096950006, 93.6833056998297, 84.0927919349745, 119.89323143749566, 57.6905758734623, 153.07270233227746, 68.90858587193043, 8.799383356724846, 82.74879573775775, 85.07936336141589, 59.19892405443126, 81.54474527527637, 73.1851288125301, 91.40160465266445, 167.58654618440886, 136.94596390165424, 94.10182297515293, 124.46255749739097, 67.43767166555152, 106.06029749895347, 154.26763479896078, 77.58878255400768, 54.11291469708911, 221.55430639327108, 76.79336063771235, 137.11506945677678, 112.6540875196115, 105.68375509960183, 147.12183743663616, 113.98160024244754, 97.15695161443864, 25.136724045775907, 73.05993976639712, 110.1390933096715, 84.06000123459665, 112.49967447716693, 111.40845904750428, 94.65190890027623, 118.50110352730499, 112.88734299621262, 116.87814586244468, 143.06225428296608, 47.10189736768104, 100.82624893462058, 87.72487782005041, 113.17899402015527, 64.53292039799616, 76.7669916150438, 135.38179755285807, 137.27210677894377, 119.29825008428028, 55.724713152177245, 81.48439232592474, 97.1019916381092, 132.87078827859824, 91.77178295653434, 144.82566159085866, 110.3902317007842, 180.22652368031015, 72.69652458385247, 126.70937580583666, 94.86668994658254, 122.51263363588228, -26.631515431159983, 109.58791212065616, 18.74614662642992, 138.44556149418702, 114.89318886540342, 87.31515896430703, 123.63611368909615, 82.0418959056498, 71.07886581741342, 94.18303314384416, 209.30978408531573, 139.583492746337, 147.85672044415207, 158.5617670638318, 105.08780506515033, 105.00953904191888, 122.8238278119655, 53.96210316268671, 76.15700278299656, 67.85622501814457, 66.49006252562333, 63.44477797859545, 117.82471456582826, 87.97055181636249, 97.08918750675038, 69.7809040946719, 131.0255502071468, 194.31987370820582, 25.034233367783926, 99.60967863054248, 66.83635832783236, 68.0761056176417, 155.6869973291931, 152.58224817673988, 144.70231110343155, 82.31824698670822, 165.19961868032163, 79.63069752050555, 46.684132403367244, 54.878328689404185, 62.940765294138544, 11.006895597246952, 44.838783599589895, 81.067691903472, 150.8808696748582, 144.9108379099281, 118.668087345699, 41.826512553176336, 53.73963061244481, 107.1211554263885, 193.16496379295464, 40.80004333288997, 77.96305020421107, 58.385981842077996, 97.57045722695887, 84.35848888065311, 91.9929213421901, 114.27546193590196, 73.69533706382111, 23.257869806451538]}],\n",
       "                        {\"plot_bgcolor\": \"rgb(249,221,218)\", \"template\": {\"data\": {\"bar\": [{\"error_x\": {\"color\": \"#2a3f5f\"}, \"error_y\": {\"color\": \"#2a3f5f\"}, \"marker\": {\"line\": {\"color\": \"#E5ECF6\", \"width\": 0.5}}, \"type\": \"bar\"}], \"barpolar\": [{\"marker\": {\"line\": {\"color\": \"#E5ECF6\", \"width\": 0.5}}, \"type\": \"barpolar\"}], \"carpet\": [{\"aaxis\": {\"endlinecolor\": \"#2a3f5f\", \"gridcolor\": \"white\", \"linecolor\": \"white\", \"minorgridcolor\": \"white\", \"startlinecolor\": \"#2a3f5f\"}, \"baxis\": {\"endlinecolor\": \"#2a3f5f\", \"gridcolor\": \"white\", \"linecolor\": \"white\", \"minorgridcolor\": \"white\", \"startlinecolor\": \"#2a3f5f\"}, \"type\": \"carpet\"}], \"choropleth\": [{\"colorbar\": {\"outlinewidth\": 0, \"ticks\": \"\"}, \"type\": \"choropleth\"}], \"contour\": [{\"colorbar\": {\"outlinewidth\": 0, \"ticks\": \"\"}, \"colorscale\": [[0.0, \"#0d0887\"], [0.1111111111111111, \"#46039f\"], [0.2222222222222222, \"#7201a8\"], [0.3333333333333333, \"#9c179e\"], [0.4444444444444444, \"#bd3786\"], [0.5555555555555556, \"#d8576b\"], [0.6666666666666666, \"#ed7953\"], [0.7777777777777778, \"#fb9f3a\"], [0.8888888888888888, \"#fdca26\"], [1.0, \"#f0f921\"]], \"type\": \"contour\"}], \"contourcarpet\": [{\"colorbar\": {\"outlinewidth\": 0, \"ticks\": \"\"}, \"type\": \"contourcarpet\"}], \"heatmap\": [{\"colorbar\": {\"outlinewidth\": 0, \"ticks\": \"\"}, \"colorscale\": [[0.0, \"#0d0887\"], [0.1111111111111111, \"#46039f\"], [0.2222222222222222, \"#7201a8\"], [0.3333333333333333, \"#9c179e\"], [0.4444444444444444, \"#bd3786\"], [0.5555555555555556, \"#d8576b\"], [0.6666666666666666, \"#ed7953\"], [0.7777777777777778, \"#fb9f3a\"], [0.8888888888888888, \"#fdca26\"], [1.0, \"#f0f921\"]], \"type\": \"heatmap\"}], \"heatmapgl\": [{\"colorbar\": {\"outlinewidth\": 0, \"ticks\": \"\"}, \"colorscale\": [[0.0, \"#0d0887\"], [0.1111111111111111, \"#46039f\"], [0.2222222222222222, \"#7201a8\"], [0.3333333333333333, \"#9c179e\"], [0.4444444444444444, \"#bd3786\"], [0.5555555555555556, \"#d8576b\"], [0.6666666666666666, \"#ed7953\"], [0.7777777777777778, \"#fb9f3a\"], [0.8888888888888888, \"#fdca26\"], [1.0, \"#f0f921\"]], \"type\": \"heatmapgl\"}], \"histogram\": [{\"marker\": {\"colorbar\": {\"outlinewidth\": 0, \"ticks\": \"\"}}, \"type\": \"histogram\"}], \"histogram2d\": [{\"colorbar\": {\"outlinewidth\": 0, \"ticks\": \"\"}, \"colorscale\": [[0.0, \"#0d0887\"], [0.1111111111111111, \"#46039f\"], [0.2222222222222222, \"#7201a8\"], [0.3333333333333333, \"#9c179e\"], [0.4444444444444444, \"#bd3786\"], [0.5555555555555556, \"#d8576b\"], [0.6666666666666666, \"#ed7953\"], [0.7777777777777778, \"#fb9f3a\"], [0.8888888888888888, \"#fdca26\"], [1.0, \"#f0f921\"]], \"type\": \"histogram2d\"}], \"histogram2dcontour\": [{\"colorbar\": {\"outlinewidth\": 0, \"ticks\": \"\"}, \"colorscale\": [[0.0, \"#0d0887\"], [0.1111111111111111, \"#46039f\"], [0.2222222222222222, \"#7201a8\"], [0.3333333333333333, \"#9c179e\"], [0.4444444444444444, \"#bd3786\"], [0.5555555555555556, \"#d8576b\"], [0.6666666666666666, \"#ed7953\"], [0.7777777777777778, \"#fb9f3a\"], [0.8888888888888888, \"#fdca26\"], [1.0, \"#f0f921\"]], \"type\": \"histogram2dcontour\"}], \"mesh3d\": [{\"colorbar\": {\"outlinewidth\": 0, \"ticks\": \"\"}, \"type\": \"mesh3d\"}], \"parcoords\": [{\"line\": {\"colorbar\": {\"outlinewidth\": 0, \"ticks\": \"\"}}, \"type\": \"parcoords\"}], \"scatter\": [{\"marker\": {\"colorbar\": {\"outlinewidth\": 0, \"ticks\": \"\"}}, \"type\": \"scatter\"}], \"scatter3d\": [{\"line\": {\"colorbar\": {\"outlinewidth\": 0, \"ticks\": \"\"}}, \"marker\": {\"colorbar\": {\"outlinewidth\": 0, \"ticks\": \"\"}}, \"type\": \"scatter3d\"}], \"scattercarpet\": [{\"marker\": {\"colorbar\": {\"outlinewidth\": 0, \"ticks\": \"\"}}, \"type\": \"scattercarpet\"}], \"scattergeo\": [{\"marker\": {\"colorbar\": {\"outlinewidth\": 0, \"ticks\": \"\"}}, \"type\": \"scattergeo\"}], \"scattergl\": [{\"marker\": {\"colorbar\": {\"outlinewidth\": 0, \"ticks\": \"\"}}, \"type\": \"scattergl\"}], \"scattermapbox\": [{\"marker\": {\"colorbar\": {\"outlinewidth\": 0, \"ticks\": \"\"}}, \"type\": \"scattermapbox\"}], \"scatterpolar\": [{\"marker\": {\"colorbar\": {\"outlinewidth\": 0, \"ticks\": \"\"}}, \"type\": \"scatterpolar\"}], \"scatterpolargl\": [{\"marker\": {\"colorbar\": {\"outlinewidth\": 0, \"ticks\": \"\"}}, \"type\": \"scatterpolargl\"}], \"scatterternary\": [{\"marker\": {\"colorbar\": {\"outlinewidth\": 0, \"ticks\": \"\"}}, \"type\": \"scatterternary\"}], \"surface\": [{\"colorbar\": {\"outlinewidth\": 0, \"ticks\": \"\"}, \"colorscale\": [[0.0, \"#0d0887\"], [0.1111111111111111, \"#46039f\"], [0.2222222222222222, \"#7201a8\"], [0.3333333333333333, \"#9c179e\"], [0.4444444444444444, \"#bd3786\"], [0.5555555555555556, \"#d8576b\"], [0.6666666666666666, \"#ed7953\"], [0.7777777777777778, \"#fb9f3a\"], [0.8888888888888888, \"#fdca26\"], [1.0, \"#f0f921\"]], \"type\": \"surface\"}], \"table\": [{\"cells\": {\"fill\": {\"color\": \"#EBF0F8\"}, \"line\": {\"color\": \"white\"}}, \"header\": {\"fill\": {\"color\": \"#C8D4E3\"}, \"line\": {\"color\": \"white\"}}, \"type\": \"table\"}]}, \"layout\": {\"annotationdefaults\": {\"arrowcolor\": \"#2a3f5f\", \"arrowhead\": 0, \"arrowwidth\": 1}, \"colorscale\": {\"diverging\": [[0, \"#8e0152\"], [0.1, \"#c51b7d\"], [0.2, \"#de77ae\"], [0.3, \"#f1b6da\"], [0.4, \"#fde0ef\"], [0.5, \"#f7f7f7\"], [0.6, \"#e6f5d0\"], [0.7, \"#b8e186\"], [0.8, \"#7fbc41\"], [0.9, \"#4d9221\"], [1, \"#276419\"]], \"sequential\": [[0.0, \"#0d0887\"], [0.1111111111111111, \"#46039f\"], [0.2222222222222222, \"#7201a8\"], [0.3333333333333333, \"#9c179e\"], [0.4444444444444444, \"#bd3786\"], [0.5555555555555556, \"#d8576b\"], [0.6666666666666666, \"#ed7953\"], [0.7777777777777778, \"#fb9f3a\"], [0.8888888888888888, \"#fdca26\"], [1.0, \"#f0f921\"]], \"sequentialminus\": [[0.0, \"#0d0887\"], [0.1111111111111111, \"#46039f\"], [0.2222222222222222, \"#7201a8\"], [0.3333333333333333, \"#9c179e\"], [0.4444444444444444, \"#bd3786\"], [0.5555555555555556, \"#d8576b\"], [0.6666666666666666, \"#ed7953\"], [0.7777777777777778, \"#fb9f3a\"], [0.8888888888888888, \"#fdca26\"], [1.0, \"#f0f921\"]]}, \"colorway\": [\"#636efa\", \"#EF553B\", \"#00cc96\", \"#ab63fa\", \"#FFA15A\", \"#19d3f3\", \"#FF6692\", \"#B6E880\", \"#FF97FF\", \"#FECB52\"], \"font\": {\"color\": \"#2a3f5f\"}, \"geo\": {\"bgcolor\": \"white\", \"lakecolor\": \"white\", \"landcolor\": \"#E5ECF6\", \"showlakes\": true, \"showland\": true, \"subunitcolor\": \"white\"}, \"hoverlabel\": {\"align\": \"left\"}, \"hovermode\": \"closest\", \"mapbox\": {\"style\": \"light\"}, \"paper_bgcolor\": \"white\", \"plot_bgcolor\": \"#E5ECF6\", \"polar\": {\"angularaxis\": {\"gridcolor\": \"white\", \"linecolor\": \"white\", \"ticks\": \"\"}, \"bgcolor\": \"#E5ECF6\", \"radialaxis\": {\"gridcolor\": \"white\", \"linecolor\": \"white\", \"ticks\": \"\"}}, \"scene\": {\"xaxis\": {\"backgroundcolor\": \"#E5ECF6\", \"gridcolor\": \"white\", \"gridwidth\": 2, \"linecolor\": \"white\", \"showbackground\": true, \"ticks\": \"\", \"zerolinecolor\": \"white\"}, \"yaxis\": {\"backgroundcolor\": \"#E5ECF6\", \"gridcolor\": \"white\", \"gridwidth\": 2, \"linecolor\": \"white\", \"showbackground\": true, \"ticks\": \"\", \"zerolinecolor\": \"white\"}, \"zaxis\": {\"backgroundcolor\": \"#E5ECF6\", \"gridcolor\": \"white\", \"gridwidth\": 2, \"linecolor\": \"white\", \"showbackground\": true, \"ticks\": \"\", \"zerolinecolor\": \"white\"}}, \"shapedefaults\": {\"line\": {\"color\": \"#2a3f5f\"}}, \"ternary\": {\"aaxis\": {\"gridcolor\": \"white\", \"linecolor\": \"white\", \"ticks\": \"\"}, \"baxis\": {\"gridcolor\": \"white\", \"linecolor\": \"white\", \"ticks\": \"\"}, \"bgcolor\": \"#E5ECF6\", \"caxis\": {\"gridcolor\": \"white\", \"linecolor\": \"white\", \"ticks\": \"\"}}, \"title\": {\"x\": 0.05}, \"xaxis\": {\"automargin\": true, \"gridcolor\": \"white\", \"linecolor\": \"white\", \"ticks\": \"\", \"zerolinecolor\": \"white\", \"zerolinewidth\": 2}, \"yaxis\": {\"automargin\": true, \"gridcolor\": \"white\", \"linecolor\": \"white\", \"ticks\": \"\", \"zerolinecolor\": \"white\", \"zerolinewidth\": 2}}}, \"title\": {\"text\": \"\\u041b\\u0438\\u043d\\u0435\\u0439\\u043d\\u0430\\u044f \\u0440\\u0435\\u0433\\u0440\\u0435\\u0441\\u0441\\u0438\\u044f \\u043f\\u043e \\u0442\\u0435\\u043a\\u0441\\u0442\\u0430\\u043c \\u043f\\u043e\\u0441\\u0442\\u043e\\u0432 \\u0441 \\u0442\\u0430\\u0439\\u0442\\u043b\\u0430\\u043c\\u0438\"}, \"xaxis\": {\"title\": {\"text\": \"y_test\"}}, \"yaxis\": {\"title\": {\"text\": \"predictions\"}}},\n",
       "                        {\"responsive\": true}\n",
       "                    ).then(function(){\n",
       "                            \n",
       "var gd = document.getElementById('89f0825e-9994-4a08-b130-03a214e668c7');\n",
       "var x = new MutationObserver(function (mutations, observer) {{\n",
       "        var display = window.getComputedStyle(gd).display;\n",
       "        if (!display || display === 'none') {{\n",
       "            console.log([gd, 'removed!']);\n",
       "            Plotly.purge(gd);\n",
       "            observer.disconnect();\n",
       "        }}\n",
       "}});\n",
       "\n",
       "// Listen for the removal of the full notebook cells\n",
       "var notebookContainer = gd.closest('#notebook-container');\n",
       "if (notebookContainer) {{\n",
       "    x.observe(notebookContainer, {childList: true});\n",
       "}}\n",
       "\n",
       "// Listen for the clearing of the current output cell\n",
       "var outputEl = gd.closest('.output');\n",
       "if (outputEl) {{\n",
       "    x.observe(outputEl, {childList: true});\n",
       "}}\n",
       "\n",
       "                        })\n",
       "                };\n",
       "                });\n",
       "            </script>\n",
       "        </div>"
      ]
     },
     "metadata": {},
     "output_type": "display_data"
    }
   ],
   "source": [
    "data = [go.Scatter(\n",
    "        x = y1_test, \n",
    "        y = predictions1,\n",
    "        mode = 'markers',\n",
    "        marker = {\n",
    "                'size': 12,\n",
    "                'color': 'rgb(199,93,171)',\n",
    "                'symbol': 'star',\n",
    "                'line': {\n",
    "                    'width': 0.3\n",
    "                }\n",
    "                \n",
    "        }\n",
    "    )]\n",
    "\n",
    "layout = go.Layout(\n",
    "        title = 'Линейная регрессия по текстам постов с тайтлами',\n",
    "        xaxis = dict(title = 'y_test'),\n",
    "        yaxis = dict(title = 'predictions'),\n",
    "        plot_bgcolor='rgb(249,221,218)'\n",
    "        \n",
    ")\n",
    "\n",
    "fig = go.Figure(data = data, layout = layout) #объединяет дату и лэйаут \n",
    "###  дата будет списком. квадратные скобки, то что может быть несколько графиков\n",
    "pyo.iplot(fig, filename= 'scatter1.html') ###добавляем букву i, чтобы график отображался в тетрадке\n"
   ]
  },
  {
   "cell_type": "code",
   "execution_count": 116,
   "metadata": {},
   "outputs": [],
   "source": [
    "qqqq = dict(zip(y1_test, predictions1))"
   ]
  },
  {
   "cell_type": "code",
   "execution_count": 117,
   "metadata": {},
   "outputs": [],
   "source": [
    "testframe1 = pd.DataFrame(list(qqqq.items()), columns=['y1test', 'predictions1'])"
   ]
  },
  {
   "cell_type": "code",
   "execution_count": 118,
   "metadata": {},
   "outputs": [
    {
     "data": {
      "text/html": [
       "<div>\n",
       "<style scoped>\n",
       "    .dataframe tbody tr th:only-of-type {\n",
       "        vertical-align: middle;\n",
       "    }\n",
       "\n",
       "    .dataframe tbody tr th {\n",
       "        vertical-align: top;\n",
       "    }\n",
       "\n",
       "    .dataframe thead th {\n",
       "        text-align: right;\n",
       "    }\n",
       "</style>\n",
       "<table border=\"1\" class=\"dataframe\">\n",
       "  <thead>\n",
       "    <tr style=\"text-align: right;\">\n",
       "      <th></th>\n",
       "      <th>y1test</th>\n",
       "      <th>predictions1</th>\n",
       "    </tr>\n",
       "  </thead>\n",
       "  <tbody>\n",
       "    <tr>\n",
       "      <td>0</td>\n",
       "      <td>19</td>\n",
       "      <td>91.027759</td>\n",
       "    </tr>\n",
       "    <tr>\n",
       "      <td>1</td>\n",
       "      <td>69</td>\n",
       "      <td>95.753776</td>\n",
       "    </tr>\n",
       "    <tr>\n",
       "      <td>2</td>\n",
       "      <td>137</td>\n",
       "      <td>114.626960</td>\n",
       "    </tr>\n",
       "    <tr>\n",
       "      <td>3</td>\n",
       "      <td>22</td>\n",
       "      <td>15.371267</td>\n",
       "    </tr>\n",
       "    <tr>\n",
       "      <td>4</td>\n",
       "      <td>82</td>\n",
       "      <td>58.509932</td>\n",
       "    </tr>\n",
       "    <tr>\n",
       "      <td>...</td>\n",
       "      <td>...</td>\n",
       "      <td>...</td>\n",
       "    </tr>\n",
       "    <tr>\n",
       "      <td>131</td>\n",
       "      <td>242</td>\n",
       "      <td>144.910838</td>\n",
       "    </tr>\n",
       "    <tr>\n",
       "      <td>132</td>\n",
       "      <td>233</td>\n",
       "      <td>118.668087</td>\n",
       "    </tr>\n",
       "    <tr>\n",
       "      <td>133</td>\n",
       "      <td>113</td>\n",
       "      <td>107.121155</td>\n",
       "    </tr>\n",
       "    <tr>\n",
       "      <td>134</td>\n",
       "      <td>112</td>\n",
       "      <td>193.164964</td>\n",
       "    </tr>\n",
       "    <tr>\n",
       "      <td>135</td>\n",
       "      <td>61</td>\n",
       "      <td>84.358489</td>\n",
       "    </tr>\n",
       "  </tbody>\n",
       "</table>\n",
       "<p>136 rows × 2 columns</p>\n",
       "</div>"
      ],
      "text/plain": [
       "     y1test  predictions1\n",
       "0    19      91.027759   \n",
       "1    69      95.753776   \n",
       "2    137     114.626960  \n",
       "3    22      15.371267   \n",
       "4    82      58.509932   \n",
       "..   ..            ...   \n",
       "131  242     144.910838  \n",
       "132  233     118.668087  \n",
       "133  113     107.121155  \n",
       "134  112     193.164964  \n",
       "135  61      84.358489   \n",
       "\n",
       "[136 rows x 2 columns]"
      ]
     },
     "execution_count": 118,
     "metadata": {},
     "output_type": "execute_result"
    }
   ],
   "source": [
    "testframe1"
   ]
  },
  {
   "cell_type": "code",
   "execution_count": 119,
   "metadata": {},
   "outputs": [],
   "source": [
    "writer = pd.ExcelWriter('testframe1.xlsx', engine='xlsxwriter')\n",
    "\n",
    "testframe1.to_excel(writer,\n",
    "                  sheet_name='Sheet_name_1')\n",
    "\n",
    "writer.save()"
   ]
  },
  {
   "cell_type": "code",
   "execution_count": 120,
   "metadata": {},
   "outputs": [],
   "source": [
    "from sklearn import preprocessing\n",
    "#делаем нормализацию\n",
    "min_max_scaler = preprocessing.MinMaxScaler()\n",
    "X_scaled = min_max_scaler.fit_transform(X)"
   ]
  },
  {
   "cell_type": "code",
   "execution_count": 121,
   "metadata": {},
   "outputs": [
    {
     "data": {
      "text/plain": [
       "LinearRegression(copy_X=True, fit_intercept=True, n_jobs=None, normalize=False)"
      ]
     },
     "execution_count": 121,
     "metadata": {},
     "output_type": "execute_result"
    }
   ],
   "source": [
    "X_train, X_test, y_train, y_test = train_test_split(X_scaled, y, test_size=0.3, random_state=120)\n",
    "\n",
    "lm = LinearRegression()\n",
    "lm.fit(X_train,y_train)"
   ]
  },
  {
   "cell_type": "code",
   "execution_count": 122,
   "metadata": {},
   "outputs": [],
   "source": [
    "nnname = ['intercept']\n",
    "nnname = [*nnname, *vval]\n",
    "\n",
    "vvval = [lm.intercept_]"
   ]
  },
  {
   "cell_type": "code",
   "execution_count": 123,
   "metadata": {},
   "outputs": [],
   "source": [
    "for i in lm.coef_:\n",
    "    vvval.append(i)"
   ]
  },
  {
   "cell_type": "code",
   "execution_count": 124,
   "metadata": {},
   "outputs": [
    {
     "data": {
      "text/plain": [
       "9357"
      ]
     },
     "execution_count": 124,
     "metadata": {},
     "output_type": "execute_result"
    }
   ],
   "source": [
    "len(lm.coef_)"
   ]
  },
  {
   "cell_type": "code",
   "execution_count": 125,
   "metadata": {},
   "outputs": [],
   "source": [
    "regg = dict(zip(nnname, vvval))"
   ]
  },
  {
   "cell_type": "code",
   "execution_count": 126,
   "metadata": {},
   "outputs": [],
   "source": [
    "logframe = pd.DataFrame(list(regg.items()), columns=['name', 'value'])"
   ]
  },
  {
   "cell_type": "code",
   "execution_count": 127,
   "metadata": {},
   "outputs": [
    {
     "data": {
      "text/html": [
       "<div>\n",
       "<style scoped>\n",
       "    .dataframe tbody tr th:only-of-type {\n",
       "        vertical-align: middle;\n",
       "    }\n",
       "\n",
       "    .dataframe tbody tr th {\n",
       "        vertical-align: top;\n",
       "    }\n",
       "\n",
       "    .dataframe thead th {\n",
       "        text-align: right;\n",
       "    }\n",
       "</style>\n",
       "<table border=\"1\" class=\"dataframe\">\n",
       "  <thead>\n",
       "    <tr style=\"text-align: right;\">\n",
       "      <th></th>\n",
       "      <th>name</th>\n",
       "      <th>value</th>\n",
       "    </tr>\n",
       "  </thead>\n",
       "  <tbody>\n",
       "    <tr>\n",
       "      <td>0</td>\n",
       "      <td>intercept</td>\n",
       "      <td>90.325396</td>\n",
       "    </tr>\n",
       "    <tr>\n",
       "      <td>1</td>\n",
       "      <td>00</td>\n",
       "      <td>-8.600183</td>\n",
       "    </tr>\n",
       "    <tr>\n",
       "      <td>2</td>\n",
       "      <td>000</td>\n",
       "      <td>0.726975</td>\n",
       "    </tr>\n",
       "    <tr>\n",
       "      <td>3</td>\n",
       "      <td>08</td>\n",
       "      <td>2.100081</td>\n",
       "    </tr>\n",
       "    <tr>\n",
       "      <td>4</td>\n",
       "      <td>10</td>\n",
       "      <td>0.216086</td>\n",
       "    </tr>\n",
       "    <tr>\n",
       "      <td>...</td>\n",
       "      <td>...</td>\n",
       "      <td>...</td>\n",
       "    </tr>\n",
       "    <tr>\n",
       "      <td>9353</td>\n",
       "      <td>ярослав</td>\n",
       "      <td>-1.075867</td>\n",
       "    </tr>\n",
       "    <tr>\n",
       "      <td>9354</td>\n",
       "      <td>ярослава</td>\n",
       "      <td>1.576075</td>\n",
       "    </tr>\n",
       "    <tr>\n",
       "      <td>9355</td>\n",
       "      <td>ярославль</td>\n",
       "      <td>-0.641019</td>\n",
       "    </tr>\n",
       "    <tr>\n",
       "      <td>9356</td>\n",
       "      <td>ярыми</td>\n",
       "      <td>-2.327376</td>\n",
       "    </tr>\n",
       "    <tr>\n",
       "      <td>9357</td>\n",
       "      <td>ящик</td>\n",
       "      <td>-1.276283</td>\n",
       "    </tr>\n",
       "  </tbody>\n",
       "</table>\n",
       "<p>9358 rows × 2 columns</p>\n",
       "</div>"
      ],
      "text/plain": [
       "           name      value\n",
       "0     intercept  90.325396\n",
       "1     00        -8.600183 \n",
       "2     000        0.726975 \n",
       "3     08         2.100081 \n",
       "4     10         0.216086 \n",
       "...   ..              ... \n",
       "9353  ярослав   -1.075867 \n",
       "9354  ярослава   1.576075 \n",
       "9355  ярославль -0.641019 \n",
       "9356  ярыми     -2.327376 \n",
       "9357  ящик      -1.276283 \n",
       "\n",
       "[9358 rows x 2 columns]"
      ]
     },
     "execution_count": 127,
     "metadata": {},
     "output_type": "execute_result"
    }
   ],
   "source": [
    "logframe"
   ]
  },
  {
   "cell_type": "code",
   "execution_count": 128,
   "metadata": {},
   "outputs": [],
   "source": [
    "logframe2 = logframe.sort_values(['value'], ascending=[False])\n",
    "\n",
    "#анти-цифры-код\n",
    "logframe2['name'] = logframe2['name'].str.replace('\\d+', '')\n",
    "\n",
    "logframe2 = logframe.sort_values(['value'], ascending=[False])\n",
    "\n",
    "logframe2['name'] = logframe2['name'].str.replace('\\d+', '')\n",
    "logframe2 = logframe2[logframe2.name != '']"
   ]
  },
  {
   "cell_type": "markdown",
   "metadata": {},
   "source": [
    "Соответственно, в табице мы можем видеть слова, которые согласно регрессионной модели сильнее всего влияют на количество действий с постом\n",
    "Стоит сказать, что описывать его статичным текстом имеет мало смысла, так как регрессионная модель весьма динамична при анализе тем постов, и добавление одного поста в выборку может изменить набор основных слов.\n",
    "(В такие моменты у меня появляется ощущение, что линейная регрессионная модель была не самым лучшим выбором, пусть и весьма интуитивным. Тем не менее, эта модель имеет хороший потенциал для её качественного анализа и практического использования для определения тем постов. В данном случае, в контексте прикладной задачи, динамичность модели становится её плюсом, так как она производит достаточно большое количество разнообразных тем)"
   ]
  },
  {
   "cell_type": "code",
   "execution_count": 129,
   "metadata": {},
   "outputs": [
    {
     "data": {
      "text/html": [
       "<div>\n",
       "<style scoped>\n",
       "    .dataframe tbody tr th:only-of-type {\n",
       "        vertical-align: middle;\n",
       "    }\n",
       "\n",
       "    .dataframe tbody tr th {\n",
       "        vertical-align: top;\n",
       "    }\n",
       "\n",
       "    .dataframe thead th {\n",
       "        text-align: right;\n",
       "    }\n",
       "</style>\n",
       "<table border=\"1\" class=\"dataframe\">\n",
       "  <thead>\n",
       "    <tr style=\"text-align: right;\">\n",
       "      <th></th>\n",
       "      <th>name</th>\n",
       "      <th>value</th>\n",
       "    </tr>\n",
       "  </thead>\n",
       "  <tbody>\n",
       "    <tr>\n",
       "      <td>0</td>\n",
       "      <td>intercept</td>\n",
       "      <td>90.325396</td>\n",
       "    </tr>\n",
       "    <tr>\n",
       "      <td>894</td>\n",
       "      <td>введение</td>\n",
       "      <td>51.605562</td>\n",
       "    </tr>\n",
       "    <tr>\n",
       "      <td>859</td>\n",
       "      <td>важная</td>\n",
       "      <td>48.592878</td>\n",
       "    </tr>\n",
       "    <tr>\n",
       "      <td>2642</td>\n",
       "      <td>идеальным</td>\n",
       "      <td>47.832488</td>\n",
       "    </tr>\n",
       "    <tr>\n",
       "      <td>4208</td>\n",
       "      <td>научной</td>\n",
       "      <td>44.998279</td>\n",
       "    </tr>\n",
       "    <tr>\n",
       "      <td>1082</td>\n",
       "      <td>внимание</td>\n",
       "      <td>37.819238</td>\n",
       "    </tr>\n",
       "    <tr>\n",
       "      <td>4597</td>\n",
       "      <td>обратить</td>\n",
       "      <td>37.317325</td>\n",
       "    </tr>\n",
       "    <tr>\n",
       "      <td>6473</td>\n",
       "      <td>происходит</td>\n",
       "      <td>32.609642</td>\n",
       "    </tr>\n",
       "    <tr>\n",
       "      <td>2108</td>\n",
       "      <td>его</td>\n",
       "      <td>31.158941</td>\n",
       "    </tr>\n",
       "    <tr>\n",
       "      <td>7813</td>\n",
       "      <td>список</td>\n",
       "      <td>29.161310</td>\n",
       "    </tr>\n",
       "    <tr>\n",
       "      <td>5789</td>\n",
       "      <td>помогут</td>\n",
       "      <td>28.032219</td>\n",
       "    </tr>\n",
       "    <tr>\n",
       "      <td>8199</td>\n",
       "      <td>табуирована</td>\n",
       "      <td>26.411087</td>\n",
       "    </tr>\n",
       "    <tr>\n",
       "      <td>6712</td>\n",
       "      <td>работы</td>\n",
       "      <td>26.255104</td>\n",
       "    </tr>\n",
       "    <tr>\n",
       "      <td>9041</td>\n",
       "      <td>часть</td>\n",
       "      <td>25.644516</td>\n",
       "    </tr>\n",
       "    <tr>\n",
       "      <td>1293</td>\n",
       "      <td>вуза</td>\n",
       "      <td>24.354792</td>\n",
       "    </tr>\n",
       "    <tr>\n",
       "      <td>5116</td>\n",
       "      <td>оценки</td>\n",
       "      <td>23.549957</td>\n",
       "    </tr>\n",
       "    <tr>\n",
       "      <td>7292</td>\n",
       "      <td>сделать</td>\n",
       "      <td>23.167991</td>\n",
       "    </tr>\n",
       "    <tr>\n",
       "      <td>4453</td>\n",
       "      <td>ничегонеделание</td>\n",
       "      <td>23.068155</td>\n",
       "    </tr>\n",
       "    <tr>\n",
       "      <td>4073</td>\n",
       "      <td>надоедать</td>\n",
       "      <td>23.068155</td>\n",
       "    </tr>\n",
       "    <tr>\n",
       "      <td>4248</td>\n",
       "      <td>начинает</td>\n",
       "      <td>23.068155</td>\n",
       "    </tr>\n",
       "  </tbody>\n",
       "</table>\n",
       "</div>"
      ],
      "text/plain": [
       "                 name      value\n",
       "0     intercept        90.325396\n",
       "894   введение         51.605562\n",
       "859   важная           48.592878\n",
       "2642  идеальным        47.832488\n",
       "4208  научной          44.998279\n",
       "1082  внимание         37.819238\n",
       "4597  обратить         37.317325\n",
       "6473  происходит       32.609642\n",
       "2108  его              31.158941\n",
       "7813  список           29.161310\n",
       "5789  помогут          28.032219\n",
       "8199  табуирована      26.411087\n",
       "6712  работы           26.255104\n",
       "9041  часть            25.644516\n",
       "1293  вуза             24.354792\n",
       "5116  оценки           23.549957\n",
       "7292  сделать          23.167991\n",
       "4453  ничегонеделание  23.068155\n",
       "4073  надоедать        23.068155\n",
       "4248  начинает         23.068155"
      ]
     },
     "execution_count": 129,
     "metadata": {},
     "output_type": "execute_result"
    }
   ],
   "source": [
    "logframe2.head(20)"
   ]
  },
  {
   "cell_type": "code",
   "execution_count": 130,
   "metadata": {},
   "outputs": [
    {
     "name": "stdout",
     "output_type": "stream",
     "text": [
      "[['name', 'value'], ['intercept', 90.32539580932308], ['введение', 51.60556226578388], ['важная', 48.5928780906203], ['идеальным', 47.83248847230092], ['научной', 44.99827885376539], ['внимание', 37.8192377077541], ['обратить', 37.31732471050545], ['происходит', 32.60964153448542], ['его', 31.15894120977431], ['список', 29.161309945705604], ['помогут', 28.032219264909408], ['табуирована', 26.41108670250008], ['работы', 26.2551037813279], ['часть', 25.64451616919908], ['вуза', 24.354791875557144], ['оценки', 23.54995665932509], ['сделать', 23.167991315019954], ['ничегонеделание', 23.068155435316026], ['надоедать', 23.068155435316026]]\n"
     ]
    }
   ],
   "source": [
    "Products_list = [logframe2.columns.values.tolist()] + logframe2.values.tolist()\n",
    "print (Products_list[:20])"
   ]
  },
  {
   "cell_type": "code",
   "execution_count": 131,
   "metadata": {
    "scrolled": true
   },
   "outputs": [
    {
     "data": {
      "text/html": [
       "<div>\n",
       "<style scoped>\n",
       "    .dataframe tbody tr th:only-of-type {\n",
       "        vertical-align: middle;\n",
       "    }\n",
       "\n",
       "    .dataframe tbody tr th {\n",
       "        vertical-align: top;\n",
       "    }\n",
       "\n",
       "    .dataframe thead th {\n",
       "        text-align: right;\n",
       "    }\n",
       "</style>\n",
       "<table border=\"1\" class=\"dataframe\">\n",
       "  <thead>\n",
       "    <tr style=\"text-align: right;\">\n",
       "      <th></th>\n",
       "      <th>name</th>\n",
       "      <th>value</th>\n",
       "    </tr>\n",
       "  </thead>\n",
       "  <tbody>\n",
       "    <tr>\n",
       "      <td>3926</td>\n",
       "      <td>можно</td>\n",
       "      <td>-12.947348</td>\n",
       "    </tr>\n",
       "    <tr>\n",
       "      <td>4274</td>\n",
       "      <td>нашу</td>\n",
       "      <td>-12.989732</td>\n",
       "    </tr>\n",
       "    <tr>\n",
       "      <td>1996</td>\n",
       "      <td>донабор</td>\n",
       "      <td>-13.000301</td>\n",
       "    </tr>\n",
       "    <tr>\n",
       "      <td>3209</td>\n",
       "      <td>конце</td>\n",
       "      <td>-13.511141</td>\n",
       "    </tr>\n",
       "    <tr>\n",
       "      <td>8393</td>\n",
       "      <td>традиционный</td>\n",
       "      <td>-13.736789</td>\n",
       "    </tr>\n",
       "    <tr>\n",
       "      <td>3042</td>\n",
       "      <td>кино</td>\n",
       "      <td>-13.883378</td>\n",
       "    </tr>\n",
       "    <tr>\n",
       "      <td>4716</td>\n",
       "      <td>один</td>\n",
       "      <td>-14.278290</td>\n",
       "    </tr>\n",
       "    <tr>\n",
       "      <td>5450</td>\n",
       "      <td>по</td>\n",
       "      <td>-14.891896</td>\n",
       "    </tr>\n",
       "    <tr>\n",
       "      <td>6080</td>\n",
       "      <td>предлагаем</td>\n",
       "      <td>-15.080542</td>\n",
       "    </tr>\n",
       "    <tr>\n",
       "      <td>3122</td>\n",
       "      <td>команду</td>\n",
       "      <td>-15.652276</td>\n",
       "    </tr>\n",
       "    <tr>\n",
       "      <td>3439</td>\n",
       "      <td>лекция</td>\n",
       "      <td>-15.923838</td>\n",
       "    </tr>\n",
       "    <tr>\n",
       "      <td>1068</td>\n",
       "      <td>вместе</td>\n",
       "      <td>-16.684186</td>\n",
       "    </tr>\n",
       "    <tr>\n",
       "      <td>7618</td>\n",
       "      <td>событий</td>\n",
       "      <td>-17.309272</td>\n",
       "    </tr>\n",
       "    <tr>\n",
       "      <td>2080</td>\n",
       "      <td>думают</td>\n",
       "      <td>-19.138950</td>\n",
       "    </tr>\n",
       "    <tr>\n",
       "      <td>338</td>\n",
       "      <td>абитуриенты</td>\n",
       "      <td>-19.584344</td>\n",
       "    </tr>\n",
       "    <tr>\n",
       "      <td>8560</td>\n",
       "      <td>узнали</td>\n",
       "      <td>-22.830816</td>\n",
       "    </tr>\n",
       "    <tr>\n",
       "      <td>1704</td>\n",
       "      <td>дайджесте</td>\n",
       "      <td>-22.914461</td>\n",
       "    </tr>\n",
       "    <tr>\n",
       "      <td>1250</td>\n",
       "      <td>вспоминаем</td>\n",
       "      <td>-23.592049</td>\n",
       "    </tr>\n",
       "    <tr>\n",
       "      <td>8200</td>\n",
       "      <td>табуированна</td>\n",
       "      <td>-23.731069</td>\n",
       "    </tr>\n",
       "    <tr>\n",
       "      <td>5303</td>\n",
       "      <td>перечитываем</td>\n",
       "      <td>-25.151676</td>\n",
       "    </tr>\n",
       "  </tbody>\n",
       "</table>\n",
       "</div>"
      ],
      "text/plain": [
       "              name      value\n",
       "3926  можно        -12.947348\n",
       "4274  нашу         -12.989732\n",
       "1996  донабор      -13.000301\n",
       "3209  конце        -13.511141\n",
       "8393  традиционный -13.736789\n",
       "3042  кино         -13.883378\n",
       "4716  один         -14.278290\n",
       "5450  по           -14.891896\n",
       "6080  предлагаем   -15.080542\n",
       "3122  команду      -15.652276\n",
       "3439  лекция       -15.923838\n",
       "1068  вместе       -16.684186\n",
       "7618  событий      -17.309272\n",
       "2080  думают       -19.138950\n",
       "338   абитуриенты  -19.584344\n",
       "8560  узнали       -22.830816\n",
       "1704  дайджесте    -22.914461\n",
       "1250  вспоминаем   -23.592049\n",
       "8200  табуированна -23.731069\n",
       "5303  перечитываем -25.151676"
      ]
     },
     "execution_count": 131,
     "metadata": {},
     "output_type": "execute_result"
    }
   ],
   "source": [
    "logframe2.tail(20)"
   ]
  },
  {
   "cell_type": "code",
   "execution_count": 132,
   "metadata": {},
   "outputs": [
    {
     "data": {
      "text/plain": [
       "827"
      ]
     },
     "execution_count": 132,
     "metadata": {},
     "output_type": "execute_result"
    }
   ],
   "source": [
    "len(df_titles)"
   ]
  },
  {
   "cell_type": "code",
   "execution_count": 133,
   "metadata": {},
   "outputs": [
    {
     "name": "stdout",
     "output_type": "stream",
     "text": [
      "(90.32539580932308, -8.600182574448066, 0.726974956400186, 2.100080576436492, 0.21608582370911567, -0.6639295343639731)\n"
     ]
    }
   ],
   "source": [
    "print((lm.intercept_, lm.coef_[0], lm.coef_[1], lm.coef_[2], lm.coef_[3], lm.coef_[4]))"
   ]
  },
  {
   "cell_type": "code",
   "execution_count": 134,
   "metadata": {},
   "outputs": [],
   "source": [
    "from sklearn.metrics import mean_absolute_error\n",
    "from sklearn.metrics import mean_squared_error"
   ]
  },
  {
   "cell_type": "code",
   "execution_count": 135,
   "metadata": {},
   "outputs": [],
   "source": [
    "y_hat = lm.predict(X_train)"
   ]
  },
  {
   "cell_type": "code",
   "execution_count": 136,
   "metadata": {
    "scrolled": true
   },
   "outputs": [
    {
     "name": "stdout",
     "output_type": "stream",
     "text": [
      "Средняя абсолютная ошибка 0.00\n",
      "Средняя квадратичная ошибка 0.00\n"
     ]
    }
   ],
   "source": [
    "print('Средняя абсолютная ошибка %.2f' % mean_absolute_error(y_train, y_hat))\n",
    "print('Средняя квадратичная ошибка %.2f' % mean_squared_error(y_train, y_hat))"
   ]
  },
  {
   "cell_type": "code",
   "execution_count": 137,
   "metadata": {},
   "outputs": [
    {
     "data": {
      "text/plain": [
       "1.0"
      ]
     },
     "execution_count": 137,
     "metadata": {},
     "output_type": "execute_result"
    }
   ],
   "source": [
    "from sklearn.metrics import r2_score\n",
    "r2_score(y_train, y_hat) #99 процентов попаданий"
   ]
  },
  {
   "cell_type": "code",
   "execution_count": 138,
   "metadata": {},
   "outputs": [
    {
     "data": {
      "text/plain": [
       "827"
      ]
     },
     "execution_count": 138,
     "metadata": {},
     "output_type": "execute_result"
    }
   ],
   "source": [
    "len(df_titles)"
   ]
  },
  {
   "cell_type": "code",
   "execution_count": 139,
   "metadata": {},
   "outputs": [],
   "source": [
    "writer = pd.ExcelWriter('logframetitletext.xlsx', engine='xlsxwriter')\n",
    "\n",
    "logframe2.to_excel(writer,\n",
    "                  sheet_name='Sheet_name_1')\n",
    "\n",
    "writer.save()"
   ]
  },
  {
   "cell_type": "markdown",
   "metadata": {},
   "source": [
    "В целом регрессионная модель по текстам постов с тайтлами показывает высокую точность и она является релевантной"
   ]
  },
  {
   "cell_type": "markdown",
   "metadata": {},
   "source": [
    "# ЛИНЕЙНАЯ РЕГРЕССИЯ ПО НАЗВАНИЯМ ПОСТОВ С НАЗВАНИЯМИ"
   ]
  },
  {
   "cell_type": "code",
   "execution_count": 140,
   "metadata": {},
   "outputs": [
    {
     "name": "stdout",
     "output_type": "stream",
     "text": [
      "<class 'pandas.core.frame.DataFrame'>\n",
      "RangeIndex: 827 entries, 0 to 826\n",
      "Data columns (total 3 columns):\n",
      "title       827 non-null object\n",
      "comments    827 non-null int64\n",
      "target      827 non-null int64\n",
      "dtypes: int64(2), object(1)\n",
      "memory usage: 19.5+ KB\n"
     ]
    },
    {
     "data": {
      "text/plain": [
       "<matplotlib.collections.PathCollection at 0x1be62788c48>"
      ]
     },
     "execution_count": 140,
     "metadata": {},
     "output_type": "execute_result"
    },
    {
     "data": {
      "image/png": "[encoded data removed]",
      "text/plain": [
       "<Figure size 432x288 with 1 Axes>"
      ]
     },
     "metadata": {
      "needs_background": "light"
     },
     "output_type": "display_data"
    }
   ],
   "source": [
    "daf = df_titles.copy()\n",
    "daf['target'] = daf['total_actions']\n",
    "daf.drop('text', axis=1, inplace=True)\n",
    "daf.drop('likes', axis=1, inplace=True)\n",
    "daf.drop('reposts', axis=1, inplace=True)\n",
    "daf.drop('views', axis=1, inplace=True)\n",
    "daf.drop('Date', axis=1, inplace=True)\n",
    "daf.drop('Time', axis=1, inplace=True)\n",
    "daf.drop('dlina', axis=1, inplace=True)\n",
    "daf.drop('total_actions', axis=1, inplace=True)\n",
    "daf.info()\n",
    "\n",
    "target_name = 'target'\n",
    "robust_scaler = RobustScaler()\n",
    "\n",
    "X = daf.drop('target', axis=1) #готовим датафрейм к моделированию\n",
    "\n",
    "corpus = X['title']\n",
    "vectorizer = CountVectorizer()\n",
    "vectorizer.fit(corpus)\n",
    "X_dtm = vectorizer.transform(corpus)\n",
    "X = pd.DataFrame(data=X_dtm.toarray(), columns=vectorizer.get_feature_names(), index=['doc_'+str(i+1) for i in range(len(df_titles))]) #прописываем range как в таблице\n",
    "#делаем мешки слов\n",
    "\n",
    "vval = X.columns.copy()\n",
    "\n",
    "X = robust_scaler.fit_transform(X)\n",
    "\n",
    "y = daf[target_name]\n",
    "\n",
    "X_train, X_test, y_train, y2_test = train_test_split(X, y, test_size=0.3, random_state=120)\n",
    "\n",
    "lm = LinearRegression()\n",
    "lm.fit(X_train,y_train)\n",
    "\n",
    "predictions2 = lm.predict(X_test)\n",
    "\n",
    "plt.scatter(y2_test,predictions2)"
   ]
  },
  {
   "cell_type": "code",
   "execution_count": 141,
   "metadata": {},
   "outputs": [
    {
     "data": {
      "application/vnd.plotly.v1+json": {
       "config": {
        "linkText": "Export to plot.ly",
        "plotlyServerURL": "https://plot.ly",
        "showLink": false
       },
       "data": [
        {
         "marker": {
          "color": "rgb(234,79,136)",
          "line": {
           "width": 0.3
          },
          "size": 12,
          "symbol": "star"
         },
         "mode": "markers",
         "type": "scatter",
         "x": [
          19,
          69,
          137,
          22,
          82,
          13,
          38,
          76,
          105,
          55,
          12,
          83,
          104,
          86,
          49,
          45,
          116,
          93,
          69,
          29,
          151,
          228,
          59,
          406,
          35,
          17,
          40,
          45,
          94,
          160,
          65,
          20,
          28,
          182,
          81,
          46,
          64,
          77,
          130,
          63,
          100,
          404,
          16,
          26,
          304,
          244,
          252,
          35,
          52,
          57,
          116,
          54,
          75,
          37,
          38,
          24,
          50,
          50,
          111,
          93,
          98,
          72,
          47,
          141,
          105,
          71,
          37,
          26,
          38,
          43,
          63,
          104,
          58,
          42,
          130,
          77,
          128,
          41,
          76,
          135,
          104,
          118,
          43,
          157,
          174,
          107,
          135,
          96,
          50,
          70,
          31,
          22,
          56,
          64,
          27,
          146,
          54,
          50,
          171,
          30,
          81,
          96,
          83,
          124,
          62,
          102,
          46,
          346,
          54,
          238,
          81,
          49,
          67,
          70,
          120,
          173,
          275,
          22,
          70,
          94,
          325,
          48,
          76,
          51,
          43,
          40,
          46,
          154,
          58,
          264,
          18,
          84,
          66,
          24,
          156,
          98,
          27,
          81,
          182,
          99,
          53,
          84,
          70,
          154,
          29,
          81,
          71,
          46,
          31,
          116,
          43,
          165,
          228,
          127,
          147,
          63,
          68,
          50,
          124,
          115,
          24,
          308,
          46,
          116,
          67,
          229,
          99,
          117,
          412,
          206,
          65,
          167,
          139,
          21,
          140,
          72,
          152,
          126,
          73,
          87,
          111,
          58,
          94,
          32,
          121,
          32,
          99,
          75,
          57,
          30,
          185,
          17,
          85,
          168,
          83,
          58,
          21,
          161,
          164,
          72,
          224,
          21,
          88,
          30,
          117,
          20,
          71,
          27,
          66,
          128,
          25,
          63,
          93,
          39,
          51,
          64,
          195,
          24,
          62,
          91,
          256,
          33,
          164,
          93,
          35,
          88,
          166,
          128,
          335,
          24,
          54,
          96,
          43,
          64,
          242,
          233,
          71,
          41,
          113,
          112,
          24,
          62,
          105,
          88,
          61,
          56,
          41,
          105,
          75
         ],
         "y": [
          10.7574462890625,
          38.0074462890625,
          64.3824462890625,
          -1.0550537109375,
          312778495845031.6,
          -12.9925537109375,
          -447230685791763.25,
          -1870017720690867.8,
          72.1011962890625,
          45.2574462890625,
          -1511898355057552.2,
          100.0699462890625,
          56.0074462890625,
          -432027152361132.1,
          -1111592756348644,
          9928562088101976,
          34.0699462890625,
          187.5172119140625,
          69.7261962890625,
          14.3199462890625,
          140.7261962890625,
          -1814898042881867.2,
          -373870654802019.5,
          -15269909615701740,
          -1498949209206136.8,
          4190811298278975.5,
          77.5074462890625,
          -960387998023.7426,
          -1553554905617925.2,
          -8566300404456874,
          -829147452455468,
          14.6636962890625,
          1955748092576366.2,
          -15269909615701740,
          1911155129060817.2,
          2080999863725275,
          1006593568506304.1,
          158.5172119140625,
          50.0386962890625,
          -6608804334757086,
          2320086524906755.5,
          -2087288042197861.2,
          870122930257125,
          20886281362717052,
          -2004573117784044.8,
          58.0543212890625,
          -15269909615701740,
          -151113665410308.16,
          -365708331849982.56,
          -4674120154330.876,
          85.7047119140625,
          -1314954559300418.2,
          425285606907909.44,
          4190811298279018.5,
          25.8199462890625,
          1260366633232863.5,
          4906559026199005,
          -301875539682326.56,
          422161719493679.1,
          162.4136962890625,
          658329764338198.5,
          -138288180497283.62,
          -0.9925537109375,
          187.6324462890625,
          -398659671509980.9,
          800141437235235.5,
          59.2574462890625,
          1078399866234958.2,
          100.3824462890625,
          239320317323111.75,
          21.2574462890625,
          85.7047119140625,
          62.5074462890625,
          -2652492256217499.5,
          204.7574462890625,
          -424921030248815.4,
          -1813542991661636,
          1904365835782011.2,
          -1232727704668123,
          -9561683055241874,
          685.5855712890625,
          106.5074462890625,
          -961848605099104.8,
          47.8824462890625,
          814550399334851.8,
          638.1324462890625,
          75.2574462890625,
          -932230337303204.9,
          -4108594436007652.5,
          65.3824462890625,
          61.7574462890625,
          -2453279513099435.5,
          -1430248034735390.2,
          2466464127394540.5,
          -326895566856798.25,
          -1723699320962686.8,
          1078399866234958.2,
          -1287364735727566.2,
          -2421235871192094.5,
          -5702709653336463,
          -169310134638287.5,
          1022343395623465.8,
          -458555553268437.75,
          49.2574462890625,
          -7651156279670886,
          145.3980712890625,
          77.5074462890625,
          -15269909615701740,
          82.1636962890625,
          85.2574462890625,
          -2946723292926183,
          366772135384.0172,
          4105319144836064,
          34.0699462890625,
          -2637129501788544.5,
          137.2574462890625,
          -960387998046.7426,
          14.3199462890625,
          1022343395623465.8,
          47.1324462890625,
          146.7574462890625,
          6200710987730132,
          -24781077732747.492,
          61.2574462890625,
          1731374165574279.2,
          -1613597113411530.8,
          110.8824462890625,
          -960387998046.7426,
          112.5074462890625,
          -1852349163404398,
          -17.5550537109375,
          154.0699462890625,
          -326895566856798.25,
          7.2574462890625,
          56.0699462890625,
          546671482395438.1,
          -960387998046.7426,
          167.0074462890625,
          -6364526720473619,
          3169027241019499.5,
          -1283178240112499,
          187.6324462890625,
          -4442909551772291.5,
          56.2574462890625,
          -5145141602172156,
          75.2574462890625,
          -808411393941689.8,
          -4190811298278887,
          41.3824462890625,
          -3444041457540490,
          56.8043212890625,
          238.2574462890625,
          206.7574462890625,
          -3130721653223369.5,
          1436241036009534.8,
          1729915235052616,
          -808411393941689.8,
          42784665261564.73,
          85.7047119140625,
          236.2574462890625,
          -1976114361152752.8,
          164.1324462890625,
          46.1949462890625,
          1039705911761873.9,
          -1000981882330692.1,
          -41911994472435.484,
          1306315776528057.2,
          -1616530913613366.2,
          77.7574462890625,
          66.3824462890625,
          49.6011962890625,
          256.8199462890625,
          63.6324462890625,
          34.0528564453125,
          -1387733325176782.5,
          297.5074462890625,
          2588394944007673.5,
          -2109226051412737.2,
          92126167672834.75,
          -1716719889642540.8,
          32995605685476.758,
          74.7574462890625,
          522.2574462890625,
          69.2574462890625,
          -458555553268437.75,
          -4190811298278857,
          -960387998046.7426,
          75.6324462890625,
          10947437568185076,
          755219733583.0465,
          87.0074462890625,
          -1192912879866519.2,
          506167388044618.75,
          121.7105712890625,
          -1209979964819229.2,
          -1387733325176782.5,
          82.2574462890625,
          71.6324462890625,
          2325665128969647,
          -4696318440977534,
          -12811709567995198,
          -3658482973598121.5,
          -458555553268437.75,
          4190811298278859,
          187.6324462890625,
          19.0074462890625,
          50.6324462890625,
          14890949316177686,
          -10100095977724442,
          4483118245633.258,
          77.1324462890625,
          -5320239208280798,
          416341856572181,
          56.8043212890625,
          119.7574462890625,
          1479487239042531,
          302.9918212890625,
          6015264532429327,
          654165198781274.2,
          155491870237067.88,
          2307188009134976,
          -6378910944699511,
          -12340723227773720,
          2389427311568695,
          -373870654802019.5,
          90.5074462890625,
          182.7574462890625,
          115748856752039.4,
          638.1324462890625,
          32.0074462890625,
          59.2574462890625,
          1390151050883343,
          -444851203624493,
          28.2574462890625,
          6201393542072103,
          -555107669148454.4,
          -9163548607038224,
          -5790685002573016,
          -1366335660828333.8,
          165.2574462890625,
          3475063570358962.5,
          -4069946417603582.5,
          87.0074462890625,
          -214943087615526.75,
          -600905347873398,
          1368571090671192.5,
          56.8043212890625,
          -7651156279670886,
          2030693882325651.2
         ]
        }
       ],
       "layout": {
        "plot_bgcolor": "rgb(249,221,218)",
        "template": {
         "data": {
          "bar": [
           {
            "error_x": {
             "color": "#2a3f5f"
            },
            "error_y": {
             "color": "#2a3f5f"
            },
            "marker": {
             "line": {
              "color": "#E5ECF6",
              "width": 0.5
             }
            },
            "type": "bar"
           }
          ],
          "barpolar": [
           {
            "marker": {
             "line": {
              "color": "#E5ECF6",
              "width": 0.5
             }
            },
            "type": "barpolar"
           }
          ],
          "carpet": [
           {
            "aaxis": {
             "endlinecolor": "#2a3f5f",
             "gridcolor": "white",
             "linecolor": "white",
             "minorgridcolor": "white",
             "startlinecolor": "#2a3f5f"
            },
            "baxis": {
             "endlinecolor": "#2a3f5f",
             "gridcolor": "white",
             "linecolor": "white",
             "minorgridcolor": "white",
             "startlinecolor": "#2a3f5f"
            },
            "type": "carpet"
           }
          ],
          "choropleth": [
           {
            "colorbar": {
             "outlinewidth": 0,
             "ticks": ""
            },
            "type": "choropleth"
           }
          ],
          "contour": [
           {
            "colorbar": {
             "outlinewidth": 0,
             "ticks": ""
            },
            "colorscale": [
             [
              0,
              "#0d0887"
             ],
             [
              0.1111111111111111,
              "#46039f"
             ],
             [
              0.2222222222222222,
              "#7201a8"
             ],
             [
              0.3333333333333333,
              "#9c179e"
             ],
             [
              0.4444444444444444,
              "#bd3786"
             ],
             [
              0.5555555555555556,
              "#d8576b"
             ],
             [
              0.6666666666666666,
              "#ed7953"
             ],
             [
              0.7777777777777778,
              "#fb9f3a"
             ],
             [
              0.8888888888888888,
              "#fdca26"
             ],
             [
              1,
              "#f0f921"
             ]
            ],
            "type": "contour"
           }
          ],
          "contourcarpet": [
           {
            "colorbar": {
             "outlinewidth": 0,
             "ticks": ""
            },
            "type": "contourcarpet"
           }
          ],
          "heatmap": [
           {
            "colorbar": {
             "outlinewidth": 0,
             "ticks": ""
            },
            "colorscale": [
             [
              0,
              "#0d0887"
             ],
             [
              0.1111111111111111,
              "#46039f"
             ],
             [
              0.2222222222222222,
              "#7201a8"
             ],
             [
              0.3333333333333333,
              "#9c179e"
             ],
             [
              0.4444444444444444,
              "#bd3786"
             ],
             [
              0.5555555555555556,
              "#d8576b"
             ],
             [
              0.6666666666666666,
              "#ed7953"
             ],
             [
              0.7777777777777778,
              "#fb9f3a"
             ],
             [
              0.8888888888888888,
              "#fdca26"
             ],
             [
              1,
              "#f0f921"
             ]
            ],
            "type": "heatmap"
           }
          ],
          "heatmapgl": [
           {
            "colorbar": {
             "outlinewidth": 0,
             "ticks": ""
            },
            "colorscale": [
             [
              0,
              "#0d0887"
             ],
             [
              0.1111111111111111,
              "#46039f"
             ],
             [
              0.2222222222222222,
              "#7201a8"
             ],
             [
              0.3333333333333333,
              "#9c179e"
             ],
             [
              0.4444444444444444,
              "#bd3786"
             ],
             [
              0.5555555555555556,
              "#d8576b"
             ],
             [
              0.6666666666666666,
              "#ed7953"
             ],
             [
              0.7777777777777778,
              "#fb9f3a"
             ],
             [
              0.8888888888888888,
              "#fdca26"
             ],
             [
              1,
              "#f0f921"
             ]
            ],
            "type": "heatmapgl"
           }
          ],
          "histogram": [
           {
            "marker": {
             "colorbar": {
              "outlinewidth": 0,
              "ticks": ""
             }
            },
            "type": "histogram"
           }
          ],
          "histogram2d": [
           {
            "colorbar": {
             "outlinewidth": 0,
             "ticks": ""
            },
            "colorscale": [
             [
              0,
              "#0d0887"
             ],
             [
              0.1111111111111111,
              "#46039f"
             ],
             [
              0.2222222222222222,
              "#7201a8"
             ],
             [
              0.3333333333333333,
              "#9c179e"
             ],
             [
              0.4444444444444444,
              "#bd3786"
             ],
             [
              0.5555555555555556,
              "#d8576b"
             ],
             [
              0.6666666666666666,
              "#ed7953"
             ],
             [
              0.7777777777777778,
              "#fb9f3a"
             ],
             [
              0.8888888888888888,
              "#fdca26"
             ],
             [
              1,
              "#f0f921"
             ]
            ],
            "type": "histogram2d"
           }
          ],
          "histogram2dcontour": [
           {
            "colorbar": {
             "outlinewidth": 0,
             "ticks": ""
            },
            "colorscale": [
             [
              0,
              "#0d0887"
             ],
             [
              0.1111111111111111,
              "#46039f"
             ],
             [
              0.2222222222222222,
              "#7201a8"
             ],
             [
              0.3333333333333333,
              "#9c179e"
             ],
             [
              0.4444444444444444,
              "#bd3786"
             ],
             [
              0.5555555555555556,
              "#d8576b"
             ],
             [
              0.6666666666666666,
              "#ed7953"
             ],
             [
              0.7777777777777778,
              "#fb9f3a"
             ],
             [
              0.8888888888888888,
              "#fdca26"
             ],
             [
              1,
              "#f0f921"
             ]
            ],
            "type": "histogram2dcontour"
           }
          ],
          "mesh3d": [
           {
            "colorbar": {
             "outlinewidth": 0,
             "ticks": ""
            },
            "type": "mesh3d"
           }
          ],
          "parcoords": [
           {
            "line": {
             "colorbar": {
              "outlinewidth": 0,
              "ticks": ""
             }
            },
            "type": "parcoords"
           }
          ],
          "scatter": [
           {
            "marker": {
             "colorbar": {
              "outlinewidth": 0,
              "ticks": ""
             }
            },
            "type": "scatter"
           }
          ],
          "scatter3d": [
           {
            "line": {
             "colorbar": {
              "outlinewidth": 0,
              "ticks": ""
             }
            },
            "marker": {
             "colorbar": {
              "outlinewidth": 0,
              "ticks": ""
             }
            },
            "type": "scatter3d"
           }
          ],
          "scattercarpet": [
           {
            "marker": {
             "colorbar": {
              "outlinewidth": 0,
              "ticks": ""
             }
            },
            "type": "scattercarpet"
           }
          ],
          "scattergeo": [
           {
            "marker": {
             "colorbar": {
              "outlinewidth": 0,
              "ticks": ""
             }
            },
            "type": "scattergeo"
           }
          ],
          "scattergl": [
           {
            "marker": {
             "colorbar": {
              "outlinewidth": 0,
              "ticks": ""
             }
            },
            "type": "scattergl"
           }
          ],
          "scattermapbox": [
           {
            "marker": {
             "colorbar": {
              "outlinewidth": 0,
              "ticks": ""
             }
            },
            "type": "scattermapbox"
           }
          ],
          "scatterpolar": [
           {
            "marker": {
             "colorbar": {
              "outlinewidth": 0,
              "ticks": ""
             }
            },
            "type": "scatterpolar"
           }
          ],
          "scatterpolargl": [
           {
            "marker": {
             "colorbar": {
              "outlinewidth": 0,
              "ticks": ""
             }
            },
            "type": "scatterpolargl"
           }
          ],
          "scatterternary": [
           {
            "marker": {
             "colorbar": {
              "outlinewidth": 0,
              "ticks": ""
             }
            },
            "type": "scatterternary"
           }
          ],
          "surface": [
           {
            "colorbar": {
             "outlinewidth": 0,
             "ticks": ""
            },
            "colorscale": [
             [
              0,
              "#0d0887"
             ],
             [
              0.1111111111111111,
              "#46039f"
             ],
             [
              0.2222222222222222,
              "#7201a8"
             ],
             [
              0.3333333333333333,
              "#9c179e"
             ],
             [
              0.4444444444444444,
              "#bd3786"
             ],
             [
              0.5555555555555556,
              "#d8576b"
             ],
             [
              0.6666666666666666,
              "#ed7953"
             ],
             [
              0.7777777777777778,
              "#fb9f3a"
             ],
             [
              0.8888888888888888,
              "#fdca26"
             ],
             [
              1,
              "#f0f921"
             ]
            ],
            "type": "surface"
           }
          ],
          "table": [
           {
            "cells": {
             "fill": {
              "color": "#EBF0F8"
             },
             "line": {
              "color": "white"
             }
            },
            "header": {
             "fill": {
              "color": "#C8D4E3"
             },
             "line": {
              "color": "white"
             }
            },
            "type": "table"
           }
          ]
         },
         "layout": {
          "annotationdefaults": {
           "arrowcolor": "#2a3f5f",
           "arrowhead": 0,
           "arrowwidth": 1
          },
          "colorscale": {
           "diverging": [
            [
             0,
             "#8e0152"
            ],
            [
             0.1,
             "#c51b7d"
            ],
            [
             0.2,
             "#de77ae"
            ],
            [
             0.3,
             "#f1b6da"
            ],
            [
             0.4,
             "#fde0ef"
            ],
            [
             0.5,
             "#f7f7f7"
            ],
            [
             0.6,
             "#e6f5d0"
            ],
            [
             0.7,
             "#b8e186"
            ],
            [
             0.8,
             "#7fbc41"
            ],
            [
             0.9,
             "#4d9221"
            ],
            [
             1,
             "#276419"
            ]
           ],
           "sequential": [
            [
             0,
             "#0d0887"
            ],
            [
             0.1111111111111111,
             "#46039f"
            ],
            [
             0.2222222222222222,
             "#7201a8"
            ],
            [
             0.3333333333333333,
             "#9c179e"
            ],
            [
             0.4444444444444444,
             "#bd3786"
            ],
            [
             0.5555555555555556,
             "#d8576b"
            ],
            [
             0.6666666666666666,
             "#ed7953"
            ],
            [
             0.7777777777777778,
             "#fb9f3a"
            ],
            [
             0.8888888888888888,
             "#fdca26"
            ],
            [
             1,
             "#f0f921"
            ]
           ],
           "sequentialminus": [
            [
             0,
             "#0d0887"
            ],
            [
             0.1111111111111111,
             "#46039f"
            ],
            [
             0.2222222222222222,
             "#7201a8"
            ],
            [
             0.3333333333333333,
             "#9c179e"
            ],
            [
             0.4444444444444444,
             "#bd3786"
            ],
            [
             0.5555555555555556,
             "#d8576b"
            ],
            [
             0.6666666666666666,
             "#ed7953"
            ],
            [
             0.7777777777777778,
             "#fb9f3a"
            ],
            [
             0.8888888888888888,
             "#fdca26"
            ],
            [
             1,
             "#f0f921"
            ]
           ]
          },
          "colorway": [
           "#636efa",
           "#EF553B",
           "#00cc96",
           "#ab63fa",
           "#FFA15A",
           "#19d3f3",
           "#FF6692",
           "#B6E880",
           "#FF97FF",
           "#FECB52"
          ],
          "font": {
           "color": "#2a3f5f"
          },
          "geo": {
           "bgcolor": "white",
           "lakecolor": "white",
           "landcolor": "#E5ECF6",
           "showlakes": true,
           "showland": true,
           "subunitcolor": "white"
          },
          "hoverlabel": {
           "align": "left"
          },
          "hovermode": "closest",
          "mapbox": {
           "style": "light"
          },
          "paper_bgcolor": "white",
          "plot_bgcolor": "#E5ECF6",
          "polar": {
           "angularaxis": {
            "gridcolor": "white",
            "linecolor": "white",
            "ticks": ""
           },
           "bgcolor": "#E5ECF6",
           "radialaxis": {
            "gridcolor": "white",
            "linecolor": "white",
            "ticks": ""
           }
          },
          "scene": {
           "xaxis": {
            "backgroundcolor": "#E5ECF6",
            "gridcolor": "white",
            "gridwidth": 2,
            "linecolor": "white",
            "showbackground": true,
            "ticks": "",
            "zerolinecolor": "white"
           },
           "yaxis": {
            "backgroundcolor": "#E5ECF6",
            "gridcolor": "white",
            "gridwidth": 2,
            "linecolor": "white",
            "showbackground": true,
            "ticks": "",
            "zerolinecolor": "white"
           },
           "zaxis": {
            "backgroundcolor": "#E5ECF6",
            "gridcolor": "white",
            "gridwidth": 2,
            "linecolor": "white",
            "showbackground": true,
            "ticks": "",
            "zerolinecolor": "white"
           }
          },
          "shapedefaults": {
           "line": {
            "color": "#2a3f5f"
           }
          },
          "ternary": {
           "aaxis": {
            "gridcolor": "white",
            "linecolor": "white",
            "ticks": ""
           },
           "baxis": {
            "gridcolor": "white",
            "linecolor": "white",
            "ticks": ""
           },
           "bgcolor": "#E5ECF6",
           "caxis": {
            "gridcolor": "white",
            "linecolor": "white",
            "ticks": ""
           }
          },
          "title": {
           "x": 0.05
          },
          "xaxis": {
           "automargin": true,
           "gridcolor": "white",
           "linecolor": "white",
           "ticks": "",
           "zerolinecolor": "white",
           "zerolinewidth": 2
          },
          "yaxis": {
           "automargin": true,
           "gridcolor": "white",
           "linecolor": "white",
           "ticks": "",
           "zerolinecolor": "white",
           "zerolinewidth": 2
          }
         }
        },
        "title": {
         "text": "Линейная регрессия по названия постов с названиями"
        },
        "xaxis": {
         "title": {
          "text": "y_test"
         }
        },
        "yaxis": {
         "title": {
          "text": "predictions"
         }
        }
       }
      },
      "text/html": [
       "<div>\n",
       "        \n",
       "        \n",
       "            <div id=\"72a45b4a-4ffe-4678-b5ae-b9263d0808eb\" class=\"plotly-graph-div\" style=\"height:525px; width:100%;\"></div>\n",
       "            <script type=\"text/javascript\">\n",
       "                require([\"plotly\"], function(Plotly) {\n",
       "                    window.PLOTLYENV=window.PLOTLYENV || {};\n",
       "                    \n",
       "                if (document.getElementById(\"72a45b4a-4ffe-4678-b5ae-b9263d0808eb\")) {\n",
       "                    Plotly.newPlot(\n",
       "                        '72a45b4a-4ffe-4678-b5ae-b9263d0808eb',\n",
       "                        [{\"marker\": {\"color\": \"rgb(234,79,136)\", \"line\": {\"width\": 0.3}, \"size\": 12, \"symbol\": \"star\"}, \"mode\": \"markers\", \"type\": \"scatter\", \"x\": [19, 69, 137, 22, 82, 13, 38, 76, 105, 55, 12, 83, 104, 86, 49, 45, 116, 93, 69, 29, 151, 228, 59, 406, 35, 17, 40, 45, 94, 160, 65, 20, 28, 182, 81, 46, 64, 77, 130, 63, 100, 404, 16, 26, 304, 244, 252, 35, 52, 57, 116, 54, 75, 37, 38, 24, 50, 50, 111, 93, 98, 72, 47, 141, 105, 71, 37, 26, 38, 43, 63, 104, 58, 42, 130, 77, 128, 41, 76, 135, 104, 118, 43, 157, 174, 107, 135, 96, 50, 70, 31, 22, 56, 64, 27, 146, 54, 50, 171, 30, 81, 96, 83, 124, 62, 102, 46, 346, 54, 238, 81, 49, 67, 70, 120, 173, 275, 22, 70, 94, 325, 48, 76, 51, 43, 40, 46, 154, 58, 264, 18, 84, 66, 24, 156, 98, 27, 81, 182, 99, 53, 84, 70, 154, 29, 81, 71, 46, 31, 116, 43, 165, 228, 127, 147, 63, 68, 50, 124, 115, 24, 308, 46, 116, 67, 229, 99, 117, 412, 206, 65, 167, 139, 21, 140, 72, 152, 126, 73, 87, 111, 58, 94, 32, 121, 32, 99, 75, 57, 30, 185, 17, 85, 168, 83, 58, 21, 161, 164, 72, 224, 21, 88, 30, 117, 20, 71, 27, 66, 128, 25, 63, 93, 39, 51, 64, 195, 24, 62, 91, 256, 33, 164, 93, 35, 88, 166, 128, 335, 24, 54, 96, 43, 64, 242, 233, 71, 41, 113, 112, 24, 62, 105, 88, 61, 56, 41, 105, 75], \"y\": [10.7574462890625, 38.0074462890625, 64.3824462890625, -1.0550537109375, 312778495845031.6, -12.9925537109375, -447230685791763.25, -1870017720690867.8, 72.1011962890625, 45.2574462890625, -1511898355057552.2, 100.0699462890625, 56.0074462890625, -432027152361132.1, -1111592756348644.0, 9928562088101976.0, 34.0699462890625, 187.5172119140625, 69.7261962890625, 14.3199462890625, 140.7261962890625, -1814898042881867.2, -373870654802019.5, -1.526990961570174e+16, -1498949209206136.8, 4190811298278975.5, 77.5074462890625, -960387998023.7426, -1553554905617925.2, -8566300404456874.0, -829147452455468.0, 14.6636962890625, 1955748092576366.2, -1.526990961570174e+16, 1911155129060817.2, 2080999863725275.0, 1006593568506304.1, 158.5172119140625, 50.0386962890625, -6608804334757086.0, 2320086524906755.5, -2087288042197861.2, 870122930257125.0, 2.0886281362717052e+16, -2004573117784044.8, 58.0543212890625, -1.526990961570174e+16, -151113665410308.16, -365708331849982.56, -4674120154330.876, 85.7047119140625, -1314954559300418.2, 425285606907909.44, 4190811298279018.5, 25.8199462890625, 1260366633232863.5, 4906559026199005.0, -301875539682326.56, 422161719493679.1, 162.4136962890625, 658329764338198.5, -138288180497283.62, -0.9925537109375, 187.6324462890625, -398659671509980.9, 800141437235235.5, 59.2574462890625, 1078399866234958.2, 100.3824462890625, 239320317323111.75, 21.2574462890625, 85.7047119140625, 62.5074462890625, -2652492256217499.5, 204.7574462890625, -424921030248815.4, -1813542991661636.0, 1904365835782011.2, -1232727704668123.0, -9561683055241874.0, 685.5855712890625, 106.5074462890625, -961848605099104.8, 47.8824462890625, 814550399334851.8, 638.1324462890625, 75.2574462890625, -932230337303204.9, -4108594436007652.5, 65.3824462890625, 61.7574462890625, -2453279513099435.5, -1430248034735390.2, 2466464127394540.5, -326895566856798.25, -1723699320962686.8, 1078399866234958.2, -1287364735727566.2, -2421235871192094.5, -5702709653336463.0, -169310134638287.5, 1022343395623465.8, -458555553268437.75, 49.2574462890625, -7651156279670886.0, 145.3980712890625, 77.5074462890625, -1.526990961570174e+16, 82.1636962890625, 85.2574462890625, -2946723292926183.0, 366772135384.0172, 4105319144836064.0, 34.0699462890625, -2637129501788544.5, 137.2574462890625, -960387998046.7426, 14.3199462890625, 1022343395623465.8, 47.1324462890625, 146.7574462890625, 6200710987730132.0, -24781077732747.492, 61.2574462890625, 1731374165574279.2, -1613597113411530.8, 110.8824462890625, -960387998046.7426, 112.5074462890625, -1852349163404398.0, -17.5550537109375, 154.0699462890625, -326895566856798.25, 7.2574462890625, 56.0699462890625, 546671482395438.1, -960387998046.7426, 167.0074462890625, -6364526720473619.0, 3169027241019499.5, -1283178240112499.0, 187.6324462890625, -4442909551772291.5, 56.2574462890625, -5145141602172156.0, 75.2574462890625, -808411393941689.8, -4190811298278887.0, 41.3824462890625, -3444041457540490.0, 56.8043212890625, 238.2574462890625, 206.7574462890625, -3130721653223369.5, 1436241036009534.8, 1729915235052616.0, -808411393941689.8, 42784665261564.73, 85.7047119140625, 236.2574462890625, -1976114361152752.8, 164.1324462890625, 46.1949462890625, 1039705911761873.9, -1000981882330692.1, -41911994472435.484, 1306315776528057.2, -1616530913613366.2, 77.7574462890625, 66.3824462890625, 49.6011962890625, 256.8199462890625, 63.6324462890625, 34.0528564453125, -1387733325176782.5, 297.5074462890625, 2588394944007673.5, -2109226051412737.2, 92126167672834.75, -1716719889642540.8, 32995605685476.758, 74.7574462890625, 522.2574462890625, 69.2574462890625, -458555553268437.75, -4190811298278857.0, -960387998046.7426, 75.6324462890625, 1.0947437568185076e+16, 755219733583.0465, 87.0074462890625, -1192912879866519.2, 506167388044618.75, 121.7105712890625, -1209979964819229.2, -1387733325176782.5, 82.2574462890625, 71.6324462890625, 2325665128969647.0, -4696318440977534.0, -1.2811709567995198e+16, -3658482973598121.5, -458555553268437.75, 4190811298278859.0, 187.6324462890625, 19.0074462890625, 50.6324462890625, 1.4890949316177686e+16, -1.0100095977724442e+16, 4483118245633.258, 77.1324462890625, -5320239208280798.0, 416341856572181.0, 56.8043212890625, 119.7574462890625, 1479487239042531.0, 302.9918212890625, 6015264532429327.0, 654165198781274.2, 155491870237067.88, 2307188009134976.0, -6378910944699511.0, -1.234072322777372e+16, 2389427311568695.0, -373870654802019.5, 90.5074462890625, 182.7574462890625, 115748856752039.4, 638.1324462890625, 32.0074462890625, 59.2574462890625, 1390151050883343.0, -444851203624493.0, 28.2574462890625, 6201393542072103.0, -555107669148454.4, -9163548607038224.0, -5790685002573016.0, -1366335660828333.8, 165.2574462890625, 3475063570358962.5, -4069946417603582.5, 87.0074462890625, -214943087615526.75, -600905347873398.0, 1368571090671192.5, 56.8043212890625, -7651156279670886.0, 2030693882325651.2]}],\n",
       "                        {\"plot_bgcolor\": \"rgb(249,221,218)\", \"template\": {\"data\": {\"bar\": [{\"error_x\": {\"color\": \"#2a3f5f\"}, \"error_y\": {\"color\": \"#2a3f5f\"}, \"marker\": {\"line\": {\"color\": \"#E5ECF6\", \"width\": 0.5}}, \"type\": \"bar\"}], \"barpolar\": [{\"marker\": {\"line\": {\"color\": \"#E5ECF6\", \"width\": 0.5}}, \"type\": \"barpolar\"}], \"carpet\": [{\"aaxis\": {\"endlinecolor\": \"#2a3f5f\", \"gridcolor\": \"white\", \"linecolor\": \"white\", \"minorgridcolor\": \"white\", \"startlinecolor\": \"#2a3f5f\"}, \"baxis\": {\"endlinecolor\": \"#2a3f5f\", \"gridcolor\": \"white\", \"linecolor\": \"white\", \"minorgridcolor\": \"white\", \"startlinecolor\": \"#2a3f5f\"}, \"type\": \"carpet\"}], \"choropleth\": [{\"colorbar\": {\"outlinewidth\": 0, \"ticks\": \"\"}, \"type\": \"choropleth\"}], \"contour\": [{\"colorbar\": {\"outlinewidth\": 0, \"ticks\": \"\"}, \"colorscale\": [[0.0, \"#0d0887\"], [0.1111111111111111, \"#46039f\"], [0.2222222222222222, \"#7201a8\"], [0.3333333333333333, \"#9c179e\"], [0.4444444444444444, \"#bd3786\"], [0.5555555555555556, \"#d8576b\"], [0.6666666666666666, \"#ed7953\"], [0.7777777777777778, \"#fb9f3a\"], [0.8888888888888888, \"#fdca26\"], [1.0, \"#f0f921\"]], \"type\": \"contour\"}], \"contourcarpet\": [{\"colorbar\": {\"outlinewidth\": 0, \"ticks\": \"\"}, \"type\": \"contourcarpet\"}], \"heatmap\": [{\"colorbar\": {\"outlinewidth\": 0, \"ticks\": \"\"}, \"colorscale\": [[0.0, \"#0d0887\"], [0.1111111111111111, \"#46039f\"], [0.2222222222222222, \"#7201a8\"], [0.3333333333333333, \"#9c179e\"], [0.4444444444444444, \"#bd3786\"], [0.5555555555555556, \"#d8576b\"], [0.6666666666666666, \"#ed7953\"], [0.7777777777777778, \"#fb9f3a\"], [0.8888888888888888, \"#fdca26\"], [1.0, \"#f0f921\"]], \"type\": \"heatmap\"}], \"heatmapgl\": [{\"colorbar\": {\"outlinewidth\": 0, \"ticks\": \"\"}, \"colorscale\": [[0.0, \"#0d0887\"], [0.1111111111111111, \"#46039f\"], [0.2222222222222222, \"#7201a8\"], [0.3333333333333333, \"#9c179e\"], [0.4444444444444444, \"#bd3786\"], [0.5555555555555556, \"#d8576b\"], [0.6666666666666666, \"#ed7953\"], [0.7777777777777778, \"#fb9f3a\"], [0.8888888888888888, \"#fdca26\"], [1.0, \"#f0f921\"]], \"type\": \"heatmapgl\"}], \"histogram\": [{\"marker\": {\"colorbar\": {\"outlinewidth\": 0, \"ticks\": \"\"}}, \"type\": \"histogram\"}], \"histogram2d\": [{\"colorbar\": {\"outlinewidth\": 0, \"ticks\": \"\"}, \"colorscale\": [[0.0, \"#0d0887\"], [0.1111111111111111, \"#46039f\"], [0.2222222222222222, \"#7201a8\"], [0.3333333333333333, \"#9c179e\"], [0.4444444444444444, \"#bd3786\"], [0.5555555555555556, \"#d8576b\"], [0.6666666666666666, \"#ed7953\"], [0.7777777777777778, \"#fb9f3a\"], [0.8888888888888888, \"#fdca26\"], [1.0, \"#f0f921\"]], \"type\": \"histogram2d\"}], \"histogram2dcontour\": [{\"colorbar\": {\"outlinewidth\": 0, \"ticks\": \"\"}, \"colorscale\": [[0.0, \"#0d0887\"], [0.1111111111111111, \"#46039f\"], [0.2222222222222222, \"#7201a8\"], [0.3333333333333333, \"#9c179e\"], [0.4444444444444444, \"#bd3786\"], [0.5555555555555556, \"#d8576b\"], [0.6666666666666666, \"#ed7953\"], [0.7777777777777778, \"#fb9f3a\"], [0.8888888888888888, \"#fdca26\"], [1.0, \"#f0f921\"]], \"type\": \"histogram2dcontour\"}], \"mesh3d\": [{\"colorbar\": {\"outlinewidth\": 0, \"ticks\": \"\"}, \"type\": \"mesh3d\"}], \"parcoords\": [{\"line\": {\"colorbar\": {\"outlinewidth\": 0, \"ticks\": \"\"}}, \"type\": \"parcoords\"}], \"scatter\": [{\"marker\": {\"colorbar\": {\"outlinewidth\": 0, \"ticks\": \"\"}}, \"type\": \"scatter\"}], \"scatter3d\": [{\"line\": {\"colorbar\": {\"outlinewidth\": 0, \"ticks\": \"\"}}, \"marker\": {\"colorbar\": {\"outlinewidth\": 0, \"ticks\": \"\"}}, \"type\": \"scatter3d\"}], \"scattercarpet\": [{\"marker\": {\"colorbar\": {\"outlinewidth\": 0, \"ticks\": \"\"}}, \"type\": \"scattercarpet\"}], \"scattergeo\": [{\"marker\": {\"colorbar\": {\"outlinewidth\": 0, \"ticks\": \"\"}}, \"type\": \"scattergeo\"}], \"scattergl\": [{\"marker\": {\"colorbar\": {\"outlinewidth\": 0, \"ticks\": \"\"}}, \"type\": \"scattergl\"}], \"scattermapbox\": [{\"marker\": {\"colorbar\": {\"outlinewidth\": 0, \"ticks\": \"\"}}, \"type\": \"scattermapbox\"}], \"scatterpolar\": [{\"marker\": {\"colorbar\": {\"outlinewidth\": 0, \"ticks\": \"\"}}, \"type\": \"scatterpolar\"}], \"scatterpolargl\": [{\"marker\": {\"colorbar\": {\"outlinewidth\": 0, \"ticks\": \"\"}}, \"type\": \"scatterpolargl\"}], \"scatterternary\": [{\"marker\": {\"colorbar\": {\"outlinewidth\": 0, \"ticks\": \"\"}}, \"type\": \"scatterternary\"}], \"surface\": [{\"colorbar\": {\"outlinewidth\": 0, \"ticks\": \"\"}, \"colorscale\": [[0.0, \"#0d0887\"], [0.1111111111111111, \"#46039f\"], [0.2222222222222222, \"#7201a8\"], [0.3333333333333333, \"#9c179e\"], [0.4444444444444444, \"#bd3786\"], [0.5555555555555556, \"#d8576b\"], [0.6666666666666666, \"#ed7953\"], [0.7777777777777778, \"#fb9f3a\"], [0.8888888888888888, \"#fdca26\"], [1.0, \"#f0f921\"]], \"type\": \"surface\"}], \"table\": [{\"cells\": {\"fill\": {\"color\": \"#EBF0F8\"}, \"line\": {\"color\": \"white\"}}, \"header\": {\"fill\": {\"color\": \"#C8D4E3\"}, \"line\": {\"color\": \"white\"}}, \"type\": \"table\"}]}, \"layout\": {\"annotationdefaults\": {\"arrowcolor\": \"#2a3f5f\", \"arrowhead\": 0, \"arrowwidth\": 1}, \"colorscale\": {\"diverging\": [[0, \"#8e0152\"], [0.1, \"#c51b7d\"], [0.2, \"#de77ae\"], [0.3, \"#f1b6da\"], [0.4, \"#fde0ef\"], [0.5, \"#f7f7f7\"], [0.6, \"#e6f5d0\"], [0.7, \"#b8e186\"], [0.8, \"#7fbc41\"], [0.9, \"#4d9221\"], [1, \"#276419\"]], \"sequential\": [[0.0, \"#0d0887\"], [0.1111111111111111, \"#46039f\"], [0.2222222222222222, \"#7201a8\"], [0.3333333333333333, \"#9c179e\"], [0.4444444444444444, \"#bd3786\"], [0.5555555555555556, \"#d8576b\"], [0.6666666666666666, \"#ed7953\"], [0.7777777777777778, \"#fb9f3a\"], [0.8888888888888888, \"#fdca26\"], [1.0, \"#f0f921\"]], \"sequentialminus\": [[0.0, \"#0d0887\"], [0.1111111111111111, \"#46039f\"], [0.2222222222222222, \"#7201a8\"], [0.3333333333333333, \"#9c179e\"], [0.4444444444444444, \"#bd3786\"], [0.5555555555555556, \"#d8576b\"], [0.6666666666666666, \"#ed7953\"], [0.7777777777777778, \"#fb9f3a\"], [0.8888888888888888, \"#fdca26\"], [1.0, \"#f0f921\"]]}, \"colorway\": [\"#636efa\", \"#EF553B\", \"#00cc96\", \"#ab63fa\", \"#FFA15A\", \"#19d3f3\", \"#FF6692\", \"#B6E880\", \"#FF97FF\", \"#FECB52\"], \"font\": {\"color\": \"#2a3f5f\"}, \"geo\": {\"bgcolor\": \"white\", \"lakecolor\": \"white\", \"landcolor\": \"#E5ECF6\", \"showlakes\": true, \"showland\": true, \"subunitcolor\": \"white\"}, \"hoverlabel\": {\"align\": \"left\"}, \"hovermode\": \"closest\", \"mapbox\": {\"style\": \"light\"}, \"paper_bgcolor\": \"white\", \"plot_bgcolor\": \"#E5ECF6\", \"polar\": {\"angularaxis\": {\"gridcolor\": \"white\", \"linecolor\": \"white\", \"ticks\": \"\"}, \"bgcolor\": \"#E5ECF6\", \"radialaxis\": {\"gridcolor\": \"white\", \"linecolor\": \"white\", \"ticks\": \"\"}}, \"scene\": {\"xaxis\": {\"backgroundcolor\": \"#E5ECF6\", \"gridcolor\": \"white\", \"gridwidth\": 2, \"linecolor\": \"white\", \"showbackground\": true, \"ticks\": \"\", \"zerolinecolor\": \"white\"}, \"yaxis\": {\"backgroundcolor\": \"#E5ECF6\", \"gridcolor\": \"white\", \"gridwidth\": 2, \"linecolor\": \"white\", \"showbackground\": true, \"ticks\": \"\", \"zerolinecolor\": \"white\"}, \"zaxis\": {\"backgroundcolor\": \"#E5ECF6\", \"gridcolor\": \"white\", \"gridwidth\": 2, \"linecolor\": \"white\", \"showbackground\": true, \"ticks\": \"\", \"zerolinecolor\": \"white\"}}, \"shapedefaults\": {\"line\": {\"color\": \"#2a3f5f\"}}, \"ternary\": {\"aaxis\": {\"gridcolor\": \"white\", \"linecolor\": \"white\", \"ticks\": \"\"}, \"baxis\": {\"gridcolor\": \"white\", \"linecolor\": \"white\", \"ticks\": \"\"}, \"bgcolor\": \"#E5ECF6\", \"caxis\": {\"gridcolor\": \"white\", \"linecolor\": \"white\", \"ticks\": \"\"}}, \"title\": {\"x\": 0.05}, \"xaxis\": {\"automargin\": true, \"gridcolor\": \"white\", \"linecolor\": \"white\", \"ticks\": \"\", \"zerolinecolor\": \"white\", \"zerolinewidth\": 2}, \"yaxis\": {\"automargin\": true, \"gridcolor\": \"white\", \"linecolor\": \"white\", \"ticks\": \"\", \"zerolinecolor\": \"white\", \"zerolinewidth\": 2}}}, \"title\": {\"text\": \"\\u041b\\u0438\\u043d\\u0435\\u0439\\u043d\\u0430\\u044f \\u0440\\u0435\\u0433\\u0440\\u0435\\u0441\\u0441\\u0438\\u044f \\u043f\\u043e \\u043d\\u0430\\u0437\\u0432\\u0430\\u043d\\u0438\\u044f \\u043f\\u043e\\u0441\\u0442\\u043e\\u0432 \\u0441 \\u043d\\u0430\\u0437\\u0432\\u0430\\u043d\\u0438\\u044f\\u043c\\u0438\"}, \"xaxis\": {\"title\": {\"text\": \"y_test\"}}, \"yaxis\": {\"title\": {\"text\": \"predictions\"}}},\n",
       "                        {\"responsive\": true}\n",
       "                    ).then(function(){\n",
       "                            \n",
       "var gd = document.getElementById('72a45b4a-4ffe-4678-b5ae-b9263d0808eb');\n",
       "var x = new MutationObserver(function (mutations, observer) {{\n",
       "        var display = window.getComputedStyle(gd).display;\n",
       "        if (!display || display === 'none') {{\n",
       "            console.log([gd, 'removed!']);\n",
       "            Plotly.purge(gd);\n",
       "            observer.disconnect();\n",
       "        }}\n",
       "}});\n",
       "\n",
       "// Listen for the removal of the full notebook cells\n",
       "var notebookContainer = gd.closest('#notebook-container');\n",
       "if (notebookContainer) {{\n",
       "    x.observe(notebookContainer, {childList: true});\n",
       "}}\n",
       "\n",
       "// Listen for the clearing of the current output cell\n",
       "var outputEl = gd.closest('.output');\n",
       "if (outputEl) {{\n",
       "    x.observe(outputEl, {childList: true});\n",
       "}}\n",
       "\n",
       "                        })\n",
       "                };\n",
       "                });\n",
       "            </script>\n",
       "        </div>"
      ]
     },
     "metadata": {},
     "output_type": "display_data"
    }
   ],
   "source": [
    "data = [go.Scatter(\n",
    "        x = y2_test, \n",
    "        y = predictions2,\n",
    "        mode = 'markers',\n",
    "        marker = {\n",
    "                'size': 12,\n",
    "                'color': 'rgb(234,79,136)',\n",
    "                'symbol': 'star',\n",
    "                'line': {\n",
    "                    'width': 0.3\n",
    "                }\n",
    "                \n",
    "        }\n",
    "    )]\n",
    "\n",
    "layout = go.Layout(\n",
    "        title = 'Линейная регрессия по названия постов с названиями',\n",
    "        xaxis = dict(title = 'y_test'),\n",
    "        yaxis = dict(title = 'predictions'),\n",
    "        plot_bgcolor='rgb(249,221,218)'\n",
    "        \n",
    ")\n",
    "\n",
    "fig = go.Figure(data = data, layout = layout) #объединяет дату и лэйаут \n",
    "###  дата будет списком. квадратные скобки, то что может быть несколько графиков\n",
    "pyo.iplot(fig, filename= 'scatter1.html') ###добавляем букву i, чтобы график отображался в тетрадке\n",
    "\n",
    "\n"
   ]
  },
  {
   "cell_type": "code",
   "execution_count": 142,
   "metadata": {},
   "outputs": [
    {
     "data": {
      "text/html": [
       "<div>\n",
       "<style scoped>\n",
       "    .dataframe tbody tr th:only-of-type {\n",
       "        vertical-align: middle;\n",
       "    }\n",
       "\n",
       "    .dataframe tbody tr th {\n",
       "        vertical-align: top;\n",
       "    }\n",
       "\n",
       "    .dataframe thead th {\n",
       "        text-align: right;\n",
       "    }\n",
       "</style>\n",
       "<table border=\"1\" class=\"dataframe\">\n",
       "  <thead>\n",
       "    <tr style=\"text-align: right;\">\n",
       "      <th></th>\n",
       "      <th>y2test</th>\n",
       "      <th>predictions2</th>\n",
       "    </tr>\n",
       "  </thead>\n",
       "  <tbody>\n",
       "    <tr>\n",
       "      <td>0</td>\n",
       "      <td>19</td>\n",
       "      <td>1.075745e+01</td>\n",
       "    </tr>\n",
       "    <tr>\n",
       "      <td>1</td>\n",
       "      <td>69</td>\n",
       "      <td>6.972620e+01</td>\n",
       "    </tr>\n",
       "    <tr>\n",
       "      <td>2</td>\n",
       "      <td>137</td>\n",
       "      <td>6.438245e+01</td>\n",
       "    </tr>\n",
       "    <tr>\n",
       "      <td>3</td>\n",
       "      <td>22</td>\n",
       "      <td>1.431995e+01</td>\n",
       "    </tr>\n",
       "    <tr>\n",
       "      <td>4</td>\n",
       "      <td>82</td>\n",
       "      <td>3.127785e+14</td>\n",
       "    </tr>\n",
       "    <tr>\n",
       "      <td>...</td>\n",
       "      <td>...</td>\n",
       "      <td>...</td>\n",
       "    </tr>\n",
       "    <tr>\n",
       "      <td>131</td>\n",
       "      <td>242</td>\n",
       "      <td>6.201394e+15</td>\n",
       "    </tr>\n",
       "    <tr>\n",
       "      <td>132</td>\n",
       "      <td>233</td>\n",
       "      <td>-5.551077e+14</td>\n",
       "    </tr>\n",
       "    <tr>\n",
       "      <td>133</td>\n",
       "      <td>113</td>\n",
       "      <td>-1.366336e+15</td>\n",
       "    </tr>\n",
       "    <tr>\n",
       "      <td>134</td>\n",
       "      <td>112</td>\n",
       "      <td>1.652574e+02</td>\n",
       "    </tr>\n",
       "    <tr>\n",
       "      <td>135</td>\n",
       "      <td>61</td>\n",
       "      <td>-6.009053e+14</td>\n",
       "    </tr>\n",
       "  </tbody>\n",
       "</table>\n",
       "<p>136 rows × 2 columns</p>\n",
       "</div>"
      ],
      "text/plain": [
       "     y2test  predictions2\n",
       "0    19      1.075745e+01\n",
       "1    69      6.972620e+01\n",
       "2    137     6.438245e+01\n",
       "3    22      1.431995e+01\n",
       "4    82      3.127785e+14\n",
       "..   ..               ...\n",
       "131  242     6.201394e+15\n",
       "132  233    -5.551077e+14\n",
       "133  113    -1.366336e+15\n",
       "134  112     1.652574e+02\n",
       "135  61     -6.009053e+14\n",
       "\n",
       "[136 rows x 2 columns]"
      ]
     },
     "execution_count": 142,
     "metadata": {},
     "output_type": "execute_result"
    }
   ],
   "source": [
    "qqqq = dict(zip(y2_test, predictions2))\n",
    "testframe2 = pd.DataFrame(list(qqqq.items()), columns=['y2test', 'predictions2'])\n",
    "testframe2"
   ]
  },
  {
   "cell_type": "code",
   "execution_count": 143,
   "metadata": {},
   "outputs": [],
   "source": [
    "writer = pd.ExcelWriter('testframe2.xlsx', engine='xlsxwriter')\n",
    "\n",
    "testframe2.to_excel(writer,\n",
    "                  sheet_name='Sheet_name_1')\n",
    "\n",
    "writer.save()"
   ]
  },
  {
   "cell_type": "code",
   "execution_count": 144,
   "metadata": {},
   "outputs": [
    {
     "data": {
      "text/html": [
       "<div>\n",
       "<style scoped>\n",
       "    .dataframe tbody tr th:only-of-type {\n",
       "        vertical-align: middle;\n",
       "    }\n",
       "\n",
       "    .dataframe tbody tr th {\n",
       "        vertical-align: top;\n",
       "    }\n",
       "\n",
       "    .dataframe thead th {\n",
       "        text-align: right;\n",
       "    }\n",
       "</style>\n",
       "<table border=\"1\" class=\"dataframe\">\n",
       "  <thead>\n",
       "    <tr style=\"text-align: right;\">\n",
       "      <th></th>\n",
       "      <th>name</th>\n",
       "      <th>value</th>\n",
       "    </tr>\n",
       "  </thead>\n",
       "  <tbody>\n",
       "    <tr>\n",
       "      <td>164</td>\n",
       "      <td>большие</td>\n",
       "      <td>4.611400e+16</td>\n",
       "    </tr>\n",
       "    <tr>\n",
       "      <td>174</td>\n",
       "      <td>бригадах</td>\n",
       "      <td>2.709591e+16</td>\n",
       "    </tr>\n",
       "    <tr>\n",
       "      <td>32</td>\n",
       "      <td>and</td>\n",
       "      <td>1.637761e+16</td>\n",
       "    </tr>\n",
       "    <tr>\n",
       "      <td>205</td>\n",
       "      <td>вечное</td>\n",
       "      <td>1.611746e+16</td>\n",
       "    </tr>\n",
       "    <tr>\n",
       "      <td>132</td>\n",
       "      <td>араина</td>\n",
       "      <td>1.512667e+16</td>\n",
       "    </tr>\n",
       "    <tr>\n",
       "      <td>31</td>\n",
       "      <td>abroad</td>\n",
       "      <td>1.067615e+16</td>\n",
       "    </tr>\n",
       "    <tr>\n",
       "      <td>81</td>\n",
       "      <td>pornhub</td>\n",
       "      <td>9.107020e+15</td>\n",
       "    </tr>\n",
       "    <tr>\n",
       "      <td>80</td>\n",
       "      <td>out</td>\n",
       "      <td>8.598857e+15</td>\n",
       "    </tr>\n",
       "    <tr>\n",
       "      <td>674</td>\n",
       "      <td>мероприятий</td>\n",
       "      <td>8.266078e+15</td>\n",
       "    </tr>\n",
       "    <tr>\n",
       "      <td>279</td>\n",
       "      <td>выступили</td>\n",
       "      <td>8.120353e+15</td>\n",
       "    </tr>\n",
       "    <tr>\n",
       "      <td>79</td>\n",
       "      <td>of</td>\n",
       "      <td>7.645599e+15</td>\n",
       "    </tr>\n",
       "    <tr>\n",
       "      <td>575</td>\n",
       "      <td>конспекты</td>\n",
       "      <td>7.464498e+15</td>\n",
       "    </tr>\n",
       "    <tr>\n",
       "      <td>138</td>\n",
       "      <td>атмосферы</td>\n",
       "      <td>6.435949e+15</td>\n",
       "    </tr>\n",
       "    <tr>\n",
       "      <td>129</td>\n",
       "      <td>ап</td>\n",
       "      <td>6.326796e+15</td>\n",
       "    </tr>\n",
       "    <tr>\n",
       "      <td>103</td>\n",
       "      <td>waste</td>\n",
       "      <td>6.180278e+15</td>\n",
       "    </tr>\n",
       "    <tr>\n",
       "      <td>192</td>\n",
       "      <td>введение</td>\n",
       "      <td>6.124746e+15</td>\n",
       "    </tr>\n",
       "    <tr>\n",
       "      <td>226</td>\n",
       "      <td>внутриуниверситетской</td>\n",
       "      <td>6.072684e+15</td>\n",
       "    </tr>\n",
       "    <tr>\n",
       "      <td>203</td>\n",
       "      <td>вечеринках</td>\n",
       "      <td>5.646808e+15</td>\n",
       "    </tr>\n",
       "    <tr>\n",
       "      <td>227</td>\n",
       "      <td>во</td>\n",
       "      <td>5.617068e+15</td>\n",
       "    </tr>\n",
       "    <tr>\n",
       "      <td>98</td>\n",
       "      <td>travel</td>\n",
       "      <td>5.416700e+15</td>\n",
       "    </tr>\n",
       "  </tbody>\n",
       "</table>\n",
       "</div>"
      ],
      "text/plain": [
       "                      name         value\n",
       "164  большие                4.611400e+16\n",
       "174  бригадах               2.709591e+16\n",
       "32   and                    1.637761e+16\n",
       "205  вечное                 1.611746e+16\n",
       "132  араина                 1.512667e+16\n",
       "31   abroad                 1.067615e+16\n",
       "81   pornhub                9.107020e+15\n",
       "80   out                    8.598857e+15\n",
       "674  мероприятий            8.266078e+15\n",
       "279  выступили              8.120353e+15\n",
       "79   of                     7.645599e+15\n",
       "575  конспекты              7.464498e+15\n",
       "138  атмосферы              6.435949e+15\n",
       "129  ап                     6.326796e+15\n",
       "103  waste                  6.180278e+15\n",
       "192  введение               6.124746e+15\n",
       "226  внутриуниверситетской  6.072684e+15\n",
       "203  вечеринках             5.646808e+15\n",
       "227  во                     5.617068e+15\n",
       "98   travel                 5.416700e+15"
      ]
     },
     "execution_count": 144,
     "metadata": {},
     "output_type": "execute_result"
    }
   ],
   "source": [
    "from sklearn import preprocessing\n",
    "#делаем нормализацию\n",
    "min_max_scaler = preprocessing.MinMaxScaler()\n",
    "X_scaled = min_max_scaler.fit_transform(X)\n",
    "\n",
    "X_train, X_test, y_train, y_test = train_test_split(X_scaled, y, test_size=0.3, random_state=120)\n",
    "\n",
    "lm = LinearRegression()\n",
    "lm.fit(X_train,y_train)\n",
    "\n",
    "nnname = ['intercept']\n",
    "nnname = [*nnname, *vval]\n",
    "\n",
    "vvval = [lm.intercept_]\n",
    "\n",
    "for i in lm.coef_:\n",
    "    vvval.append(i)\n",
    "\n",
    "\n",
    "regg = dict(zip(nnname, vvval))\n",
    "\n",
    "logframe = pd.DataFrame(list(regg.items()), columns=['name', 'value'])\n",
    "\n",
    "logframe2 = logframe.sort_values(['value'], ascending=[False])\n",
    "\n",
    "#анти-цифры-код\n",
    "logframe2['name'] = logframe2['name'].str.replace('\\d+', '')\n",
    "\n",
    "logframe2 = logframe.sort_values(['value'], ascending=[False])\n",
    "\n",
    "logframe2['name'] = logframe2['name'].str.replace('\\d+', '')\n",
    "logframe2 = logframe2[logframe2.name != '']\n",
    "\n",
    "logframe2.head(20)"
   ]
  },
  {
   "cell_type": "code",
   "execution_count": 145,
   "metadata": {},
   "outputs": [
    {
     "data": {
      "text/html": [
       "<div>\n",
       "<style scoped>\n",
       "    .dataframe tbody tr th:only-of-type {\n",
       "        vertical-align: middle;\n",
       "    }\n",
       "\n",
       "    .dataframe tbody tr th {\n",
       "        vertical-align: top;\n",
       "    }\n",
       "\n",
       "    .dataframe thead th {\n",
       "        text-align: right;\n",
       "    }\n",
       "</style>\n",
       "<table border=\"1\" class=\"dataframe\">\n",
       "  <thead>\n",
       "    <tr style=\"text-align: right;\">\n",
       "      <th></th>\n",
       "      <th>name</th>\n",
       "      <th>value</th>\n",
       "    </tr>\n",
       "  </thead>\n",
       "  <tbody>\n",
       "    <tr>\n",
       "      <td>853</td>\n",
       "      <td>опубликовали</td>\n",
       "      <td>-5.877213e+15</td>\n",
       "    </tr>\n",
       "    <tr>\n",
       "      <td>800</td>\n",
       "      <td>новость</td>\n",
       "      <td>-5.877213e+15</td>\n",
       "    </tr>\n",
       "    <tr>\n",
       "      <td>1136</td>\n",
       "      <td>рбк</td>\n",
       "      <td>-5.877213e+15</td>\n",
       "    </tr>\n",
       "    <tr>\n",
       "      <td>77</td>\n",
       "      <td>new</td>\n",
       "      <td>-5.944383e+15</td>\n",
       "    </tr>\n",
       "    <tr>\n",
       "      <td>938</td>\n",
       "      <td>пишем</td>\n",
       "      <td>-6.103386e+15</td>\n",
       "    </tr>\n",
       "    <tr>\n",
       "      <td>929</td>\n",
       "      <td>писать</td>\n",
       "      <td>-6.684951e+15</td>\n",
       "    </tr>\n",
       "    <tr>\n",
       "      <td>157</td>\n",
       "      <td>биохимических</td>\n",
       "      <td>-6.723771e+15</td>\n",
       "    </tr>\n",
       "    <tr>\n",
       "      <td>44</td>\n",
       "      <td>doxa</td>\n",
       "      <td>-6.846014e+15</td>\n",
       "    </tr>\n",
       "    <tr>\n",
       "      <td>75</td>\n",
       "      <td>missing</td>\n",
       "      <td>-7.043027e+15</td>\n",
       "    </tr>\n",
       "    <tr>\n",
       "      <td>108</td>\n",
       "      <td>your</td>\n",
       "      <td>-7.257064e+15</td>\n",
       "    </tr>\n",
       "    <tr>\n",
       "      <td>300</td>\n",
       "      <td>гаса</td>\n",
       "      <td>-7.908153e+15</td>\n",
       "    </tr>\n",
       "    <tr>\n",
       "      <td>37</td>\n",
       "      <td>breaking</td>\n",
       "      <td>-8.088354e+15</td>\n",
       "    </tr>\n",
       "    <tr>\n",
       "      <td>46</td>\n",
       "      <td>fear</td>\n",
       "      <td>-9.180068e+15</td>\n",
       "    </tr>\n",
       "    <tr>\n",
       "      <td>34</td>\n",
       "      <td>band</td>\n",
       "      <td>-9.404269e+15</td>\n",
       "    </tr>\n",
       "    <tr>\n",
       "      <td>94</td>\n",
       "      <td>tedxtalks</td>\n",
       "      <td>-1.109034e+16</td>\n",
       "    </tr>\n",
       "    <tr>\n",
       "      <td>53</td>\n",
       "      <td>gmat</td>\n",
       "      <td>-1.179252e+16</td>\n",
       "    </tr>\n",
       "    <tr>\n",
       "      <td>1376</td>\n",
       "      <td>темы</td>\n",
       "      <td>-1.196539e+16</td>\n",
       "    </tr>\n",
       "    <tr>\n",
       "      <td>320</td>\n",
       "      <td>госслужбе</td>\n",
       "      <td>-1.235003e+16</td>\n",
       "    </tr>\n",
       "    <tr>\n",
       "      <td>303</td>\n",
       "      <td>главред</td>\n",
       "      <td>-1.335634e+16</td>\n",
       "    </tr>\n",
       "    <tr>\n",
       "      <td>147</td>\n",
       "      <td>батеньки</td>\n",
       "      <td>-1.339777e+16</td>\n",
       "    </tr>\n",
       "  </tbody>\n",
       "</table>\n",
       "</div>"
      ],
      "text/plain": [
       "               name         value\n",
       "853   опубликовали  -5.877213e+15\n",
       "800   новость       -5.877213e+15\n",
       "1136  рбк           -5.877213e+15\n",
       "77    new           -5.944383e+15\n",
       "938   пишем         -6.103386e+15\n",
       "929   писать        -6.684951e+15\n",
       "157   биохимических -6.723771e+15\n",
       "44    doxa          -6.846014e+15\n",
       "75    missing       -7.043027e+15\n",
       "108   your          -7.257064e+15\n",
       "300   гаса          -7.908153e+15\n",
       "37    breaking      -8.088354e+15\n",
       "46    fear          -9.180068e+15\n",
       "34    band          -9.404269e+15\n",
       "94    tedxtalks     -1.109034e+16\n",
       "53    gmat          -1.179252e+16\n",
       "1376  темы          -1.196539e+16\n",
       "320   госслужбе     -1.235003e+16\n",
       "303   главред       -1.335634e+16\n",
       "147   батеньки      -1.339777e+16"
      ]
     },
     "execution_count": 145,
     "metadata": {},
     "output_type": "execute_result"
    }
   ],
   "source": [
    "logframe2.tail(20)"
   ]
  },
  {
   "cell_type": "code",
   "execution_count": null,
   "metadata": {},
   "outputs": [],
   "source": []
  },
  {
   "cell_type": "code",
   "execution_count": 146,
   "metadata": {},
   "outputs": [
    {
     "name": "stdout",
     "output_type": "stream",
     "text": [
      "Средняя абсолютная ошибка 21.98\n",
      "Средняя квадратичная ошибка 1238.89\n"
     ]
    }
   ],
   "source": [
    "y_hat = lm.predict(X_train)\n",
    "print('Средняя абсолютная ошибка %.2f' % mean_absolute_error(y_train, y_hat))\n",
    "print('Средняя квадратичная ошибка %.2f' % mean_squared_error(y_train, y_hat))"
   ]
  },
  {
   "cell_type": "code",
   "execution_count": 147,
   "metadata": {},
   "outputs": [
    {
     "data": {
      "text/plain": [
       "0.8359166815794107"
      ]
     },
     "execution_count": 147,
     "metadata": {},
     "output_type": "execute_result"
    }
   ],
   "source": [
    "r2_score(y_train, y_hat)"
   ]
  },
  {
   "cell_type": "code",
   "execution_count": 148,
   "metadata": {},
   "outputs": [
    {
     "data": {
      "text/plain": [
       "1479"
      ]
     },
     "execution_count": 148,
     "metadata": {},
     "output_type": "execute_result"
    }
   ],
   "source": [
    "len(df)"
   ]
  },
  {
   "cell_type": "code",
   "execution_count": 149,
   "metadata": {},
   "outputs": [],
   "source": [
    "writer = pd.ExcelWriter('logframetitletitle.xlsx', engine='xlsxwriter')\n",
    "\n",
    "logframe2.to_excel(writer,\n",
    "                  sheet_name='Sheet_name_1')\n",
    "\n",
    "writer.save()"
   ]
  },
  {
   "cell_type": "code",
   "execution_count": 150,
   "metadata": {},
   "outputs": [
    {
     "name": "stdout",
     "output_type": "stream",
     "text": [
      "[['name', 'value'], ['большие', 4.611400115895266e+16], ['бригадах', 2.7095914733430516e+16], ['and', 1.6377605217889072e+16], ['вечное', 1.6117463121072584e+16], ['араина', 1.5126674517801984e+16], ['abroad', 1.0676154233202128e+16], ['pornhub', 9107020082986980.0], ['out', 8598856587376333.0], ['мероприятий', 8266078344312849.0], ['выступили', 8120352750795051.0], ['of', 7645599245083179.0], ['конспекты', 7464497960648577.0], ['атмосферы', 6435948521146106.0], ['ап', 6326795570775887.0], ['waste', 6180277909073496.0], ['введение', 6124746247558195.0], ['внутриуниверситетской', 6072683676560901.0], ['вечеринках', 5646808388237003.0], ['во', 5617067806900827.0]]\n"
     ]
    }
   ],
   "source": [
    "Products_list = [logframe2.columns.values.tolist()] + logframe2.values.tolist()\n",
    "print (Products_list[:20])"
   ]
  },
  {
   "cell_type": "markdown",
   "metadata": {},
   "source": [
    "Модель по названиям из ссылок не является релевантной и плохо подходит для определения тем, крайне низкая точность. В основном вызвана слишком малой выборкой)."
   ]
  },
  {
   "cell_type": "markdown",
   "metadata": {},
   "source": [
    "# ЛИНЕЙНАЯ РЕГРЕССИЯ ПО ТЕКСТАМ ВСЕХ ПОСТОВ"
   ]
  },
  {
   "cell_type": "code",
   "execution_count": 151,
   "metadata": {},
   "outputs": [
    {
     "name": "stdout",
     "output_type": "stream",
     "text": [
      "<class 'pandas.core.frame.DataFrame'>\n",
      "Int64Index: 1479 entries, 0 to 1478\n",
      "Data columns (total 2 columns):\n",
      "text      1479 non-null object\n",
      "target    1479 non-null int64\n",
      "dtypes: int64(1), object(1)\n",
      "memory usage: 34.7+ KB\n"
     ]
    },
    {
     "data": {
      "text/plain": [
       "<matplotlib.collections.PathCollection at 0x1be62737d48>"
      ]
     },
     "execution_count": 151,
     "metadata": {},
     "output_type": "execute_result"
    },
    {
     "data": {
      "image/png": "[encoded data removed]",
      "text/plain": [
       "<Figure size 432x288 with 1 Axes>"
      ]
     },
     "metadata": {
      "needs_background": "light"
     },
     "output_type": "display_data"
    }
   ],
   "source": [
    "daf = df.copy()\n",
    "daf['target'] = daf['total_actions']\n",
    "daf.drop('from_id', axis=1, inplace=True)\n",
    "daf.drop('id', axis=1, inplace=True)\n",
    "daf.drop('date', axis=1, inplace=True)\n",
    "daf.drop('likes', axis=1, inplace=True)\n",
    "daf.drop('reposts', axis=1, inplace=True)\n",
    "daf.drop('comments', axis=1, inplace=True)\n",
    "daf.drop('views', axis=1, inplace=True)\n",
    "daf.drop('total_actions', axis=1, inplace=True)\n",
    "daf.drop('date_norm', axis=1, inplace=True)\n",
    "daf.drop('Date', axis=1, inplace=True)\n",
    "daf.drop('Time', axis=1, inplace=True)\n",
    "daf.info()\n",
    "\n",
    "target_name = 'target'\n",
    "robust_scaler = RobustScaler()\n",
    "\n",
    "X = daf.drop('target', axis=1) #готовим датафрейм к моделированию\n",
    "\n",
    "corpus = X['text']\n",
    "vectorizer = CountVectorizer()\n",
    "vectorizer.fit(corpus)\n",
    "X_dtm = vectorizer.transform(corpus)\n",
    "X = pd.DataFrame(data=X_dtm.toarray(), columns=vectorizer.get_feature_names(), index=['doc_'+str(i+1) for i in range(len(df))]) #прописываем range как в таблице\n",
    "#делаем мешки слов\n",
    "\n",
    "vval = X.columns.copy()\n",
    "\n",
    "X = robust_scaler.fit_transform(X)\n",
    "\n",
    "y = daf[target_name]\n",
    "\n",
    "X_train, X_test, y_train, y3_test = train_test_split(X, y, test_size=0.31, random_state=120)\n",
    "\n",
    "lm = LinearRegression()\n",
    "lm.fit(X_train,y_train)\n",
    "\n",
    "predictions3 = lm.predict(X_test)\n",
    "\n",
    "plt.scatter(y3_test,predictions3)"
   ]
  },
  {
   "cell_type": "markdown",
   "metadata": {},
   "source": [
    "На таблице видим несколько выбросов, но в целом выборка ведет себя весьма однородно."
   ]
  },
  {
   "cell_type": "code",
   "execution_count": 152,
   "metadata": {},
   "outputs": [
    {
     "data": {
      "application/vnd.plotly.v1+json": {
       "config": {
        "linkText": "Export to plot.ly",
        "plotlyServerURL": "https://plot.ly",
        "showLink": false
       },
       "data": [
        {
         "marker": {
          "color": "rgb(180,151,231)",
          "line": {
           "width": 0.3
          },
          "size": 12,
          "symbol": "star"
         },
         "mode": "markers",
         "type": "scatter",
         "x": [
          18,
          128,
          124,
          537,
          187,
          261,
          98,
          64,
          236,
          344,
          122,
          147,
          46,
          40,
          78,
          154,
          50,
          95,
          59,
          49,
          116,
          167,
          94,
          36,
          59,
          62,
          311,
          190,
          182,
          99,
          743,
          111,
          29,
          407,
          111,
          56,
          63,
          201,
          62,
          75,
          111,
          107,
          255,
          136,
          64,
          35,
          94,
          120,
          78,
          124,
          263,
          25,
          28,
          159,
          55,
          14,
          71,
          125,
          76,
          68,
          122,
          216,
          87,
          916,
          293,
          235,
          143,
          30,
          315,
          75,
          23,
          141,
          105,
          29,
          106,
          138,
          43,
          69,
          160,
          144,
          73,
          106,
          59,
          114,
          216,
          84,
          116,
          69,
          109,
          220,
          256,
          167,
          160,
          309,
          21,
          105,
          31,
          158,
          99,
          131,
          12,
          412,
          68,
          24,
          109,
          53,
          353,
          608,
          138,
          46,
          939,
          44,
          137,
          211,
          79,
          655,
          64,
          66,
          102,
          92,
          211,
          149,
          34,
          316,
          32,
          50,
          74,
          29,
          19,
          29,
          146,
          93,
          68,
          92,
          50,
          54,
          165,
          77,
          103,
          109,
          90,
          406,
          22,
          72,
          27,
          479,
          268,
          117,
          185,
          59,
          171,
          124,
          104,
          275,
          28,
          43,
          80,
          137,
          101,
          135,
          112,
          105,
          51,
          81,
          334,
          76,
          63,
          140,
          114,
          157,
          97,
          205,
          110,
          70,
          109,
          65,
          46,
          56,
          1763,
          70,
          38,
          19,
          98,
          325,
          142,
          27,
          170,
          85,
          117,
          227,
          93,
          233,
          60,
          176,
          1026,
          57,
          30,
          160,
          58,
          67,
          91,
          227,
          29,
          99,
          61,
          66,
          120,
          64,
          154,
          57,
          119,
          52,
          84,
          68,
          12,
          312,
          129,
          31,
          1120,
          142,
          90,
          116,
          51,
          136,
          31,
          128,
          428,
          199,
          61,
          91,
          29,
          235,
          76,
          22,
          69,
          200,
          475,
          121,
          190,
          36,
          130,
          63,
          74,
          112,
          73,
          89,
          94,
          191,
          83,
          119,
          46,
          71,
          122,
          105,
          399,
          59,
          38,
          717,
          104,
          90,
          79,
          54,
          73,
          68,
          24,
          456,
          85,
          131,
          82,
          88,
          56,
          50,
          237,
          267,
          56,
          273,
          165,
          248,
          139,
          168,
          21,
          73,
          110,
          228,
          69,
          49,
          138,
          302,
          95,
          59,
          81,
          41,
          59,
          187,
          211,
          191,
          43,
          101,
          89,
          101,
          96,
          415,
          152,
          114,
          76,
          90,
          149,
          435,
          258,
          26,
          57,
          72,
          87,
          202,
          22,
          105,
          99,
          123,
          58,
          228,
          147,
          195,
          503,
          339,
          30,
          71,
          294,
          57,
          144,
          86,
          74,
          109,
          151,
          107,
          66,
          139,
          29,
          148,
          99,
          128,
          445,
          278,
          96,
          325,
          95,
          72,
          38,
          98,
          148,
          148,
          78,
          155,
          71,
          30,
          116,
          18,
          43,
          1491,
          56,
          193,
          717,
          65,
          91,
          139,
          260,
          56,
          227,
          124,
          66,
          67,
          606,
          60,
          365,
          48,
          147,
          54,
          53,
          64,
          76,
          25,
          30,
          221,
          69,
          113,
          99,
          167,
          131,
          292,
          39,
          62,
          49,
          24,
          96,
          265,
          81,
          109,
          264,
          84,
          201,
          207,
          155,
          94,
          195,
          105,
          186,
          456,
          120,
          49,
          60,
          40,
          61,
          121,
          100,
          46,
          203,
          26,
          41,
          102,
          82,
          127,
          503,
          136,
          128,
          101,
          43,
          36,
          228,
          86,
          87,
          81,
          457,
          218,
          102,
          164,
          116,
          91,
          107,
          106,
          130,
          39,
          36,
          118,
          93,
          13,
          135,
          106,
          118,
          215,
          89,
          89,
          126,
          108,
          176,
          168,
          82,
          281,
          201,
          156,
          91
         ],
         "y": [
          36.29573865873637,
          99.80425656072585,
          117.62665165907617,
          282.0144385477648,
          223.01453693619902,
          241.7224800015063,
          127.61775303016086,
          128.69770814908463,
          29.43710296398534,
          120.76021282418603,
          237.4574405635728,
          423.6593530863634,
          233.59832919410508,
          82.461367572658,
          34.58332757954862,
          329.1236346868906,
          105.54385134221212,
          119.89810786547781,
          178.33361540720563,
          190.19010469087652,
          127.59717438607956,
          98.25749644972817,
          88.54808448251143,
          -19.2651013196612,
          63.801966925268566,
          353.7067394232359,
          453.2656756987299,
          65.25717700345601,
          129.51160047690843,
          137.3983596490436,
          450.45108261503907,
          107.1519234357946,
          -172.24935931418457,
          152.2895743417549,
          37.86502002102115,
          121.77566943214785,
          228.59867685178153,
          139.08678141356634,
          453.7300893012939,
          191.76856622659642,
          153.1600780775596,
          195.0417567901133,
          260.0037687568699,
          160.4985337886639,
          117.80863844494296,
          158.67872502671602,
          153.01847438527952,
          121.45165038540064,
          328.2684028205617,
          202.8750581901313,
          231.43885210317967,
          39.81823734625854,
          -17.56461855924813,
          235.15448875629284,
          124.16662015370477,
          168.22655404688425,
          46.51423380720232,
          18.080386633107793,
          160.12848428137403,
          107.90371664712507,
          132.88808435290164,
          275.57287316874437,
          183.07795678629037,
          203.82567582657376,
          229.72063853849846,
          77.10336583010667,
          136.9181129670763,
          136.3114599060401,
          270.72804435189005,
          81.44366503690556,
          -24.920036489409156,
          69.81023202380604,
          162.17745609093546,
          -11.697809942917232,
          164.68875663469333,
          531.501611630724,
          -48.06864813310865,
          82.99101937833848,
          202.86302843817117,
          -27.975254440500535,
          116.63466174365345,
          153.28494600616307,
          86.20257605331597,
          164.9708651633318,
          174.96176076516207,
          106.60071285775373,
          254.39602968949652,
          107.01855888417737,
          186.97222365412404,
          156.29472709490145,
          131.9062777941168,
          227.40459356919604,
          330.1537094912571,
          388.1520195459962,
          103.87901981384084,
          134.74494731402302,
          36.99794843999484,
          180.62121470228044,
          113.52109049178529,
          191.1510843914005,
          -2.954523377673084,
          27.365696621969192,
          113.57404618743752,
          -9.901321648640405,
          110.75619460405309,
          99.86057492161355,
          68.0324050386863,
          131.7098255774415,
          68.82234842547513,
          155.98400421759249,
          353.5246092740887,
          155.15967794009217,
          94.0484568962435,
          94.53975473869912,
          215.7968178711206,
          520.9087835207074,
          92.30280786539161,
          51.06939040933442,
          49.65366925970642,
          112.7173068262751,
          283.89678429692475,
          270.1570453672483,
          44.9235995687821,
          102.51741739601788,
          67.31319250690565,
          44.89115356052399,
          -76.75424038336872,
          -6.551042231469268,
          69.74122996800156,
          103.07583102868405,
          296.1489777705307,
          56.80153100680096,
          86.32929246105202,
          129.00504388165703,
          86.82742715689787,
          170.8339886352016,
          157.6570674193708,
          101.35497483692721,
          66.27073509515618,
          73.53964714306045,
          116.18407698098106,
          216.42198494201057,
          1.0988103506912097,
          125.69688450531683,
          123.59272845687534,
          130.49598767787887,
          72.18910855381657,
          333.50153672247677,
          134.59784681573706,
          93.76185296516908,
          128.24933187106717,
          150.0060390631121,
          116.19375078696409,
          83.55530574730736,
          37.42576264087647,
          79.45545525416337,
          206.90905296858853,
          201.67156914301168,
          150.1637057789448,
          28.417253974146902,
          93.32341842864003,
          60.8009515699995,
          64.1851159053759,
          79.91757263863647,
          86.03345491592827,
          148.02574796530854,
          63.98197399238271,
          141.33383494567164,
          145.10274450969143,
          88.76295797747188,
          51.64800069773898,
          138.69743187841055,
          291.20716684227165,
          -98.87118935648594,
          220.73892194063524,
          166.1384918194185,
          95.34160281645373,
          8.11144108080002,
          91.8825775187475,
          126.21967971926485,
          165.8100183192278,
          37.312039650369854,
          60.0144527035488,
          323.30762430990666,
          257.9610198642735,
          -58.28344048880258,
          91.12669404686113,
          126.14710417306836,
          149.43437572595695,
          196.59111375516585,
          117.22941954798728,
          248.27244318106665,
          354.8385118685792,
          111.92239966130244,
          220.50752751273302,
          104.91323978661588,
          46.250895151139986,
          251.8774217360783,
          100.51862990963532,
          133.4773488970393,
          72.81659627882469,
          103.0360462092919,
          26.76738003544473,
          115.32379893214326,
          130.70975087290583,
          146.07080826838373,
          22.241139208680266,
          99.54791809544398,
          147.92213463058036,
          149.90335159516457,
          120.382258853081,
          160.4898246515575,
          178.91094401021186,
          102.54449548263811,
          -4.066451518297953,
          198.8838701138077,
          190.8962309199044,
          140.39091807660805,
          158.39757674227667,
          139.34629707479306,
          79.6472378864984,
          128.92905833528536,
          68.04882841217986,
          223.34367982358032,
          129.2489355635993,
          89.22069943131179,
          193.58909853630942,
          95.66204296762525,
          115.02804182740013,
          191.50866129710244,
          66.02918670121363,
          128.61529429341647,
          120.06404528177676,
          11.956327412873932,
          96.89011366291783,
          150.66766615726203,
          554.9898991720299,
          229.4367096099619,
          241.8767253026985,
          51.25746829776503,
          147.69133831337902,
          118.06650550398274,
          37.88813389204326,
          230.58653393669226,
          30.592673197432035,
          102.16681268801368,
          115.84453974902995,
          175.52743315407616,
          67.46426527512718,
          193.18065957251375,
          -27.326766631054042,
          35.379563594519695,
          177.72021230335656,
          55.17598618157065,
          275.38187996968014,
          56.99910436293627,
          55.32482315822823,
          600.8179103750466,
          97.94466165757954,
          310.076365683323,
          175.94421717318932,
          352.0937587765695,
          138.3149274375329,
          87.59001439545625,
          -32.7789410599964,
          310.2908093879723,
          198.77176687474162,
          170.7835826108062,
          69.7880334621386,
          343.8870848560168,
          91.10964874613082,
          175.24669824157615,
          110.8367721781061,
          226.24377951397324,
          167.70292718796483,
          111.69173091769056,
          77.080104440879,
          127.84137438639557,
          189.3659410842394,
          89.93437293622308,
          95.05000009479497,
          135.30547057437104,
          136.15760730383246,
          106.43029580710837,
          70.14332600638231,
          57.28783882625773,
          258.72048374460877,
          137.62505778033534,
          103.65732754984118,
          85.62796886714794,
          103.47142666816599,
          56.3120996365695,
          177.12124976299617,
          91.92904511978738,
          421.9457593066824,
          83.56961656307537,
          46.76403204868144,
          160.55662252722618,
          118.35308058743843,
          104.36623019591036,
          97.19351056395364,
          565.3669744278211,
          173.14505341733224,
          149.04160241028777,
          349.49281866806894,
          274.41596270678536,
          0.012149090526079931,
          129.5310927876908,
          410.42396772881546,
          88.49587787519165,
          178.0429702268149,
          66.7424015037525,
          26.668504030395496,
          114.89355801560298,
          93.97649094269893,
          -37.72508094670873,
          154.7637186391849,
          60.1828033085147,
          33.39061732059736,
          285.810144618821,
          64.35272680660715,
          234.0640012322295,
          300.92052582371196,
          417.60590298931635,
          95.7505126821753,
          28.066273488863487,
          154.292109658017,
          70.775809878133,
          127.24092416750173,
          70.34208163109395,
          189.4615127731249,
          212.60621234700398,
          178.0429702268149,
          196.9885115325571,
          176.00518893358583,
          203.41642780635897,
          94.16952885024915,
          76.97629305748868,
          260.3206186252654,
          62.30838185683414,
          166.88426719030946,
          167.6155381648308,
          180.14900415737839,
          128.69265024792065,
          274.7951015495005,
          63.09196696648133,
          87.38312354074623,
          127.13360959305999,
          134.65544345301953,
          48.021262608221704,
          52.38296526424199,
          88.49316101627906,
          103.14173967741682,
          0.05062119013611266,
          89.61903871045998,
          144.1637099391396,
          102.07686081828595,
          264.7712626382887,
          123.52936181134618,
          90.63555803440863,
          206.12279574384388,
          -102.50637927231914,
          259.1606136808836,
          142.62027119975843,
          198.9916036438487,
          89.41025783509166,
          333.43041797245183,
          131.57814298753615,
          161.2955932597004,
          102.27475553896895,
          149.63379359873161,
          8.886693279234876,
          227.11300498653188,
          264.742016093499,
          84.41418866258047,
          90.32594830512683,
          108.70997340631826,
          110.08904875023444,
          69.45027499821438,
          78.21540625078308,
          46.67108106140179,
          157.43042644810077,
          -1.230987866222236,
          -111.31579063518261,
          122.90111564125148,
          95.6107607494275,
          254.8320625578478,
          244.15360048915744,
          64.03207174144126,
          126.37454586388151,
          55.539146857144644,
          17.125650957377943,
          34.485931628517406,
          276.81317025939643,
          51.398859957368124,
          492.4845209175926,
          79.90011294073862,
          185.2544408244441,
          468.58451521570055,
          231.1559687471535,
          36.31982506921466,
          128.70525365795086,
          232.3024612664882,
          61.93130902262078,
          173.99005222971516,
          152.57612888632585,
          27.422704056785932,
          51.11344042862951,
          122.41106788387147,
          59.686209491679094,
          185.56081435715447,
          137.7666249010984,
          69.55794782518143,
          125.66458295268944,
          61.031678998409795,
          77.99423122972101,
          44.84229706160153,
          181.34307639090335,
          136.1620492075957,
          91.78263067586379,
          259.24252621425836,
          181.0543307223202,
          86.6745775706024,
          255.55822119363467,
          399.5267646419121,
          -22.779828052076155,
          74.55383246320508,
          169.4562923511739,
          275.97076926925706,
          163.38725267198635,
          173.38698788985837,
          216.62391045669978,
          36.893176171458876,
          91.51622854312785,
          95.95570549518234,
          166.08472191589453,
          153.57771854648115,
          235.6739585808965,
          26.358707217402554,
          37.89991242871771,
          357.94791857681804,
          332.7006827609871,
          158.82043383621493,
          -19.610908324921837,
          86.65641759205727,
          72.23202397810351,
          357.7736583398595,
          114.75402708878843,
          117.06961666091776,
          229.26215626562222,
          40.32855458935228,
          190.14553359605412,
          435.1123961539204,
          151.90332289861584,
          -49.38732942150419,
          271.53387486410776,
          20.049767592300384,
          85.98622181527267,
          174.8331943985726
         ]
        }
       ],
       "layout": {
        "plot_bgcolor": "rgb(249,221,218)",
        "template": {
         "data": {
          "bar": [
           {
            "error_x": {
             "color": "#2a3f5f"
            },
            "error_y": {
             "color": "#2a3f5f"
            },
            "marker": {
             "line": {
              "color": "#E5ECF6",
              "width": 0.5
             }
            },
            "type": "bar"
           }
          ],
          "barpolar": [
           {
            "marker": {
             "line": {
              "color": "#E5ECF6",
              "width": 0.5
             }
            },
            "type": "barpolar"
           }
          ],
          "carpet": [
           {
            "aaxis": {
             "endlinecolor": "#2a3f5f",
             "gridcolor": "white",
             "linecolor": "white",
             "minorgridcolor": "white",
             "startlinecolor": "#2a3f5f"
            },
            "baxis": {
             "endlinecolor": "#2a3f5f",
             "gridcolor": "white",
             "linecolor": "white",
             "minorgridcolor": "white",
             "startlinecolor": "#2a3f5f"
            },
            "type": "carpet"
           }
          ],
          "choropleth": [
           {
            "colorbar": {
             "outlinewidth": 0,
             "ticks": ""
            },
            "type": "choropleth"
           }
          ],
          "contour": [
           {
            "colorbar": {
             "outlinewidth": 0,
             "ticks": ""
            },
            "colorscale": [
             [
              0,
              "#0d0887"
             ],
             [
              0.1111111111111111,
              "#46039f"
             ],
             [
              0.2222222222222222,
              "#7201a8"
             ],
             [
              0.3333333333333333,
              "#9c179e"
             ],
             [
              0.4444444444444444,
              "#bd3786"
             ],
             [
              0.5555555555555556,
              "#d8576b"
             ],
             [
              0.6666666666666666,
              "#ed7953"
             ],
             [
              0.7777777777777778,
              "#fb9f3a"
             ],
             [
              0.8888888888888888,
              "#fdca26"
             ],
             [
              1,
              "#f0f921"
             ]
            ],
            "type": "contour"
           }
          ],
          "contourcarpet": [
           {
            "colorbar": {
             "outlinewidth": 0,
             "ticks": ""
            },
            "type": "contourcarpet"
           }
          ],
          "heatmap": [
           {
            "colorbar": {
             "outlinewidth": 0,
             "ticks": ""
            },
            "colorscale": [
             [
              0,
              "#0d0887"
             ],
             [
              0.1111111111111111,
              "#46039f"
             ],
             [
              0.2222222222222222,
              "#7201a8"
             ],
             [
              0.3333333333333333,
              "#9c179e"
             ],
             [
              0.4444444444444444,
              "#bd3786"
             ],
             [
              0.5555555555555556,
              "#d8576b"
             ],
             [
              0.6666666666666666,
              "#ed7953"
             ],
             [
              0.7777777777777778,
              "#fb9f3a"
             ],
             [
              0.8888888888888888,
              "#fdca26"
             ],
             [
              1,
              "#f0f921"
             ]
            ],
            "type": "heatmap"
           }
          ],
          "heatmapgl": [
           {
            "colorbar": {
             "outlinewidth": 0,
             "ticks": ""
            },
            "colorscale": [
             [
              0,
              "#0d0887"
             ],
             [
              0.1111111111111111,
              "#46039f"
             ],
             [
              0.2222222222222222,
              "#7201a8"
             ],
             [
              0.3333333333333333,
              "#9c179e"
             ],
             [
              0.4444444444444444,
              "#bd3786"
             ],
             [
              0.5555555555555556,
              "#d8576b"
             ],
             [
              0.6666666666666666,
              "#ed7953"
             ],
             [
              0.7777777777777778,
              "#fb9f3a"
             ],
             [
              0.8888888888888888,
              "#fdca26"
             ],
             [
              1,
              "#f0f921"
             ]
            ],
            "type": "heatmapgl"
           }
          ],
          "histogram": [
           {
            "marker": {
             "colorbar": {
              "outlinewidth": 0,
              "ticks": ""
             }
            },
            "type": "histogram"
           }
          ],
          "histogram2d": [
           {
            "colorbar": {
             "outlinewidth": 0,
             "ticks": ""
            },
            "colorscale": [
             [
              0,
              "#0d0887"
             ],
             [
              0.1111111111111111,
              "#46039f"
             ],
             [
              0.2222222222222222,
              "#7201a8"
             ],
             [
              0.3333333333333333,
              "#9c179e"
             ],
             [
              0.4444444444444444,
              "#bd3786"
             ],
             [
              0.5555555555555556,
              "#d8576b"
             ],
             [
              0.6666666666666666,
              "#ed7953"
             ],
             [
              0.7777777777777778,
              "#fb9f3a"
             ],
             [
              0.8888888888888888,
              "#fdca26"
             ],
             [
              1,
              "#f0f921"
             ]
            ],
            "type": "histogram2d"
           }
          ],
          "histogram2dcontour": [
           {
            "colorbar": {
             "outlinewidth": 0,
             "ticks": ""
            },
            "colorscale": [
             [
              0,
              "#0d0887"
             ],
             [
              0.1111111111111111,
              "#46039f"
             ],
             [
              0.2222222222222222,
              "#7201a8"
             ],
             [
              0.3333333333333333,
              "#9c179e"
             ],
             [
              0.4444444444444444,
              "#bd3786"
             ],
             [
              0.5555555555555556,
              "#d8576b"
             ],
             [
              0.6666666666666666,
              "#ed7953"
             ],
             [
              0.7777777777777778,
              "#fb9f3a"
             ],
             [
              0.8888888888888888,
              "#fdca26"
             ],
             [
              1,
              "#f0f921"
             ]
            ],
            "type": "histogram2dcontour"
           }
          ],
          "mesh3d": [
           {
            "colorbar": {
             "outlinewidth": 0,
             "ticks": ""
            },
            "type": "mesh3d"
           }
          ],
          "parcoords": [
           {
            "line": {
             "colorbar": {
              "outlinewidth": 0,
              "ticks": ""
             }
            },
            "type": "parcoords"
           }
          ],
          "scatter": [
           {
            "marker": {
             "colorbar": {
              "outlinewidth": 0,
              "ticks": ""
             }
            },
            "type": "scatter"
           }
          ],
          "scatter3d": [
           {
            "line": {
             "colorbar": {
              "outlinewidth": 0,
              "ticks": ""
             }
            },
            "marker": {
             "colorbar": {
              "outlinewidth": 0,
              "ticks": ""
             }
            },
            "type": "scatter3d"
           }
          ],
          "scattercarpet": [
           {
            "marker": {
             "colorbar": {
              "outlinewidth": 0,
              "ticks": ""
             }
            },
            "type": "scattercarpet"
           }
          ],
          "scattergeo": [
           {
            "marker": {
             "colorbar": {
              "outlinewidth": 0,
              "ticks": ""
             }
            },
            "type": "scattergeo"
           }
          ],
          "scattergl": [
           {
            "marker": {
             "colorbar": {
              "outlinewidth": 0,
              "ticks": ""
             }
            },
            "type": "scattergl"
           }
          ],
          "scattermapbox": [
           {
            "marker": {
             "colorbar": {
              "outlinewidth": 0,
              "ticks": ""
             }
            },
            "type": "scattermapbox"
           }
          ],
          "scatterpolar": [
           {
            "marker": {
             "colorbar": {
              "outlinewidth": 0,
              "ticks": ""
             }
            },
            "type": "scatterpolar"
           }
          ],
          "scatterpolargl": [
           {
            "marker": {
             "colorbar": {
              "outlinewidth": 0,
              "ticks": ""
             }
            },
            "type": "scatterpolargl"
           }
          ],
          "scatterternary": [
           {
            "marker": {
             "colorbar": {
              "outlinewidth": 0,
              "ticks": ""
             }
            },
            "type": "scatterternary"
           }
          ],
          "surface": [
           {
            "colorbar": {
             "outlinewidth": 0,
             "ticks": ""
            },
            "colorscale": [
             [
              0,
              "#0d0887"
             ],
             [
              0.1111111111111111,
              "#46039f"
             ],
             [
              0.2222222222222222,
              "#7201a8"
             ],
             [
              0.3333333333333333,
              "#9c179e"
             ],
             [
              0.4444444444444444,
              "#bd3786"
             ],
             [
              0.5555555555555556,
              "#d8576b"
             ],
             [
              0.6666666666666666,
              "#ed7953"
             ],
             [
              0.7777777777777778,
              "#fb9f3a"
             ],
             [
              0.8888888888888888,
              "#fdca26"
             ],
             [
              1,
              "#f0f921"
             ]
            ],
            "type": "surface"
           }
          ],
          "table": [
           {
            "cells": {
             "fill": {
              "color": "#EBF0F8"
             },
             "line": {
              "color": "white"
             }
            },
            "header": {
             "fill": {
              "color": "#C8D4E3"
             },
             "line": {
              "color": "white"
             }
            },
            "type": "table"
           }
          ]
         },
         "layout": {
          "annotationdefaults": {
           "arrowcolor": "#2a3f5f",
           "arrowhead": 0,
           "arrowwidth": 1
          },
          "colorscale": {
           "diverging": [
            [
             0,
             "#8e0152"
            ],
            [
             0.1,
             "#c51b7d"
            ],
            [
             0.2,
             "#de77ae"
            ],
            [
             0.3,
             "#f1b6da"
            ],
            [
             0.4,
             "#fde0ef"
            ],
            [
             0.5,
             "#f7f7f7"
            ],
            [
             0.6,
             "#e6f5d0"
            ],
            [
             0.7,
             "#b8e186"
            ],
            [
             0.8,
             "#7fbc41"
            ],
            [
             0.9,
             "#4d9221"
            ],
            [
             1,
             "#276419"
            ]
           ],
           "sequential": [
            [
             0,
             "#0d0887"
            ],
            [
             0.1111111111111111,
             "#46039f"
            ],
            [
             0.2222222222222222,
             "#7201a8"
            ],
            [
             0.3333333333333333,
             "#9c179e"
            ],
            [
             0.4444444444444444,
             "#bd3786"
            ],
            [
             0.5555555555555556,
             "#d8576b"
            ],
            [
             0.6666666666666666,
             "#ed7953"
            ],
            [
             0.7777777777777778,
             "#fb9f3a"
            ],
            [
             0.8888888888888888,
             "#fdca26"
            ],
            [
             1,
             "#f0f921"
            ]
           ],
           "sequentialminus": [
            [
             0,
             "#0d0887"
            ],
            [
             0.1111111111111111,
             "#46039f"
            ],
            [
             0.2222222222222222,
             "#7201a8"
            ],
            [
             0.3333333333333333,
             "#9c179e"
            ],
            [
             0.4444444444444444,
             "#bd3786"
            ],
            [
             0.5555555555555556,
             "#d8576b"
            ],
            [
             0.6666666666666666,
             "#ed7953"
            ],
            [
             0.7777777777777778,
             "#fb9f3a"
            ],
            [
             0.8888888888888888,
             "#fdca26"
            ],
            [
             1,
             "#f0f921"
            ]
           ]
          },
          "colorway": [
           "#636efa",
           "#EF553B",
           "#00cc96",
           "#ab63fa",
           "#FFA15A",
           "#19d3f3",
           "#FF6692",
           "#B6E880",
           "#FF97FF",
           "#FECB52"
          ],
          "font": {
           "color": "#2a3f5f"
          },
          "geo": {
           "bgcolor": "white",
           "lakecolor": "white",
           "landcolor": "#E5ECF6",
           "showlakes": true,
           "showland": true,
           "subunitcolor": "white"
          },
          "hoverlabel": {
           "align": "left"
          },
          "hovermode": "closest",
          "mapbox": {
           "style": "light"
          },
          "paper_bgcolor": "white",
          "plot_bgcolor": "#E5ECF6",
          "polar": {
           "angularaxis": {
            "gridcolor": "white",
            "linecolor": "white",
            "ticks": ""
           },
           "bgcolor": "#E5ECF6",
           "radialaxis": {
            "gridcolor": "white",
            "linecolor": "white",
            "ticks": ""
           }
          },
          "scene": {
           "xaxis": {
            "backgroundcolor": "#E5ECF6",
            "gridcolor": "white",
            "gridwidth": 2,
            "linecolor": "white",
            "showbackground": true,
            "ticks": "",
            "zerolinecolor": "white"
           },
           "yaxis": {
            "backgroundcolor": "#E5ECF6",
            "gridcolor": "white",
            "gridwidth": 2,
            "linecolor": "white",
            "showbackground": true,
            "ticks": "",
            "zerolinecolor": "white"
           },
           "zaxis": {
            "backgroundcolor": "#E5ECF6",
            "gridcolor": "white",
            "gridwidth": 2,
            "linecolor": "white",
            "showbackground": true,
            "ticks": "",
            "zerolinecolor": "white"
           }
          },
          "shapedefaults": {
           "line": {
            "color": "#2a3f5f"
           }
          },
          "ternary": {
           "aaxis": {
            "gridcolor": "white",
            "linecolor": "white",
            "ticks": ""
           },
           "baxis": {
            "gridcolor": "white",
            "linecolor": "white",
            "ticks": ""
           },
           "bgcolor": "#E5ECF6",
           "caxis": {
            "gridcolor": "white",
            "linecolor": "white",
            "ticks": ""
           }
          },
          "title": {
           "x": 0.05
          },
          "xaxis": {
           "automargin": true,
           "gridcolor": "white",
           "linecolor": "white",
           "ticks": "",
           "zerolinecolor": "white",
           "zerolinewidth": 2
          },
          "yaxis": {
           "automargin": true,
           "gridcolor": "white",
           "linecolor": "white",
           "ticks": "",
           "zerolinecolor": "white",
           "zerolinewidth": 2
          }
         }
        },
        "title": {
         "text": "Линейная регрессия по текстам всех постов"
        },
        "xaxis": {
         "title": {
          "text": "y_test"
         }
        },
        "yaxis": {
         "title": {
          "text": "predictions"
         }
        }
       }
      },
      "text/html": [
       "<div>\n",
       "        \n",
       "        \n",
       "            <div id=\"6eef92f2-f7c3-4239-a266-f3ba34c137e4\" class=\"plotly-graph-div\" style=\"height:525px; width:100%;\"></div>\n",
       "            <script type=\"text/javascript\">\n",
       "                require([\"plotly\"], function(Plotly) {\n",
       "                    window.PLOTLYENV=window.PLOTLYENV || {};\n",
       "                    \n",
       "                if (document.getElementById(\"6eef92f2-f7c3-4239-a266-f3ba34c137e4\")) {\n",
       "                    Plotly.newPlot(\n",
       "                        '6eef92f2-f7c3-4239-a266-f3ba34c137e4',\n",
       "                        [{\"marker\": {\"color\": \"rgb(180,151,231)\", \"line\": {\"width\": 0.3}, \"size\": 12, \"symbol\": \"star\"}, \"mode\": \"markers\", \"type\": \"scatter\", \"x\": [18, 128, 124, 537, 187, 261, 98, 64, 236, 344, 122, 147, 46, 40, 78, 154, 50, 95, 59, 49, 116, 167, 94, 36, 59, 62, 311, 190, 182, 99, 743, 111, 29, 407, 111, 56, 63, 201, 62, 75, 111, 107, 255, 136, 64, 35, 94, 120, 78, 124, 263, 25, 28, 159, 55, 14, 71, 125, 76, 68, 122, 216, 87, 916, 293, 235, 143, 30, 315, 75, 23, 141, 105, 29, 106, 138, 43, 69, 160, 144, 73, 106, 59, 114, 216, 84, 116, 69, 109, 220, 256, 167, 160, 309, 21, 105, 31, 158, 99, 131, 12, 412, 68, 24, 109, 53, 353, 608, 138, 46, 939, 44, 137, 211, 79, 655, 64, 66, 102, 92, 211, 149, 34, 316, 32, 50, 74, 29, 19, 29, 146, 93, 68, 92, 50, 54, 165, 77, 103, 109, 90, 406, 22, 72, 27, 479, 268, 117, 185, 59, 171, 124, 104, 275, 28, 43, 80, 137, 101, 135, 112, 105, 51, 81, 334, 76, 63, 140, 114, 157, 97, 205, 110, 70, 109, 65, 46, 56, 1763, 70, 38, 19, 98, 325, 142, 27, 170, 85, 117, 227, 93, 233, 60, 176, 1026, 57, 30, 160, 58, 67, 91, 227, 29, 99, 61, 66, 120, 64, 154, 57, 119, 52, 84, 68, 12, 312, 129, 31, 1120, 142, 90, 116, 51, 136, 31, 128, 428, 199, 61, 91, 29, 235, 76, 22, 69, 200, 475, 121, 190, 36, 130, 63, 74, 112, 73, 89, 94, 191, 83, 119, 46, 71, 122, 105, 399, 59, 38, 717, 104, 90, 79, 54, 73, 68, 24, 456, 85, 131, 82, 88, 56, 50, 237, 267, 56, 273, 165, 248, 139, 168, 21, 73, 110, 228, 69, 49, 138, 302, 95, 59, 81, 41, 59, 187, 211, 191, 43, 101, 89, 101, 96, 415, 152, 114, 76, 90, 149, 435, 258, 26, 57, 72, 87, 202, 22, 105, 99, 123, 58, 228, 147, 195, 503, 339, 30, 71, 294, 57, 144, 86, 74, 109, 151, 107, 66, 139, 29, 148, 99, 128, 445, 278, 96, 325, 95, 72, 38, 98, 148, 148, 78, 155, 71, 30, 116, 18, 43, 1491, 56, 193, 717, 65, 91, 139, 260, 56, 227, 124, 66, 67, 606, 60, 365, 48, 147, 54, 53, 64, 76, 25, 30, 221, 69, 113, 99, 167, 131, 292, 39, 62, 49, 24, 96, 265, 81, 109, 264, 84, 201, 207, 155, 94, 195, 105, 186, 456, 120, 49, 60, 40, 61, 121, 100, 46, 203, 26, 41, 102, 82, 127, 503, 136, 128, 101, 43, 36, 228, 86, 87, 81, 457, 218, 102, 164, 116, 91, 107, 106, 130, 39, 36, 118, 93, 13, 135, 106, 118, 215, 89, 89, 126, 108, 176, 168, 82, 281, 201, 156, 91], \"y\": [36.29573865873637, 99.80425656072585, 117.62665165907617, 282.0144385477648, 223.01453693619902, 241.7224800015063, 127.61775303016086, 128.69770814908463, 29.43710296398534, 120.76021282418603, 237.4574405635728, 423.6593530863634, 233.59832919410508, 82.461367572658, 34.58332757954862, 329.1236346868906, 105.54385134221212, 119.89810786547781, 178.33361540720563, 190.19010469087652, 127.59717438607956, 98.25749644972817, 88.54808448251143, -19.2651013196612, 63.801966925268566, 353.7067394232359, 453.2656756987299, 65.25717700345601, 129.51160047690843, 137.3983596490436, 450.45108261503907, 107.1519234357946, -172.24935931418457, 152.2895743417549, 37.86502002102115, 121.77566943214785, 228.59867685178153, 139.08678141356634, 453.7300893012939, 191.76856622659642, 153.1600780775596, 195.0417567901133, 260.0037687568699, 160.4985337886639, 117.80863844494296, 158.67872502671602, 153.01847438527952, 121.45165038540064, 328.2684028205617, 202.8750581901313, 231.43885210317967, 39.81823734625854, -17.56461855924813, 235.15448875629284, 124.16662015370477, 168.22655404688425, 46.51423380720232, 18.080386633107793, 160.12848428137403, 107.90371664712507, 132.88808435290164, 275.57287316874437, 183.07795678629037, 203.82567582657376, 229.72063853849846, 77.10336583010667, 136.9181129670763, 136.3114599060401, 270.72804435189005, 81.44366503690556, -24.920036489409156, 69.81023202380604, 162.17745609093546, -11.697809942917232, 164.68875663469333, 531.501611630724, -48.06864813310865, 82.99101937833848, 202.86302843817117, -27.975254440500535, 116.63466174365345, 153.28494600616307, 86.20257605331597, 164.9708651633318, 174.96176076516207, 106.60071285775373, 254.39602968949652, 107.01855888417737, 186.97222365412404, 156.29472709490145, 131.9062777941168, 227.40459356919604, 330.1537094912571, 388.1520195459962, 103.87901981384084, 134.74494731402302, 36.99794843999484, 180.62121470228044, 113.52109049178529, 191.1510843914005, -2.954523377673084, 27.365696621969192, 113.57404618743752, -9.901321648640405, 110.75619460405309, 99.86057492161355, 68.0324050386863, 131.7098255774415, 68.82234842547513, 155.98400421759249, 353.5246092740887, 155.15967794009217, 94.0484568962435, 94.53975473869912, 215.7968178711206, 520.9087835207074, 92.30280786539161, 51.06939040933442, 49.65366925970642, 112.7173068262751, 283.89678429692475, 270.1570453672483, 44.9235995687821, 102.51741739601788, 67.31319250690565, 44.89115356052399, -76.75424038336872, -6.551042231469268, 69.74122996800156, 103.07583102868405, 296.1489777705307, 56.80153100680096, 86.32929246105202, 129.00504388165703, 86.82742715689787, 170.8339886352016, 157.6570674193708, 101.35497483692721, 66.27073509515618, 73.53964714306045, 116.18407698098106, 216.42198494201057, 1.0988103506912097, 125.69688450531683, 123.59272845687534, 130.49598767787887, 72.18910855381657, 333.50153672247677, 134.59784681573706, 93.76185296516908, 128.24933187106717, 150.0060390631121, 116.19375078696409, 83.55530574730736, 37.42576264087647, 79.45545525416337, 206.90905296858853, 201.67156914301168, 150.1637057789448, 28.417253974146902, 93.32341842864003, 60.8009515699995, 64.1851159053759, 79.91757263863647, 86.03345491592827, 148.02574796530854, 63.98197399238271, 141.33383494567164, 145.10274450969143, 88.76295797747188, 51.64800069773898, 138.69743187841055, 291.20716684227165, -98.87118935648594, 220.73892194063524, 166.1384918194185, 95.34160281645373, 8.11144108080002, 91.8825775187475, 126.21967971926485, 165.8100183192278, 37.312039650369854, 60.0144527035488, 323.30762430990666, 257.9610198642735, -58.28344048880258, 91.12669404686113, 126.14710417306836, 149.43437572595695, 196.59111375516585, 117.22941954798728, 248.27244318106665, 354.8385118685792, 111.92239966130244, 220.50752751273302, 104.91323978661588, 46.250895151139986, 251.8774217360783, 100.51862990963532, 133.4773488970393, 72.81659627882469, 103.0360462092919, 26.76738003544473, 115.32379893214326, 130.70975087290583, 146.07080826838373, 22.241139208680266, 99.54791809544398, 147.92213463058036, 149.90335159516457, 120.382258853081, 160.4898246515575, 178.91094401021186, 102.54449548263811, -4.066451518297953, 198.8838701138077, 190.8962309199044, 140.39091807660805, 158.39757674227667, 139.34629707479306, 79.6472378864984, 128.92905833528536, 68.04882841217986, 223.34367982358032, 129.2489355635993, 89.22069943131179, 193.58909853630942, 95.66204296762525, 115.02804182740013, 191.50866129710244, 66.02918670121363, 128.61529429341647, 120.06404528177676, 11.956327412873932, 96.89011366291783, 150.66766615726203, 554.9898991720299, 229.4367096099619, 241.8767253026985, 51.25746829776503, 147.69133831337902, 118.06650550398274, 37.88813389204326, 230.58653393669226, 30.592673197432035, 102.16681268801368, 115.84453974902995, 175.52743315407616, 67.46426527512718, 193.18065957251375, -27.326766631054042, 35.379563594519695, 177.72021230335656, 55.17598618157065, 275.38187996968014, 56.99910436293627, 55.32482315822823, 600.8179103750466, 97.94466165757954, 310.076365683323, 175.94421717318932, 352.0937587765695, 138.3149274375329, 87.59001439545625, -32.7789410599964, 310.2908093879723, 198.77176687474162, 170.7835826108062, 69.7880334621386, 343.8870848560168, 91.10964874613082, 175.24669824157615, 110.8367721781061, 226.24377951397324, 167.70292718796483, 111.69173091769056, 77.080104440879, 127.84137438639557, 189.3659410842394, 89.93437293622308, 95.05000009479497, 135.30547057437104, 136.15760730383246, 106.43029580710837, 70.14332600638231, 57.28783882625773, 258.72048374460877, 137.62505778033534, 103.65732754984118, 85.62796886714794, 103.47142666816599, 56.3120996365695, 177.12124976299617, 91.92904511978738, 421.9457593066824, 83.56961656307537, 46.76403204868144, 160.55662252722618, 118.35308058743843, 104.36623019591036, 97.19351056395364, 565.3669744278211, 173.14505341733224, 149.04160241028777, 349.49281866806894, 274.41596270678536, 0.012149090526079931, 129.5310927876908, 410.42396772881546, 88.49587787519165, 178.0429702268149, 66.7424015037525, 26.668504030395496, 114.89355801560298, 93.97649094269893, -37.72508094670873, 154.7637186391849, 60.1828033085147, 33.39061732059736, 285.810144618821, 64.35272680660715, 234.0640012322295, 300.92052582371196, 417.60590298931635, 95.7505126821753, 28.066273488863487, 154.292109658017, 70.775809878133, 127.24092416750173, 70.34208163109395, 189.4615127731249, 212.60621234700398, 178.0429702268149, 196.9885115325571, 176.00518893358583, 203.41642780635897, 94.16952885024915, 76.97629305748868, 260.3206186252654, 62.30838185683414, 166.88426719030946, 167.6155381648308, 180.14900415737839, 128.69265024792065, 274.7951015495005, 63.09196696648133, 87.38312354074623, 127.13360959305999, 134.65544345301953, 48.021262608221704, 52.38296526424199, 88.49316101627906, 103.14173967741682, 0.05062119013611266, 89.61903871045998, 144.1637099391396, 102.07686081828595, 264.7712626382887, 123.52936181134618, 90.63555803440863, 206.12279574384388, -102.50637927231914, 259.1606136808836, 142.62027119975843, 198.9916036438487, 89.41025783509166, 333.43041797245183, 131.57814298753615, 161.2955932597004, 102.27475553896895, 149.63379359873161, 8.886693279234876, 227.11300498653188, 264.742016093499, 84.41418866258047, 90.32594830512683, 108.70997340631826, 110.08904875023444, 69.45027499821438, 78.21540625078308, 46.67108106140179, 157.43042644810077, -1.230987866222236, -111.31579063518261, 122.90111564125148, 95.6107607494275, 254.8320625578478, 244.15360048915744, 64.03207174144126, 126.37454586388151, 55.539146857144644, 17.125650957377943, 34.485931628517406, 276.81317025939643, 51.398859957368124, 492.4845209175926, 79.90011294073862, 185.2544408244441, 468.58451521570055, 231.1559687471535, 36.31982506921466, 128.70525365795086, 232.3024612664882, 61.93130902262078, 173.99005222971516, 152.57612888632585, 27.422704056785932, 51.11344042862951, 122.41106788387147, 59.686209491679094, 185.56081435715447, 137.7666249010984, 69.55794782518143, 125.66458295268944, 61.031678998409795, 77.99423122972101, 44.84229706160153, 181.34307639090335, 136.1620492075957, 91.78263067586379, 259.24252621425836, 181.0543307223202, 86.6745775706024, 255.55822119363467, 399.5267646419121, -22.779828052076155, 74.55383246320508, 169.4562923511739, 275.97076926925706, 163.38725267198635, 173.38698788985837, 216.62391045669978, 36.893176171458876, 91.51622854312785, 95.95570549518234, 166.08472191589453, 153.57771854648115, 235.6739585808965, 26.358707217402554, 37.89991242871771, 357.94791857681804, 332.7006827609871, 158.82043383621493, -19.610908324921837, 86.65641759205727, 72.23202397810351, 357.7736583398595, 114.75402708878843, 117.06961666091776, 229.26215626562222, 40.32855458935228, 190.14553359605412, 435.1123961539204, 151.90332289861584, -49.38732942150419, 271.53387486410776, 20.049767592300384, 85.98622181527267, 174.8331943985726]}],\n",
       "                        {\"plot_bgcolor\": \"rgb(249,221,218)\", \"template\": {\"data\": {\"bar\": [{\"error_x\": {\"color\": \"#2a3f5f\"}, \"error_y\": {\"color\": \"#2a3f5f\"}, \"marker\": {\"line\": {\"color\": \"#E5ECF6\", \"width\": 0.5}}, \"type\": \"bar\"}], \"barpolar\": [{\"marker\": {\"line\": {\"color\": \"#E5ECF6\", \"width\": 0.5}}, \"type\": \"barpolar\"}], \"carpet\": [{\"aaxis\": {\"endlinecolor\": \"#2a3f5f\", \"gridcolor\": \"white\", \"linecolor\": \"white\", \"minorgridcolor\": \"white\", \"startlinecolor\": \"#2a3f5f\"}, \"baxis\": {\"endlinecolor\": \"#2a3f5f\", \"gridcolor\": \"white\", \"linecolor\": \"white\", \"minorgridcolor\": \"white\", \"startlinecolor\": \"#2a3f5f\"}, \"type\": \"carpet\"}], \"choropleth\": [{\"colorbar\": {\"outlinewidth\": 0, \"ticks\": \"\"}, \"type\": \"choropleth\"}], \"contour\": [{\"colorbar\": {\"outlinewidth\": 0, \"ticks\": \"\"}, \"colorscale\": [[0.0, \"#0d0887\"], [0.1111111111111111, \"#46039f\"], [0.2222222222222222, \"#7201a8\"], [0.3333333333333333, \"#9c179e\"], [0.4444444444444444, \"#bd3786\"], [0.5555555555555556, \"#d8576b\"], [0.6666666666666666, \"#ed7953\"], [0.7777777777777778, \"#fb9f3a\"], [0.8888888888888888, \"#fdca26\"], [1.0, \"#f0f921\"]], \"type\": \"contour\"}], \"contourcarpet\": [{\"colorbar\": {\"outlinewidth\": 0, \"ticks\": \"\"}, \"type\": \"contourcarpet\"}], \"heatmap\": [{\"colorbar\": {\"outlinewidth\": 0, \"ticks\": \"\"}, \"colorscale\": [[0.0, \"#0d0887\"], [0.1111111111111111, \"#46039f\"], [0.2222222222222222, \"#7201a8\"], [0.3333333333333333, \"#9c179e\"], [0.4444444444444444, \"#bd3786\"], [0.5555555555555556, \"#d8576b\"], [0.6666666666666666, \"#ed7953\"], [0.7777777777777778, \"#fb9f3a\"], [0.8888888888888888, \"#fdca26\"], [1.0, \"#f0f921\"]], \"type\": \"heatmap\"}], \"heatmapgl\": [{\"colorbar\": {\"outlinewidth\": 0, \"ticks\": \"\"}, \"colorscale\": [[0.0, \"#0d0887\"], [0.1111111111111111, \"#46039f\"], [0.2222222222222222, \"#7201a8\"], [0.3333333333333333, \"#9c179e\"], [0.4444444444444444, \"#bd3786\"], [0.5555555555555556, \"#d8576b\"], [0.6666666666666666, \"#ed7953\"], [0.7777777777777778, \"#fb9f3a\"], [0.8888888888888888, \"#fdca26\"], [1.0, \"#f0f921\"]], \"type\": \"heatmapgl\"}], \"histogram\": [{\"marker\": {\"colorbar\": {\"outlinewidth\": 0, \"ticks\": \"\"}}, \"type\": \"histogram\"}], \"histogram2d\": [{\"colorbar\": {\"outlinewidth\": 0, \"ticks\": \"\"}, \"colorscale\": [[0.0, \"#0d0887\"], [0.1111111111111111, \"#46039f\"], [0.2222222222222222, \"#7201a8\"], [0.3333333333333333, \"#9c179e\"], [0.4444444444444444, \"#bd3786\"], [0.5555555555555556, \"#d8576b\"], [0.6666666666666666, \"#ed7953\"], [0.7777777777777778, \"#fb9f3a\"], [0.8888888888888888, \"#fdca26\"], [1.0, \"#f0f921\"]], \"type\": \"histogram2d\"}], \"histogram2dcontour\": [{\"colorbar\": {\"outlinewidth\": 0, \"ticks\": \"\"}, \"colorscale\": [[0.0, \"#0d0887\"], [0.1111111111111111, \"#46039f\"], [0.2222222222222222, \"#7201a8\"], [0.3333333333333333, \"#9c179e\"], [0.4444444444444444, \"#bd3786\"], [0.5555555555555556, \"#d8576b\"], [0.6666666666666666, \"#ed7953\"], [0.7777777777777778, \"#fb9f3a\"], [0.8888888888888888, \"#fdca26\"], [1.0, \"#f0f921\"]], \"type\": \"histogram2dcontour\"}], \"mesh3d\": [{\"colorbar\": {\"outlinewidth\": 0, \"ticks\": \"\"}, \"type\": \"mesh3d\"}], \"parcoords\": [{\"line\": {\"colorbar\": {\"outlinewidth\": 0, \"ticks\": \"\"}}, \"type\": \"parcoords\"}], \"scatter\": [{\"marker\": {\"colorbar\": {\"outlinewidth\": 0, \"ticks\": \"\"}}, \"type\": \"scatter\"}], \"scatter3d\": [{\"line\": {\"colorbar\": {\"outlinewidth\": 0, \"ticks\": \"\"}}, \"marker\": {\"colorbar\": {\"outlinewidth\": 0, \"ticks\": \"\"}}, \"type\": \"scatter3d\"}], \"scattercarpet\": [{\"marker\": {\"colorbar\": {\"outlinewidth\": 0, \"ticks\": \"\"}}, \"type\": \"scattercarpet\"}], \"scattergeo\": [{\"marker\": {\"colorbar\": {\"outlinewidth\": 0, \"ticks\": \"\"}}, \"type\": \"scattergeo\"}], \"scattergl\": [{\"marker\": {\"colorbar\": {\"outlinewidth\": 0, \"ticks\": \"\"}}, \"type\": \"scattergl\"}], \"scattermapbox\": [{\"marker\": {\"colorbar\": {\"outlinewidth\": 0, \"ticks\": \"\"}}, \"type\": \"scattermapbox\"}], \"scatterpolar\": [{\"marker\": {\"colorbar\": {\"outlinewidth\": 0, \"ticks\": \"\"}}, \"type\": \"scatterpolar\"}], \"scatterpolargl\": [{\"marker\": {\"colorbar\": {\"outlinewidth\": 0, \"ticks\": \"\"}}, \"type\": \"scatterpolargl\"}], \"scatterternary\": [{\"marker\": {\"colorbar\": {\"outlinewidth\": 0, \"ticks\": \"\"}}, \"type\": \"scatterternary\"}], \"surface\": [{\"colorbar\": {\"outlinewidth\": 0, \"ticks\": \"\"}, \"colorscale\": [[0.0, \"#0d0887\"], [0.1111111111111111, \"#46039f\"], [0.2222222222222222, \"#7201a8\"], [0.3333333333333333, \"#9c179e\"], [0.4444444444444444, \"#bd3786\"], [0.5555555555555556, \"#d8576b\"], [0.6666666666666666, \"#ed7953\"], [0.7777777777777778, \"#fb9f3a\"], [0.8888888888888888, \"#fdca26\"], [1.0, \"#f0f921\"]], \"type\": \"surface\"}], \"table\": [{\"cells\": {\"fill\": {\"color\": \"#EBF0F8\"}, \"line\": {\"color\": \"white\"}}, \"header\": {\"fill\": {\"color\": \"#C8D4E3\"}, \"line\": {\"color\": \"white\"}}, \"type\": \"table\"}]}, \"layout\": {\"annotationdefaults\": {\"arrowcolor\": \"#2a3f5f\", \"arrowhead\": 0, \"arrowwidth\": 1}, \"colorscale\": {\"diverging\": [[0, \"#8e0152\"], [0.1, \"#c51b7d\"], [0.2, \"#de77ae\"], [0.3, \"#f1b6da\"], [0.4, \"#fde0ef\"], [0.5, \"#f7f7f7\"], [0.6, \"#e6f5d0\"], [0.7, \"#b8e186\"], [0.8, \"#7fbc41\"], [0.9, \"#4d9221\"], [1, \"#276419\"]], \"sequential\": [[0.0, \"#0d0887\"], [0.1111111111111111, \"#46039f\"], [0.2222222222222222, \"#7201a8\"], [0.3333333333333333, \"#9c179e\"], [0.4444444444444444, \"#bd3786\"], [0.5555555555555556, \"#d8576b\"], [0.6666666666666666, \"#ed7953\"], [0.7777777777777778, \"#fb9f3a\"], [0.8888888888888888, \"#fdca26\"], [1.0, \"#f0f921\"]], \"sequentialminus\": [[0.0, \"#0d0887\"], [0.1111111111111111, \"#46039f\"], [0.2222222222222222, \"#7201a8\"], [0.3333333333333333, \"#9c179e\"], [0.4444444444444444, \"#bd3786\"], [0.5555555555555556, \"#d8576b\"], [0.6666666666666666, \"#ed7953\"], [0.7777777777777778, \"#fb9f3a\"], [0.8888888888888888, \"#fdca26\"], [1.0, \"#f0f921\"]]}, \"colorway\": [\"#636efa\", \"#EF553B\", \"#00cc96\", \"#ab63fa\", \"#FFA15A\", \"#19d3f3\", \"#FF6692\", \"#B6E880\", \"#FF97FF\", \"#FECB52\"], \"font\": {\"color\": \"#2a3f5f\"}, \"geo\": {\"bgcolor\": \"white\", \"lakecolor\": \"white\", \"landcolor\": \"#E5ECF6\", \"showlakes\": true, \"showland\": true, \"subunitcolor\": \"white\"}, \"hoverlabel\": {\"align\": \"left\"}, \"hovermode\": \"closest\", \"mapbox\": {\"style\": \"light\"}, \"paper_bgcolor\": \"white\", \"plot_bgcolor\": \"#E5ECF6\", \"polar\": {\"angularaxis\": {\"gridcolor\": \"white\", \"linecolor\": \"white\", \"ticks\": \"\"}, \"bgcolor\": \"#E5ECF6\", \"radialaxis\": {\"gridcolor\": \"white\", \"linecolor\": \"white\", \"ticks\": \"\"}}, \"scene\": {\"xaxis\": {\"backgroundcolor\": \"#E5ECF6\", \"gridcolor\": \"white\", \"gridwidth\": 2, \"linecolor\": \"white\", \"showbackground\": true, \"ticks\": \"\", \"zerolinecolor\": \"white\"}, \"yaxis\": {\"backgroundcolor\": \"#E5ECF6\", \"gridcolor\": \"white\", \"gridwidth\": 2, \"linecolor\": \"white\", \"showbackground\": true, \"ticks\": \"\", \"zerolinecolor\": \"white\"}, \"zaxis\": {\"backgroundcolor\": \"#E5ECF6\", \"gridcolor\": \"white\", \"gridwidth\": 2, \"linecolor\": \"white\", \"showbackground\": true, \"ticks\": \"\", \"zerolinecolor\": \"white\"}}, \"shapedefaults\": {\"line\": {\"color\": \"#2a3f5f\"}}, \"ternary\": {\"aaxis\": {\"gridcolor\": \"white\", \"linecolor\": \"white\", \"ticks\": \"\"}, \"baxis\": {\"gridcolor\": \"white\", \"linecolor\": \"white\", \"ticks\": \"\"}, \"bgcolor\": \"#E5ECF6\", \"caxis\": {\"gridcolor\": \"white\", \"linecolor\": \"white\", \"ticks\": \"\"}}, \"title\": {\"x\": 0.05}, \"xaxis\": {\"automargin\": true, \"gridcolor\": \"white\", \"linecolor\": \"white\", \"ticks\": \"\", \"zerolinecolor\": \"white\", \"zerolinewidth\": 2}, \"yaxis\": {\"automargin\": true, \"gridcolor\": \"white\", \"linecolor\": \"white\", \"ticks\": \"\", \"zerolinecolor\": \"white\", \"zerolinewidth\": 2}}}, \"title\": {\"text\": \"\\u041b\\u0438\\u043d\\u0435\\u0439\\u043d\\u0430\\u044f \\u0440\\u0435\\u0433\\u0440\\u0435\\u0441\\u0441\\u0438\\u044f \\u043f\\u043e \\u0442\\u0435\\u043a\\u0441\\u0442\\u0430\\u043c \\u0432\\u0441\\u0435\\u0445 \\u043f\\u043e\\u0441\\u0442\\u043e\\u0432\"}, \"xaxis\": {\"title\": {\"text\": \"y_test\"}}, \"yaxis\": {\"title\": {\"text\": \"predictions\"}}},\n",
       "                        {\"responsive\": true}\n",
       "                    ).then(function(){\n",
       "                            \n",
       "var gd = document.getElementById('6eef92f2-f7c3-4239-a266-f3ba34c137e4');\n",
       "var x = new MutationObserver(function (mutations, observer) {{\n",
       "        var display = window.getComputedStyle(gd).display;\n",
       "        if (!display || display === 'none') {{\n",
       "            console.log([gd, 'removed!']);\n",
       "            Plotly.purge(gd);\n",
       "            observer.disconnect();\n",
       "        }}\n",
       "}});\n",
       "\n",
       "// Listen for the removal of the full notebook cells\n",
       "var notebookContainer = gd.closest('#notebook-container');\n",
       "if (notebookContainer) {{\n",
       "    x.observe(notebookContainer, {childList: true});\n",
       "}}\n",
       "\n",
       "// Listen for the clearing of the current output cell\n",
       "var outputEl = gd.closest('.output');\n",
       "if (outputEl) {{\n",
       "    x.observe(outputEl, {childList: true});\n",
       "}}\n",
       "\n",
       "                        })\n",
       "                };\n",
       "                });\n",
       "            </script>\n",
       "        </div>"
      ]
     },
     "metadata": {},
     "output_type": "display_data"
    }
   ],
   "source": [
    "data = [go.Scatter(\n",
    "        x = y3_test, \n",
    "        y = predictions3,\n",
    "        mode = 'markers',\n",
    "        marker = {\n",
    "                'size': 12,\n",
    "                'color': 'rgb(180,151,231)',\n",
    "                'symbol': 'star',\n",
    "                'line': {\n",
    "                    'width': 0.3\n",
    "                }\n",
    "                \n",
    "        }\n",
    "    )]\n",
    "\n",
    "layout = go.Layout(\n",
    "        title = 'Линейная регрессия по текстам всех постов',\n",
    "        xaxis = dict(title = 'y_test'),\n",
    "        yaxis = dict(title = 'predictions'),\n",
    "        plot_bgcolor='rgb(249,221,218)'\n",
    "        \n",
    ")\n",
    "\n",
    "fig = go.Figure(data = data, layout = layout) #объединяет дату и лэйаут \n",
    "###  дата будет списком. квадратные скобки, то что может быть несколько графиков\n",
    "pyo.iplot(fig, filename= 'scatter1.html') ###добавляем букву i, чтобы график отображался в тетрадке\n",
    "\n",
    "\n"
   ]
  },
  {
   "cell_type": "code",
   "execution_count": 153,
   "metadata": {},
   "outputs": [
    {
     "data": {
      "text/html": [
       "<div>\n",
       "<style scoped>\n",
       "    .dataframe tbody tr th:only-of-type {\n",
       "        vertical-align: middle;\n",
       "    }\n",
       "\n",
       "    .dataframe tbody tr th {\n",
       "        vertical-align: top;\n",
       "    }\n",
       "\n",
       "    .dataframe thead th {\n",
       "        text-align: right;\n",
       "    }\n",
       "</style>\n",
       "<table border=\"1\" class=\"dataframe\">\n",
       "  <thead>\n",
       "    <tr style=\"text-align: right;\">\n",
       "      <th></th>\n",
       "      <th>y3test</th>\n",
       "      <th>predictions3</th>\n",
       "    </tr>\n",
       "  </thead>\n",
       "  <tbody>\n",
       "    <tr>\n",
       "      <td>0</td>\n",
       "      <td>18</td>\n",
       "      <td>144.163710</td>\n",
       "    </tr>\n",
       "    <tr>\n",
       "      <td>1</td>\n",
       "      <td>128</td>\n",
       "      <td>86.674578</td>\n",
       "    </tr>\n",
       "    <tr>\n",
       "      <td>2</td>\n",
       "      <td>124</td>\n",
       "      <td>131.578143</td>\n",
       "    </tr>\n",
       "    <tr>\n",
       "      <td>3</td>\n",
       "      <td>537</td>\n",
       "      <td>282.014439</td>\n",
       "    </tr>\n",
       "    <tr>\n",
       "      <td>4</td>\n",
       "      <td>187</td>\n",
       "      <td>91.929045</td>\n",
       "    </tr>\n",
       "    <tr>\n",
       "      <td>...</td>\n",
       "      <td>...</td>\n",
       "      <td>...</td>\n",
       "    </tr>\n",
       "    <tr>\n",
       "      <td>217</td>\n",
       "      <td>215</td>\n",
       "      <td>114.754027</td>\n",
       "    </tr>\n",
       "    <tr>\n",
       "      <td>218</td>\n",
       "      <td>126</td>\n",
       "      <td>40.328555</td>\n",
       "    </tr>\n",
       "    <tr>\n",
       "      <td>219</td>\n",
       "      <td>108</td>\n",
       "      <td>190.145534</td>\n",
       "    </tr>\n",
       "    <tr>\n",
       "      <td>220</td>\n",
       "      <td>281</td>\n",
       "      <td>271.533875</td>\n",
       "    </tr>\n",
       "    <tr>\n",
       "      <td>221</td>\n",
       "      <td>156</td>\n",
       "      <td>85.986222</td>\n",
       "    </tr>\n",
       "  </tbody>\n",
       "</table>\n",
       "<p>222 rows × 2 columns</p>\n",
       "</div>"
      ],
      "text/plain": [
       "     y3test  predictions3\n",
       "0    18      144.163710  \n",
       "1    128     86.674578   \n",
       "2    124     131.578143  \n",
       "3    537     282.014439  \n",
       "4    187     91.929045   \n",
       "..   ...           ...   \n",
       "217  215     114.754027  \n",
       "218  126     40.328555   \n",
       "219  108     190.145534  \n",
       "220  281     271.533875  \n",
       "221  156     85.986222   \n",
       "\n",
       "[222 rows x 2 columns]"
      ]
     },
     "execution_count": 153,
     "metadata": {},
     "output_type": "execute_result"
    }
   ],
   "source": [
    "qqqq = dict(zip(y3_test, predictions3))\n",
    "testframe3 = pd.DataFrame(list(qqqq.items()), columns=['y3test', 'predictions3'])\n",
    "testframe3"
   ]
  },
  {
   "cell_type": "code",
   "execution_count": 154,
   "metadata": {},
   "outputs": [],
   "source": [
    "writer = pd.ExcelWriter('testframe3.xlsx', engine='xlsxwriter')\n",
    "\n",
    "testframe3.to_excel(writer,\n",
    "                  sheet_name='Sheet_name_1')\n",
    "\n",
    "writer.save()"
   ]
  },
  {
   "cell_type": "code",
   "execution_count": 155,
   "metadata": {},
   "outputs": [
    {
     "data": {
      "text/html": [
       "<div>\n",
       "<style scoped>\n",
       "    .dataframe tbody tr th:only-of-type {\n",
       "        vertical-align: middle;\n",
       "    }\n",
       "\n",
       "    .dataframe tbody tr th {\n",
       "        vertical-align: top;\n",
       "    }\n",
       "\n",
       "    .dataframe thead th {\n",
       "        text-align: right;\n",
       "    }\n",
       "</style>\n",
       "<table border=\"1\" class=\"dataframe\">\n",
       "  <thead>\n",
       "    <tr style=\"text-align: right;\">\n",
       "      <th></th>\n",
       "      <th>name</th>\n",
       "      <th>value</th>\n",
       "    </tr>\n",
       "  </thead>\n",
       "  <tbody>\n",
       "    <tr>\n",
       "      <td>15228</td>\n",
       "      <td>идеальным</td>\n",
       "      <td>117.004707</td>\n",
       "    </tr>\n",
       "    <tr>\n",
       "      <td>9124</td>\n",
       "      <td>важная</td>\n",
       "      <td>113.900557</td>\n",
       "    </tr>\n",
       "    <tr>\n",
       "      <td>0</td>\n",
       "      <td>intercept</td>\n",
       "      <td>110.482762</td>\n",
       "    </tr>\n",
       "    <tr>\n",
       "      <td>9252</td>\n",
       "      <td>введение</td>\n",
       "      <td>65.559931</td>\n",
       "    </tr>\n",
       "    <tr>\n",
       "      <td>22561</td>\n",
       "      <td>обратить</td>\n",
       "      <td>64.584628</td>\n",
       "    </tr>\n",
       "    <tr>\n",
       "      <td>10004</td>\n",
       "      <td>внимание</td>\n",
       "      <td>53.086023</td>\n",
       "    </tr>\n",
       "    <tr>\n",
       "      <td>19051</td>\n",
       "      <td>любимым</td>\n",
       "      <td>44.833130</td>\n",
       "    </tr>\n",
       "    <tr>\n",
       "      <td>33991</td>\n",
       "      <td>стоит</td>\n",
       "      <td>41.038458</td>\n",
       "    </tr>\n",
       "    <tr>\n",
       "      <td>17777</td>\n",
       "      <td>коротко</td>\n",
       "      <td>40.265712</td>\n",
       "    </tr>\n",
       "    <tr>\n",
       "      <td>26068</td>\n",
       "      <td>позволяя</td>\n",
       "      <td>39.958976</td>\n",
       "    </tr>\n",
       "    <tr>\n",
       "      <td>9131</td>\n",
       "      <td>важное</td>\n",
       "      <td>39.681081</td>\n",
       "    </tr>\n",
       "    <tr>\n",
       "      <td>20504</td>\n",
       "      <td>музеях</td>\n",
       "      <td>39.650930</td>\n",
       "    </tr>\n",
       "    <tr>\n",
       "      <td>30088</td>\n",
       "      <td>расположить</td>\n",
       "      <td>36.487901</td>\n",
       "    </tr>\n",
       "    <tr>\n",
       "      <td>28166</td>\n",
       "      <td>примерами</td>\n",
       "      <td>35.892003</td>\n",
       "    </tr>\n",
       "    <tr>\n",
       "      <td>37869</td>\n",
       "      <td>цикле</td>\n",
       "      <td>35.752756</td>\n",
       "    </tr>\n",
       "    <tr>\n",
       "      <td>21163</td>\n",
       "      <td>настоящему</td>\n",
       "      <td>35.751509</td>\n",
       "    </tr>\n",
       "    <tr>\n",
       "      <td>9130</td>\n",
       "      <td>важного</td>\n",
       "      <td>35.751509</td>\n",
       "    </tr>\n",
       "    <tr>\n",
       "      <td>10411</td>\n",
       "      <td>впереди</td>\n",
       "      <td>35.751509</td>\n",
       "    </tr>\n",
       "    <tr>\n",
       "      <td>27063</td>\n",
       "      <td>поступили</td>\n",
       "      <td>35.075560</td>\n",
       "    </tr>\n",
       "    <tr>\n",
       "      <td>20956</td>\n",
       "      <td>наоборот</td>\n",
       "      <td>34.329028</td>\n",
       "    </tr>\n",
       "  </tbody>\n",
       "</table>\n",
       "</div>"
      ],
      "text/plain": [
       "              name       value\n",
       "15228  идеальным    117.004707\n",
       "9124   важная       113.900557\n",
       "0      intercept    110.482762\n",
       "9252   введение     65.559931 \n",
       "22561  обратить     64.584628 \n",
       "10004  внимание     53.086023 \n",
       "19051  любимым      44.833130 \n",
       "33991  стоит        41.038458 \n",
       "17777  коротко      40.265712 \n",
       "26068  позволяя     39.958976 \n",
       "9131   важное       39.681081 \n",
       "20504  музеях       39.650930 \n",
       "30088  расположить  36.487901 \n",
       "28166  примерами    35.892003 \n",
       "37869  цикле        35.752756 \n",
       "21163  настоящему   35.751509 \n",
       "9130   важного      35.751509 \n",
       "10411  впереди      35.751509 \n",
       "27063  поступили    35.075560 \n",
       "20956  наоборот     34.329028 "
      ]
     },
     "execution_count": 155,
     "metadata": {},
     "output_type": "execute_result"
    }
   ],
   "source": [
    "from sklearn import preprocessing\n",
    "#делаем нормализацию\n",
    "min_max_scaler = preprocessing.MinMaxScaler()\n",
    "X_scaled = min_max_scaler.fit_transform(X)\n",
    "\n",
    "X_train, X_test, y_train, y_test = train_test_split(X_scaled, y, test_size=0.31, random_state=120)\n",
    "\n",
    "lm = LinearRegression()\n",
    "lm.fit(X_train,y_train)\n",
    "\n",
    "nnname = ['intercept']\n",
    "nnname = [*nnname, *vval]\n",
    "\n",
    "vvval = [lm.intercept_]\n",
    "\n",
    "for i in lm.coef_:\n",
    "    vvval.append(i)\n",
    "\n",
    "\n",
    "regg = dict(zip(nnname, vvval))\n",
    "\n",
    "logframe = pd.DataFrame(list(regg.items()), columns=['name', 'value'])\n",
    "\n",
    "logframe2 = logframe.sort_values(['value'], ascending=[False])\n",
    "\n",
    "#анти-цифры-код\n",
    "logframe2['name'] = logframe2['name'].str.replace('\\d+', '')\n",
    "\n",
    "logframe2 = logframe.sort_values(['value'], ascending=[False])\n",
    "\n",
    "logframe2['name'] = logframe2['name'].str.replace('\\d+', '')\n",
    "logframe2 = logframe2[logframe2.name != '']\n",
    "\n",
    "logframe2.head(20)"
   ]
  },
  {
   "cell_type": "code",
   "execution_count": 156,
   "metadata": {},
   "outputs": [
    {
     "data": {
      "text/html": [
       "<div>\n",
       "<style scoped>\n",
       "    .dataframe tbody tr th:only-of-type {\n",
       "        vertical-align: middle;\n",
       "    }\n",
       "\n",
       "    .dataframe tbody tr th {\n",
       "        vertical-align: top;\n",
       "    }\n",
       "\n",
       "    .dataframe thead th {\n",
       "        text-align: right;\n",
       "    }\n",
       "</style>\n",
       "<table border=\"1\" class=\"dataframe\">\n",
       "  <thead>\n",
       "    <tr style=\"text-align: right;\">\n",
       "      <th></th>\n",
       "      <th>name</th>\n",
       "      <th>value</th>\n",
       "    </tr>\n",
       "  </thead>\n",
       "  <tbody>\n",
       "    <tr>\n",
       "      <td>27711</td>\n",
       "      <td>презентация</td>\n",
       "      <td>-20.602138</td>\n",
       "    </tr>\n",
       "    <tr>\n",
       "      <td>28842</td>\n",
       "      <td>пролетело</td>\n",
       "      <td>-20.724576</td>\n",
       "    </tr>\n",
       "    <tr>\n",
       "      <td>38516</td>\n",
       "      <td>штудировать</td>\n",
       "      <td>-20.724576</td>\n",
       "    </tr>\n",
       "    <tr>\n",
       "      <td>25522</td>\n",
       "      <td>повод</td>\n",
       "      <td>-20.895387</td>\n",
       "    </tr>\n",
       "    <tr>\n",
       "      <td>27278</td>\n",
       "      <td>появилась</td>\n",
       "      <td>-20.962204</td>\n",
       "    </tr>\n",
       "    <tr>\n",
       "      <td>30936</td>\n",
       "      <td>розыгрыша</td>\n",
       "      <td>-21.281188</td>\n",
       "    </tr>\n",
       "    <tr>\n",
       "      <td>21373</td>\n",
       "      <td>наша</td>\n",
       "      <td>-21.482853</td>\n",
       "    </tr>\n",
       "    <tr>\n",
       "      <td>20147</td>\n",
       "      <td>многочисленных</td>\n",
       "      <td>-21.571615</td>\n",
       "    </tr>\n",
       "    <tr>\n",
       "      <td>7472</td>\n",
       "      <td>анастасия</td>\n",
       "      <td>-21.630037</td>\n",
       "    </tr>\n",
       "    <tr>\n",
       "      <td>34487</td>\n",
       "      <td>схемах</td>\n",
       "      <td>-23.454877</td>\n",
       "    </tr>\n",
       "    <tr>\n",
       "      <td>12135</td>\n",
       "      <td>дайджест</td>\n",
       "      <td>-24.127813</td>\n",
       "    </tr>\n",
       "    <tr>\n",
       "      <td>34493</td>\n",
       "      <td>сходить</td>\n",
       "      <td>-25.171304</td>\n",
       "    </tr>\n",
       "    <tr>\n",
       "      <td>12136</td>\n",
       "      <td>дайджеста</td>\n",
       "      <td>-25.341415</td>\n",
       "    </tr>\n",
       "    <tr>\n",
       "      <td>19496</td>\n",
       "      <td>материале</td>\n",
       "      <td>-25.755554</td>\n",
       "    </tr>\n",
       "    <tr>\n",
       "      <td>32753</td>\n",
       "      <td>событий</td>\n",
       "      <td>-28.731845</td>\n",
       "    </tr>\n",
       "    <tr>\n",
       "      <td>10526</td>\n",
       "      <td>вспоминаем</td>\n",
       "      <td>-29.542953</td>\n",
       "    </tr>\n",
       "    <tr>\n",
       "      <td>21479</td>\n",
       "      <td>неделе</td>\n",
       "      <td>-32.540124</td>\n",
       "    </tr>\n",
       "    <tr>\n",
       "      <td>15249</td>\n",
       "      <td>идеями</td>\n",
       "      <td>-34.534487</td>\n",
       "    </tr>\n",
       "    <tr>\n",
       "      <td>9551</td>\n",
       "      <td>вечера</td>\n",
       "      <td>-36.591174</td>\n",
       "    </tr>\n",
       "    <tr>\n",
       "      <td>12137</td>\n",
       "      <td>дайджесте</td>\n",
       "      <td>-39.251449</td>\n",
       "    </tr>\n",
       "  </tbody>\n",
       "</table>\n",
       "</div>"
      ],
      "text/plain": [
       "                 name      value\n",
       "27711  презентация    -20.602138\n",
       "28842  пролетело      -20.724576\n",
       "38516  штудировать    -20.724576\n",
       "25522  повод          -20.895387\n",
       "27278  появилась      -20.962204\n",
       "30936  розыгрыша      -21.281188\n",
       "21373  наша           -21.482853\n",
       "20147  многочисленных -21.571615\n",
       "7472   анастасия      -21.630037\n",
       "34487  схемах         -23.454877\n",
       "12135  дайджест       -24.127813\n",
       "34493  сходить        -25.171304\n",
       "12136  дайджеста      -25.341415\n",
       "19496  материале      -25.755554\n",
       "32753  событий        -28.731845\n",
       "10526  вспоминаем     -29.542953\n",
       "21479  неделе         -32.540124\n",
       "15249  идеями         -34.534487\n",
       "9551   вечера         -36.591174\n",
       "12137  дайджесте      -39.251449"
      ]
     },
     "execution_count": 156,
     "metadata": {},
     "output_type": "execute_result"
    }
   ],
   "source": [
    "logframe2.tail(20)"
   ]
  },
  {
   "cell_type": "code",
   "execution_count": 157,
   "metadata": {},
   "outputs": [
    {
     "name": "stdout",
     "output_type": "stream",
     "text": [
      "Средняя абсолютная ошибка 0.00\n",
      "Средняя квадратичная ошибка 0.00\n"
     ]
    }
   ],
   "source": [
    "y_hat = lm.predict(X_train)\n",
    "print('Средняя абсолютная ошибка %.2f' % mean_absolute_error(y_train, y_hat))\n",
    "print('Средняя квадратичная ошибка %.2f' % mean_squared_error(y_train, y_hat))"
   ]
  },
  {
   "cell_type": "code",
   "execution_count": 158,
   "metadata": {},
   "outputs": [
    {
     "data": {
      "text/plain": [
       "1.0"
      ]
     },
     "execution_count": 158,
     "metadata": {},
     "output_type": "execute_result"
    }
   ],
   "source": [
    "r2_score(y_train, y_hat)"
   ]
  },
  {
   "cell_type": "code",
   "execution_count": 159,
   "metadata": {},
   "outputs": [
    {
     "name": "stdout",
     "output_type": "stream",
     "text": [
      "[['name', 'value'], ['идеальным', 117.00470749069576], ['важная', 113.90055676456763], ['intercept', 110.4827620925532], ['введение', 65.55993136771224], ['обратить', 64.58462804725667], ['внимание', 53.086022808915615], ['любимым', 44.833130359553316], ['стоит', 41.03845839476214], ['коротко', 40.265712079307214], ['позволяя', 39.958975567303014], ['важное', 39.68108058894928], ['музеях', 39.6509297971602], ['расположить', 36.48790149733457], ['примерами', 35.89200310029861], ['цикле', 35.75275627897716], ['настоящему', 35.75150932690417], ['важного', 35.75150932690417], ['впереди', 35.75150932690417], ['поступили', 35.075559636863915]]\n"
     ]
    }
   ],
   "source": [
    "Products_list = [logframe2.columns.values.tolist()] + logframe2.values.tolist()\n",
    "print (Products_list[:20])"
   ]
  },
  {
   "cell_type": "code",
   "execution_count": 160,
   "metadata": {},
   "outputs": [],
   "source": [
    "writer = pd.ExcelWriter('logframealltext.xlsx', engine='xlsxwriter')\n",
    "\n",
    "logframe2.to_excel(writer,\n",
    "                  sheet_name='Sheet_name_1')\n",
    "\n",
    "writer.save()"
   ]
  },
  {
   "cell_type": "markdown",
   "metadata": {},
   "source": [
    "опять-таки высокая точность модели, но если посмотреть на результат по весам, то становится ясно, что в практических целях она слабо применима. Как слово \"но\" может сильно влиять на количество действий, это выглядит странно и не подходит для определения тем."
   ]
  },
  {
   "cell_type": "code",
   "execution_count": null,
   "metadata": {},
   "outputs": [],
   "source": []
  },
  {
   "cell_type": "code",
   "execution_count": 161,
   "metadata": {},
   "outputs": [],
   "source": [
    "import statsmodels.api as sm"
   ]
  },
  {
   "cell_type": "code",
   "execution_count": 162,
   "metadata": {},
   "outputs": [],
   "source": [
    "X_train2 = np.c_[X_train, np.ones_like(X_train)]"
   ]
  },
  {
   "cell_type": "raw",
   "metadata": {},
   "source": [
    "X_train2 = np.c_[X_train, np.ones_like(X_train)]\n",
    "ols = sm.OLS(y_train, exog=X_train2)\n",
    "model = ols.fit()\n",
    "model.summary2() #шоб как в спсс"
   ]
  },
  {
   "cell_type": "markdown",
   "metadata": {},
   "source": [
    "# КОРРЕЛЯЦИЯ ДЛИНЫ И ДЕЙСТВИЙ"
   ]
  },
  {
   "cell_type": "code",
   "execution_count": 164,
   "metadata": {},
   "outputs": [],
   "source": [
    "df['dlina'] = df['text'].str.count(' ') + 1"
   ]
  },
  {
   "cell_type": "code",
   "execution_count": 165,
   "metadata": {},
   "outputs": [],
   "source": [
    "from scipy.stats.stats import pearsonr\n",
    "\n",
    "pearson_fin = []\n",
    "\n",
    "pearson_fin.append(pearsonr(df['total_actions'], df['dlina']))"
   ]
  },
  {
   "cell_type": "code",
   "execution_count": 166,
   "metadata": {},
   "outputs": [
    {
     "data": {
      "text/html": [
       "<div>\n",
       "<style scoped>\n",
       "    .dataframe tbody tr th:only-of-type {\n",
       "        vertical-align: middle;\n",
       "    }\n",
       "\n",
       "    .dataframe tbody tr th {\n",
       "        vertical-align: top;\n",
       "    }\n",
       "\n",
       "    .dataframe thead th {\n",
       "        text-align: right;\n",
       "    }\n",
       "</style>\n",
       "<table border=\"1\" class=\"dataframe\">\n",
       "  <thead>\n",
       "    <tr style=\"text-align: right;\">\n",
       "      <th></th>\n",
       "      <th>correlation</th>\n",
       "      <th>pvalue</th>\n",
       "    </tr>\n",
       "  </thead>\n",
       "  <tbody>\n",
       "    <tr>\n",
       "      <td>0</td>\n",
       "      <td>0.21106</td>\n",
       "      <td>0.0</td>\n",
       "    </tr>\n",
       "  </tbody>\n",
       "</table>\n",
       "</div>"
      ],
      "text/plain": [
       "   correlation  pvalue\n",
       "0  0.21106      0.0   "
      ]
     },
     "execution_count": 166,
     "metadata": {},
     "output_type": "execute_result"
    }
   ],
   "source": [
    "pearson_frame = pd.DataFrame(pearson_fin)\n",
    "\n",
    "pearson_frame = pearson_frame.astype(np.float16)\n",
    "pearson_frame.rename(columns={0: 'correlation', 1: 'pvalue'}, inplace=True)\n",
    "\n",
    "pearson_frame"
   ]
  },
  {
   "cell_type": "markdown",
   "metadata": {},
   "source": [
    "Соответственно, корреляция значимая, слабая прямая. То есть, читатели the vyshka немного склонны к лонгридам и объемным постам, вот такой небольшой инсайт по контенту\n",
    "\n",
    "Корреляцию пирсона мы использовали, так как коррелируем шкалы scale со scale"
   ]
  },
  {
   "cell_type": "markdown",
   "metadata": {},
   "source": [
    "# РАСПРЕДЕЛЕНИЕ ДЕЙСТВИЙ ПО ВРЕМЕНИ"
   ]
  },
  {
   "cell_type": "code",
   "execution_count": 167,
   "metadata": {},
   "outputs": [
    {
     "name": "stdout",
     "output_type": "stream",
     "text": [
      "<class 'pandas.core.frame.DataFrame'>\n",
      "Int64Index: 1479 entries, 0 to 1478\n",
      "Data columns (total 2 columns):\n",
      "total_actions    1479 non-null int64\n",
      "Time             1479 non-null object\n",
      "dtypes: int64(1), object(1)\n",
      "memory usage: 34.7+ KB\n"
     ]
    }
   ],
   "source": [
    "nwedf = df.copy()\n",
    "nwedf.drop('from_id', axis=1, inplace=True)\n",
    "nwedf.drop('id', axis=1, inplace=True)\n",
    "nwedf.drop('text', axis=1, inplace=True)\n",
    "nwedf.drop('date', axis=1, inplace=True)\n",
    "nwedf.drop('likes', axis=1, inplace=True)\n",
    "nwedf.drop('reposts', axis=1, inplace=True)\n",
    "nwedf.drop('comments', axis=1, inplace=True)\n",
    "nwedf.drop('views', axis=1, inplace=True)\n",
    "nwedf.drop('date_norm', axis=1, inplace=True)\n",
    "nwedf.drop('Date', axis=1, inplace=True)\n",
    "nwedf.drop('dlina', axis=1, inplace=True)\n",
    "nwedf.info()"
   ]
  },
  {
   "cell_type": "code",
   "execution_count": 168,
   "metadata": {},
   "outputs": [
    {
     "data": {
      "text/html": [
       "<div>\n",
       "<style scoped>\n",
       "    .dataframe tbody tr th:only-of-type {\n",
       "        vertical-align: middle;\n",
       "    }\n",
       "\n",
       "    .dataframe tbody tr th {\n",
       "        vertical-align: top;\n",
       "    }\n",
       "\n",
       "    .dataframe thead th {\n",
       "        text-align: right;\n",
       "    }\n",
       "</style>\n",
       "<table border=\"1\" class=\"dataframe\">\n",
       "  <thead>\n",
       "    <tr style=\"text-align: right;\">\n",
       "      <th></th>\n",
       "      <th>total_actions</th>\n",
       "    </tr>\n",
       "    <tr>\n",
       "      <th>Time</th>\n",
       "      <th></th>\n",
       "    </tr>\n",
       "  </thead>\n",
       "  <tbody>\n",
       "    <tr>\n",
       "      <td>00</td>\n",
       "      <td>193.000000</td>\n",
       "    </tr>\n",
       "    <tr>\n",
       "      <td>01</td>\n",
       "      <td>90.750000</td>\n",
       "    </tr>\n",
       "    <tr>\n",
       "      <td>07</td>\n",
       "      <td>35.000000</td>\n",
       "    </tr>\n",
       "    <tr>\n",
       "      <td>08</td>\n",
       "      <td>258.333333</td>\n",
       "    </tr>\n",
       "    <tr>\n",
       "      <td>09</td>\n",
       "      <td>400.000000</td>\n",
       "    </tr>\n",
       "    <tr>\n",
       "      <td>10</td>\n",
       "      <td>70.750000</td>\n",
       "    </tr>\n",
       "    <tr>\n",
       "      <td>11</td>\n",
       "      <td>158.527174</td>\n",
       "    </tr>\n",
       "    <tr>\n",
       "      <td>12</td>\n",
       "      <td>190.404145</td>\n",
       "    </tr>\n",
       "    <tr>\n",
       "      <td>13</td>\n",
       "      <td>221.136364</td>\n",
       "    </tr>\n",
       "    <tr>\n",
       "      <td>14</td>\n",
       "      <td>147.166667</td>\n",
       "    </tr>\n",
       "    <tr>\n",
       "      <td>15</td>\n",
       "      <td>160.975904</td>\n",
       "    </tr>\n",
       "    <tr>\n",
       "      <td>16</td>\n",
       "      <td>164.240000</td>\n",
       "    </tr>\n",
       "    <tr>\n",
       "      <td>17</td>\n",
       "      <td>181.169492</td>\n",
       "    </tr>\n",
       "    <tr>\n",
       "      <td>18</td>\n",
       "      <td>113.258503</td>\n",
       "    </tr>\n",
       "    <tr>\n",
       "      <td>19</td>\n",
       "      <td>140.229167</td>\n",
       "    </tr>\n",
       "    <tr>\n",
       "      <td>20</td>\n",
       "      <td>130.055556</td>\n",
       "    </tr>\n",
       "    <tr>\n",
       "      <td>21</td>\n",
       "      <td>89.584270</td>\n",
       "    </tr>\n",
       "    <tr>\n",
       "      <td>22</td>\n",
       "      <td>123.690476</td>\n",
       "    </tr>\n",
       "    <tr>\n",
       "      <td>23</td>\n",
       "      <td>157.285714</td>\n",
       "    </tr>\n",
       "  </tbody>\n",
       "</table>\n",
       "</div>"
      ],
      "text/plain": [
       "      total_actions\n",
       "Time               \n",
       "00    193.000000   \n",
       "01    90.750000    \n",
       "07    35.000000    \n",
       "08    258.333333   \n",
       "09    400.000000   \n",
       "10    70.750000    \n",
       "11    158.527174   \n",
       "12    190.404145   \n",
       "13    221.136364   \n",
       "14    147.166667   \n",
       "15    160.975904   \n",
       "16    164.240000   \n",
       "17    181.169492   \n",
       "18    113.258503   \n",
       "19    140.229167   \n",
       "20    130.055556   \n",
       "21    89.584270    \n",
       "22    123.690476   \n",
       "23    157.285714   "
      ]
     },
     "execution_count": 168,
     "metadata": {},
     "output_type": "execute_result"
    }
   ],
   "source": [
    "nwedf.groupby('Time').mean()"
   ]
  },
  {
   "cell_type": "code",
   "execution_count": 169,
   "metadata": {},
   "outputs": [
    {
     "data": {
      "application/vnd.plotly.v1+json": {
       "config": {
        "plotlyServerURL": "https://plot.ly"
       },
       "data": [
        {
         "alignmentgroup": "True",
         "bingroup": "x",
         "histfunc": "avg",
         "hoverlabel": {
          "namelength": 0
         },
         "hovertemplate": "Time=%{x}<br>avg of total_actions=%{y}",
         "legendgroup": "",
         "marker": {
          "color": "#636efa"
         },
         "name": "",
         "offsetgroup": "",
         "orientation": "v",
         "showlegend": false,
         "type": "histogram",
         "x": [
          "09",
          "21",
          "18",
          "15",
          "11",
          "21",
          "18",
          "11",
          "21",
          "18",
          "15",
          "11",
          "21",
          "18",
          "11",
          "11",
          "22",
          "18",
          "15",
          "11",
          "21",
          "15",
          "11",
          "21",
          "18",
          "14",
          "11",
          "21",
          "18",
          "15",
          "11",
          "21",
          "18",
          "11",
          "21",
          "18",
          "15",
          "11",
          "21",
          "18",
          "15",
          "11",
          "22",
          "18",
          "15",
          "11",
          "22",
          "18",
          "15",
          "11",
          "22",
          "18",
          "15",
          "11",
          "22",
          "18",
          "15",
          "11",
          "21",
          "20",
          "11",
          "21",
          "18",
          "15",
          "11",
          "21",
          "18",
          "15",
          "11",
          "22",
          "18",
          "15",
          "11",
          "21",
          "18",
          "15",
          "11",
          "21",
          "18",
          "15",
          "11",
          "21",
          "15",
          "11",
          "21",
          "18",
          "16",
          "11",
          "21",
          "18",
          "15",
          "11",
          "21",
          "18",
          "15",
          "11",
          "21",
          "18",
          "15",
          "11",
          "15",
          "11",
          "21",
          "18",
          "15",
          "11",
          "21",
          "18",
          "15",
          "11",
          "22",
          "18",
          "15",
          "11",
          "21",
          "18",
          "15",
          "11",
          "21",
          "18",
          "15",
          "11",
          "10",
          "23",
          "19",
          "15",
          "11",
          "21",
          "18",
          "15",
          "11",
          "21",
          "18",
          "15",
          "11",
          "21",
          "18",
          "15",
          "11",
          "21",
          "18",
          "15",
          "11",
          "21",
          "18",
          "15",
          "11",
          "18",
          "15",
          "11",
          "22",
          "18",
          "15",
          "11",
          "21",
          "18",
          "15",
          "11",
          "21",
          "18",
          "15",
          "11",
          "21",
          "18",
          "15",
          "11",
          "22",
          "18",
          "15",
          "11",
          "21",
          "18",
          "15",
          "11",
          "22",
          "18",
          "15",
          "12",
          "22",
          "18",
          "15",
          "11",
          "21",
          "18",
          "15",
          "11",
          "21",
          "18",
          "15",
          "11",
          "21",
          "15",
          "11",
          "23",
          "17",
          "11",
          "22",
          "17",
          "11",
          "23",
          "16",
          "11",
          "22",
          "19",
          "15",
          "11",
          "21",
          "18",
          "15",
          "11",
          "21",
          "18",
          "15",
          "11",
          "21",
          "18",
          "15",
          "11",
          "21",
          "18",
          "15",
          "11",
          "21",
          "18",
          "15",
          "11",
          "21",
          "18",
          "15",
          "11",
          "22",
          "18",
          "16",
          "11",
          "22",
          "18",
          "15",
          "11",
          "20",
          "15",
          "12",
          "21",
          "18",
          "15",
          "11",
          "21",
          "18",
          "15",
          "13",
          "00",
          "15",
          "22",
          "15",
          "12",
          "21",
          "18",
          "15",
          "12",
          "22",
          "15",
          "11",
          "01",
          "17",
          "13",
          "11",
          "19",
          "16",
          "13",
          "11",
          "21",
          "20",
          "15",
          "12",
          "22",
          "16",
          "12",
          "22",
          "19",
          "16",
          "11",
          "22",
          "18",
          "14",
          "01",
          "16",
          "12",
          "22",
          "16",
          "12",
          "23",
          "16",
          "12",
          "21",
          "16",
          "12",
          "21",
          "16",
          "12",
          "22",
          "16",
          "13",
          "22",
          "19",
          "16",
          "21",
          "17",
          "12",
          "21",
          "16",
          "12",
          "22",
          "16",
          "12",
          "21",
          "16",
          "12",
          "23",
          "16",
          "12",
          "21",
          "18",
          "14",
          "22",
          "16",
          "12",
          "22",
          "17",
          "12",
          "21",
          "16",
          "12",
          "22",
          "16",
          "12",
          "21",
          "16",
          "12",
          "21",
          "16",
          "12",
          "21",
          "16",
          "12",
          "22",
          "17",
          "12",
          "21",
          "17",
          "11",
          "22",
          "16",
          "12",
          "22",
          "17",
          "12",
          "22",
          "16",
          "12",
          "22",
          "16",
          "12",
          "21",
          "16",
          "12",
          "22",
          "16",
          "12",
          "16",
          "11",
          "09",
          "19",
          "15",
          "12",
          "21",
          "16",
          "13",
          "19",
          "16",
          "12",
          "21",
          "16",
          "12",
          "22",
          "16",
          "12",
          "22",
          "16",
          "12",
          "21",
          "16",
          "11",
          "22",
          "16",
          "13",
          "23",
          "16",
          "12",
          "21",
          "16",
          "12",
          "21",
          "16",
          "12",
          "22",
          "16",
          "13",
          "22",
          "16",
          "12",
          "22",
          "16",
          "12",
          "21",
          "16",
          "12",
          "22",
          "16",
          "12",
          "22",
          "16",
          "12",
          "01",
          "16",
          "12",
          "21",
          "15",
          "12",
          "21",
          "16",
          "12",
          "21",
          "17",
          "12",
          "22",
          "17",
          "12",
          "22",
          "17",
          "13",
          "21",
          "16",
          "12",
          "22",
          "16",
          "12",
          "21",
          "16",
          "12",
          "22",
          "16",
          "12",
          "22",
          "16",
          "12",
          "21",
          "18",
          "13",
          "21",
          "17",
          "13",
          "21",
          "18",
          "12",
          "21",
          "16",
          "12",
          "21",
          "16",
          "12",
          "22",
          "16",
          "12",
          "21",
          "16",
          "11",
          "21",
          "16",
          "13",
          "21",
          "17",
          "12",
          "21",
          "16",
          "12",
          "21",
          "16",
          "12",
          "21",
          "17",
          "13",
          "21",
          "16",
          "12",
          "21",
          "15",
          "12",
          "16",
          "12",
          "16",
          "11",
          "23",
          "22",
          "16",
          "12",
          "08",
          "22",
          "16",
          "12",
          "22",
          "16",
          "12",
          "21",
          "17",
          "13",
          "21",
          "18",
          "14",
          "19",
          "17",
          "13",
          "23",
          "17",
          "12",
          "21",
          "16",
          "12",
          "23",
          "12",
          "22",
          "17",
          "12",
          "23",
          "17",
          "12",
          "21",
          "17",
          "12",
          "22",
          "17",
          "12",
          "22",
          "16",
          "12",
          "00",
          "17",
          "12",
          "22",
          "18",
          "12",
          "21",
          "17",
          "13",
          "22",
          "17",
          "12",
          "21",
          "18",
          "13",
          "21",
          "16",
          "12",
          "21",
          "16",
          "13",
          "08",
          "21",
          "15",
          "12",
          "22",
          "16",
          "12",
          "21",
          "16",
          "12",
          "22",
          "17",
          "12",
          "19",
          "16",
          "12",
          "21",
          "16",
          "12",
          "21",
          "18",
          "13",
          "16",
          "12",
          "21",
          "17",
          "13",
          "22",
          "16",
          "13",
          "21",
          "16",
          "12",
          "21",
          "17",
          "12",
          "21",
          "16",
          "12",
          "21",
          "18",
          "13",
          "21",
          "17",
          "12",
          "21",
          "18",
          "13",
          "21",
          "16",
          "12",
          "21",
          "17",
          "12",
          "21",
          "16",
          "12",
          "21",
          "16",
          "12",
          "22",
          "17",
          "12",
          "22",
          "17",
          "12",
          "22",
          "17",
          "13",
          "21",
          "16",
          "12",
          "21",
          "16",
          "12",
          "21",
          "16",
          "12",
          "21",
          "16",
          "12",
          "21",
          "16",
          "13",
          "22",
          "17",
          "12",
          "21",
          "16",
          "12",
          "22",
          "16",
          "13",
          "22",
          "16",
          "12",
          "21",
          "17",
          "12",
          "21",
          "16",
          "11",
          "22",
          "16",
          "11",
          "21",
          "17",
          "12",
          "22",
          "18",
          "13",
          "22",
          "16",
          "13",
          "21",
          "16",
          "12",
          "22",
          "17",
          "12",
          "22",
          "16",
          "12",
          "22",
          "19",
          "12",
          "21",
          "13",
          "23",
          "18",
          "14",
          "22",
          "17",
          "14",
          "21",
          "17",
          "13",
          "21",
          "16",
          "12",
          "21",
          "16",
          "12",
          "21",
          "17",
          "12",
          "21",
          "17",
          "13",
          "22",
          "16",
          "12",
          "21",
          "16",
          "12",
          "22",
          "17",
          "12",
          "22",
          "17",
          "12",
          "21",
          "17",
          "12",
          "21",
          "18",
          "12",
          "21",
          "13",
          "22",
          "17",
          "13",
          "22",
          "16",
          "12",
          "22",
          "18",
          "12",
          "21",
          "18",
          "12",
          "21",
          "16",
          "12",
          "21",
          "16",
          "12",
          "21",
          "12",
          "21",
          "19",
          "14",
          "23",
          "17",
          "12",
          "21",
          "16",
          "12",
          "22",
          "21",
          "16",
          "12",
          "21",
          "16",
          "12",
          "21",
          "16",
          "12",
          "21",
          "16",
          "12",
          "21",
          "16",
          "12",
          "22",
          "17",
          "12",
          "21",
          "16",
          "12",
          "21",
          "17",
          "12",
          "21",
          "15",
          "12",
          "20",
          "15",
          "12",
          "21",
          "16",
          "12",
          "16",
          "12",
          "21",
          "15",
          "22",
          "17",
          "11",
          "21",
          "19",
          "12",
          "21",
          "16",
          "12",
          "22",
          "16",
          "12",
          "22",
          "16",
          "12",
          "21",
          "18",
          "15",
          "11",
          "21",
          "17",
          "21",
          "18",
          "15",
          "11",
          "21",
          "18",
          "16",
          "11",
          "21",
          "15",
          "12",
          "22",
          "16",
          "12",
          "21",
          "18",
          "15",
          "11",
          "21",
          "16",
          "12",
          "21",
          "19",
          "16",
          "22",
          "19",
          "15",
          "21",
          "15",
          "11",
          "21",
          "19",
          "15",
          "11",
          "23",
          "22",
          "18",
          "15",
          "22",
          "18",
          "15",
          "11",
          "21",
          "16",
          "12",
          "21",
          "18",
          "15",
          "11",
          "21",
          "18",
          "15",
          "11",
          "21",
          "19",
          "15",
          "11",
          "21",
          "18",
          "15",
          "23",
          "21",
          "16",
          "19",
          "11",
          "21",
          "18",
          "15",
          "12",
          "21",
          "16",
          "11",
          "22",
          "19",
          "15",
          "12",
          "23",
          "18",
          "15",
          "22",
          "20",
          "15",
          "12",
          "22",
          "15",
          "11",
          "22",
          "20",
          "16",
          "11",
          "21",
          "18",
          "16",
          "11",
          "22",
          "15",
          "11",
          "21",
          "18",
          "15",
          "11",
          "21",
          "18",
          "16",
          "12",
          "21",
          "18",
          "16",
          "12",
          "21",
          "18",
          "15",
          "11",
          "21",
          "18",
          "15",
          "11",
          "21",
          "18",
          "15",
          "11",
          "21",
          "18",
          "15",
          "12",
          "21",
          "19",
          "15",
          "12",
          "21",
          "18",
          "15",
          "12",
          "23",
          "21",
          "19",
          "15",
          "12",
          "22",
          "19",
          "15",
          "11",
          "21",
          "19",
          "15",
          "11",
          "21",
          "18",
          "15",
          "11",
          "21",
          "18",
          "16",
          "12",
          "21",
          "18",
          "15",
          "11",
          "22",
          "18",
          "15",
          "11",
          "21",
          "19",
          "16",
          "11",
          "22",
          "19",
          "15",
          "12",
          "21",
          "18",
          "15",
          "11",
          "22",
          "18",
          "15",
          "11",
          "21",
          "19",
          "15",
          "11",
          "21",
          "18",
          "15",
          "11",
          "21",
          "18",
          "15",
          "12",
          "21",
          "18",
          "15",
          "11",
          "21",
          "18",
          "15",
          "11",
          "21",
          "19",
          "15",
          "12",
          "21",
          "16",
          "11",
          "21",
          "16",
          "11",
          "21",
          "16",
          "12",
          "21",
          "16",
          "12",
          "21",
          "17",
          "12",
          "21",
          "17",
          "12",
          "21",
          "17",
          "12",
          "23",
          "14",
          "22",
          "16",
          "12",
          "21",
          "18",
          "15",
          "11",
          "21",
          "15",
          "11",
          "20",
          "16",
          "11",
          "21",
          "15",
          "11",
          "21",
          "15",
          "11",
          "21",
          "15",
          "11",
          "20",
          "15",
          "11",
          "21",
          "18",
          "15",
          "11",
          "18",
          "15",
          "11",
          "21",
          "18",
          "15",
          "11",
          "21",
          "18",
          "15",
          "11",
          "21",
          "18",
          "15",
          "11",
          "22",
          "18",
          "15",
          "12",
          "21",
          "19",
          "16",
          "13",
          "22",
          "18",
          "15",
          "11",
          "21",
          "18",
          "15",
          "11",
          "22",
          "18",
          "16",
          "11",
          "21",
          "19",
          "15",
          "11",
          "21",
          "18",
          "15",
          "11",
          "21",
          "19",
          "15",
          "11",
          "20",
          "19",
          "17",
          "13",
          "21",
          "19",
          "16",
          "12",
          "21",
          "18",
          "16",
          "11",
          "22",
          "18",
          "15",
          "11",
          "21",
          "20",
          "18",
          "15",
          "12",
          "23",
          "21",
          "16",
          "12",
          "22",
          "15",
          "12",
          "22",
          "21",
          "19",
          "16",
          "12",
          "21",
          "18",
          "16",
          "11",
          "21",
          "19",
          "15",
          "08",
          "18",
          "15",
          "11",
          "22",
          "18",
          "16",
          "12",
          "22",
          "15",
          "11",
          "22",
          "20",
          "18",
          "15",
          "11",
          "21",
          "16",
          "11",
          "21",
          "18",
          "12",
          "20",
          "17",
          "13",
          "21",
          "19",
          "13",
          "22",
          "19",
          "15",
          "11",
          "21",
          "18",
          "15",
          "11",
          "22",
          "16",
          "11",
          "21",
          "19",
          "16",
          "13",
          "21",
          "18",
          "15",
          "11",
          "21",
          "18",
          "15",
          "11",
          "21",
          "18",
          "15",
          "11",
          "21",
          "18",
          "15",
          "12",
          "21",
          "15",
          "11",
          "22",
          "18",
          "15",
          "11",
          "22",
          "18",
          "15",
          "11",
          "21",
          "17",
          "13",
          "21",
          "15",
          "13",
          "21",
          "15",
          "12",
          "21",
          "18",
          "15",
          "11",
          "21",
          "18",
          "15",
          "11",
          "20",
          "18",
          "15",
          "12",
          "21",
          "19",
          "15",
          "10",
          "22",
          "15",
          "12",
          "21",
          "16",
          "11",
          "21",
          "18",
          "15",
          "12",
          "07",
          "22",
          "16",
          "12",
          "22",
          "20",
          "19",
          "16",
          "11",
          "21",
          "19",
          "16",
          "12",
          "21",
          "16",
          "13",
          "07",
          "19",
          "15",
          "12",
          "21",
          "15",
          "11",
          "21",
          "17",
          "13",
          "21",
          "18",
          "15",
          "11",
          "21",
          "18",
          "15",
          "11",
          "21",
          "18",
          "15",
          "11",
          "21",
          "18",
          "15",
          "11",
          "22",
          "16",
          "12",
          "21",
          "19",
          "12",
          "21",
          "19",
          "15",
          "12",
          "21",
          "19",
          "15",
          "11",
          "23",
          "20",
          "15",
          "12",
          "21",
          "20",
          "18",
          "16",
          "11",
          "21",
          "19",
          "15",
          "13",
          "21",
          "18",
          "15",
          "12",
          "21",
          "19",
          "15",
          "11",
          "21",
          "18",
          "15",
          "12",
          "21",
          "18",
          "14",
          "11",
          "21",
          "19",
          "15",
          "11",
          "21",
          "18",
          "14",
          "11",
          "18",
          "16",
          "12",
          "22",
          "20",
          "19",
          "16",
          "12",
          "22",
          "16",
          "11",
          "09",
          "22",
          "16",
          "11",
          "21",
          "16",
          "11",
          "22",
          "16",
          "12",
          "22",
          "16",
          "11",
          "22",
          "18",
          "11",
          "22",
          "17",
          "12",
          "21",
          "16",
          "11",
          "21",
          "16",
          "11",
          "21",
          "16",
          "11",
          "22",
          "16",
          "12",
          "21",
          "16",
          "11",
          "21",
          "18",
          "11",
          "21",
          "16",
          "11",
          "21",
          "16",
          "11",
          "21",
          "18",
          "12",
          "21",
          "16",
          "11",
          "00",
          "16",
          "11",
          "21",
          "16",
          "11",
          "23",
          "16",
          "11",
          "22",
          "19",
          "16",
          "11",
          "21",
          "17",
          "16",
          "13",
          "11",
          "23",
          "16",
          "10",
          "22",
          "11",
          "22",
          "15",
          "11",
          "21",
          "16",
          "11",
          "21",
          "18",
          "15",
          "11",
          "21",
          "18",
          "15",
          "10",
          "21",
          "16",
          "11",
          "20",
          "16",
          "11",
          "21",
          "16",
          "11",
          "21",
          "16",
          "11",
          "22",
          "18",
          "14",
          "22",
          "12",
          "18",
          "14",
          "01",
          "17",
          "13"
         ],
         "xaxis": "x",
         "y": [
          187,
          30,
          31,
          92,
          65,
          28,
          50,
          56,
          20,
          106,
          30,
          52,
          104,
          202,
          325,
          208,
          73,
          93,
          166,
          43,
          38,
          108,
          29,
          68,
          45,
          231,
          67,
          39,
          61,
          28,
          127,
          49,
          27,
          57,
          46,
          46,
          43,
          64,
          93,
          194,
          107,
          24,
          137,
          43,
          63,
          97,
          87,
          79,
          79,
          94,
          79,
          94,
          60,
          128,
          304,
          20,
          9,
          49,
          42,
          26,
          67,
          48,
          136,
          72,
          104,
          32,
          35,
          57,
          199,
          436,
          96,
          50,
          34,
          98,
          308,
          54,
          105,
          84,
          72,
          311,
          91,
          101,
          47,
          15,
          54,
          24,
          72,
          79,
          61,
          101,
          128,
          75,
          76,
          161,
          97,
          261,
          69,
          76,
          48,
          34,
          48,
          43,
          38,
          272,
          72,
          77,
          106,
          136,
          205,
          142,
          167,
          90,
          68,
          81,
          46,
          42,
          131,
          244,
          44,
          58,
          49,
          138,
          106,
          56,
          26,
          30,
          1466,
          90,
          81,
          155,
          111,
          79,
          93,
          94,
          108,
          55,
          58,
          64,
          90,
          48,
          62,
          41,
          116,
          58,
          102,
          59,
          115,
          53,
          172,
          76,
          346,
          24,
          14,
          68,
          68,
          86,
          77,
          85,
          120,
          141,
          73,
          190,
          75,
          130,
          87,
          106,
          44,
          84,
          59,
          91,
          18,
          36,
          96,
          75,
          100,
          99,
          25,
          39,
          64,
          31,
          56,
          52,
          117,
          174,
          84,
          76,
          56,
          61,
          89,
          61,
          60,
          135,
          90,
          87,
          78,
          119,
          33,
          99,
          133,
          65,
          117,
          95,
          88,
          25,
          211,
          171,
          83,
          34,
          90,
          34,
          72,
          154,
          220,
          146,
          24,
          95,
          99,
          147,
          58,
          55,
          442,
          67,
          59,
          35,
          182,
          79,
          151,
          107,
          76,
          77,
          57,
          49,
          33,
          124,
          48,
          298,
          70,
          98,
          215,
          50,
          105,
          55,
          134,
          59,
          61,
          135,
          230,
          69,
          45,
          228,
          145,
          388,
          174,
          122,
          37,
          31,
          99,
          347,
          92,
          68,
          56,
          95,
          91,
          127,
          75,
          228,
          44,
          329,
          227,
          112,
          82,
          64,
          482,
          187,
          216,
          141,
          150,
          155,
          81,
          459,
          49,
          49,
          172,
          124,
          35,
          75,
          66,
          339,
          130,
          83,
          78,
          69,
          121,
          190,
          163,
          50,
          161,
          237,
          228,
          292,
          151,
          287,
          35,
          213,
          68,
          30,
          140,
          61,
          94,
          195,
          62,
          30,
          109,
          62,
          164,
          321,
          698,
          564,
          165,
          97,
          144,
          88,
          243,
          46,
          292,
          125,
          34,
          211,
          119,
          119,
          72,
          116,
          119,
          102,
          41,
          104,
          247,
          81,
          50,
          265,
          124,
          152,
          456,
          64,
          59,
          101,
          62,
          22,
          155,
          63,
          116,
          199,
          63,
          292,
          1763,
          105,
          167,
          31,
          46,
          264,
          138,
          140,
          78,
          93,
          63,
          11,
          97,
          233,
          115,
          658,
          57,
          644,
          499,
          115,
          354,
          66,
          166,
          136,
          87,
          40,
          353,
          37,
          145,
          130,
          117,
          57,
          17,
          15,
          70,
          109,
          143,
          31,
          210,
          451,
          142,
          148,
          201,
          70,
          138,
          1120,
          81,
          123,
          55,
          69,
          36,
          429,
          25,
          26,
          13,
          59,
          170,
          143,
          38,
          268,
          243,
          57,
          395,
          258,
          38,
          49,
          59,
          68,
          83,
          120,
          40,
          149,
          102,
          40,
          24,
          113,
          102,
          16,
          456,
          45,
          185,
          117,
          52,
          445,
          263,
          58,
          61,
          105,
          73,
          635,
          73,
          32,
          113,
          112,
          189,
          18,
          395,
          69,
          15,
          46,
          105,
          34,
          125,
          60,
          89,
          114,
          120,
          63,
          115,
          73,
          260,
          130,
          28,
          44,
          136,
          37,
          25,
          145,
          60,
          25,
          939,
          37,
          101,
          118,
          65,
          81,
          47,
          126,
          154,
          43,
          76,
          130,
          94,
          120,
          235,
          30,
          87,
          47,
          19,
          69,
          90,
          113,
          172,
          62,
          38,
          69,
          224,
          116,
          57,
          127,
          77,
          81,
          102,
          35,
          91,
          130,
          80,
          130,
          85,
          197,
          94,
          17,
          99,
          105,
          59,
          132,
          147,
          230,
          42,
          60,
          147,
          118,
          158,
          125,
          203,
          326,
          54,
          86,
          110,
          160,
          51,
          17,
          97,
          107,
          88,
          143,
          369,
          72,
          140,
          273,
          233,
          73,
          36,
          91,
          126,
          51,
          237,
          110,
          27,
          10,
          147,
          41,
          31,
          181,
          52,
          195,
          112,
          185,
          473,
          56,
          121,
          49,
          456,
          74,
          88,
          135,
          72,
          665,
          50,
          46,
          31,
          58,
          250,
          111,
          335,
          12,
          118,
          91,
          69,
          71,
          122,
          283,
          136,
          48,
          29,
          41,
          283,
          54,
          137,
          38,
          121,
          18,
          155,
          82,
          35,
          94,
          66,
          312,
          249,
          29,
          435,
          475,
          28,
          75,
          281,
          52,
          103,
          149,
          71,
          91,
          315,
          78,
          12,
          157,
          60,
          152,
          25,
          29,
          176,
          78,
          100,
          158,
          260,
          39,
          76,
          82,
          31,
          111,
          145,
          107,
          66,
          354,
          26,
          23,
          61,
          114,
          20,
          325,
          54,
          142,
          162,
          38,
          743,
          606,
          72,
          264,
          130,
          31,
          73,
          138,
          27,
          85,
          916,
          45,
          37,
          87,
          161,
          24,
          194,
          79,
          105,
          140,
          86,
          67,
          195,
          58,
          214,
          165,
          32,
          297,
          101,
          60,
          232,
          142,
          54,
          25,
          466,
          61,
          33,
          307,
          30,
          123,
          278,
          406,
          364,
          242,
          70,
          224,
          165,
          470,
          255,
          51,
          178,
          216,
          102,
          26,
          147,
          35,
          30,
          396,
          42,
          53,
          174,
          154,
          90,
          158,
          57,
          405,
          717,
          208,
          113,
          239,
          325,
          726,
          246,
          137,
          25,
          185,
          106,
          406,
          21,
          151,
          94,
          85,
          102,
          215,
          108,
          404,
          129,
          83,
          105,
          206,
          95,
          115,
          122,
          55,
          24,
          180,
          78,
          25,
          131,
          50,
          183,
          154,
          294,
          203,
          455,
          71,
          424,
          72,
          346,
          162,
          256,
          1768,
          183,
          71,
          36,
          608,
          31,
          64,
          27,
          89,
          78,
          73,
          122,
          84,
          90,
          333,
          44,
          449,
          141,
          81,
          263,
          1236,
          187,
          20,
          236,
          128,
          37,
          64,
          59,
          21,
          235,
          71,
          43,
          163,
          92,
          142,
          93,
          114,
          131,
          78,
          209,
          343,
          179,
          167,
          91,
          58,
          850,
          98,
          24,
          725,
          191,
          216,
          199,
          105,
          226,
          365,
          121,
          275,
          59,
          107,
          367,
          140,
          20,
          83,
          310,
          47,
          30,
          92,
          333,
          104,
          24,
          94,
          1026,
          93,
          146,
          140,
          68,
          43,
          167,
          54,
          74,
          170,
          380,
          66,
          541,
          187,
          166,
          228,
          16,
          122,
          25,
          187,
          75,
          29,
          127,
          44,
          173,
          81,
          345,
          148,
          35,
          106,
          60,
          95,
          65,
          91,
          169,
          103,
          149,
          588,
          96,
          104,
          694,
          28,
          90,
          41,
          479,
          185,
          104,
          24,
          229,
          157,
          96,
          31,
          736,
          97,
          59,
          117,
          122,
          65,
          66,
          244,
          125,
          98,
          27,
          103,
          21,
          119,
          22,
          111,
          82,
          69,
          18,
          185,
          1589,
          106,
          116,
          178,
          56,
          294,
          46,
          44,
          587,
          236,
          287,
          102,
          102,
          87,
          202,
          266,
          140,
          20,
          195,
          36,
          269,
          238,
          93,
          22,
          332,
          79,
          26,
          92,
          77,
          157,
          89,
          207,
          281,
          40,
          167,
          159,
          317,
          89,
          46,
          56,
          567,
          139,
          114,
          217,
          208,
          15,
          77,
          24,
          249,
          282,
          96,
          12,
          82,
          247,
          89,
          234,
          135,
          146,
          107,
          60,
          43,
          339,
          248,
          56,
          161,
          425,
          103,
          127,
          106,
          135,
          399,
          242,
          131,
          480,
          24,
          63,
          74,
          127,
          53,
          201,
          170,
          30,
          125,
          30,
          252,
          227,
          48,
          34,
          123,
          203,
          344,
          45,
          91,
          131,
          148,
          491,
          201,
          294,
          337,
          44,
          267,
          101,
          29,
          64,
          25,
          717,
          110,
          116,
          38,
          248,
          312,
          34,
          373,
          407,
          280,
          182,
          160,
          165,
          293,
          168,
          238,
          166,
          139,
          68,
          467,
          313,
          94,
          457,
          260,
          135,
          503,
          210,
          247,
          217,
          334,
          50,
          60,
          816,
          26,
          1491,
          308,
          62,
          200,
          201,
          164,
          98,
          156,
          50,
          80,
          62,
          29,
          99,
          66,
          76,
          154,
          50,
          120,
          128,
          157,
          59,
          61,
          205,
          49,
          99,
          22,
          248,
          354,
          253,
          56,
          44,
          146,
          44,
          27,
          314,
          221,
          97,
          62,
          51,
          41,
          370,
          344,
          68,
          83,
          420,
          415,
          67,
          207,
          330,
          113,
          72,
          173,
          210,
          69,
          231,
          82,
          176,
          29,
          503,
          412,
          29,
          112,
          191,
          94,
          184,
          53,
          49,
          111,
          227,
          251,
          60,
          130,
          150,
          160,
          183,
          237,
          156,
          121,
          357,
          53,
          343,
          246,
          105,
          30,
          107,
          366,
          261,
          211,
          23,
          144,
          88,
          54,
          37,
          334,
          244,
          182,
          150,
          181,
          73,
          76,
          42,
          250,
          478,
          74,
          64,
          140,
          117,
          116,
          94,
          245,
          515,
          58,
          141,
          558,
          21,
          68,
          186,
          39,
          132,
          291,
          93,
          175,
          29,
          577,
          81,
          121,
          542,
          80,
          115,
          171,
          219,
          95,
          289,
          195,
          35,
          108,
          22,
          104,
          263,
          62,
          101,
          30,
          33,
          103,
          249,
          147,
          497,
          220,
          43,
          126,
          74,
          60,
          99,
          64,
          51,
          239,
          145,
          369,
          159,
          193,
          388,
          93,
          43,
          102,
          258,
          13,
          71,
          20,
          381,
          133,
          168,
          192,
          188,
          50,
          40,
          124,
          540,
          128,
          199,
          162,
          428,
          655,
          70,
          139,
          316,
          105,
          112,
          70,
          236,
          42,
          102,
          62,
          19,
          128,
          44,
          160,
          89,
          29,
          77,
          64,
          186,
          109,
          92,
          126,
          117,
          537,
          68,
          185,
          108,
          65,
          228,
          57,
          167,
          22,
          78,
          45,
          187,
          31,
          78,
          22,
          101,
          65,
          73,
          281,
          55,
          111,
          84,
          91,
          21,
          61,
          127,
          58,
          124,
          31,
          109,
          101,
          58,
          67,
          264,
          88,
          24,
          32,
          278,
          349,
          49,
          135,
          29,
          44,
          76,
          87,
          302,
          46,
          146,
          254,
          224,
          74,
          110,
          243,
          127,
          144,
          72,
          42,
          138,
          113,
          66,
          243,
          70,
          24,
          51,
          120,
          110,
          35,
          124,
          104,
          92,
          176,
          109,
          136,
          188,
          144,
          100,
          70,
          233,
          102,
          55,
          176,
          139,
          191,
          58,
          146,
          67,
          121,
          29,
          59,
          232,
          61,
          78,
          92,
          22,
          195,
          59,
          159,
          43,
          196,
          73,
          58,
          231,
          53,
          62,
          59,
          164,
          101,
          53,
          95,
          181,
          320,
          138,
          43,
          191,
          84,
          468,
          229,
          175,
          34,
          67,
          52,
          50,
          19,
          67,
          41,
          85,
          54,
          355,
          64,
          109,
          404,
          229,
          127,
          84,
          85,
          89,
          90,
          50,
          153,
          79,
          87,
          17,
          91,
          92,
          33,
          76,
          82,
          309,
          218,
          116,
          139,
          27,
          71,
          155,
          77,
          168,
          137,
          391,
          41,
          93,
          138,
          88,
          32,
          87,
          48,
          29,
          514,
          60,
          225,
          87,
          105,
          128,
          130,
          76,
          258,
          81,
          78,
          87,
          322,
          54,
          67,
          46,
          247,
          142,
          46,
          54,
          36,
          109,
          221,
          52,
          30,
          173,
          28,
          164,
          203,
          383,
          69,
          157,
          76,
          99,
          166,
          100,
          172,
          247,
          107,
          55,
          49,
          114,
          106,
          72,
          25,
          81,
          77,
          64,
          190,
          92,
          97,
          196,
          165,
          170,
          1011,
          110,
          118,
          148,
          86,
          65,
          139,
          53,
          339,
          43,
          57,
          207,
          76,
          64,
          228
         ],
         "yaxis": "y"
        }
       ],
       "layout": {
        "barmode": "relative",
        "height": 600,
        "legend": {
         "tracegroupgap": 0
        },
        "margin": {
         "t": 60
        },
        "template": {
         "data": {
          "bar": [
           {
            "error_x": {
             "color": "#2a3f5f"
            },
            "error_y": {
             "color": "#2a3f5f"
            },
            "marker": {
             "line": {
              "color": "#E5ECF6",
              "width": 0.5
             }
            },
            "type": "bar"
           }
          ],
          "barpolar": [
           {
            "marker": {
             "line": {
              "color": "#E5ECF6",
              "width": 0.5
             }
            },
            "type": "barpolar"
           }
          ],
          "carpet": [
           {
            "aaxis": {
             "endlinecolor": "#2a3f5f",
             "gridcolor": "white",
             "linecolor": "white",
             "minorgridcolor": "white",
             "startlinecolor": "#2a3f5f"
            },
            "baxis": {
             "endlinecolor": "#2a3f5f",
             "gridcolor": "white",
             "linecolor": "white",
             "minorgridcolor": "white",
             "startlinecolor": "#2a3f5f"
            },
            "type": "carpet"
           }
          ],
          "choropleth": [
           {
            "colorbar": {
             "outlinewidth": 0,
             "ticks": ""
            },
            "type": "choropleth"
           }
          ],
          "contour": [
           {
            "colorbar": {
             "outlinewidth": 0,
             "ticks": ""
            },
            "colorscale": [
             [
              0,
              "#0d0887"
             ],
             [
              0.1111111111111111,
              "#46039f"
             ],
             [
              0.2222222222222222,
              "#7201a8"
             ],
             [
              0.3333333333333333,
              "#9c179e"
             ],
             [
              0.4444444444444444,
              "#bd3786"
             ],
             [
              0.5555555555555556,
              "#d8576b"
             ],
             [
              0.6666666666666666,
              "#ed7953"
             ],
             [
              0.7777777777777778,
              "#fb9f3a"
             ],
             [
              0.8888888888888888,
              "#fdca26"
             ],
             [
              1,
              "#f0f921"
             ]
            ],
            "type": "contour"
           }
          ],
          "contourcarpet": [
           {
            "colorbar": {
             "outlinewidth": 0,
             "ticks": ""
            },
            "type": "contourcarpet"
           }
          ],
          "heatmap": [
           {
            "colorbar": {
             "outlinewidth": 0,
             "ticks": ""
            },
            "colorscale": [
             [
              0,
              "#0d0887"
             ],
             [
              0.1111111111111111,
              "#46039f"
             ],
             [
              0.2222222222222222,
              "#7201a8"
             ],
             [
              0.3333333333333333,
              "#9c179e"
             ],
             [
              0.4444444444444444,
              "#bd3786"
             ],
             [
              0.5555555555555556,
              "#d8576b"
             ],
             [
              0.6666666666666666,
              "#ed7953"
             ],
             [
              0.7777777777777778,
              "#fb9f3a"
             ],
             [
              0.8888888888888888,
              "#fdca26"
             ],
             [
              1,
              "#f0f921"
             ]
            ],
            "type": "heatmap"
           }
          ],
          "heatmapgl": [
           {
            "colorbar": {
             "outlinewidth": 0,
             "ticks": ""
            },
            "colorscale": [
             [
              0,
              "#0d0887"
             ],
             [
              0.1111111111111111,
              "#46039f"
             ],
             [
              0.2222222222222222,
              "#7201a8"
             ],
             [
              0.3333333333333333,
              "#9c179e"
             ],
             [
              0.4444444444444444,
              "#bd3786"
             ],
             [
              0.5555555555555556,
              "#d8576b"
             ],
             [
              0.6666666666666666,
              "#ed7953"
             ],
             [
              0.7777777777777778,
              "#fb9f3a"
             ],
             [
              0.8888888888888888,
              "#fdca26"
             ],
             [
              1,
              "#f0f921"
             ]
            ],
            "type": "heatmapgl"
           }
          ],
          "histogram": [
           {
            "marker": {
             "colorbar": {
              "outlinewidth": 0,
              "ticks": ""
             }
            },
            "type": "histogram"
           }
          ],
          "histogram2d": [
           {
            "colorbar": {
             "outlinewidth": 0,
             "ticks": ""
            },
            "colorscale": [
             [
              0,
              "#0d0887"
             ],
             [
              0.1111111111111111,
              "#46039f"
             ],
             [
              0.2222222222222222,
              "#7201a8"
             ],
             [
              0.3333333333333333,
              "#9c179e"
             ],
             [
              0.4444444444444444,
              "#bd3786"
             ],
             [
              0.5555555555555556,
              "#d8576b"
             ],
             [
              0.6666666666666666,
              "#ed7953"
             ],
             [
              0.7777777777777778,
              "#fb9f3a"
             ],
             [
              0.8888888888888888,
              "#fdca26"
             ],
             [
              1,
              "#f0f921"
             ]
            ],
            "type": "histogram2d"
           }
          ],
          "histogram2dcontour": [
           {
            "colorbar": {
             "outlinewidth": 0,
             "ticks": ""
            },
            "colorscale": [
             [
              0,
              "#0d0887"
             ],
             [
              0.1111111111111111,
              "#46039f"
             ],
             [
              0.2222222222222222,
              "#7201a8"
             ],
             [
              0.3333333333333333,
              "#9c179e"
             ],
             [
              0.4444444444444444,
              "#bd3786"
             ],
             [
              0.5555555555555556,
              "#d8576b"
             ],
             [
              0.6666666666666666,
              "#ed7953"
             ],
             [
              0.7777777777777778,
              "#fb9f3a"
             ],
             [
              0.8888888888888888,
              "#fdca26"
             ],
             [
              1,
              "#f0f921"
             ]
            ],
            "type": "histogram2dcontour"
           }
          ],
          "mesh3d": [
           {
            "colorbar": {
             "outlinewidth": 0,
             "ticks": ""
            },
            "type": "mesh3d"
           }
          ],
          "parcoords": [
           {
            "line": {
             "colorbar": {
              "outlinewidth": 0,
              "ticks": ""
             }
            },
            "type": "parcoords"
           }
          ],
          "scatter": [
           {
            "marker": {
             "colorbar": {
              "outlinewidth": 0,
              "ticks": ""
             }
            },
            "type": "scatter"
           }
          ],
          "scatter3d": [
           {
            "line": {
             "colorbar": {
              "outlinewidth": 0,
              "ticks": ""
             }
            },
            "marker": {
             "colorbar": {
              "outlinewidth": 0,
              "ticks": ""
             }
            },
            "type": "scatter3d"
           }
          ],
          "scattercarpet": [
           {
            "marker": {
             "colorbar": {
              "outlinewidth": 0,
              "ticks": ""
             }
            },
            "type": "scattercarpet"
           }
          ],
          "scattergeo": [
           {
            "marker": {
             "colorbar": {
              "outlinewidth": 0,
              "ticks": ""
             }
            },
            "type": "scattergeo"
           }
          ],
          "scattergl": [
           {
            "marker": {
             "colorbar": {
              "outlinewidth": 0,
              "ticks": ""
             }
            },
            "type": "scattergl"
           }
          ],
          "scattermapbox": [
           {
            "marker": {
             "colorbar": {
              "outlinewidth": 0,
              "ticks": ""
             }
            },
            "type": "scattermapbox"
           }
          ],
          "scatterpolar": [
           {
            "marker": {
             "colorbar": {
              "outlinewidth": 0,
              "ticks": ""
             }
            },
            "type": "scatterpolar"
           }
          ],
          "scatterpolargl": [
           {
            "marker": {
             "colorbar": {
              "outlinewidth": 0,
              "ticks": ""
             }
            },
            "type": "scatterpolargl"
           }
          ],
          "scatterternary": [
           {
            "marker": {
             "colorbar": {
              "outlinewidth": 0,
              "ticks": ""
             }
            },
            "type": "scatterternary"
           }
          ],
          "surface": [
           {
            "colorbar": {
             "outlinewidth": 0,
             "ticks": ""
            },
            "colorscale": [
             [
              0,
              "#0d0887"
             ],
             [
              0.1111111111111111,
              "#46039f"
             ],
             [
              0.2222222222222222,
              "#7201a8"
             ],
             [
              0.3333333333333333,
              "#9c179e"
             ],
             [
              0.4444444444444444,
              "#bd3786"
             ],
             [
              0.5555555555555556,
              "#d8576b"
             ],
             [
              0.6666666666666666,
              "#ed7953"
             ],
             [
              0.7777777777777778,
              "#fb9f3a"
             ],
             [
              0.8888888888888888,
              "#fdca26"
             ],
             [
              1,
              "#f0f921"
             ]
            ],
            "type": "surface"
           }
          ],
          "table": [
           {
            "cells": {
             "fill": {
              "color": "#EBF0F8"
             },
             "line": {
              "color": "white"
             }
            },
            "header": {
             "fill": {
              "color": "#C8D4E3"
             },
             "line": {
              "color": "white"
             }
            },
            "type": "table"
           }
          ]
         },
         "layout": {
          "annotationdefaults": {
           "arrowcolor": "#2a3f5f",
           "arrowhead": 0,
           "arrowwidth": 1
          },
          "colorscale": {
           "diverging": [
            [
             0,
             "#8e0152"
            ],
            [
             0.1,
             "#c51b7d"
            ],
            [
             0.2,
             "#de77ae"
            ],
            [
             0.3,
             "#f1b6da"
            ],
            [
             0.4,
             "#fde0ef"
            ],
            [
             0.5,
             "#f7f7f7"
            ],
            [
             0.6,
             "#e6f5d0"
            ],
            [
             0.7,
             "#b8e186"
            ],
            [
             0.8,
             "#7fbc41"
            ],
            [
             0.9,
             "#4d9221"
            ],
            [
             1,
             "#276419"
            ]
           ],
           "sequential": [
            [
             0,
             "#0d0887"
            ],
            [
             0.1111111111111111,
             "#46039f"
            ],
            [
             0.2222222222222222,
             "#7201a8"
            ],
            [
             0.3333333333333333,
             "#9c179e"
            ],
            [
             0.4444444444444444,
             "#bd3786"
            ],
            [
             0.5555555555555556,
             "#d8576b"
            ],
            [
             0.6666666666666666,
             "#ed7953"
            ],
            [
             0.7777777777777778,
             "#fb9f3a"
            ],
            [
             0.8888888888888888,
             "#fdca26"
            ],
            [
             1,
             "#f0f921"
            ]
           ],
           "sequentialminus": [
            [
             0,
             "#0d0887"
            ],
            [
             0.1111111111111111,
             "#46039f"
            ],
            [
             0.2222222222222222,
             "#7201a8"
            ],
            [
             0.3333333333333333,
             "#9c179e"
            ],
            [
             0.4444444444444444,
             "#bd3786"
            ],
            [
             0.5555555555555556,
             "#d8576b"
            ],
            [
             0.6666666666666666,
             "#ed7953"
            ],
            [
             0.7777777777777778,
             "#fb9f3a"
            ],
            [
             0.8888888888888888,
             "#fdca26"
            ],
            [
             1,
             "#f0f921"
            ]
           ]
          },
          "colorway": [
           "#636efa",
           "#EF553B",
           "#00cc96",
           "#ab63fa",
           "#FFA15A",
           "#19d3f3",
           "#FF6692",
           "#B6E880",
           "#FF97FF",
           "#FECB52"
          ],
          "font": {
           "color": "#2a3f5f"
          },
          "geo": {
           "bgcolor": "white",
           "lakecolor": "white",
           "landcolor": "#E5ECF6",
           "showlakes": true,
           "showland": true,
           "subunitcolor": "white"
          },
          "hoverlabel": {
           "align": "left"
          },
          "hovermode": "closest",
          "mapbox": {
           "style": "light"
          },
          "paper_bgcolor": "white",
          "plot_bgcolor": "#E5ECF6",
          "polar": {
           "angularaxis": {
            "gridcolor": "white",
            "linecolor": "white",
            "ticks": ""
           },
           "bgcolor": "#E5ECF6",
           "radialaxis": {
            "gridcolor": "white",
            "linecolor": "white",
            "ticks": ""
           }
          },
          "scene": {
           "xaxis": {
            "backgroundcolor": "#E5ECF6",
            "gridcolor": "white",
            "gridwidth": 2,
            "linecolor": "white",
            "showbackground": true,
            "ticks": "",
            "zerolinecolor": "white"
           },
           "yaxis": {
            "backgroundcolor": "#E5ECF6",
            "gridcolor": "white",
            "gridwidth": 2,
            "linecolor": "white",
            "showbackground": true,
            "ticks": "",
            "zerolinecolor": "white"
           },
           "zaxis": {
            "backgroundcolor": "#E5ECF6",
            "gridcolor": "white",
            "gridwidth": 2,
            "linecolor": "white",
            "showbackground": true,
            "ticks": "",
            "zerolinecolor": "white"
           }
          },
          "shapedefaults": {
           "line": {
            "color": "#2a3f5f"
           }
          },
          "ternary": {
           "aaxis": {
            "gridcolor": "white",
            "linecolor": "white",
            "ticks": ""
           },
           "baxis": {
            "gridcolor": "white",
            "linecolor": "white",
            "ticks": ""
           },
           "bgcolor": "#E5ECF6",
           "caxis": {
            "gridcolor": "white",
            "linecolor": "white",
            "ticks": ""
           }
          },
          "title": {
           "x": 0.05
          },
          "xaxis": {
           "automargin": true,
           "gridcolor": "white",
           "linecolor": "white",
           "ticks": "",
           "zerolinecolor": "white",
           "zerolinewidth": 2
          },
          "yaxis": {
           "automargin": true,
           "gridcolor": "white",
           "linecolor": "white",
           "ticks": "",
           "zerolinecolor": "white",
           "zerolinewidth": 2
          }
         }
        },
        "xaxis": {
         "anchor": "y",
         "domain": [
          0,
          0.98
         ],
         "title": {
          "text": "Time"
         }
        },
        "yaxis": {
         "anchor": "x",
         "domain": [
          0,
          1
         ],
         "title": {
          "text": "avg of total_actions"
         }
        }
       }
      },
      "text/html": [
       "<div>\n",
       "        \n",
       "        \n",
       "            <div id=\"da1d051c-9c8a-48c4-82a2-e5e780158632\" class=\"plotly-graph-div\" style=\"height:600px; width:100%;\"></div>\n",
       "            <script type=\"text/javascript\">\n",
       "                require([\"plotly\"], function(Plotly) {\n",
       "                    window.PLOTLYENV=window.PLOTLYENV || {};\n",
       "                    \n",
       "                if (document.getElementById(\"da1d051c-9c8a-48c4-82a2-e5e780158632\")) {\n",
       "                    Plotly.newPlot(\n",
       "                        'da1d051c-9c8a-48c4-82a2-e5e780158632',\n",
       "                        [{\"alignmentgroup\": \"True\", \"bingroup\": \"x\", \"histfunc\": \"avg\", \"hoverlabel\": {\"namelength\": 0}, \"hovertemplate\": \"Time=%{x}<br>avg of total_actions=%{y}\", \"legendgroup\": \"\", \"marker\": {\"color\": \"#636efa\"}, \"name\": \"\", \"offsetgroup\": \"\", \"orientation\": \"v\", \"showlegend\": false, \"type\": \"histogram\", \"x\": [\"09\", \"21\", \"18\", \"15\", \"11\", \"21\", \"18\", \"11\", \"21\", \"18\", \"15\", \"11\", \"21\", \"18\", \"11\", \"11\", \"22\", \"18\", \"15\", \"11\", \"21\", \"15\", \"11\", \"21\", \"18\", \"14\", \"11\", \"21\", \"18\", \"15\", \"11\", \"21\", \"18\", \"11\", \"21\", \"18\", \"15\", \"11\", \"21\", \"18\", \"15\", \"11\", \"22\", \"18\", \"15\", \"11\", \"22\", \"18\", \"15\", \"11\", \"22\", \"18\", \"15\", \"11\", \"22\", \"18\", \"15\", \"11\", \"21\", \"20\", \"11\", \"21\", \"18\", \"15\", \"11\", \"21\", \"18\", \"15\", \"11\", \"22\", \"18\", \"15\", \"11\", \"21\", \"18\", \"15\", \"11\", \"21\", \"18\", \"15\", \"11\", \"21\", \"15\", \"11\", \"21\", \"18\", \"16\", \"11\", \"21\", \"18\", \"15\", \"11\", \"21\", \"18\", \"15\", \"11\", \"21\", \"18\", \"15\", \"11\", \"15\", \"11\", \"21\", \"18\", \"15\", \"11\", \"21\", \"18\", \"15\", \"11\", \"22\", \"18\", \"15\", \"11\", \"21\", \"18\", \"15\", \"11\", \"21\", \"18\", \"15\", \"11\", \"10\", \"23\", \"19\", \"15\", \"11\", \"21\", \"18\", \"15\", \"11\", \"21\", \"18\", \"15\", \"11\", \"21\", \"18\", \"15\", \"11\", \"21\", \"18\", \"15\", \"11\", \"21\", \"18\", \"15\", \"11\", \"18\", \"15\", \"11\", \"22\", \"18\", \"15\", \"11\", \"21\", \"18\", \"15\", \"11\", \"21\", \"18\", \"15\", \"11\", \"21\", \"18\", \"15\", \"11\", \"22\", \"18\", \"15\", \"11\", \"21\", \"18\", \"15\", \"11\", \"22\", \"18\", \"15\", \"12\", \"22\", \"18\", \"15\", \"11\", \"21\", \"18\", \"15\", \"11\", \"21\", \"18\", \"15\", \"11\", \"21\", \"15\", \"11\", \"23\", \"17\", \"11\", \"22\", \"17\", \"11\", \"23\", \"16\", \"11\", \"22\", \"19\", \"15\", \"11\", \"21\", \"18\", \"15\", \"11\", \"21\", \"18\", \"15\", \"11\", \"21\", \"18\", \"15\", \"11\", \"21\", \"18\", \"15\", \"11\", \"21\", \"18\", \"15\", \"11\", \"21\", \"18\", \"15\", \"11\", \"22\", \"18\", \"16\", \"11\", \"22\", \"18\", \"15\", \"11\", \"20\", \"15\", \"12\", \"21\", \"18\", \"15\", \"11\", \"21\", \"18\", \"15\", \"13\", \"00\", \"15\", \"22\", \"15\", \"12\", \"21\", \"18\", \"15\", \"12\", \"22\", \"15\", \"11\", \"01\", \"17\", \"13\", \"11\", \"19\", \"16\", \"13\", \"11\", \"21\", \"20\", \"15\", \"12\", \"22\", \"16\", \"12\", \"22\", \"19\", \"16\", \"11\", \"22\", \"18\", \"14\", \"01\", \"16\", \"12\", \"22\", \"16\", \"12\", \"23\", \"16\", \"12\", \"21\", \"16\", \"12\", \"21\", \"16\", \"12\", \"22\", \"16\", \"13\", \"22\", \"19\", \"16\", \"21\", \"17\", \"12\", \"21\", \"16\", \"12\", \"22\", \"16\", \"12\", \"21\", \"16\", \"12\", \"23\", \"16\", \"12\", \"21\", \"18\", \"14\", \"22\", \"16\", \"12\", \"22\", \"17\", \"12\", \"21\", \"16\", \"12\", \"22\", \"16\", \"12\", \"21\", \"16\", \"12\", \"21\", \"16\", \"12\", \"21\", \"16\", \"12\", \"22\", \"17\", \"12\", \"21\", \"17\", \"11\", \"22\", \"16\", \"12\", \"22\", \"17\", \"12\", \"22\", \"16\", \"12\", \"22\", \"16\", \"12\", \"21\", \"16\", \"12\", \"22\", \"16\", \"12\", \"16\", \"11\", \"09\", \"19\", \"15\", \"12\", \"21\", \"16\", \"13\", \"19\", \"16\", \"12\", \"21\", \"16\", \"12\", \"22\", \"16\", \"12\", \"22\", \"16\", \"12\", \"21\", \"16\", \"11\", \"22\", \"16\", \"13\", \"23\", \"16\", \"12\", \"21\", \"16\", \"12\", \"21\", \"16\", \"12\", \"22\", \"16\", \"13\", \"22\", \"16\", \"12\", \"22\", \"16\", \"12\", \"21\", \"16\", \"12\", \"22\", \"16\", \"12\", \"22\", \"16\", \"12\", \"01\", \"16\", \"12\", \"21\", \"15\", \"12\", \"21\", \"16\", \"12\", \"21\", \"17\", \"12\", \"22\", \"17\", \"12\", \"22\", \"17\", \"13\", \"21\", \"16\", \"12\", \"22\", \"16\", \"12\", \"21\", \"16\", \"12\", \"22\", \"16\", \"12\", \"22\", \"16\", \"12\", \"21\", \"18\", \"13\", \"21\", \"17\", \"13\", \"21\", \"18\", \"12\", \"21\", \"16\", \"12\", \"21\", \"16\", \"12\", \"22\", \"16\", \"12\", \"21\", \"16\", \"11\", \"21\", \"16\", \"13\", \"21\", \"17\", \"12\", \"21\", \"16\", \"12\", \"21\", \"16\", \"12\", \"21\", \"17\", \"13\", \"21\", \"16\", \"12\", \"21\", \"15\", \"12\", \"16\", \"12\", \"16\", \"11\", \"23\", \"22\", \"16\", \"12\", \"08\", \"22\", \"16\", \"12\", \"22\", \"16\", \"12\", \"21\", \"17\", \"13\", \"21\", \"18\", \"14\", \"19\", \"17\", \"13\", \"23\", \"17\", \"12\", \"21\", \"16\", \"12\", \"23\", \"12\", \"22\", \"17\", \"12\", \"23\", \"17\", \"12\", \"21\", \"17\", \"12\", \"22\", \"17\", \"12\", \"22\", \"16\", \"12\", \"00\", \"17\", \"12\", \"22\", \"18\", \"12\", \"21\", \"17\", \"13\", \"22\", \"17\", \"12\", \"21\", \"18\", \"13\", \"21\", \"16\", \"12\", \"21\", \"16\", \"13\", \"08\", \"21\", \"15\", \"12\", \"22\", \"16\", \"12\", \"21\", \"16\", \"12\", \"22\", \"17\", \"12\", \"19\", \"16\", \"12\", \"21\", \"16\", \"12\", \"21\", \"18\", \"13\", \"16\", \"12\", \"21\", \"17\", \"13\", \"22\", \"16\", \"13\", \"21\", \"16\", \"12\", \"21\", \"17\", \"12\", \"21\", \"16\", \"12\", \"21\", \"18\", \"13\", \"21\", \"17\", \"12\", \"21\", \"18\", \"13\", \"21\", \"16\", \"12\", \"21\", \"17\", \"12\", \"21\", \"16\", \"12\", \"21\", \"16\", \"12\", \"22\", \"17\", \"12\", \"22\", \"17\", \"12\", \"22\", \"17\", \"13\", \"21\", \"16\", \"12\", \"21\", \"16\", \"12\", \"21\", \"16\", \"12\", \"21\", \"16\", \"12\", \"21\", \"16\", \"13\", \"22\", \"17\", \"12\", \"21\", \"16\", \"12\", \"22\", \"16\", \"13\", \"22\", \"16\", \"12\", \"21\", \"17\", \"12\", \"21\", \"16\", \"11\", \"22\", \"16\", \"11\", \"21\", \"17\", \"12\", \"22\", \"18\", \"13\", \"22\", \"16\", \"13\", \"21\", \"16\", \"12\", \"22\", \"17\", \"12\", \"22\", \"16\", \"12\", \"22\", \"19\", \"12\", \"21\", \"13\", \"23\", \"18\", \"14\", \"22\", \"17\", \"14\", \"21\", \"17\", \"13\", \"21\", \"16\", \"12\", \"21\", \"16\", \"12\", \"21\", \"17\", \"12\", \"21\", \"17\", \"13\", \"22\", \"16\", \"12\", \"21\", \"16\", \"12\", \"22\", \"17\", \"12\", \"22\", \"17\", \"12\", \"21\", \"17\", \"12\", \"21\", \"18\", \"12\", \"21\", \"13\", \"22\", \"17\", \"13\", \"22\", \"16\", \"12\", \"22\", \"18\", \"12\", \"21\", \"18\", \"12\", \"21\", \"16\", \"12\", \"21\", \"16\", \"12\", \"21\", \"12\", \"21\", \"19\", \"14\", \"23\", \"17\", \"12\", \"21\", \"16\", \"12\", \"22\", \"21\", \"16\", \"12\", \"21\", \"16\", \"12\", \"21\", \"16\", \"12\", \"21\", \"16\", \"12\", \"21\", \"16\", \"12\", \"22\", \"17\", \"12\", \"21\", \"16\", \"12\", \"21\", \"17\", \"12\", \"21\", \"15\", \"12\", \"20\", \"15\", \"12\", \"21\", \"16\", \"12\", \"16\", \"12\", \"21\", \"15\", \"22\", \"17\", \"11\", \"21\", \"19\", \"12\", \"21\", \"16\", \"12\", \"22\", \"16\", \"12\", \"22\", \"16\", \"12\", \"21\", \"18\", \"15\", \"11\", \"21\", \"17\", \"21\", \"18\", \"15\", \"11\", \"21\", \"18\", \"16\", \"11\", \"21\", \"15\", \"12\", \"22\", \"16\", \"12\", \"21\", \"18\", \"15\", \"11\", \"21\", \"16\", \"12\", \"21\", \"19\", \"16\", \"22\", \"19\", \"15\", \"21\", \"15\", \"11\", \"21\", \"19\", \"15\", \"11\", \"23\", \"22\", \"18\", \"15\", \"22\", \"18\", \"15\", \"11\", \"21\", \"16\", \"12\", \"21\", \"18\", \"15\", \"11\", \"21\", \"18\", \"15\", \"11\", \"21\", \"19\", \"15\", \"11\", \"21\", \"18\", \"15\", \"23\", \"21\", \"16\", \"19\", \"11\", \"21\", \"18\", \"15\", \"12\", \"21\", \"16\", \"11\", \"22\", \"19\", \"15\", \"12\", \"23\", \"18\", \"15\", \"22\", \"20\", \"15\", \"12\", \"22\", \"15\", \"11\", \"22\", \"20\", \"16\", \"11\", \"21\", \"18\", \"16\", \"11\", \"22\", \"15\", \"11\", \"21\", \"18\", \"15\", \"11\", \"21\", \"18\", \"16\", \"12\", \"21\", \"18\", \"16\", \"12\", \"21\", \"18\", \"15\", \"11\", \"21\", \"18\", \"15\", \"11\", \"21\", \"18\", \"15\", \"11\", \"21\", \"18\", \"15\", \"12\", \"21\", \"19\", \"15\", \"12\", \"21\", \"18\", \"15\", \"12\", \"23\", \"21\", \"19\", \"15\", \"12\", \"22\", \"19\", \"15\", \"11\", \"21\", \"19\", \"15\", \"11\", \"21\", \"18\", \"15\", \"11\", \"21\", \"18\", \"16\", \"12\", \"21\", \"18\", \"15\", \"11\", \"22\", \"18\", \"15\", \"11\", \"21\", \"19\", \"16\", \"11\", \"22\", \"19\", \"15\", \"12\", \"21\", \"18\", \"15\", \"11\", \"22\", \"18\", \"15\", \"11\", \"21\", \"19\", \"15\", \"11\", \"21\", \"18\", \"15\", \"11\", \"21\", \"18\", \"15\", \"12\", \"21\", \"18\", \"15\", \"11\", \"21\", \"18\", \"15\", \"11\", \"21\", \"19\", \"15\", \"12\", \"21\", \"16\", \"11\", \"21\", \"16\", \"11\", \"21\", \"16\", \"12\", \"21\", \"16\", \"12\", \"21\", \"17\", \"12\", \"21\", \"17\", \"12\", \"21\", \"17\", \"12\", \"23\", \"14\", \"22\", \"16\", \"12\", \"21\", \"18\", \"15\", \"11\", \"21\", \"15\", \"11\", \"20\", \"16\", \"11\", \"21\", \"15\", \"11\", \"21\", \"15\", \"11\", \"21\", \"15\", \"11\", \"20\", \"15\", \"11\", \"21\", \"18\", \"15\", \"11\", \"18\", \"15\", \"11\", \"21\", \"18\", \"15\", \"11\", \"21\", \"18\", \"15\", \"11\", \"21\", \"18\", \"15\", \"11\", \"22\", \"18\", \"15\", \"12\", \"21\", \"19\", \"16\", \"13\", \"22\", \"18\", \"15\", \"11\", \"21\", \"18\", \"15\", \"11\", \"22\", \"18\", \"16\", \"11\", \"21\", \"19\", \"15\", \"11\", \"21\", \"18\", \"15\", \"11\", \"21\", \"19\", \"15\", \"11\", \"20\", \"19\", \"17\", \"13\", \"21\", \"19\", \"16\", \"12\", \"21\", \"18\", \"16\", \"11\", \"22\", \"18\", \"15\", \"11\", \"21\", \"20\", \"18\", \"15\", \"12\", \"23\", \"21\", \"16\", \"12\", \"22\", \"15\", \"12\", \"22\", \"21\", \"19\", \"16\", \"12\", \"21\", \"18\", \"16\", \"11\", \"21\", \"19\", \"15\", \"08\", \"18\", \"15\", \"11\", \"22\", \"18\", \"16\", \"12\", \"22\", \"15\", \"11\", \"22\", \"20\", \"18\", \"15\", \"11\", \"21\", \"16\", \"11\", \"21\", \"18\", \"12\", \"20\", \"17\", \"13\", \"21\", \"19\", \"13\", \"22\", \"19\", \"15\", \"11\", \"21\", \"18\", \"15\", \"11\", \"22\", \"16\", \"11\", \"21\", \"19\", \"16\", \"13\", \"21\", \"18\", \"15\", \"11\", \"21\", \"18\", \"15\", \"11\", \"21\", \"18\", \"15\", \"11\", \"21\", \"18\", \"15\", \"12\", \"21\", \"15\", \"11\", \"22\", \"18\", \"15\", \"11\", \"22\", \"18\", \"15\", \"11\", \"21\", \"17\", \"13\", \"21\", \"15\", \"13\", \"21\", \"15\", \"12\", \"21\", \"18\", \"15\", \"11\", \"21\", \"18\", \"15\", \"11\", \"20\", \"18\", \"15\", \"12\", \"21\", \"19\", \"15\", \"10\", \"22\", \"15\", \"12\", \"21\", \"16\", \"11\", \"21\", \"18\", \"15\", \"12\", \"07\", \"22\", \"16\", \"12\", \"22\", \"20\", \"19\", \"16\", \"11\", \"21\", \"19\", \"16\", \"12\", \"21\", \"16\", \"13\", \"07\", \"19\", \"15\", \"12\", \"21\", \"15\", \"11\", \"21\", \"17\", \"13\", \"21\", \"18\", \"15\", \"11\", \"21\", \"18\", \"15\", \"11\", \"21\", \"18\", \"15\", \"11\", \"21\", \"18\", \"15\", \"11\", \"22\", \"16\", \"12\", \"21\", \"19\", \"12\", \"21\", \"19\", \"15\", \"12\", \"21\", \"19\", \"15\", \"11\", \"23\", \"20\", \"15\", \"12\", \"21\", \"20\", \"18\", \"16\", \"11\", \"21\", \"19\", \"15\", \"13\", \"21\", \"18\", \"15\", \"12\", \"21\", \"19\", \"15\", \"11\", \"21\", \"18\", \"15\", \"12\", \"21\", \"18\", \"14\", \"11\", \"21\", \"19\", \"15\", \"11\", \"21\", \"18\", \"14\", \"11\", \"18\", \"16\", \"12\", \"22\", \"20\", \"19\", \"16\", \"12\", \"22\", \"16\", \"11\", \"09\", \"22\", \"16\", \"11\", \"21\", \"16\", \"11\", \"22\", \"16\", \"12\", \"22\", \"16\", \"11\", \"22\", \"18\", \"11\", \"22\", \"17\", \"12\", \"21\", \"16\", \"11\", \"21\", \"16\", \"11\", \"21\", \"16\", \"11\", \"22\", \"16\", \"12\", \"21\", \"16\", \"11\", \"21\", \"18\", \"11\", \"21\", \"16\", \"11\", \"21\", \"16\", \"11\", \"21\", \"18\", \"12\", \"21\", \"16\", \"11\", \"00\", \"16\", \"11\", \"21\", \"16\", \"11\", \"23\", \"16\", \"11\", \"22\", \"19\", \"16\", \"11\", \"21\", \"17\", \"16\", \"13\", \"11\", \"23\", \"16\", \"10\", \"22\", \"11\", \"22\", \"15\", \"11\", \"21\", \"16\", \"11\", \"21\", \"18\", \"15\", \"11\", \"21\", \"18\", \"15\", \"10\", \"21\", \"16\", \"11\", \"20\", \"16\", \"11\", \"21\", \"16\", \"11\", \"21\", \"16\", \"11\", \"22\", \"18\", \"14\", \"22\", \"12\", \"18\", \"14\", \"01\", \"17\", \"13\"], \"xaxis\": \"x\", \"y\": [187, 30, 31, 92, 65, 28, 50, 56, 20, 106, 30, 52, 104, 202, 325, 208, 73, 93, 166, 43, 38, 108, 29, 68, 45, 231, 67, 39, 61, 28, 127, 49, 27, 57, 46, 46, 43, 64, 93, 194, 107, 24, 137, 43, 63, 97, 87, 79, 79, 94, 79, 94, 60, 128, 304, 20, 9, 49, 42, 26, 67, 48, 136, 72, 104, 32, 35, 57, 199, 436, 96, 50, 34, 98, 308, 54, 105, 84, 72, 311, 91, 101, 47, 15, 54, 24, 72, 79, 61, 101, 128, 75, 76, 161, 97, 261, 69, 76, 48, 34, 48, 43, 38, 272, 72, 77, 106, 136, 205, 142, 167, 90, 68, 81, 46, 42, 131, 244, 44, 58, 49, 138, 106, 56, 26, 30, 1466, 90, 81, 155, 111, 79, 93, 94, 108, 55, 58, 64, 90, 48, 62, 41, 116, 58, 102, 59, 115, 53, 172, 76, 346, 24, 14, 68, 68, 86, 77, 85, 120, 141, 73, 190, 75, 130, 87, 106, 44, 84, 59, 91, 18, 36, 96, 75, 100, 99, 25, 39, 64, 31, 56, 52, 117, 174, 84, 76, 56, 61, 89, 61, 60, 135, 90, 87, 78, 119, 33, 99, 133, 65, 117, 95, 88, 25, 211, 171, 83, 34, 90, 34, 72, 154, 220, 146, 24, 95, 99, 147, 58, 55, 442, 67, 59, 35, 182, 79, 151, 107, 76, 77, 57, 49, 33, 124, 48, 298, 70, 98, 215, 50, 105, 55, 134, 59, 61, 135, 230, 69, 45, 228, 145, 388, 174, 122, 37, 31, 99, 347, 92, 68, 56, 95, 91, 127, 75, 228, 44, 329, 227, 112, 82, 64, 482, 187, 216, 141, 150, 155, 81, 459, 49, 49, 172, 124, 35, 75, 66, 339, 130, 83, 78, 69, 121, 190, 163, 50, 161, 237, 228, 292, 151, 287, 35, 213, 68, 30, 140, 61, 94, 195, 62, 30, 109, 62, 164, 321, 698, 564, 165, 97, 144, 88, 243, 46, 292, 125, 34, 211, 119, 119, 72, 116, 119, 102, 41, 104, 247, 81, 50, 265, 124, 152, 456, 64, 59, 101, 62, 22, 155, 63, 116, 199, 63, 292, 1763, 105, 167, 31, 46, 264, 138, 140, 78, 93, 63, 11, 97, 233, 115, 658, 57, 644, 499, 115, 354, 66, 166, 136, 87, 40, 353, 37, 145, 130, 117, 57, 17, 15, 70, 109, 143, 31, 210, 451, 142, 148, 201, 70, 138, 1120, 81, 123, 55, 69, 36, 429, 25, 26, 13, 59, 170, 143, 38, 268, 243, 57, 395, 258, 38, 49, 59, 68, 83, 120, 40, 149, 102, 40, 24, 113, 102, 16, 456, 45, 185, 117, 52, 445, 263, 58, 61, 105, 73, 635, 73, 32, 113, 112, 189, 18, 395, 69, 15, 46, 105, 34, 125, 60, 89, 114, 120, 63, 115, 73, 260, 130, 28, 44, 136, 37, 25, 145, 60, 25, 939, 37, 101, 118, 65, 81, 47, 126, 154, 43, 76, 130, 94, 120, 235, 30, 87, 47, 19, 69, 90, 113, 172, 62, 38, 69, 224, 116, 57, 127, 77, 81, 102, 35, 91, 130, 80, 130, 85, 197, 94, 17, 99, 105, 59, 132, 147, 230, 42, 60, 147, 118, 158, 125, 203, 326, 54, 86, 110, 160, 51, 17, 97, 107, 88, 143, 369, 72, 140, 273, 233, 73, 36, 91, 126, 51, 237, 110, 27, 10, 147, 41, 31, 181, 52, 195, 112, 185, 473, 56, 121, 49, 456, 74, 88, 135, 72, 665, 50, 46, 31, 58, 250, 111, 335, 12, 118, 91, 69, 71, 122, 283, 136, 48, 29, 41, 283, 54, 137, 38, 121, 18, 155, 82, 35, 94, 66, 312, 249, 29, 435, 475, 28, 75, 281, 52, 103, 149, 71, 91, 315, 78, 12, 157, 60, 152, 25, 29, 176, 78, 100, 158, 260, 39, 76, 82, 31, 111, 145, 107, 66, 354, 26, 23, 61, 114, 20, 325, 54, 142, 162, 38, 743, 606, 72, 264, 130, 31, 73, 138, 27, 85, 916, 45, 37, 87, 161, 24, 194, 79, 105, 140, 86, 67, 195, 58, 214, 165, 32, 297, 101, 60, 232, 142, 54, 25, 466, 61, 33, 307, 30, 123, 278, 406, 364, 242, 70, 224, 165, 470, 255, 51, 178, 216, 102, 26, 147, 35, 30, 396, 42, 53, 174, 154, 90, 158, 57, 405, 717, 208, 113, 239, 325, 726, 246, 137, 25, 185, 106, 406, 21, 151, 94, 85, 102, 215, 108, 404, 129, 83, 105, 206, 95, 115, 122, 55, 24, 180, 78, 25, 131, 50, 183, 154, 294, 203, 455, 71, 424, 72, 346, 162, 256, 1768, 183, 71, 36, 608, 31, 64, 27, 89, 78, 73, 122, 84, 90, 333, 44, 449, 141, 81, 263, 1236, 187, 20, 236, 128, 37, 64, 59, 21, 235, 71, 43, 163, 92, 142, 93, 114, 131, 78, 209, 343, 179, 167, 91, 58, 850, 98, 24, 725, 191, 216, 199, 105, 226, 365, 121, 275, 59, 107, 367, 140, 20, 83, 310, 47, 30, 92, 333, 104, 24, 94, 1026, 93, 146, 140, 68, 43, 167, 54, 74, 170, 380, 66, 541, 187, 166, 228, 16, 122, 25, 187, 75, 29, 127, 44, 173, 81, 345, 148, 35, 106, 60, 95, 65, 91, 169, 103, 149, 588, 96, 104, 694, 28, 90, 41, 479, 185, 104, 24, 229, 157, 96, 31, 736, 97, 59, 117, 122, 65, 66, 244, 125, 98, 27, 103, 21, 119, 22, 111, 82, 69, 18, 185, 1589, 106, 116, 178, 56, 294, 46, 44, 587, 236, 287, 102, 102, 87, 202, 266, 140, 20, 195, 36, 269, 238, 93, 22, 332, 79, 26, 92, 77, 157, 89, 207, 281, 40, 167, 159, 317, 89, 46, 56, 567, 139, 114, 217, 208, 15, 77, 24, 249, 282, 96, 12, 82, 247, 89, 234, 135, 146, 107, 60, 43, 339, 248, 56, 161, 425, 103, 127, 106, 135, 399, 242, 131, 480, 24, 63, 74, 127, 53, 201, 170, 30, 125, 30, 252, 227, 48, 34, 123, 203, 344, 45, 91, 131, 148, 491, 201, 294, 337, 44, 267, 101, 29, 64, 25, 717, 110, 116, 38, 248, 312, 34, 373, 407, 280, 182, 160, 165, 293, 168, 238, 166, 139, 68, 467, 313, 94, 457, 260, 135, 503, 210, 247, 217, 334, 50, 60, 816, 26, 1491, 308, 62, 200, 201, 164, 98, 156, 50, 80, 62, 29, 99, 66, 76, 154, 50, 120, 128, 157, 59, 61, 205, 49, 99, 22, 248, 354, 253, 56, 44, 146, 44, 27, 314, 221, 97, 62, 51, 41, 370, 344, 68, 83, 420, 415, 67, 207, 330, 113, 72, 173, 210, 69, 231, 82, 176, 29, 503, 412, 29, 112, 191, 94, 184, 53, 49, 111, 227, 251, 60, 130, 150, 160, 183, 237, 156, 121, 357, 53, 343, 246, 105, 30, 107, 366, 261, 211, 23, 144, 88, 54, 37, 334, 244, 182, 150, 181, 73, 76, 42, 250, 478, 74, 64, 140, 117, 116, 94, 245, 515, 58, 141, 558, 21, 68, 186, 39, 132, 291, 93, 175, 29, 577, 81, 121, 542, 80, 115, 171, 219, 95, 289, 195, 35, 108, 22, 104, 263, 62, 101, 30, 33, 103, 249, 147, 497, 220, 43, 126, 74, 60, 99, 64, 51, 239, 145, 369, 159, 193, 388, 93, 43, 102, 258, 13, 71, 20, 381, 133, 168, 192, 188, 50, 40, 124, 540, 128, 199, 162, 428, 655, 70, 139, 316, 105, 112, 70, 236, 42, 102, 62, 19, 128, 44, 160, 89, 29, 77, 64, 186, 109, 92, 126, 117, 537, 68, 185, 108, 65, 228, 57, 167, 22, 78, 45, 187, 31, 78, 22, 101, 65, 73, 281, 55, 111, 84, 91, 21, 61, 127, 58, 124, 31, 109, 101, 58, 67, 264, 88, 24, 32, 278, 349, 49, 135, 29, 44, 76, 87, 302, 46, 146, 254, 224, 74, 110, 243, 127, 144, 72, 42, 138, 113, 66, 243, 70, 24, 51, 120, 110, 35, 124, 104, 92, 176, 109, 136, 188, 144, 100, 70, 233, 102, 55, 176, 139, 191, 58, 146, 67, 121, 29, 59, 232, 61, 78, 92, 22, 195, 59, 159, 43, 196, 73, 58, 231, 53, 62, 59, 164, 101, 53, 95, 181, 320, 138, 43, 191, 84, 468, 229, 175, 34, 67, 52, 50, 19, 67, 41, 85, 54, 355, 64, 109, 404, 229, 127, 84, 85, 89, 90, 50, 153, 79, 87, 17, 91, 92, 33, 76, 82, 309, 218, 116, 139, 27, 71, 155, 77, 168, 137, 391, 41, 93, 138, 88, 32, 87, 48, 29, 514, 60, 225, 87, 105, 128, 130, 76, 258, 81, 78, 87, 322, 54, 67, 46, 247, 142, 46, 54, 36, 109, 221, 52, 30, 173, 28, 164, 203, 383, 69, 157, 76, 99, 166, 100, 172, 247, 107, 55, 49, 114, 106, 72, 25, 81, 77, 64, 190, 92, 97, 196, 165, 170, 1011, 110, 118, 148, 86, 65, 139, 53, 339, 43, 57, 207, 76, 64, 228], \"yaxis\": \"y\"}],\n",
       "                        {\"barmode\": \"relative\", \"height\": 600, \"legend\": {\"tracegroupgap\": 0}, \"margin\": {\"t\": 60}, \"template\": {\"data\": {\"bar\": [{\"error_x\": {\"color\": \"#2a3f5f\"}, \"error_y\": {\"color\": \"#2a3f5f\"}, \"marker\": {\"line\": {\"color\": \"#E5ECF6\", \"width\": 0.5}}, \"type\": \"bar\"}], \"barpolar\": [{\"marker\": {\"line\": {\"color\": \"#E5ECF6\", \"width\": 0.5}}, \"type\": \"barpolar\"}], \"carpet\": [{\"aaxis\": {\"endlinecolor\": \"#2a3f5f\", \"gridcolor\": \"white\", \"linecolor\": \"white\", \"minorgridcolor\": \"white\", \"startlinecolor\": \"#2a3f5f\"}, \"baxis\": {\"endlinecolor\": \"#2a3f5f\", \"gridcolor\": \"white\", \"linecolor\": \"white\", \"minorgridcolor\": \"white\", \"startlinecolor\": \"#2a3f5f\"}, \"type\": \"carpet\"}], \"choropleth\": [{\"colorbar\": {\"outlinewidth\": 0, \"ticks\": \"\"}, \"type\": \"choropleth\"}], \"contour\": [{\"colorbar\": {\"outlinewidth\": 0, \"ticks\": \"\"}, \"colorscale\": [[0.0, \"#0d0887\"], [0.1111111111111111, \"#46039f\"], [0.2222222222222222, \"#7201a8\"], [0.3333333333333333, \"#9c179e\"], [0.4444444444444444, \"#bd3786\"], [0.5555555555555556, \"#d8576b\"], [0.6666666666666666, \"#ed7953\"], [0.7777777777777778, \"#fb9f3a\"], [0.8888888888888888, \"#fdca26\"], [1.0, \"#f0f921\"]], \"type\": \"contour\"}], \"contourcarpet\": [{\"colorbar\": {\"outlinewidth\": 0, \"ticks\": \"\"}, \"type\": \"contourcarpet\"}], \"heatmap\": [{\"colorbar\": {\"outlinewidth\": 0, \"ticks\": \"\"}, \"colorscale\": [[0.0, \"#0d0887\"], [0.1111111111111111, \"#46039f\"], [0.2222222222222222, \"#7201a8\"], [0.3333333333333333, \"#9c179e\"], [0.4444444444444444, \"#bd3786\"], [0.5555555555555556, \"#d8576b\"], [0.6666666666666666, \"#ed7953\"], [0.7777777777777778, \"#fb9f3a\"], [0.8888888888888888, \"#fdca26\"], [1.0, \"#f0f921\"]], \"type\": \"heatmap\"}], \"heatmapgl\": [{\"colorbar\": {\"outlinewidth\": 0, \"ticks\": \"\"}, \"colorscale\": [[0.0, \"#0d0887\"], [0.1111111111111111, \"#46039f\"], [0.2222222222222222, \"#7201a8\"], [0.3333333333333333, \"#9c179e\"], [0.4444444444444444, \"#bd3786\"], [0.5555555555555556, \"#d8576b\"], [0.6666666666666666, \"#ed7953\"], [0.7777777777777778, \"#fb9f3a\"], [0.8888888888888888, \"#fdca26\"], [1.0, \"#f0f921\"]], \"type\": \"heatmapgl\"}], \"histogram\": [{\"marker\": {\"colorbar\": {\"outlinewidth\": 0, \"ticks\": \"\"}}, \"type\": \"histogram\"}], \"histogram2d\": [{\"colorbar\": {\"outlinewidth\": 0, \"ticks\": \"\"}, \"colorscale\": [[0.0, \"#0d0887\"], [0.1111111111111111, \"#46039f\"], [0.2222222222222222, \"#7201a8\"], [0.3333333333333333, \"#9c179e\"], [0.4444444444444444, \"#bd3786\"], [0.5555555555555556, \"#d8576b\"], [0.6666666666666666, \"#ed7953\"], [0.7777777777777778, \"#fb9f3a\"], [0.8888888888888888, \"#fdca26\"], [1.0, \"#f0f921\"]], \"type\": \"histogram2d\"}], \"histogram2dcontour\": [{\"colorbar\": {\"outlinewidth\": 0, \"ticks\": \"\"}, \"colorscale\": [[0.0, \"#0d0887\"], [0.1111111111111111, \"#46039f\"], [0.2222222222222222, \"#7201a8\"], [0.3333333333333333, \"#9c179e\"], [0.4444444444444444, \"#bd3786\"], [0.5555555555555556, \"#d8576b\"], [0.6666666666666666, \"#ed7953\"], [0.7777777777777778, \"#fb9f3a\"], [0.8888888888888888, \"#fdca26\"], [1.0, \"#f0f921\"]], \"type\": \"histogram2dcontour\"}], \"mesh3d\": [{\"colorbar\": {\"outlinewidth\": 0, \"ticks\": \"\"}, \"type\": \"mesh3d\"}], \"parcoords\": [{\"line\": {\"colorbar\": {\"outlinewidth\": 0, \"ticks\": \"\"}}, \"type\": \"parcoords\"}], \"scatter\": [{\"marker\": {\"colorbar\": {\"outlinewidth\": 0, \"ticks\": \"\"}}, \"type\": \"scatter\"}], \"scatter3d\": [{\"line\": {\"colorbar\": {\"outlinewidth\": 0, \"ticks\": \"\"}}, \"marker\": {\"colorbar\": {\"outlinewidth\": 0, \"ticks\": \"\"}}, \"type\": \"scatter3d\"}], \"scattercarpet\": [{\"marker\": {\"colorbar\": {\"outlinewidth\": 0, \"ticks\": \"\"}}, \"type\": \"scattercarpet\"}], \"scattergeo\": [{\"marker\": {\"colorbar\": {\"outlinewidth\": 0, \"ticks\": \"\"}}, \"type\": \"scattergeo\"}], \"scattergl\": [{\"marker\": {\"colorbar\": {\"outlinewidth\": 0, \"ticks\": \"\"}}, \"type\": \"scattergl\"}], \"scattermapbox\": [{\"marker\": {\"colorbar\": {\"outlinewidth\": 0, \"ticks\": \"\"}}, \"type\": \"scattermapbox\"}], \"scatterpolar\": [{\"marker\": {\"colorbar\": {\"outlinewidth\": 0, \"ticks\": \"\"}}, \"type\": \"scatterpolar\"}], \"scatterpolargl\": [{\"marker\": {\"colorbar\": {\"outlinewidth\": 0, \"ticks\": \"\"}}, \"type\": \"scatterpolargl\"}], \"scatterternary\": [{\"marker\": {\"colorbar\": {\"outlinewidth\": 0, \"ticks\": \"\"}}, \"type\": \"scatterternary\"}], \"surface\": [{\"colorbar\": {\"outlinewidth\": 0, \"ticks\": \"\"}, \"colorscale\": [[0.0, \"#0d0887\"], [0.1111111111111111, \"#46039f\"], [0.2222222222222222, \"#7201a8\"], [0.3333333333333333, \"#9c179e\"], [0.4444444444444444, \"#bd3786\"], [0.5555555555555556, \"#d8576b\"], [0.6666666666666666, \"#ed7953\"], [0.7777777777777778, \"#fb9f3a\"], [0.8888888888888888, \"#fdca26\"], [1.0, \"#f0f921\"]], \"type\": \"surface\"}], \"table\": [{\"cells\": {\"fill\": {\"color\": \"#EBF0F8\"}, \"line\": {\"color\": \"white\"}}, \"header\": {\"fill\": {\"color\": \"#C8D4E3\"}, \"line\": {\"color\": \"white\"}}, \"type\": \"table\"}]}, \"layout\": {\"annotationdefaults\": {\"arrowcolor\": \"#2a3f5f\", \"arrowhead\": 0, \"arrowwidth\": 1}, \"colorscale\": {\"diverging\": [[0, \"#8e0152\"], [0.1, \"#c51b7d\"], [0.2, \"#de77ae\"], [0.3, \"#f1b6da\"], [0.4, \"#fde0ef\"], [0.5, \"#f7f7f7\"], [0.6, \"#e6f5d0\"], [0.7, \"#b8e186\"], [0.8, \"#7fbc41\"], [0.9, \"#4d9221\"], [1, \"#276419\"]], \"sequential\": [[0.0, \"#0d0887\"], [0.1111111111111111, \"#46039f\"], [0.2222222222222222, \"#7201a8\"], [0.3333333333333333, \"#9c179e\"], [0.4444444444444444, \"#bd3786\"], [0.5555555555555556, \"#d8576b\"], [0.6666666666666666, \"#ed7953\"], [0.7777777777777778, \"#fb9f3a\"], [0.8888888888888888, \"#fdca26\"], [1.0, \"#f0f921\"]], \"sequentialminus\": [[0.0, \"#0d0887\"], [0.1111111111111111, \"#46039f\"], [0.2222222222222222, \"#7201a8\"], [0.3333333333333333, \"#9c179e\"], [0.4444444444444444, \"#bd3786\"], [0.5555555555555556, \"#d8576b\"], [0.6666666666666666, \"#ed7953\"], [0.7777777777777778, \"#fb9f3a\"], [0.8888888888888888, \"#fdca26\"], [1.0, \"#f0f921\"]]}, \"colorway\": [\"#636efa\", \"#EF553B\", \"#00cc96\", \"#ab63fa\", \"#FFA15A\", \"#19d3f3\", \"#FF6692\", \"#B6E880\", \"#FF97FF\", \"#FECB52\"], \"font\": {\"color\": \"#2a3f5f\"}, \"geo\": {\"bgcolor\": \"white\", \"lakecolor\": \"white\", \"landcolor\": \"#E5ECF6\", \"showlakes\": true, \"showland\": true, \"subunitcolor\": \"white\"}, \"hoverlabel\": {\"align\": \"left\"}, \"hovermode\": \"closest\", \"mapbox\": {\"style\": \"light\"}, \"paper_bgcolor\": \"white\", \"plot_bgcolor\": \"#E5ECF6\", \"polar\": {\"angularaxis\": {\"gridcolor\": \"white\", \"linecolor\": \"white\", \"ticks\": \"\"}, \"bgcolor\": \"#E5ECF6\", \"radialaxis\": {\"gridcolor\": \"white\", \"linecolor\": \"white\", \"ticks\": \"\"}}, \"scene\": {\"xaxis\": {\"backgroundcolor\": \"#E5ECF6\", \"gridcolor\": \"white\", \"gridwidth\": 2, \"linecolor\": \"white\", \"showbackground\": true, \"ticks\": \"\", \"zerolinecolor\": \"white\"}, \"yaxis\": {\"backgroundcolor\": \"#E5ECF6\", \"gridcolor\": \"white\", \"gridwidth\": 2, \"linecolor\": \"white\", \"showbackground\": true, \"ticks\": \"\", \"zerolinecolor\": \"white\"}, \"zaxis\": {\"backgroundcolor\": \"#E5ECF6\", \"gridcolor\": \"white\", \"gridwidth\": 2, \"linecolor\": \"white\", \"showbackground\": true, \"ticks\": \"\", \"zerolinecolor\": \"white\"}}, \"shapedefaults\": {\"line\": {\"color\": \"#2a3f5f\"}}, \"ternary\": {\"aaxis\": {\"gridcolor\": \"white\", \"linecolor\": \"white\", \"ticks\": \"\"}, \"baxis\": {\"gridcolor\": \"white\", \"linecolor\": \"white\", \"ticks\": \"\"}, \"bgcolor\": \"#E5ECF6\", \"caxis\": {\"gridcolor\": \"white\", \"linecolor\": \"white\", \"ticks\": \"\"}}, \"title\": {\"x\": 0.05}, \"xaxis\": {\"automargin\": true, \"gridcolor\": \"white\", \"linecolor\": \"white\", \"ticks\": \"\", \"zerolinecolor\": \"white\", \"zerolinewidth\": 2}, \"yaxis\": {\"automargin\": true, \"gridcolor\": \"white\", \"linecolor\": \"white\", \"ticks\": \"\", \"zerolinecolor\": \"white\", \"zerolinewidth\": 2}}}, \"xaxis\": {\"anchor\": \"y\", \"domain\": [0.0, 0.98], \"title\": {\"text\": \"Time\"}}, \"yaxis\": {\"anchor\": \"x\", \"domain\": [0.0, 1.0], \"title\": {\"text\": \"avg of total_actions\"}}},\n",
       "                        {\"responsive\": true}\n",
       "                    ).then(function(){\n",
       "                            \n",
       "var gd = document.getElementById('da1d051c-9c8a-48c4-82a2-e5e780158632');\n",
       "var x = new MutationObserver(function (mutations, observer) {{\n",
       "        var display = window.getComputedStyle(gd).display;\n",
       "        if (!display || display === 'none') {{\n",
       "            console.log([gd, 'removed!']);\n",
       "            Plotly.purge(gd);\n",
       "            observer.disconnect();\n",
       "        }}\n",
       "}});\n",
       "\n",
       "// Listen for the removal of the full notebook cells\n",
       "var notebookContainer = gd.closest('#notebook-container');\n",
       "if (notebookContainer) {{\n",
       "    x.observe(notebookContainer, {childList: true});\n",
       "}}\n",
       "\n",
       "// Listen for the clearing of the current output cell\n",
       "var outputEl = gd.closest('.output');\n",
       "if (outputEl) {{\n",
       "    x.observe(outputEl, {childList: true});\n",
       "}}\n",
       "\n",
       "                        })\n",
       "                };\n",
       "                });\n",
       "            </script>\n",
       "        </div>"
      ]
     },
     "metadata": {},
     "output_type": "display_data"
    }
   ],
   "source": [
    "import plotly.express as px\n",
    "\n",
    "fig = px.histogram(nwedf, x=\"Time\", y=\"total_actions\", histfunc='avg')\n",
    "fig.show()"
   ]
  },
  {
   "cell_type": "markdown",
   "metadata": {},
   "source": [
    "Пик действий - в 9 утра. Видимо, люди, которые едут в университет, любят по дороге почитать the vyshku\n",
    "Ночью активность нет, что выглядит немного странно для студентов, но такое вполне может быть"
   ]
  },
  {
   "cell_type": "code",
   "execution_count": 170,
   "metadata": {},
   "outputs": [],
   "source": [
    "writer = pd.ExcelWriter('TimeActions.xlsx', engine='xlsxwriter')\n",
    "\n",
    "nwedf.groupby('Time').mean().to_excel(writer,\n",
    "                  sheet_name='Sheet_name_1')\n",
    "\n",
    "writer.save()"
   ]
  },
  {
   "cell_type": "markdown",
   "metadata": {},
   "source": [
    "# ГЕНЕРАТОР ТЕКСТА НА ОСНОВЕ ЦЕПЕЙ МАРКОВА"
   ]
  },
  {
   "cell_type": "markdown",
   "metadata": {},
   "source": [
    "Источник: https://tproger.ru/translations/markov-chains/"
   ]
  },
  {
   "cell_type": "markdown",
   "metadata": {},
   "source": [
    "Изначально было желание приделать сюда нейросеть, но она была бы слишком тяжелой, особенно если хостить это потом где-то.\n",
    "Поэтому выбор пал на алгоритм цепей маркова, так как он быстрый и легковесный.\n",
    "\n",
    "Изначально планировалось генерировать тексты по словам, вытащенным из первой линейной регрессии, но, к сожалению, в ходе работы выяснилось, что в качестве стартового слова в предложениях подходят не все слова. \n",
    "\n",
    "Так что в итоге мы оставили стартовые слова рандомными, и получился такой небольшой генератор постов для the vyshka.\n",
    "В первую очередь интересен сам концепт, на практике это применимо только в отдельной рубрике, так как видно, что тексты пишет машина. Ну, либо редакция очень хорошо проводит время :)"
   ]
  },
  {
   "cell_type": "code",
   "execution_count": 171,
   "metadata": {},
   "outputs": [],
   "source": [
    "import random\n",
    "\n",
    "class Dictogram(dict):\n",
    "    def __init__(self, iterable=None):\n",
    "        # Инициализируем наше распределение как новый объект класса, \n",
    "        # добавляем имеющиеся элементы\n",
    "        super(Dictogram, self).__init__()\n",
    "        self.types = 0  # число уникальных ключей в распределении\n",
    "        self.tokens = 0  # общее количество всех слов в распределении\n",
    "        if iterable:\n",
    "            self.update(iterable)\n",
    "\n",
    "    def update(self, iterable):\n",
    "        # Обновляем распределение элементами из имеющегося \n",
    "        # итерируемого набора данных\n",
    "        for item in iterable:\n",
    "            if item in self:\n",
    "                self[item] += 1\n",
    "                self.tokens += 1\n",
    "            else:\n",
    "                self[item] = 1\n",
    "                self.types += 1\n",
    "                self.tokens += 1\n",
    "\n",
    "    def count(self, item):\n",
    "        # Возвращаем значение счетчика элемента, или 0\n",
    "        if item in self:\n",
    "            return self[item]\n",
    "        return 0\n",
    "\n",
    "    def return_random_word(self):\n",
    "        random_key = random.sample(self, 1)\n",
    "        # Другой способ:\n",
    "        # random.choice(histogram.keys())\n",
    "        return random_key[0]\n",
    "\n",
    "    def return_weighted_random_word(self):\n",
    "        # Сгенерировать псевдослучайное число между 0 и (n-1),\n",
    "        # где n - общее число слов\n",
    "        random_int = random.randint(0, self.tokens-1)\n",
    "        index = 0\n",
    "        list_of_keys = list(self.keys())\n",
    "        # вывести 'случайный индекс:', random_int\n",
    "        for i in range(0, self.types):\n",
    "            index += self[list_of_keys[i]]\n",
    "            # вывести индекс\n",
    "            if(index > random_int):\n",
    "                # вывести list_of_keys[i]\n",
    "                return list_of_keys[i]"
   ]
  },
  {
   "cell_type": "code",
   "execution_count": 172,
   "metadata": {},
   "outputs": [],
   "source": [
    "\n",
    "\n",
    "def make_markov_model(data):\n",
    "    markov_model = dict()\n",
    "\n",
    "    for i in range(0, len(data)-1):\n",
    "        if data[i] in markov_model:\n",
    "            # Просто присоединяем к уже существующему распределению\n",
    "            markov_model[data[i]].update([data[i+1]])\n",
    "        else:\n",
    "            markov_model[data[i]] = Dictogram([data[i+1]])\n",
    "    return markov_model"
   ]
  },
  {
   "cell_type": "code",
   "execution_count": 173,
   "metadata": {},
   "outputs": [],
   "source": [
    "import random\n",
    "from collections import deque\n",
    "import re\n",
    "\n",
    "\n",
    "def generate_random_start(model):\n",
    "    # Чтобы сгенерировать любое начальное слово, раскомментируйте строку:\n",
    "    # return random.choice(model.keys())\n",
    "\n",
    "    # Чтобы сгенерировать \"правильное\" начальное слово, используйте код ниже:\n",
    "    # Правильные начальные слова - это те, что являлись началом предложений в корпусе\n",
    "    if 'END' in model:\n",
    "        seed_word = 'END'\n",
    "        while seed_word == 'END':\n",
    "            seed_word = model['END'].return_weighted_random_word()\n",
    "        return seed_word\n",
    "    return random.choice(list(model.keys()))\n",
    "\n",
    "\n",
    "\n",
    "def generate_random_sentence(length, markov_model):\n",
    "    current_word = generate_random_start(markov_model)\n",
    "    sentence = [current_word]\n",
    "    for i in range(0, length):\n",
    "        current_dictogram = markov_model[current_word]\n",
    "        random_weighted_word = current_dictogram.return_weighted_random_word()\n",
    "        current_word = random_weighted_word\n",
    "        sentence.append(current_word)\n",
    "    sentence[0] = sentence[0].capitalize()\n",
    "    return ' '.join(sentence) + '.'\n",
    "    return sentence"
   ]
  },
  {
   "cell_type": "code",
   "execution_count": 174,
   "metadata": {},
   "outputs": [],
   "source": [
    "def Convert(string): \n",
    "    li = list(string.split(\" \")) \n",
    "    return li "
   ]
  },
  {
   "cell_type": "markdown",
   "metadata": {},
   "source": [
    "иллюстрация к работе марковских цепей\n",
    "Тут мы видим, что берется первое слово из предложения, и далее исходя из него подбираются следующие слова по статистической вероятности. И таким образом пишется текст.\n",
    "Довольно просто и элегантно"
   ]
  },
  {
   "cell_type": "code",
   "execution_count": 1,
   "metadata": {},
   "outputs": [],
   "source": [
    "#make_markov_model(Convert(str(df['text']).replace('\\n','').replace('1','').replace('2','').replace('3','').replace('4','').replace('5','').replace('6','').replace('7','').replace('8','').replace('9','')))"
   ]
  },
  {
   "cell_type": "markdown",
   "metadata": {},
   "source": [
    "Вот пример слов, с которых можно начинать генерировать текст. Соответственно, слова из линейной модели не всегла удовлетворяют требованиям"
   ]
  },
  {
   "cell_type": "code",
   "execution_count": 177,
   "metadata": {},
   "outputs": [],
   "source": [
    "model = make_markov_model(Convert(str(df['text']).replace('\\n','').replace('\\\\n','').replace('1','').replace('2','').replace('3','').replace('4','').replace('5','').replace('6','').replace('7','').replace('8','').replace('9','')))\n"
   ]
  },
  {
   "cell_type": "code",
   "execution_count": 179,
   "metadata": {},
   "outputs": [
    {
     "data": {
      "text/plain": [
       "'coursera.org/learn/neurobiology'"
      ]
     },
     "execution_count": 179,
     "metadata": {},
     "output_type": "execute_result"
    }
   ],
   "source": [
    "generate_random_start(model)"
   ]
  },
  {
   "cell_type": "markdown",
   "metadata": {},
   "source": [
    "И вот тут мы генерируем 5 постов, обычно выглядит весьма забавно\n",
    "\n",
    "Привожу скрин одного из текстов, особенно понравилось про создание учебного плана :)"
   ]
  },
  {
   "attachments": {
    "photo_2019-10-25_05-32-21.jpg": {
     "image/jpeg": "[encoded data removed]"
    }
   },
   "cell_type": "markdown",
   "metadata": {},
   "source": [
    "![photo_2019-10-25_05-32-21.jpg](attachment:photo_2019-10-25_05-32-21.jpg)"
   ]
  },
  {
   "cell_type": "code",
   "execution_count": 180,
   "metadata": {},
   "outputs": [
    {
     "name": "stdout",
     "output_type": "stream",
     "text": [
      "Суд. vk.com/wall-0_0Организаторы Дня Вышки объявили, что в том числе и их захоронения и учиться по карьерной лестнице: вы не только придадут эссе более официальный вид, но и тайнах Любянки. vk.cc/rbtS Люди гибнут за футбол В этом туре речь пойдет о том, в холле корпуса на Netflix, читать книги Джона Миллера « принципов проактивного мышления» рассказываем, как сон влияет на концерт в оригинале и часовых поясов на концерт в День Вышки, составит 00 рублей. tass.ru/obschestvo/0Ректор Вышки объявили, что раздача билетов на конкурс научно-исследовательских работ студентов, хранение которых отберут их захоронения и русскими классиками,. \n",
      "\n",
      "Футбол В преддверии Чемпионата мира по футболу общество «Мемориал» устроило тур по карьерной лестнице: вы наконец усвоили разницу в советских репрессиях, и кому теперь писать курсовые. Можно узнать, как при поступлении в которых держали заключенных.vk.cc/rbvms Знакомимся со статьями по зарубежным материалам. Собрали видео с вузом в курсе событий, Ваша The Вышка                           . \n",
      "\n",
      "Результаты вдруг окажутся не только придадут эссе более официальный вид, но и некоторых футбольных команд, и чем занимаются после окончания университета. Вспоминаем наш материал про выпускников экономических факультетов разных сферах жизни. Собрали видео с репрессивной компанией против поляков в нашей редакции сменяется управляющий состав. О том, что произошло в советское время были проанализированы специальные музыкальные базы данных. coursera.org/learn/music-as-biology                         . \n",
      "\n",
      "Жертвах, традиционных районах проживания польского народа и объясняем, почему мы отправимся на концерт в советских лагерях, расскажет историк Сергей Соловьев. vk.cc/rbvk Репрессии против поляков в наше время. vk.cc/rbuTj                                                      . \n",
      "\n",
      "Начислят всем студентам в прилагающийся раздел грамматики. www.bbc.co.uk/learningenglish/english/course/quizzes/unit-/session-                                                     . \n",
      "\n"
     ]
    }
   ],
   "source": [
    "for i in range(0,5):\n",
    "    print(generate_random_sentence(random.randint(60, 100), model), '\\n')"
   ]
  },
  {
   "cell_type": "code",
   "execution_count": null,
   "metadata": {},
   "outputs": [],
   "source": []
  }
 ],
 "metadata": {
  "hide_input": false,
  "kernelspec": {
   "display_name": "Python 3",
   "language": "python",
   "name": "python3"
  },
  "language_info": {
   "codemirror_mode": {
    "name": "ipython",
    "version": 3
   },
   "file_extension": ".py",
   "mimetype": "text/x-python",
   "name": "python",
   "nbconvert_exporter": "python",
   "pygments_lexer": "ipython3",
   "version": "3.7.4"
  },
  "toc": {
   "base_numbering": 1,
   "nav_menu": {},
   "number_sections": true,
   "sideBar": true,
   "skip_h1_title": false,
   "title_cell": "Table of Contents",
   "title_sidebar": "Contents",
   "toc_cell": false,
   "toc_position": {},
   "toc_section_display": true,
   "toc_window_display": false
  },
  "varInspector": {
   "cols": {
    "lenName": 16,
    "lenType": 16,
    "lenVar": 40
   },
   "kernels_config": {
    "python": {
     "delete_cmd_postfix": "",
     "delete_cmd_prefix": "del ",
     "library": "var_list.py",
     "varRefreshCmd": "print(var_dic_list())"
    },
    "r": {
     "delete_cmd_postfix": ") ",
     "delete_cmd_prefix": "rm(",
     "library": "var_list.r",
     "varRefreshCmd": "cat(var_dic_list()) "
    }
   },
   "types_to_exclude": [
    "module",
    "function",
    "builtin_function_or_method",
    "instance",
    "_Feature"
   ],
   "window_display": false
  }
 },
 "nbformat": 4,
 "nbformat_minor": 2
}
