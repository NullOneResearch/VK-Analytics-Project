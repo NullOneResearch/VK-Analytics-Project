{
 "cells": [
  {
   "cell_type": "raw",
   "metadata": {},
   "source": [
    "!pip install vk"
   ]
  },
  {
   "cell_type": "code",
   "execution_count": null,
   "metadata": {},
   "outputs": [],
   "source": [
    "import vk"
   ]
  },
  {
   "cell_type": "code",
   "execution_count": null,
   "metadata": {},
   "outputs": [],
   "source": [
    "token = '58804c0458804c0458804c042658ed2ac45588058804c040523c7a2bb55f107daaf7a2a'"
   ]
  },
  {
   "cell_type": "code",
   "execution_count": null,
   "metadata": {},
   "outputs": [],
   "source": [
    "session = vk.Session(access_token = token) # открыть сессию для работы\n",
    "api = vk.API(session) # подключиться к API"
   ]
  },
  {
   "cell_type": "code",
   "execution_count": null,
   "metadata": {},
   "outputs": [],
   "source": [
    "group = 'thevyshka'"
   ]
  },
  {
   "cell_type": "code",
   "execution_count": null,
   "metadata": {},
   "outputs": [],
   "source": [
    "res = api.wall.get(domain = group, count = 100, v = 5.73)"
   ]
  },
  {
   "cell_type": "code",
   "execution_count": null,
   "metadata": {},
   "outputs": [],
   "source": [
    "res"
   ]
  },
  {
   "cell_type": "code",
   "execution_count": null,
   "metadata": {},
   "outputs": [],
   "source": [
    "res.keys()"
   ]
  },
  {
   "cell_type": "code",
   "execution_count": null,
   "metadata": {},
   "outputs": [],
   "source": [
    "res['items'][0] # первый элемент items - первый пост со всей информацией о нем"
   ]
  },
  {
   "cell_type": "code",
   "execution_count": null,
   "metadata": {},
   "outputs": [],
   "source": [
    "items = res['items']"
   ]
  },
  {
   "cell_type": "code",
   "execution_count": null,
   "metadata": {},
   "outputs": [],
   "source": [
    "items = res['items']\n",
    "\n",
    "full_list = []\n",
    "\n",
    "for item in items:\n",
    "    L = [item['from_id'], item['id'], item['text'], item['date'],\n",
    "        item['likes']['count'], item['reposts']['count'], item['comments']['count']]  # нужные поля\n",
    "    full_list.append(L)  # добавляем в список списков full_list"
   ]
  },
  {
   "cell_type": "code",
   "execution_count": null,
   "metadata": {},
   "outputs": [],
   "source": [
    "# несколько элементов списка\n",
    "full_list[0:3]"
   ]
  },
  {
   "cell_type": "code",
   "execution_count": null,
   "metadata": {},
   "outputs": [],
   "source": [
    "nposts = 2000"
   ]
  },
  {
   "cell_type": "code",
   "execution_count": null,
   "metadata": {},
   "outputs": [],
   "source": [
    "from time import sleep"
   ]
  },
  {
   "cell_type": "code",
   "execution_count": null,
   "metadata": {},
   "outputs": [],
   "source": [
    "for i in range(2, int(nposts/100) + 1):\n",
    "    res2 = api.wall.get(domain = group, count = 100, offset = 100 * i, v = 5.73)\n",
    "    items2 = res2['items']\n",
    "    items.extend(items2) # добавляем к первой сотне постов в items"
   ]
  },
  {
   "cell_type": "code",
   "execution_count": null,
   "metadata": {},
   "outputs": [],
   "source": [
    "# опять выберем только нужные поля\n",
    "full_list = []\n",
    "for item in items:\n",
    "    L = [item['from_id'], item['id'], item['text'], item['date'],\n",
    "        item['likes']['count'], item['reposts']['count'], item ['comments']['count'], item['views']['count']]\n",
    "    full_list.append(L)"
   ]
  },
  {
   "cell_type": "code",
   "execution_count": null,
   "metadata": {},
   "outputs": [],
   "source": [
    "type(['date'])"
   ]
  },
  {
   "cell_type": "code",
   "execution_count": null,
   "metadata": {},
   "outputs": [],
   "source": [
    "import pandas as pd"
   ]
  },
  {
   "cell_type": "code",
   "execution_count": null,
   "metadata": {},
   "outputs": [],
   "source": [
    "full_list"
   ]
  },
  {
   "cell_type": "code",
   "execution_count": null,
   "metadata": {},
   "outputs": [],
   "source": [
    "df = pd.DataFrame(full_list)"
   ]
  },
  {
   "cell_type": "code",
   "execution_count": null,
   "metadata": {},
   "outputs": [],
   "source": [
    "df.columns = ['from_id', 'id', 'text', 'date', 'likes', 'reposts', 'comments', 'views']\n",
    "df.head(3)"
   ]
  },
  {
   "cell_type": "code",
   "execution_count": null,
   "metadata": {},
   "outputs": [],
   "source": [
    "col_list = list(df)\n",
    "col_list.remove('from_id')\n",
    "col_list.remove('id')\n",
    "col_list.remove('text')\n",
    "col_list.remove('date')\n",
    "col_list.remove('views')\n",
    "col_list"
   ]
  },
  {
   "cell_type": "code",
   "execution_count": null,
   "metadata": {},
   "outputs": [],
   "source": [
    "df['total_actions'] = df[col_list].sum(axis=1)\n",
    "df"
   ]
  },
  {
   "cell_type": "code",
   "execution_count": null,
   "metadata": {},
   "outputs": [],
   "source": [
    "test2 = df.sort_values(['date'], ascending=[False])\n",
    "test2 = df.sort_values(['date'], ascending=[0])"
   ]
  },
  {
   "cell_type": "code",
   "execution_count": null,
   "metadata": {},
   "outputs": [],
   "source": [
    "df.head(5)"
   ]
  },
  {
   "cell_type": "code",
   "execution_count": null,
   "metadata": {},
   "outputs": [],
   "source": [
    "from datetime import datetime"
   ]
  },
  {
   "cell_type": "code",
   "execution_count": null,
   "metadata": {},
   "outputs": [],
   "source": [
    "def date_norm(date):\n",
    "    d = datetime.fromtimestamp(date) # timestamp - UNIX-время в виде строки\n",
    "    str_d = d.strftime(\"%Y-%m %H\") # %Y-%m-%d %H:%M:%S - год-месяц-день, часы:мин:сек\n",
    "    date_norm, time_norm = str_d.split(' ') # разобьем результат на части, отделим дату от времени\n",
    "    return date_norm, time_norm"
   ]
  },
  {
   "cell_type": "code",
   "execution_count": null,
   "metadata": {},
   "outputs": [],
   "source": [
    "df['date_norm'] = df.date.apply(date_norm)"
   ]
  },
  {
   "cell_type": "code",
   "execution_count": null,
   "metadata": {},
   "outputs": [],
   "source": [
    "df.head(10)"
   ]
  },
  {
   "cell_type": "code",
   "execution_count": null,
   "metadata": {},
   "outputs": [],
   "source": [
    "df.tail(10)\n",
    "#пытаемся определить, какое значение \"date\" будет равно сентябрю 2018 года, так как наш анализ берет период с сентября 2018 по октябрь 2019 "
   ]
  },
  {
   "cell_type": "code",
   "execution_count": null,
   "metadata": {},
   "outputs": [],
   "source": [
    "df = df.loc[df['date'] >= 1535796013]\n",
    "#определили значения и отрезает датасет до него включительно"
   ]
  },
  {
   "cell_type": "code",
   "execution_count": null,
   "metadata": {},
   "outputs": [],
   "source": [
    "df.tail(10)"
   ]
  },
  {
   "cell_type": "code",
   "execution_count": null,
   "metadata": {},
   "outputs": [],
   "source": [
    "df = df.drop_duplicates()"
   ]
  },
  {
   "cell_type": "code",
   "execution_count": null,
   "metadata": {
    "scrolled": true
   },
   "outputs": [],
   "source": [
    "df.info()"
   ]
  },
  {
   "cell_type": "code",
   "execution_count": null,
   "metadata": {},
   "outputs": [],
   "source": [
    "df['date_norm'] = df.date.apply(date_norm)"
   ]
  },
  {
   "cell_type": "code",
   "execution_count": null,
   "metadata": {},
   "outputs": [],
   "source": [
    "type(df['date_norm'][1][1])"
   ]
  },
  {
   "cell_type": "code",
   "execution_count": null,
   "metadata": {},
   "outputs": [],
   "source": [
    "def get_date(date):\n",
    "    return date[0]\n",
    "\n",
    "def get_time(date):\n",
    "    return date[1]"
   ]
  },
  {
   "cell_type": "code",
   "execution_count": null,
   "metadata": {},
   "outputs": [],
   "source": [
    "df['Date'] = df.date_norm.apply(get_date)\n",
    "df['Time'] = df.date_norm.apply(get_time)"
   ]
  },
  {
   "cell_type": "code",
   "execution_count": null,
   "metadata": {},
   "outputs": [],
   "source": [
    "total_actions = df.sort_values(['total_actions'], ascending=[False])\n",
    "total_actions = df.sort_values(['total_actions'], ascending=[0])"
   ]
  },
  {
   "cell_type": "code",
   "execution_count": null,
   "metadata": {},
   "outputs": [],
   "source": [
    "total_actions"
   ]
  },
  {
   "cell_type": "code",
   "execution_count": null,
   "metadata": {},
   "outputs": [],
   "source": [
    "df.head()"
   ]
  },
  {
   "cell_type": "code",
   "execution_count": null,
   "metadata": {},
   "outputs": [],
   "source": [
    "import ast"
   ]
  },
  {
   "cell_type": "raw",
   "metadata": {},
   "source": [
    "ast.literal_eval(str(res['items'][6]['attachments']).replace('[','').replace(']',''))['link']['title']"
   ]
  },
  {
   "cell_type": "code",
   "execution_count": null,
   "metadata": {},
   "outputs": [],
   "source": [
    "# опять выберем только нужные поля\n",
    "full_list_text = []\n",
    "for item in items:\n",
    "    L = [item['text']]\n",
    "    full_list_text.append(L)"
   ]
  },
  {
   "cell_type": "code",
   "execution_count": null,
   "metadata": {},
   "outputs": [],
   "source": [
    "df1 = pd.DataFrame(full_list_text)"
   ]
  },
  {
   "cell_type": "code",
   "execution_count": null,
   "metadata": {},
   "outputs": [],
   "source": [
    "pd.set_option('display.max_colwidth', -1)"
   ]
  },
  {
   "cell_type": "code",
   "execution_count": null,
   "metadata": {},
   "outputs": [],
   "source": [
    "df1.head()"
   ]
  },
  {
   "cell_type": "code",
   "execution_count": null,
   "metadata": {},
   "outputs": [],
   "source": [
    "from collections import Counter\n",
    "counts = Counter(df1[0])\n",
    "print(counts)"
   ]
  },
  {
   "cell_type": "code",
   "execution_count": null,
   "metadata": {},
   "outputs": [],
   "source": [
    "#Делаем облако часто упоминаемых слов\n",
    "import nltk\n",
    "nltk.download('stopwords')"
   ]
  },
  {
   "cell_type": "code",
   "execution_count": null,
   "metadata": {},
   "outputs": [],
   "source": [
    "from nltk.corpus import stopwords\n",
    "stop_words = stopwords.words('russian')\n",
    "stop_words = set(stop_words)"
   ]
  },
  {
   "cell_type": "code",
   "execution_count": null,
   "metadata": {},
   "outputs": [],
   "source": [
    "stop_words = list(stop_words)\n",
    "ffff = ['вышки', 'com', 'vk', 'app', 'android', 'id', 'org', 'ru', 'html', 'thevyshka', 'apple', 'new', 'почему', 'найти', 'могут', 'который', 'рассказывает', 'ваша', 'вышка', 'the', 'io', 'вшэ', 'например', 'узнаете', 'которые', 'сайте', 'работы', 'истории', 'news', 'wall', 'узнать', 'google', 'помогут', 'каждый', 'собрали', 'hse', 'книга', 'истории', 'несколько', 'жизни', 'помощью', 'ул', 'других', 'цена', 'авторы', 'курс', 'поэтому', 'сегодня', 'store', 'поможет']\n",
    "for i in ffff:\n",
    "    stop_words.append(i)"
   ]
  },
  {
   "cell_type": "code",
   "execution_count": null,
   "metadata": {},
   "outputs": [],
   "source": [
    "stop_words = set(stop_words)"
   ]
  },
  {
   "cell_type": "code",
   "execution_count": null,
   "metadata": {},
   "outputs": [],
   "source": [
    "text = Counter(df1[0].to_string(index=False).replace('\\n','').lower().split()).most_common(1000)"
   ]
  },
  {
   "cell_type": "code",
   "execution_count": null,
   "metadata": {},
   "outputs": [],
   "source": [
    "import functools \n",
    "import operator  \n",
    "  \n",
    "def convertTuple(tup): \n",
    "    str = functools.reduce(operator.add, (tup)) \n",
    "    return str"
   ]
  },
  {
   "cell_type": "raw",
   "metadata": {},
   "source": [
    "ff = []\n",
    "for i in text:\n",
    "    if i.str.contains('|'.join(stop_words)).value_counts() == False:\n",
    "        ff.append(i)"
   ]
  },
  {
   "cell_type": "raw",
   "metadata": {},
   "source": [
    "most_used_words = ''\n",
    "for i in text:\n",
    "    most_used_words = most_used_words.join(i)\n",
    "    \n",
    "most_used_words"
   ]
  },
  {
   "cell_type": "code",
   "execution_count": null,
   "metadata": {},
   "outputs": [],
   "source": [
    "most_used_words =''\n",
    "for text in Counter(df1[0].to_string(index=False).replace('\\n','').lower().split()).most_common(1000):\n",
    "    \n",
    "    most_used_words = most_used_words.join([word for word in str(text).split() if word not in (stop_words)])"
   ]
  },
  {
   "cell_type": "code",
   "execution_count": null,
   "metadata": {},
   "outputs": [],
   "source": [
    "most_used_words"
   ]
  },
  {
   "cell_type": "raw",
   "metadata": {},
   "source": [
    "!pip install wordcloud"
   ]
  },
  {
   "cell_type": "code",
   "execution_count": null,
   "metadata": {},
   "outputs": [],
   "source": [
    "def transform_to_text(list_text):\n",
    "    result_text = ''\n",
    "    word_regexp = re.compile(r'[а-яa-z]+')\n",
    "    hashtag_regexp = re.compile(r'@[а-яa-z]+')\n",
    "    for text in list_text:\n",
    "        text_without_hashtag = hashtag_regexp.sub('', text.lower())\n",
    "        result_text += ' '.join(word_regexp.findall(text_without_hashtag.lower())) + '\\n'\n",
    "    return result_text"
   ]
  },
  {
   "cell_type": "code",
   "execution_count": null,
   "metadata": {},
   "outputs": [],
   "source": [
    "df1.columns = ['most_used_words']"
   ]
  },
  {
   "cell_type": "code",
   "execution_count": null,
   "metadata": {},
   "outputs": [],
   "source": [
    "from wordcloud import WordCloud\n",
    "import re\n",
    "import matplotlib.pyplot as plt\n",
    "\n",
    "text = transform_to_text(df1['most_used_words'].tolist())\n",
    "\n",
    "# создание модели WordCloud с разными параметрами, которые также можно менять\n",
    "wordcloud = WordCloud(background_color='white',\n",
    "        stopwords=stop_words,\n",
    "        max_words=100,\n",
    "        max_font_size=50,\n",
    "        random_state=42,\n",
    "        collocations=False)\n",
    "\n",
    "# передадим полученный текст модели WordCloud\n",
    "wordcloud.generate_from_text(text)\n",
    " \n",
    "# изображение\n",
    "fig = plt.figure(figsize=(10,10))\n",
    "plt.imshow(wordcloud)\n",
    "plt.axis('off')\n",
    "\n",
    "# команда, чтобы сохранить картинкой\n",
    "plt.savefig('worlcloud.png', bbox_inches = 'tight')\n",
    "\n",
    "#ПРОГНАТЬ ДВАЖДЫ, ЧТОБЫ ОТКРЫЛОСЬ В ТЕТРАДКЕ\n",
    "#ЕСЛИ ПРОГНАТЬ ОДИН РАЗ, ТО СОХРАНИТСЯ В ПАПКУ С ТЕТРАДКОЙ"
   ]
  },
  {
   "cell_type": "code",
   "execution_count": null,
   "metadata": {},
   "outputs": [],
   "source": [
    "plt.show()"
   ]
  },
  {
   "cell_type": "code",
   "execution_count": null,
   "metadata": {},
   "outputs": [],
   "source": [
    "items = res['items']\n",
    "z = 0\n",
    "full_list = []\n",
    "for item in items:\n",
    "    try:\n",
    "    \n",
    "        L = [item['from_id'], item['id'], item['text'], item['date'],\n",
    "            item['likes']['count'], item['reposts']['count'], item['comments']['count'], item['views']['count'], ast.literal_eval(str(res['items'][z]['attachments']).replace('[','').replace(']',''))['link']['title']]\n",
    "        \n",
    "        full_list.append(L)\n",
    "    except:\n",
    "        pass\n",
    "    z +=1"
   ]
  },
  {
   "cell_type": "code",
   "execution_count": null,
   "metadata": {},
   "outputs": [],
   "source": [
    "df_titles = pd.DataFrame(full_list)"
   ]
  },
  {
   "cell_type": "code",
   "execution_count": null,
   "metadata": {},
   "outputs": [],
   "source": [
    "df_titles.info()"
   ]
  },
  {
   "cell_type": "code",
   "execution_count": null,
   "metadata": {
    "scrolled": true
   },
   "outputs": [],
   "source": [
    "df_titles.columns = ['from_id', 'id', 'text', 'date', 'likes', 'reposts', 'comments', 'views', 'title']\n",
    "df_titles.head(3)"
   ]
  },
  {
   "cell_type": "code",
   "execution_count": null,
   "metadata": {},
   "outputs": [],
   "source": [
    "df_titles['dlina'] = df_titles['text'].str.count(' ') + 1"
   ]
  },
  {
   "cell_type": "code",
   "execution_count": null,
   "metadata": {},
   "outputs": [],
   "source": [
    "col_list = list(df_titles)"
   ]
  },
  {
   "cell_type": "code",
   "execution_count": null,
   "metadata": {},
   "outputs": [],
   "source": [
    "col_list"
   ]
  },
  {
   "cell_type": "code",
   "execution_count": null,
   "metadata": {},
   "outputs": [],
   "source": [
    "col_list.remove('from_id')"
   ]
  },
  {
   "cell_type": "code",
   "execution_count": null,
   "metadata": {},
   "outputs": [],
   "source": [
    "col_list.remove('id')"
   ]
  },
  {
   "cell_type": "code",
   "execution_count": null,
   "metadata": {},
   "outputs": [],
   "source": [
    "col_list.remove('date')"
   ]
  },
  {
   "cell_type": "code",
   "execution_count": null,
   "metadata": {},
   "outputs": [],
   "source": [
    "col_list.remove('text')"
   ]
  },
  {
   "cell_type": "code",
   "execution_count": null,
   "metadata": {},
   "outputs": [],
   "source": [
    "col_list.remove('views')"
   ]
  },
  {
   "cell_type": "code",
   "execution_count": null,
   "metadata": {},
   "outputs": [],
   "source": [
    "col_list.remove('title')"
   ]
  },
  {
   "cell_type": "code",
   "execution_count": null,
   "metadata": {},
   "outputs": [],
   "source": [
    "col_list.remove('dlina')"
   ]
  },
  {
   "cell_type": "code",
   "execution_count": null,
   "metadata": {},
   "outputs": [],
   "source": [
    "col_list"
   ]
  },
  {
   "cell_type": "code",
   "execution_count": null,
   "metadata": {},
   "outputs": [],
   "source": [
    "df_titles['total_actions'] = df_titles[col_list].sum(axis=1)\n",
    "df_titles"
   ]
  },
  {
   "cell_type": "code",
   "execution_count": null,
   "metadata": {},
   "outputs": [],
   "source": [
    "def date_norm(date):\n",
    "    d = datetime.fromtimestamp(date) # timestamp - UNIX-время в виде строки\n",
    "    str_d = d.strftime(\"%Y-%m %H\") # %Y-%m-%d %H:%M:%S - год-месяц-день, часы:мин:сек\n",
    "    date_norm, time_norm = str_d.split(' ') # разобьем результат на части, отделим дату от времени\n",
    "    return date_norm, time_norm"
   ]
  },
  {
   "cell_type": "code",
   "execution_count": null,
   "metadata": {},
   "outputs": [],
   "source": [
    "df_titles['date_norm'] = df_titles.date.apply(date_norm)"
   ]
  },
  {
   "cell_type": "code",
   "execution_count": null,
   "metadata": {},
   "outputs": [],
   "source": [
    "df_titles.head()"
   ]
  },
  {
   "cell_type": "code",
   "execution_count": null,
   "metadata": {},
   "outputs": [],
   "source": [
    "df_titles['Date'] = df_titles.date_norm.apply(get_date)\n",
    "df_titles['Time'] = df_titles.date_norm.apply(get_time)"
   ]
  },
  {
   "cell_type": "code",
   "execution_count": null,
   "metadata": {},
   "outputs": [],
   "source": [
    "df_titles.head(1)"
   ]
  },
  {
   "cell_type": "code",
   "execution_count": null,
   "metadata": {},
   "outputs": [],
   "source": [
    "del df_titles['id']"
   ]
  },
  {
   "cell_type": "code",
   "execution_count": null,
   "metadata": {
    "scrolled": true
   },
   "outputs": [],
   "source": [
    "del df_titles['from_id']"
   ]
  },
  {
   "cell_type": "code",
   "execution_count": null,
   "metadata": {},
   "outputs": [],
   "source": [
    "del df_titles['date']"
   ]
  },
  {
   "cell_type": "code",
   "execution_count": null,
   "metadata": {},
   "outputs": [],
   "source": [
    "del df_titles['date_norm']"
   ]
  },
  {
   "cell_type": "code",
   "execution_count": null,
   "metadata": {},
   "outputs": [],
   "source": [
    "df_titles.head(2)"
   ]
  },
  {
   "cell_type": "code",
   "execution_count": null,
   "metadata": {},
   "outputs": [],
   "source": [
    "df_titles = df_titles[['title', 'text', 'likes', 'reposts', 'comments', 'total_actions', 'views', 'Date', 'Time']]\n"
   ]
  },
  {
   "cell_type": "code",
   "execution_count": null,
   "metadata": {},
   "outputs": [],
   "source": [
    "df_titles.head()"
   ]
  },
  {
   "cell_type": "raw",
   "metadata": {},
   "source": [
    "df_titles['date_norm'] =df_titles.date.apply(date_norm)"
   ]
  },
  {
   "cell_type": "raw",
   "metadata": {
    "scrolled": true
   },
   "source": [
    "df_titles.head()"
   ]
  },
  {
   "cell_type": "markdown",
   "metadata": {},
   "source": [
    "# Анализ топ-тем по фидбек и просмотрам"
   ]
  },
  {
   "cell_type": "code",
   "execution_count": null,
   "metadata": {
    "scrolled": false
   },
   "outputs": [],
   "source": [
    "most_total_actions = df.sort_values(['total_actions'], ascending=[False])\n",
    "most_total_actions = df.sort_values(['total_actions'], ascending=[0])"
   ]
  },
  {
   "cell_type": "raw",
   "metadata": {},
   "source": [
    "most_total_actions"
   ]
  },
  {
   "cell_type": "markdown",
   "metadata": {},
   "source": [
    "# Топ-10 тем по фидбеку:\n",
    "1. Мы не могли оставить вас без шуток про Квентина Тарантино в Москв\n",
    "2. Делимся ресурсами, где можно бесплатно скачать шаблоны, которые помогут сделать ваше выступление ярким и запоминающимся\n",
    "3. Мы не привыкли получать подарки, поэтому дарим их любимым читателям в честь нашего [club177784090|грандиозного юбилея]. Будет 16 победителей! \\n\\n✨ Мы разыгрываем\n",
    "4. книги о том, как писать научные тексты\n",
    "5. Делимся книгами, из которых вы узнаете, какие ошибки в переводе самые популярные, как переводится художественная литература, и особенно поэзия, и что делать, если вы не можете перевести текст дословно\n",
    "6. Собрали для вас книги, которые помогут овладеть искусством нетворкинга и обзавестись широким кругом знакомых\n",
    "7. The Vyshka вскрыли свои архивы со скриншотами любимых сериалов 2000-х и сделали мемы, которые идеально описывают будни абитуриента\n",
    "8. Собрали 5 сайтов для тех, у кого не хватает красивых изображений для оформления\n",
    "9. В Вышке стоит уделять внимание английскому: в конце второго курса — IELTS, а потом — лекции и семинары на нем. Предлагаем несколько ресурсов, которые пополнят ваш словарный запас и помогут увереннее чувствовать себя на парах\n",
    "10. В каком порядке должны стоять слова в предложении и как избавиться от штампов — нашли для вас несколько книг о копирайтинге и рекламных текстах"
   ]
  },
  {
   "cell_type": "code",
   "execution_count": null,
   "metadata": {},
   "outputs": [],
   "source": [
    "most_viewed = df.sort_values(['views'], ascending=[False])\n",
    "most_viewed = df.sort_values(['views'], ascending=[0])\n",
    "most_viewed"
   ]
  },
  {
   "cell_type": "markdown",
   "metadata": {},
   "source": [
    "# Топ-10 по просмотрам:\n",
    "1. В этот раз мы слушали лекцию о работе с текстом от создателя самиздата «Батенька, да вы трансформер» и медиаартели «Мамихлапинатана» Егора Мостовщикова. \\n \\nДелимся с вами записью выступления\n",
    "2. Мы не могли оставить вас без шуток про Квентина Тарантино в Москве:\n",
    "3. Language and Myth in the Fantasy Writings of J. R. R. Tolkien», William Provost \\nСтатья фокусируется на известных вымышленных языках — эльфийском языке и Черном наречии. Исследуется не только процесс их создания, но и то, как эти языки вписываются в общий миф «Властелина колец» и как помогают создать образы героев, которые на них говорят\n",
    "4. К первому учебному дню составили чеклист студенческой жизни, чтобы не забыть ничего по-настоящему важного\n",
    "5. Будет 16 победителей! \\n\\n✨ Мы разыгрываем\n",
    "6. Делимся книгами, из которых вы узнаете, какие ошибки в переводе самые популярные, как переводится художественная литература, и особенно поэзия, и что делать, если вы не можете перевести текст\n",
    "7. Делимся ресурсами, где можно бесплатно скачать шаблоны, которые помогут сделать ваше выступление ярким и запоминающимся\n",
    "8. Начался учебный год и большинство первокурсников Вышки уже получили свои студенческие билеты. Сегодня расскажем, почему это еще не все и как оформить три главные карты студента\n",
    "9. Редакторы The Vyshka вскрыли свои архивы со скриншотами любимых сериалов 2000-х и сделали мемы, которые идеально описывают будни абитуриента\n",
    "10. Поисковик Google часто приходит на помощь в сложных жизненных ситуациях, но иногда он просто вас не понимает. Подсказываем, как формулировать запросы так, чтобы необходимую информацию было легче найти"
   ]
  },
  {
   "cell_type": "code",
   "execution_count": null,
   "metadata": {},
   "outputs": [],
   "source": [
    "most_total_actions = df_titles.sort_values(['total_actions'], ascending=[False])\n",
    "most_total_actions = df_titles.sort_values(['total_actions'], ascending=[0])"
   ]
  },
  {
   "cell_type": "raw",
   "metadata": {},
   "source": [
    "most_total_actions"
   ]
  },
  {
   "cell_type": "markdown",
   "metadata": {},
   "source": [
    "# Топ-10 тем по фидбеку (с тайтлами):\n",
    "1. Топ по общим действиям по тайтлам:\n",
    "2. Могли, но не придут на День Вышки\n",
    "3. «Сплин» на все случаи жизни\n",
    "4. Егор Жуков: «первый вышкинский политзаключенный»\n",
    "5. Студент, блогер, либертарианец\n",
    "6. «Вы зажрались»: как прошли протесты в НИУ ВШЭ\n",
    "7. Бакалавры 23+\n",
    "8. Научи: как стать репетитором\n",
    "9. Пишем идеальное введение\n",
    "10. Бунт в питерской Вышке"
   ]
  },
  {
   "cell_type": "code",
   "execution_count": null,
   "metadata": {},
   "outputs": [],
   "source": [
    "most_viewed = df_titles.sort_values(['views'], ascending=[False])\n",
    "most_viewed = df_titles.sort_values(['views'], ascending=[0])"
   ]
  },
  {
   "cell_type": "raw",
   "metadata": {},
   "source": [
    "most_viewed"
   ]
  },
  {
   "cell_type": "markdown",
   "metadata": {},
   "source": [
    "# Топ-10 тем по просмотрам (с тайтлами):\n",
    "1. «Там правда все занимаются сексом?»: студенты о kinky-вечеринках\n",
    "2. «Сплин» на все случаи жизни,\n",
    "3. Секс, Вышка, Рок-н-ролл,\n",
    "4. Учимся печатать вслепую,\n",
    "5. Егор Жуков: «первый вышкинский политзаключенный»,\n",
    "6. Могли, но не придут на День Вышки,\n",
    "7. «Не знаю, кем стану, когда вырасту»: интервью с Асей Казанцевой,\n",
    "8. Феминистки бывают разные,\n",
    "9. Vegan power: от равнодушия к активизму,\n",
    "10. Zero Waste: как уменьшить мусор"
   ]
  },
  {
   "cell_type": "code",
   "execution_count": null,
   "metadata": {},
   "outputs": [],
   "source": [
    "def get_date(date):\n",
    "    return date[0]\n",
    "\n",
    "def get_time(date):\n",
    "    return date[1]"
   ]
  },
  {
   "cell_type": "code",
   "execution_count": null,
   "metadata": {},
   "outputs": [],
   "source": [
    "df_titles['Date'] = df.date_norm.apply(get_date)\n",
    "df_titles['Time'] = df.date_norm.apply(get_time)"
   ]
  },
  {
   "cell_type": "code",
   "execution_count": null,
   "metadata": {
    "scrolled": true
   },
   "outputs": [],
   "source": [
    "df_titles.tail()"
   ]
  },
  {
   "cell_type": "code",
   "execution_count": null,
   "metadata": {},
   "outputs": [],
   "source": [
    "# построение графика с частотой твитов в зависимости от даты\n",
    "df_titles.groupby('Date').size().plot(kind='bar')\n",
    "plt.ylabel('количество публикаций')\n",
    "plt.xlabel('месяц публикаций')\n",
    "\n",
    "# команда, чтобы сохранить картинкой\n",
    "plt.savefig('output.png', bbox_inches = 'tight')\n",
    "\n",
    "####почему только с января, когда с сентября запрос был???????????"
   ]
  },
  {
   "cell_type": "raw",
   "metadata": {},
   "source": [
    "!pip install plotly"
   ]
  },
  {
   "cell_type": "code",
   "execution_count": null,
   "metadata": {},
   "outputs": [],
   "source": [
    "import plotly.offline as pyo\n",
    "import plotly.graph_objs as go\n",
    "import numpy as np\n",
    "import pandas as pd\n",
    "pyo.init_notebook_mode(connected=True) ### чтобы открывался график в тетрадке"
   ]
  },
  {
   "cell_type": "code",
   "execution_count": null,
   "metadata": {},
   "outputs": [],
   "source": [
    "data = [go.Scatter(\n",
    "        x = df_titles.Time, \n",
    "        y = df_titles.total_actions,\n",
    "        mode = 'markers'\n",
    "    )]\n",
    "\n",
    "layout = go.Layout(\n",
    "        title = 'Общее число действий в зависимости от времени публикации',\n",
    "        xaxis = dict(title = 'Время публикации, часы'),\n",
    "        yaxis = dict(title = 'Общее число действий'),\n",
    "        plot_bgcolor='pink'\n",
    "        \n",
    ")\n",
    "\n",
    "fig = go.Figure(data = data, layout = layout) #объединяет дату и лэйаут \n",
    "###  дата будет списком. квадратные скобки, то что может быть несколько графиков\n",
    "pyo.iplot(fig, filename= 'scatter.html') ###добавляем букву i, чтобы график отображался в тетрадке\n",
    "\n"
   ]
  },
  {
   "cell_type": "code",
   "execution_count": null,
   "metadata": {},
   "outputs": [],
   "source": [
    "months = ['Sep', 'Oct', 'Nov', 'Dec', 'Jan', 'Feb', 'Mar', 'Apr', 'May', 'Jun', 'Jul', 'Aug', 'Sep2019', 'Oct2019']\n",
    "data = [go.Bar(\n",
    "        x = months,\n",
    "        y = [92, 116, 108,117, 116, 98, 93, 88, 93, 89, 93, 92, 10, 94]\n",
    ")]\n",
    "    \n",
    "layout = go.Layout(\n",
    "        title = 'Количество публикаций в зависимости от месяца',\n",
    "        xaxis = dict(title = 'Месяц публикации публикации'), # название оси х\n",
    "        yaxis = dict(title = 'Кол-во публикаций'), # название оси у\n",
    ")\n",
    "\n",
    "fig = go.Figure(data = data, layout = layout) #объединяет дату и лэйаут в график\n",
    "\n",
    "pyo.iplot(fig, filename= 'scatter.html') "
   ]
  },
  {
   "cell_type": "code",
   "execution_count": null,
   "metadata": {},
   "outputs": [],
   "source": [
    "df_titles['text'] = df_titles['text'].replace('\\n', '')"
   ]
  },
  {
   "cell_type": "code",
   "execution_count": null,
   "metadata": {},
   "outputs": [],
   "source": [
    "df_titles"
   ]
  },
  {
   "cell_type": "code",
   "execution_count": null,
   "metadata": {},
   "outputs": [],
   "source": [
    "df_titles['dlina'] = df_titles['text'].str.count(' ') + 1"
   ]
  },
  {
   "cell_type": "code",
   "execution_count": null,
   "metadata": {},
   "outputs": [],
   "source": [
    "df_titles['text'] = df_titles['text'].str.replace('\\n', ' ')\n",
    "df_titles['text'] = df_titles['text'].str.lower()"
   ]
  },
  {
   "cell_type": "code",
   "execution_count": null,
   "metadata": {},
   "outputs": [],
   "source": [
    "data = [go.Scatter(\n",
    "        x = df_titles.dlina, \n",
    "        y = df_titles.total_actions,\n",
    "        mode = 'markers'\n",
    "    )]\n",
    "\n",
    "layout = go.Layout(\n",
    "        title = 'Общее число действий в зависимости от длины текста',\n",
    "        xaxis = dict(title = 'Длина текста (кол-во слов)'),\n",
    "        yaxis = dict(title = 'Общее число действий'),\n",
    "        plot_bgcolor='pink'\n",
    "        \n",
    ")\n",
    "\n",
    "fig = go.Figure(data = data, layout = layout) #объединяет дату и лэйаут \n",
    "###  дата будет списком. квадратные скобки, то что может быть несколько графиков\n",
    "pyo.iplot(fig, filename= 'scatter.html') ###добавляем букву i, чтобы график отображался в тетрадке\n"
   ]
  },
  {
   "cell_type": "code",
   "execution_count": null,
   "metadata": {},
   "outputs": [],
   "source": [
    "writer = pd.ExcelWriter('DataList.xlsx', engine='xlsxwriter')\n",
    "\n",
    "df_titles.to_excel(writer,\n",
    "                  sheet_name='Sheet_name_1')\n",
    "\n",
    "writer.save()"
   ]
  },
  {
   "cell_type": "code",
   "execution_count": null,
   "metadata": {},
   "outputs": [],
   "source": [
    "writer = pd.ExcelWriter('DataListFull.xlsx', engine='xlsxwriter')\n",
    "\n",
    "df.to_excel(writer,\n",
    "                  sheet_name='Sheet_name_1')\n",
    "\n",
    "writer.save()"
   ]
  },
  {
   "cell_type": "markdown",
   "metadata": {},
   "source": [
    "# РЕГРЕССИОННЫЙ АНАЛИЗ"
   ]
  },
  {
   "cell_type": "markdown",
   "metadata": {},
   "source": [
    "В чем суть:\n",
    "Нам показалось, что частотного анализа будет недостаточно для того, чтобы вывести интересующие студентов темы, так что мы решили внедрить более интересный метод анализа данных.\n",
    "Будет использоваться линейная регрессионная модель, цель - вытащить из неё веса различных слов, чтобы выявить, какие слова сильнее всего влияют на общую активность."
   ]
  },
  {
   "cell_type": "code",
   "execution_count": null,
   "metadata": {},
   "outputs": [],
   "source": [
    "from sklearn.feature_extraction.text import CountVectorizer\n",
    "\n",
    "from sklearn.metrics import accuracy_score, precision_score, recall_score, confusion_matrix, precision_recall_curve\n",
    "from sklearn.linear_model import LogisticRegression\n",
    "from sklearn.naive_bayes import GaussianNB\n",
    "\n",
    "import numpy as np\n",
    "import pandas as pd\n",
    "import matplotlib.pyplot as plt\n",
    "from scipy.io.arff import loadarff\n",
    "%matplotlib inline\n",
    "import seaborn as sns\n",
    "from sklearn.model_selection import train_test_split\n",
    "from sklearn.metrics import mean_squared_error\n",
    "from sklearn.preprocessing import RobustScaler\n",
    "\n",
    "from sklearn.linear_model import LinearRegression\n",
    "from sklearn.linear_model import Lasso"
   ]
  },
  {
   "cell_type": "code",
   "execution_count": null,
   "metadata": {},
   "outputs": [],
   "source": [
    "import re\n",
    "import requests\n",
    "import pandas as pd\n",
    "from bs4 import BeautifulSoup\n",
    "import time\n",
    "from functools import reduce\n",
    "import pandas as pd\n",
    "import warnings \n",
    "warnings.filterwarnings('ignore')\n",
    "from datetime import date\n",
    "from datetime import datetime\n",
    "import numpy as np"
   ]
  },
  {
   "cell_type": "code",
   "execution_count": null,
   "metadata": {},
   "outputs": [],
   "source": [
    "def CMatrix(CM, labels=['+1','-1']): #взято из семинара, чтобы строить матрицы ошибок (CM)\n",
    "    df = pd.DataFrame(data=CM, index=labels, columns=labels)\n",
    "    df.index.name='TRUE'\n",
    "    df.columns.name='PREDICTION'\n",
    "    df.loc['Total'] = df.sum()\n",
    "    df['Total'] = df.sum(axis=1)\n",
    "    return df"
   ]
  },
  {
   "cell_type": "markdown",
   "metadata": {},
   "source": [
    "# Линейная регрессия по текстам постов с тайтлами"
   ]
  },
  {
   "cell_type": "markdown",
   "metadata": {},
   "source": [
    "Линейные модели были разделены на три группы:\n",
    "- Регрессия по текстам постов с тайтлами (то есть, содержашая ссылки на статьи)\n",
    "- Регрессия по самим тайтлам статей из ссылок\n",
    "- Регрессия по текстам вообще всех постов"
   ]
  },
  {
   "cell_type": "code",
   "execution_count": null,
   "metadata": {},
   "outputs": [],
   "source": [
    "daf = df_titles.copy()\n",
    "daf['target'] = daf['total_actions']\n",
    "daf.drop('title', axis=1, inplace=True)\n",
    "daf.drop('likes', axis=1, inplace=True)\n",
    "daf.drop('reposts', axis=1, inplace=True)\n",
    "daf.drop('views', axis=1, inplace=True)\n",
    "daf.drop('Date', axis=1, inplace=True)\n",
    "daf.drop('Time', axis=1, inplace=True)\n",
    "daf.drop('dlina', axis=1, inplace=True)\n",
    "daf.drop('total_actions', axis=1, inplace=True)\n",
    "daf.info()"
   ]
  },
  {
   "cell_type": "code",
   "execution_count": null,
   "metadata": {},
   "outputs": [],
   "source": [
    "target_name = 'target'\n",
    "robust_scaler = RobustScaler()\n",
    "\n",
    "X = daf.drop('target', axis=1) #готовим датафрейм к моделированию\n",
    "\n",
    "corpus = X['text']\n",
    "vectorizer = CountVectorizer()\n",
    "vectorizer.fit(corpus)\n",
    "X_dtm = vectorizer.transform(corpus)\n",
    "X = pd.DataFrame(data=X_dtm.toarray(), columns=vectorizer.get_feature_names(), index=['doc_'+str(i+1) for i in range(len(df_titles))]) #прописываем range как в таблице\n",
    "#делаем мешки слов\n"
   ]
  },
  {
   "cell_type": "code",
   "execution_count": null,
   "metadata": {},
   "outputs": [],
   "source": [
    "vval = X.columns.copy()"
   ]
  },
  {
   "cell_type": "code",
   "execution_count": null,
   "metadata": {},
   "outputs": [],
   "source": [
    "X = robust_scaler.fit_transform(X)\n",
    "\n",
    "y = daf[target_name]\n",
    "\n",
    "X_train, X_test, y_train, y1_test = train_test_split(X, y, test_size=0.3, random_state=120)"
   ]
  },
  {
   "cell_type": "raw",
   "metadata": {},
   "source": [
    "\n",
    "\n",
    "\n",
    "\n",
    "metrics = pd.DataFrame(index=['accuracy', 'precision', 'recall'], \n",
    "                      columns=['LogisticReg','NaiveBayes']) #в колонках логистическая и наивный баес\n",
    "\n",
    "logistic_regression = LogisticRegression(n_jobs=-1, random_state=15)\n",
    "logistic_regression.fit(X_train, y_train)\n"
   ]
  },
  {
   "cell_type": "code",
   "execution_count": null,
   "metadata": {},
   "outputs": [],
   "source": [
    "lm = LinearRegression()\n",
    "lm.fit(X_train,y_train)"
   ]
  },
  {
   "cell_type": "code",
   "execution_count": null,
   "metadata": {},
   "outputs": [],
   "source": [
    "predictions1 = lm.predict(X_test)"
   ]
  },
  {
   "cell_type": "code",
   "execution_count": null,
   "metadata": {},
   "outputs": [],
   "source": [
    "plt.scatter(y1_test,predictions1)"
   ]
  },
  {
   "cell_type": "markdown",
   "metadata": {},
   "source": [
    "На графике мы можем видеть то, как соотносятся наши предсказания с тестовой выборкой. В целом всё в порядке, о чем будет свидетельствовать и уровень точности модели"
   ]
  },
  {
   "cell_type": "code",
   "execution_count": null,
   "metadata": {},
   "outputs": [],
   "source": [
    "data = [go.Scatter(\n",
    "        x = y1_test, \n",
    "        y = predictions1,\n",
    "        mode = 'markers',\n",
    "        marker = {\n",
    "                'size': 12,\n",
    "                'color': 'rgb(199,93,171)',\n",
    "                'symbol': 'star',\n",
    "                'line': {\n",
    "                    'width': 0.3\n",
    "                }\n",
    "                \n",
    "        }\n",
    "    )]\n",
    "\n",
    "layout = go.Layout(\n",
    "        title = 'Линейная регрессия по текстам постов с тайтлами',\n",
    "        xaxis = dict(title = 'y_test'),\n",
    "        yaxis = dict(title = 'predictions'),\n",
    "        plot_bgcolor='rgb(249,221,218)'\n",
    "        \n",
    ")\n",
    "\n",
    "fig = go.Figure(data = data, layout = layout) #объединяет дату и лэйаут \n",
    "###  дата будет списком. квадратные скобки, то что может быть несколько графиков\n",
    "pyo.iplot(fig, filename= 'scatter1.html') ###добавляем букву i, чтобы график отображался в тетрадке\n"
   ]
  },
  {
   "cell_type": "code",
   "execution_count": null,
   "metadata": {},
   "outputs": [],
   "source": [
    "qqqq = dict(zip(y1_test, predictions1))"
   ]
  },
  {
   "cell_type": "code",
   "execution_count": null,
   "metadata": {},
   "outputs": [],
   "source": [
    "testframe1 = pd.DataFrame(list(qqqq.items()), columns=['y1test', 'predictions1'])"
   ]
  },
  {
   "cell_type": "code",
   "execution_count": null,
   "metadata": {},
   "outputs": [],
   "source": [
    "testframe1"
   ]
  },
  {
   "cell_type": "code",
   "execution_count": null,
   "metadata": {},
   "outputs": [],
   "source": [
    "writer = pd.ExcelWriter('testframe1.xlsx', engine='xlsxwriter')\n",
    "\n",
    "testframe1.to_excel(writer,\n",
    "                  sheet_name='Sheet_name_1')\n",
    "\n",
    "writer.save()"
   ]
  },
  {
   "cell_type": "code",
   "execution_count": null,
   "metadata": {},
   "outputs": [],
   "source": [
    "from sklearn import preprocessing\n",
    "#делаем нормализацию\n",
    "min_max_scaler = preprocessing.MinMaxScaler()\n",
    "X_scaled = min_max_scaler.fit_transform(X)"
   ]
  },
  {
   "cell_type": "code",
   "execution_count": null,
   "metadata": {},
   "outputs": [],
   "source": [
    "X_train, X_test, y_train, y_test = train_test_split(X_scaled, y, test_size=0.3, random_state=120)\n",
    "\n",
    "lm = LinearRegression()\n",
    "lm.fit(X_train,y_train)"
   ]
  },
  {
   "cell_type": "code",
   "execution_count": null,
   "metadata": {},
   "outputs": [],
   "source": [
    "nnname = ['intercept']\n",
    "nnname = [*nnname, *vval]\n",
    "\n",
    "vvval = [lm.intercept_]"
   ]
  },
  {
   "cell_type": "code",
   "execution_count": null,
   "metadata": {},
   "outputs": [],
   "source": [
    "for i in lm.coef_:\n",
    "    vvval.append(i)"
   ]
  },
  {
   "cell_type": "code",
   "execution_count": null,
   "metadata": {},
   "outputs": [],
   "source": [
    "len(lm.coef_)"
   ]
  },
  {
   "cell_type": "code",
   "execution_count": null,
   "metadata": {},
   "outputs": [],
   "source": [
    "regg = dict(zip(nnname, vvval))"
   ]
  },
  {
   "cell_type": "code",
   "execution_count": null,
   "metadata": {},
   "outputs": [],
   "source": [
    "logframe = pd.DataFrame(list(regg.items()), columns=['name', 'value'])"
   ]
  },
  {
   "cell_type": "code",
   "execution_count": null,
   "metadata": {},
   "outputs": [],
   "source": [
    "logframe"
   ]
  },
  {
   "cell_type": "code",
   "execution_count": null,
   "metadata": {},
   "outputs": [],
   "source": [
    "logframe2 = logframe.sort_values(['value'], ascending=[False])\n",
    "\n",
    "#анти-цифры-код\n",
    "logframe2['name'] = logframe2['name'].str.replace('\\d+', '')\n",
    "\n",
    "logframe2 = logframe.sort_values(['value'], ascending=[False])\n",
    "\n",
    "logframe2['name'] = logframe2['name'].str.replace('\\d+', '')\n",
    "logframe2 = logframe2[logframe2.name != '']"
   ]
  },
  {
   "cell_type": "markdown",
   "metadata": {},
   "source": [
    "Соответственно, в табице мы можем видеть слова, которые согласно регрессионной модели сильнее всего влияют на количество действий с постом\n",
    "Стоит сказать, что описывать его статичным текстом имеет мало смысла, так как регрессионная модель весьма динамична при анализе тем постов, и добавление одного поста в выборку может изменить набор основных слов.\n",
    "(В такие моменты у меня появляется ощущение, что линейная регрессионная модель была не самым лучшим выбором, пусть и весьма интуитивным. Тем не менее, эта модель имеет хороший потенциал для её качественного анализа и практического использования для определения тем постов. В данном случае, в контексте прикладной задачи, динамичность модели становится её плюсом, так как она производит достаточно большое количество разнообразных тем)"
   ]
  },
  {
   "cell_type": "code",
   "execution_count": null,
   "metadata": {},
   "outputs": [],
   "source": [
    "logframe2.head(20)"
   ]
  },
  {
   "cell_type": "code",
   "execution_count": null,
   "metadata": {},
   "outputs": [],
   "source": [
    "Products_list = [logframe2.columns.values.tolist()] + logframe2.values.tolist()\n",
    "print (Products_list[:20])"
   ]
  },
  {
   "cell_type": "code",
   "execution_count": null,
   "metadata": {
    "scrolled": true
   },
   "outputs": [],
   "source": [
    "logframe2.tail(20)"
   ]
  },
  {
   "cell_type": "code",
   "execution_count": null,
   "metadata": {},
   "outputs": [],
   "source": [
    "len(df_titles)"
   ]
  },
  {
   "cell_type": "code",
   "execution_count": null,
   "metadata": {},
   "outputs": [],
   "source": [
    "print((lm.intercept_, lm.coef_[0], lm.coef_[1], lm.coef_[2], lm.coef_[3], lm.coef_[4]))"
   ]
  },
  {
   "cell_type": "code",
   "execution_count": null,
   "metadata": {},
   "outputs": [],
   "source": [
    "from sklearn.metrics import mean_absolute_error\n",
    "from sklearn.metrics import mean_squared_error"
   ]
  },
  {
   "cell_type": "code",
   "execution_count": null,
   "metadata": {},
   "outputs": [],
   "source": [
    "y_hat = lm.predict(X_train)"
   ]
  },
  {
   "cell_type": "code",
   "execution_count": null,
   "metadata": {
    "scrolled": true
   },
   "outputs": [],
   "source": [
    "print('Средняя абсолютная ошибка %.2f' % mean_absolute_error(y_train, y_hat))\n",
    "print('Средняя квадратичная ошибка %.2f' % mean_squared_error(y_train, y_hat))"
   ]
  },
  {
   "cell_type": "code",
   "execution_count": null,
   "metadata": {},
   "outputs": [],
   "source": [
    "from sklearn.metrics import r2_score\n",
    "r2_score(y_train, y_hat) #99 процентов попаданий"
   ]
  },
  {
   "cell_type": "code",
   "execution_count": null,
   "metadata": {},
   "outputs": [],
   "source": [
    "len(df_titles)"
   ]
  },
  {
   "cell_type": "code",
   "execution_count": null,
   "metadata": {},
   "outputs": [],
   "source": [
    "writer = pd.ExcelWriter('logframetitletext.xlsx', engine='xlsxwriter')\n",
    "\n",
    "logframe2.to_excel(writer,\n",
    "                  sheet_name='Sheet_name_1')\n",
    "\n",
    "writer.save()"
   ]
  },
  {
   "cell_type": "markdown",
   "metadata": {},
   "source": [
    "В целом регрессионная модель по текстам постов с тайтлами показывает высокую точность и она является релевантной"
   ]
  },
  {
   "cell_type": "markdown",
   "metadata": {},
   "source": [
    "# ЛИНЕЙНАЯ РЕГРЕССИЯ ПО НАЗВАНИЯМ ПОСТОВ С НАЗВАНИЯМИ"
   ]
  },
  {
   "cell_type": "code",
   "execution_count": null,
   "metadata": {},
   "outputs": [],
   "source": [
    "daf = df_titles.copy()\n",
    "daf['target'] = daf['total_actions']\n",
    "daf.drop('text', axis=1, inplace=True)\n",
    "daf.drop('likes', axis=1, inplace=True)\n",
    "daf.drop('reposts', axis=1, inplace=True)\n",
    "daf.drop('views', axis=1, inplace=True)\n",
    "daf.drop('Date', axis=1, inplace=True)\n",
    "daf.drop('Time', axis=1, inplace=True)\n",
    "daf.drop('dlina', axis=1, inplace=True)\n",
    "daf.drop('total_actions', axis=1, inplace=True)\n",
    "daf.info()\n",
    "\n",
    "target_name = 'target'\n",
    "robust_scaler = RobustScaler()\n",
    "\n",
    "X = daf.drop('target', axis=1) #готовим датафрейм к моделированию\n",
    "\n",
    "corpus = X['title']\n",
    "vectorizer = CountVectorizer()\n",
    "vectorizer.fit(corpus)\n",
    "X_dtm = vectorizer.transform(corpus)\n",
    "X = pd.DataFrame(data=X_dtm.toarray(), columns=vectorizer.get_feature_names(), index=['doc_'+str(i+1) for i in range(len(df_titles))]) #прописываем range как в таблице\n",
    "#делаем мешки слов\n",
    "\n",
    "vval = X.columns.copy()\n",
    "\n",
    "X = robust_scaler.fit_transform(X)\n",
    "\n",
    "y = daf[target_name]\n",
    "\n",
    "X_train, X_test, y_train, y2_test = train_test_split(X, y, test_size=0.3, random_state=120)\n",
    "\n",
    "lm = LinearRegression()\n",
    "lm.fit(X_train,y_train)\n",
    "\n",
    "predictions2 = lm.predict(X_test)\n",
    "\n",
    "plt.scatter(y2_test,predictions2)"
   ]
  },
  {
   "cell_type": "code",
   "execution_count": null,
   "metadata": {},
   "outputs": [],
   "source": [
    "data = [go.Scatter(\n",
    "        x = y2_test, \n",
    "        y = predictions2,\n",
    "        mode = 'markers',\n",
    "        marker = {\n",
    "                'size': 12,\n",
    "                'color': 'rgb(234,79,136)',\n",
    "                'symbol': 'star',\n",
    "                'line': {\n",
    "                    'width': 0.3\n",
    "                }\n",
    "                \n",
    "        }\n",
    "    )]\n",
    "\n",
    "layout = go.Layout(\n",
    "        title = 'Линейная регрессия по названия постов с названиями',\n",
    "        xaxis = dict(title = 'y_test'),\n",
    "        yaxis = dict(title = 'predictions'),\n",
    "        plot_bgcolor='rgb(249,221,218)'\n",
    "        \n",
    ")\n",
    "\n",
    "fig = go.Figure(data = data, layout = layout) #объединяет дату и лэйаут \n",
    "###  дата будет списком. квадратные скобки, то что может быть несколько графиков\n",
    "pyo.iplot(fig, filename= 'scatter1.html') ###добавляем букву i, чтобы график отображался в тетрадке\n",
    "\n",
    "\n"
   ]
  },
  {
   "cell_type": "code",
   "execution_count": null,
   "metadata": {},
   "outputs": [],
   "source": [
    "qqqq = dict(zip(y2_test, predictions2))\n",
    "testframe2 = pd.DataFrame(list(qqqq.items()), columns=['y2test', 'predictions2'])\n",
    "testframe2"
   ]
  },
  {
   "cell_type": "code",
   "execution_count": null,
   "metadata": {},
   "outputs": [],
   "source": [
    "writer = pd.ExcelWriter('testframe2.xlsx', engine='xlsxwriter')\n",
    "\n",
    "testframe2.to_excel(writer,\n",
    "                  sheet_name='Sheet_name_1')\n",
    "\n",
    "writer.save()"
   ]
  },
  {
   "cell_type": "code",
   "execution_count": null,
   "metadata": {},
   "outputs": [],
   "source": [
    "from sklearn import preprocessing\n",
    "#делаем нормализацию\n",
    "min_max_scaler = preprocessing.MinMaxScaler()\n",
    "X_scaled = min_max_scaler.fit_transform(X)\n",
    "\n",
    "X_train, X_test, y_train, y_test = train_test_split(X_scaled, y, test_size=0.3, random_state=120)\n",
    "\n",
    "lm = LinearRegression()\n",
    "lm.fit(X_train,y_train)\n",
    "\n",
    "nnname = ['intercept']\n",
    "nnname = [*nnname, *vval]\n",
    "\n",
    "vvval = [lm.intercept_]\n",
    "\n",
    "for i in lm.coef_:\n",
    "    vvval.append(i)\n",
    "\n",
    "\n",
    "regg = dict(zip(nnname, vvval))\n",
    "\n",
    "logframe = pd.DataFrame(list(regg.items()), columns=['name', 'value'])\n",
    "\n",
    "logframe2 = logframe.sort_values(['value'], ascending=[False])\n",
    "\n",
    "#анти-цифры-код\n",
    "logframe2['name'] = logframe2['name'].str.replace('\\d+', '')\n",
    "\n",
    "logframe2 = logframe.sort_values(['value'], ascending=[False])\n",
    "\n",
    "logframe2['name'] = logframe2['name'].str.replace('\\d+', '')\n",
    "logframe2 = logframe2[logframe2.name != '']\n",
    "\n",
    "logframe2.head(20)"
   ]
  },
  {
   "cell_type": "code",
   "execution_count": null,
   "metadata": {},
   "outputs": [],
   "source": [
    "logframe2.tail(20)"
   ]
  },
  {
   "cell_type": "code",
   "execution_count": null,
   "metadata": {},
   "outputs": [],
   "source": []
  },
  {
   "cell_type": "code",
   "execution_count": null,
   "metadata": {},
   "outputs": [],
   "source": [
    "y_hat = lm.predict(X_train)\n",
    "print('Средняя абсолютная ошибка %.2f' % mean_absolute_error(y_train, y_hat))\n",
    "print('Средняя квадратичная ошибка %.2f' % mean_squared_error(y_train, y_hat))"
   ]
  },
  {
   "cell_type": "code",
   "execution_count": null,
   "metadata": {},
   "outputs": [],
   "source": [
    "r2_score(y_train, y_hat)"
   ]
  },
  {
   "cell_type": "code",
   "execution_count": null,
   "metadata": {},
   "outputs": [],
   "source": [
    "len(df)"
   ]
  },
  {
   "cell_type": "code",
   "execution_count": null,
   "metadata": {},
   "outputs": [],
   "source": [
    "writer = pd.ExcelWriter('logframetitletitle.xlsx', engine='xlsxwriter')\n",
    "\n",
    "logframe2.to_excel(writer,\n",
    "                  sheet_name='Sheet_name_1')\n",
    "\n",
    "writer.save()"
   ]
  },
  {
   "cell_type": "code",
   "execution_count": null,
   "metadata": {},
   "outputs": [],
   "source": [
    "Products_list = [logframe2.columns.values.tolist()] + logframe2.values.tolist()\n",
    "print (Products_list[:20])"
   ]
  },
  {
   "cell_type": "markdown",
   "metadata": {},
   "source": [
    "Модель по названиям из ссылок не является релевантной и плохо подходит для определения тем, крайне низкая точность. В основном вызвана слишком малой выборкой)."
   ]
  },
  {
   "cell_type": "markdown",
   "metadata": {},
   "source": [
    "# ЛИНЕЙНАЯ РЕГРЕССИЯ ПО ТЕКСТАМ ВСЕХ ПОСТОВ"
   ]
  },
  {
   "cell_type": "code",
   "execution_count": null,
   "metadata": {},
   "outputs": [],
   "source": [
    "daf = df.copy()\n",
    "daf['target'] = daf['total_actions']\n",
    "daf.drop('from_id', axis=1, inplace=True)\n",
    "daf.drop('id', axis=1, inplace=True)\n",
    "daf.drop('date', axis=1, inplace=True)\n",
    "daf.drop('likes', axis=1, inplace=True)\n",
    "daf.drop('reposts', axis=1, inplace=True)\n",
    "daf.drop('comments', axis=1, inplace=True)\n",
    "daf.drop('views', axis=1, inplace=True)\n",
    "daf.drop('total_actions', axis=1, inplace=True)\n",
    "daf.drop('date_norm', axis=1, inplace=True)\n",
    "daf.drop('Date', axis=1, inplace=True)\n",
    "daf.drop('Time', axis=1, inplace=True)\n",
    "daf.info()\n",
    "\n",
    "target_name = 'target'\n",
    "robust_scaler = RobustScaler()\n",
    "\n",
    "X = daf.drop('target', axis=1) #готовим датафрейм к моделированию\n",
    "\n",
    "corpus = X['text']\n",
    "vectorizer = CountVectorizer()\n",
    "vectorizer.fit(corpus)\n",
    "X_dtm = vectorizer.transform(corpus)\n",
    "X = pd.DataFrame(data=X_dtm.toarray(), columns=vectorizer.get_feature_names(), index=['doc_'+str(i+1) for i in range(len(df))]) #прописываем range как в таблице\n",
    "#делаем мешки слов\n",
    "\n",
    "vval = X.columns.copy()\n",
    "\n",
    "X = robust_scaler.fit_transform(X)\n",
    "\n",
    "y = daf[target_name]\n",
    "\n",
    "X_train, X_test, y_train, y3_test = train_test_split(X, y, test_size=0.31, random_state=120)\n",
    "\n",
    "lm = LinearRegression()\n",
    "lm.fit(X_train,y_train)\n",
    "\n",
    "predictions3 = lm.predict(X_test)\n",
    "\n",
    "plt.scatter(y3_test,predictions3)"
   ]
  },
  {
   "cell_type": "markdown",
   "metadata": {},
   "source": [
    "На таблице видим несколько выбросов, но в целом выборка ведет себя весьма однородно."
   ]
  },
  {
   "cell_type": "code",
   "execution_count": null,
   "metadata": {},
   "outputs": [],
   "source": [
    "data = [go.Scatter(\n",
    "        x = y3_test, \n",
    "        y = predictions3,\n",
    "        mode = 'markers',\n",
    "        marker = {\n",
    "                'size': 12,\n",
    "                'color': 'rgb(180,151,231)',\n",
    "                'symbol': 'star',\n",
    "                'line': {\n",
    "                    'width': 0.3\n",
    "                }\n",
    "                \n",
    "        }\n",
    "    )]\n",
    "\n",
    "layout = go.Layout(\n",
    "        title = 'Линейная регрессия по текстам всех постов',\n",
    "        xaxis = dict(title = 'y_test'),\n",
    "        yaxis = dict(title = 'predictions'),\n",
    "        plot_bgcolor='rgb(249,221,218)'\n",
    "        \n",
    ")\n",
    "\n",
    "fig = go.Figure(data = data, layout = layout) #объединяет дату и лэйаут \n",
    "###  дата будет списком. квадратные скобки, то что может быть несколько графиков\n",
    "pyo.iplot(fig, filename= 'scatter1.html') ###добавляем букву i, чтобы график отображался в тетрадке\n",
    "\n",
    "\n"
   ]
  },
  {
   "cell_type": "code",
   "execution_count": null,
   "metadata": {},
   "outputs": [],
   "source": [
    "qqqq = dict(zip(y3_test, predictions3))\n",
    "testframe3 = pd.DataFrame(list(qqqq.items()), columns=['y3test', 'predictions3'])\n",
    "testframe3"
   ]
  },
  {
   "cell_type": "code",
   "execution_count": null,
   "metadata": {},
   "outputs": [],
   "source": [
    "writer = pd.ExcelWriter('testframe3.xlsx', engine='xlsxwriter')\n",
    "\n",
    "testframe3.to_excel(writer,\n",
    "                  sheet_name='Sheet_name_1')\n",
    "\n",
    "writer.save()"
   ]
  },
  {
   "cell_type": "code",
   "execution_count": null,
   "metadata": {},
   "outputs": [],
   "source": [
    "from sklearn import preprocessing\n",
    "#делаем нормализацию\n",
    "min_max_scaler = preprocessing.MinMaxScaler()\n",
    "X_scaled = min_max_scaler.fit_transform(X)\n",
    "\n",
    "X_train, X_test, y_train, y_test = train_test_split(X_scaled, y, test_size=0.31, random_state=120)\n",
    "\n",
    "lm = LinearRegression()\n",
    "lm.fit(X_train,y_train)\n",
    "\n",
    "nnname = ['intercept']\n",
    "nnname = [*nnname, *vval]\n",
    "\n",
    "vvval = [lm.intercept_]\n",
    "\n",
    "for i in lm.coef_:\n",
    "    vvval.append(i)\n",
    "\n",
    "\n",
    "regg = dict(zip(nnname, vvval))\n",
    "\n",
    "logframe = pd.DataFrame(list(regg.items()), columns=['name', 'value'])\n",
    "\n",
    "logframe2 = logframe.sort_values(['value'], ascending=[False])\n",
    "\n",
    "#анти-цифры-код\n",
    "logframe2['name'] = logframe2['name'].str.replace('\\d+', '')\n",
    "\n",
    "logframe2 = logframe.sort_values(['value'], ascending=[False])\n",
    "\n",
    "logframe2['name'] = logframe2['name'].str.replace('\\d+', '')\n",
    "logframe2 = logframe2[logframe2.name != '']\n",
    "\n",
    "logframe2.head(20)"
   ]
  },
  {
   "cell_type": "code",
   "execution_count": null,
   "metadata": {},
   "outputs": [],
   "source": [
    "logframe2.tail(20)"
   ]
  },
  {
   "cell_type": "code",
   "execution_count": null,
   "metadata": {},
   "outputs": [],
   "source": [
    "y_hat = lm.predict(X_train)\n",
    "print('Средняя абсолютная ошибка %.2f' % mean_absolute_error(y_train, y_hat))\n",
    "print('Средняя квадратичная ошибка %.2f' % mean_squared_error(y_train, y_hat))"
   ]
  },
  {
   "cell_type": "code",
   "execution_count": null,
   "metadata": {},
   "outputs": [],
   "source": [
    "r2_score(y_train, y_hat)"
   ]
  },
  {
   "cell_type": "code",
   "execution_count": null,
   "metadata": {},
   "outputs": [],
   "source": [
    "Products_list = [logframe2.columns.values.tolist()] + logframe2.values.tolist()\n",
    "print (Products_list[:20])"
   ]
  },
  {
   "cell_type": "code",
   "execution_count": null,
   "metadata": {},
   "outputs": [],
   "source": [
    "writer = pd.ExcelWriter('logframealltext.xlsx', engine='xlsxwriter')\n",
    "\n",
    "logframe2.to_excel(writer,\n",
    "                  sheet_name='Sheet_name_1')\n",
    "\n",
    "writer.save()"
   ]
  },
  {
   "cell_type": "markdown",
   "metadata": {},
   "source": [
    "опять-таки высокая точность модели, но если посмотреть на результат по весам, то становится ясно, что в практических целях она слабо применима. Как слово \"но\" может сильно влиять на количество действий, это выглядит странно и не подходит для определения тем."
   ]
  },
  {
   "cell_type": "code",
   "execution_count": null,
   "metadata": {},
   "outputs": [],
   "source": []
  },
  {
   "cell_type": "code",
   "execution_count": null,
   "metadata": {},
   "outputs": [],
   "source": [
    "import statsmodels.api as sm"
   ]
  },
  {
   "cell_type": "code",
   "execution_count": null,
   "metadata": {},
   "outputs": [],
   "source": [
    "X_train2 = np.c_[X_train, np.ones_like(X_train)]"
   ]
  },
  {
   "cell_type": "raw",
   "metadata": {},
   "source": [
    "X_train2 = np.c_[X_train, np.ones_like(X_train)]\n",
    "ols = sm.OLS(y_train, exog=X_train2)\n",
    "model = ols.fit()\n",
    "model.summary2() #шоб как в спсс"
   ]
  },
  {
   "cell_type": "markdown",
   "metadata": {},
   "source": [
    "# КОРРЕЛЯЦИЯ ДЛИНЫ И ДЕЙСТВИЙ"
   ]
  },
  {
   "cell_type": "code",
   "execution_count": null,
   "metadata": {},
   "outputs": [],
   "source": [
    "df"
   ]
  },
  {
   "cell_type": "code",
   "execution_count": null,
   "metadata": {},
   "outputs": [],
   "source": [
    "df['dlina'] = df['text'].str.count(' ') + 1"
   ]
  },
  {
   "cell_type": "code",
   "execution_count": null,
   "metadata": {},
   "outputs": [],
   "source": [
    "from scipy.stats.stats import pearsonr\n",
    "\n",
    "pearson_fin = []\n",
    "\n",
    "pearson_fin.append(pearsonr(df['total_actions'], df['dlina']))"
   ]
  },
  {
   "cell_type": "code",
   "execution_count": null,
   "metadata": {},
   "outputs": [],
   "source": [
    "pearson_frame = pd.DataFrame(pearson_fin)\n",
    "\n",
    "pearson_frame = pearson_frame.astype(np.float16)\n",
    "pearson_frame.rename(columns={0: 'correlation', 1: 'pvalue'}, inplace=True)\n",
    "\n",
    "pearson_frame"
   ]
  },
  {
   "cell_type": "markdown",
   "metadata": {},
   "source": [
    "Соответственно, корреляция значимая, слабая прямая. То есть, читатели the vyshka немного склонны к лонгридам и объемным постам, вот такой небольшой инсайт по контенту\n",
    "\n",
    "Корреляцию пирсона мы использовали, так как коррелируем шкалы scale со scale"
   ]
  },
  {
   "cell_type": "markdown",
   "metadata": {},
   "source": [
    "# РАСПРЕДЕЛЕНИЕ ДЕЙСТВИЙ ПО ВРЕМЕНИ"
   ]
  },
  {
   "cell_type": "code",
   "execution_count": null,
   "metadata": {},
   "outputs": [],
   "source": [
    "nwedf = df.copy()\n",
    "nwedf.drop('from_id', axis=1, inplace=True)\n",
    "nwedf.drop('id', axis=1, inplace=True)\n",
    "nwedf.drop('text', axis=1, inplace=True)\n",
    "nwedf.drop('date', axis=1, inplace=True)\n",
    "nwedf.drop('likes', axis=1, inplace=True)\n",
    "nwedf.drop('reposts', axis=1, inplace=True)\n",
    "nwedf.drop('comments', axis=1, inplace=True)\n",
    "nwedf.drop('views', axis=1, inplace=True)\n",
    "nwedf.drop('date_norm', axis=1, inplace=True)\n",
    "nwedf.drop('Date', axis=1, inplace=True)\n",
    "nwedf.drop('dlina', axis=1, inplace=True)\n",
    "nwedf.info()"
   ]
  },
  {
   "cell_type": "code",
   "execution_count": null,
   "metadata": {},
   "outputs": [],
   "source": [
    "nwedf.groupby('Time').mean()"
   ]
  },
  {
   "cell_type": "code",
   "execution_count": null,
   "metadata": {},
   "outputs": [],
   "source": [
    "import plotly.express as px\n",
    "\n",
    "fig = px.histogram(nwedf, x=\"Time\", y=\"total_actions\", histfunc='avg')\n",
    "fig.show()"
   ]
  },
  {
   "cell_type": "markdown",
   "metadata": {},
   "source": [
    "Пик действий - в 9 утра. Видимо, люди, которые едут в университет, любят по дороге почитать the vyshku\n",
    "Ночью активность нет, что выглядит немного странно для студентов, но такое вполне может быть"
   ]
  },
  {
   "cell_type": "code",
   "execution_count": null,
   "metadata": {},
   "outputs": [],
   "source": [
    "writer = pd.ExcelWriter('TimeActions.xlsx', engine='xlsxwriter')\n",
    "\n",
    "nwedf.groupby('Time').mean().to_excel(writer,\n",
    "                  sheet_name='Sheet_name_1')\n",
    "\n",
    "writer.save()"
   ]
  },
  {
   "cell_type": "markdown",
   "metadata": {},
   "source": [
    "# ГЕНЕРАТОР ТЕКСТА НА ОСНОВЕ ЦЕПЕЙ МАРКОВА"
   ]
  },
  {
   "cell_type": "markdown",
   "metadata": {},
   "source": [
    "Источник: https://tproger.ru/translations/markov-chains/"
   ]
  },
  {
   "cell_type": "markdown",
   "metadata": {},
   "source": [
    "Изначально было желание приделать сюда нейросеть, но она была бы слишком тяжелой, особенно если хостить это потом где-то.\n",
    "Поэтому выбор пал на алгоритм цепей маркова, так как он быстрый и легковесный.\n",
    "\n",
    "Изначально планировалось генерировать тексты по словам, вытащенным из первой линейной регрессии, но, к сожалению, в ходе работы выяснилось, что в качестве стартового слова в предложениях подходят не все слова. \n",
    "\n",
    "Так что в итоге мы оставили стартовые слова рандомными, и получился такой небольшой генератор постов для the vyshka.\n",
    "В первую очередь интересен сам концепт, на практике это применимо только в отдельной рубрике, так как видно, что тексты пишет машина. Ну, либо редакция очень хорошо проводит время :)"
   ]
  },
  {
   "cell_type": "code",
   "execution_count": null,
   "metadata": {},
   "outputs": [],
   "source": [
    "import random\n",
    "\n",
    "class Dictogram(dict):\n",
    "    def __init__(self, iterable=None):\n",
    "        # Инициализируем наше распределение как новый объект класса, \n",
    "        # добавляем имеющиеся элементы\n",
    "        super(Dictogram, self).__init__()\n",
    "        self.types = 0  # число уникальных ключей в распределении\n",
    "        self.tokens = 0  # общее количество всех слов в распределении\n",
    "        if iterable:\n",
    "            self.update(iterable)\n",
    "\n",
    "    def update(self, iterable):\n",
    "        # Обновляем распределение элементами из имеющегося \n",
    "        # итерируемого набора данных\n",
    "        for item in iterable:\n",
    "            if item in self:\n",
    "                self[item] += 1\n",
    "                self.tokens += 1\n",
    "            else:\n",
    "                self[item] = 1\n",
    "                self.types += 1\n",
    "                self.tokens += 1\n",
    "\n",
    "    def count(self, item):\n",
    "        # Возвращаем значение счетчика элемента, или 0\n",
    "        if item in self:\n",
    "            return self[item]\n",
    "        return 0\n",
    "\n",
    "    def return_random_word(self):\n",
    "        random_key = random.sample(self, 1)\n",
    "        # Другой способ:\n",
    "        # random.choice(histogram.keys())\n",
    "        return random_key[0]\n",
    "\n",
    "    def return_weighted_random_word(self):\n",
    "        # Сгенерировать псевдослучайное число между 0 и (n-1),\n",
    "        # где n - общее число слов\n",
    "        random_int = random.randint(0, self.tokens-1)\n",
    "        index = 0\n",
    "        list_of_keys = list(self.keys())\n",
    "        # вывести 'случайный индекс:', random_int\n",
    "        for i in range(0, self.types):\n",
    "            index += self[list_of_keys[i]]\n",
    "            # вывести индекс\n",
    "            if(index > random_int):\n",
    "                # вывести list_of_keys[i]\n",
    "                return list_of_keys[i]"
   ]
  },
  {
   "cell_type": "code",
   "execution_count": null,
   "metadata": {},
   "outputs": [],
   "source": [
    "\n",
    "\n",
    "def make_markov_model(data):\n",
    "    markov_model = dict()\n",
    "\n",
    "    for i in range(0, len(data)-1):\n",
    "        if data[i] in markov_model:\n",
    "            # Просто присоединяем к уже существующему распределению\n",
    "            markov_model[data[i]].update([data[i+1]])\n",
    "        else:\n",
    "            markov_model[data[i]] = Dictogram([data[i+1]])\n",
    "    return markov_model"
   ]
  },
  {
   "cell_type": "code",
   "execution_count": null,
   "metadata": {},
   "outputs": [],
   "source": [
    "import random\n",
    "from collections import deque\n",
    "import re\n",
    "\n",
    "\n",
    "def generate_random_start(model):\n",
    "    # Чтобы сгенерировать любое начальное слово, раскомментируйте строку:\n",
    "    # return random.choice(model.keys())\n",
    "\n",
    "    # Чтобы сгенерировать \"правильное\" начальное слово, используйте код ниже:\n",
    "    # Правильные начальные слова - это те, что являлись началом предложений в корпусе\n",
    "    if 'END' in model:\n",
    "        seed_word = 'END'\n",
    "        while seed_word == 'END':\n",
    "            seed_word = model['END'].return_weighted_random_word()\n",
    "        return seed_word\n",
    "    return random.choice(list(model.keys()))\n",
    "\n",
    "\n",
    "\n",
    "def generate_random_sentence(length, markov_model):\n",
    "    current_word = generate_random_start(markov_model)\n",
    "    sentence = [current_word]\n",
    "    for i in range(0, length):\n",
    "        current_dictogram = markov_model[current_word]\n",
    "        random_weighted_word = current_dictogram.return_weighted_random_word()\n",
    "        current_word = random_weighted_word\n",
    "        sentence.append(current_word)\n",
    "    sentence[0] = sentence[0].capitalize()\n",
    "    return ' '.join(sentence) + '.'\n",
    "    return sentence"
   ]
  },
  {
   "cell_type": "code",
   "execution_count": null,
   "metadata": {},
   "outputs": [],
   "source": [
    "def Convert(string): \n",
    "    li = list(string.split(\" \")) \n",
    "    return li "
   ]
  },
  {
   "cell_type": "markdown",
   "metadata": {},
   "source": [
    "иллюстрация к работе марковских цепей\n",
    "Тут мы видим, что берется первое слово из предложения, и далее исходя из него подбираются следующие слова по статистической вероятности. И таким образом пишется текст.\n",
    "Довольно просто и элегантно"
   ]
  },
  {
   "cell_type": "code",
   "execution_count": null,
   "metadata": {},
   "outputs": [],
   "source": [
    "make_markov_model(Convert(str(df['text']).replace('\\n','').replace('1','').replace('2','').replace('3','').replace('4','').replace('5','').replace('6','').replace('7','').replace('8','').replace('9','')))"
   ]
  },
  {
   "cell_type": "markdown",
   "metadata": {},
   "source": [
    "Вот пример слов, с которых можно начинать генерировать текст. Соответственно, слова из линейной модели не всегла удовлетворяют требованиям"
   ]
  },
  {
   "cell_type": "code",
   "execution_count": null,
   "metadata": {},
   "outputs": [],
   "source": [
    "generate_random_start(model)"
   ]
  },
  {
   "cell_type": "code",
   "execution_count": null,
   "metadata": {},
   "outputs": [],
   "source": [
    "model = make_markov_model(Convert(str(df['text']).replace('\\n','').replace('\\\\n','').replace('1','').replace('2','').replace('3','').replace('4','').replace('5','').replace('6','').replace('7','').replace('8','').replace('9','')))\n"
   ]
  },
  {
   "cell_type": "markdown",
   "metadata": {},
   "source": [
    "И вот тут мы генерируем 5 постов, обычно выглядит весьма забавно\n",
    "\n",
    "Привожу скрин одного из текстов, особенно понравилось про создание учебного плана :)"
   ]
  },
  {
   "attachments": {
    "photo_2019-10-25_05-32-21.jpg": {
     "image/jpeg": "[encoded data removed]"
    }
   },
   "cell_type": "markdown",
   "metadata": {},
   "source": [
    "![photo_2019-10-25_05-32-21.jpg](attachment:photo_2019-10-25_05-32-21.jpg)"
   ]
  },
  {
   "cell_type": "code",
   "execution_count": null,
   "metadata": {},
   "outputs": [],
   "source": [
    "for i in range(0,5):\n",
    "    print(generate_random_sentence(random.randint(60, 100), model), '\\n')"
   ]
  },
  {
   "cell_type": "code",
   "execution_count": null,
   "metadata": {},
   "outputs": [],
   "source": []
  }
 ],
 "metadata": {
  "hide_input": false,
  "kernelspec": {
   "display_name": "Python 3",
   "language": "python",
   "name": "python3"
  },
  "language_info": {
   "codemirror_mode": {
    "name": "ipython",
    "version": 3
   },
   "file_extension": ".py",
   "mimetype": "text/x-python",
   "name": "python",
   "nbconvert_exporter": "python",
   "pygments_lexer": "ipython3",
   "version": "3.7.4"
  },
  "toc": {
   "base_numbering": 1,
   "nav_menu": {},
   "number_sections": true,
   "sideBar": true,
   "skip_h1_title": false,
   "title_cell": "Table of Contents",
   "title_sidebar": "Contents",
   "toc_cell": false,
   "toc_position": {},
   "toc_section_display": true,
   "toc_window_display": false
  },
  "varInspector": {
   "cols": {
    "lenName": 16,
    "lenType": 16,
    "lenVar": 40
   },
   "kernels_config": {
    "python": {
     "delete_cmd_postfix": "",
     "delete_cmd_prefix": "del ",
     "library": "var_list.py",
     "varRefreshCmd": "print(var_dic_list())"
    },
    "r": {
     "delete_cmd_postfix": ") ",
     "delete_cmd_prefix": "rm(",
     "library": "var_list.r",
     "varRefreshCmd": "cat(var_dic_list()) "
    }
   },
   "types_to_exclude": [
    "module",
    "function",
    "builtin_function_or_method",
    "instance",
    "_Feature"
   ],
   "window_display": false
  }
 },
 "nbformat": 4,
 "nbformat_minor": 2
}
